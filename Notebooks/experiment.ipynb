{
  "nbformat": 4,
  "nbformat_minor": 0,
  "metadata": {
    "kernelspec": {
      "name": "python3",
      "display_name": "Python 3"
    },
    "language_info": {
      "codemirror_mode": {
        "name": "ipython",
        "version": 3
      },
      "file_extension": ".py",
      "mimetype": "text/x-python",
      "name": "python",
      "nbconvert_exporter": "python",
      "pygments_lexer": "ipython3",
      "version": "3.6.10"
    },
    "colab": {
      "name": "vanilla_RNN_keras_GoogleColab_cross_correlation_stim_EEG.ipynb",
      "provenance": [],
      "collapsed_sections": [],
      "machine_shape": "hm",
      "include_colab_link": true
    },
    "accelerator": "GPU"
  },
  "cells": [
    {
      "cell_type": "markdown",
      "metadata": {
        "id": "view-in-github",
        "colab_type": "text"
      },
      "source": [
        "<a href=\"https://colab.research.google.com/github/vs74/EEG/blob/LSTM/Notebooks/experiment.ipynb\" target=\"_parent\"><img src=\"https://colab.research.google.com/assets/colab-badge.svg\" alt=\"Open In Colab\"/></a>"
      ]
    },
    {
      "cell_type": "code",
      "metadata": {
        "id": "oe31xP1M2ERH",
        "colab_type": "code",
        "outputId": "9d59b810-08f3-48e0-8080-209aff194477",
        "colab": {
          "base_uri": "https://localhost:8080/",
          "height": 63
        }
      },
      "source": [
        "import tensorflow as tf\n",
        "import numpy as np\n",
        "import matplotlib as mpl\n",
        "import matplotlib.pyplot as plt\n",
        "import scipy.io as sio\n",
        "rng = np.random\n",
        "from array import array\n",
        "from scipy import stats\n",
        "\n",
        "#Keras import \n",
        "\n",
        "from tensorflow.keras.models import *\n",
        "from tensorflow.keras.layers import *\n",
        "\n",
        "from  tensorflow.keras import optimizers\n",
        "from  tensorflow.keras.callbacks import *\n",
        "\n",
        "#import models\n",
        "#from Linear_Regression import linear_regression \n",
        "\n",
        "#import datetime for tensorboard\n",
        "from datetime import *\n",
        "\n",
        "#Import for reading the MATLAB files\n",
        "import glob\n"
      ],
      "execution_count": 1,
      "outputs": [
        {
          "output_type": "display_data",
          "data": {
            "text/html": [
              "<p style=\"color: red;\">\n",
              "The default version of TensorFlow in Colab will switch to TensorFlow 2.x on the 27th of March, 2020.<br>\n",
              "We recommend you <a href=\"https://www.tensorflow.org/guide/migrate\" target=\"_blank\">upgrade</a> now\n",
              "or ensure your notebook will continue to use TensorFlow 1.x via the <code>%tensorflow_version 1.x</code> magic:\n",
              "<a href=\"https://colab.research.google.com/notebooks/tensorflow_version.ipynb\" target=\"_blank\">more info</a>.</p>\n"
            ],
            "text/plain": [
              "<IPython.core.display.HTML object>"
            ]
          },
          "metadata": {
            "tags": []
          }
        }
      ]
    },
    {
      "cell_type": "code",
      "metadata": {
        "id": "D51LpZw1b9Xr",
        "colab_type": "code",
        "outputId": "21f8ed81-093b-40c7-d8b8-7bfc0fbda2b2",
        "colab": {
          "base_uri": "https://localhost:8080/",
          "height": 34
        }
      },
      "source": [
        "!ls"
      ],
      "execution_count": 2,
      "outputs": [
        {
          "output_type": "stream",
          "text": [
            "1filtered.mat  drive  model.h5\tsample_data\n"
          ],
          "name": "stdout"
        }
      ]
    },
    {
      "cell_type": "code",
      "metadata": {
        "id": "S7iXmRkG2K9r",
        "colab_type": "code",
        "colab": {}
      },
      "source": [
        "#Import for Loading EEG data from Google drive\n",
        "from pydrive.auth import GoogleAuth\n",
        "from pydrive.drive import GoogleDrive\n",
        "from google.colab import auth\n",
        "from oauth2client.client import GoogleCredentials\n"
      ],
      "execution_count": 0,
      "outputs": []
    },
    {
      "cell_type": "code",
      "metadata": {
        "id": "eUkm-G4T1Ne4",
        "colab_type": "code",
        "colab": {
          "base_uri": "https://localhost:8080/",
          "height": 34
        },
        "outputId": "bb707e41-57c8-4bb4-f372-a53834529a1c"
      },
      "source": [
        "#Copy the content from the drive folder to the root directory\n",
        "!cp /content/drive/My\\ Drive/EEG_data/1filtered.mat /content/"
      ],
      "execution_count": 4,
      "outputs": [
        {
          "output_type": "stream",
          "text": [
            "cp: cannot stat '/content/drive/My Drive/EEG_data/1filtered.mat': No such file or directory\n"
          ],
          "name": "stdout"
        }
      ]
    },
    {
      "cell_type": "code",
      "metadata": {
        "id": "X8WWOh-TWmjL",
        "colab_type": "code",
        "colab": {
          "base_uri": "https://localhost:8080/",
          "height": 34
        },
        "outputId": "548940c9-27a5-421e-de99-aec3b58deaf7"
      },
      "source": [
        "from google.colab import drive\n",
        "drive.mount('/content/drive')"
      ],
      "execution_count": 8,
      "outputs": [
        {
          "output_type": "stream",
          "text": [
            "Drive already mounted at /content/drive; to attempt to forcibly remount, call drive.mount(\"/content/drive\", force_remount=True).\n"
          ],
          "name": "stdout"
        }
      ]
    },
    {
      "cell_type": "code",
      "metadata": {
        "id": "q6SHn7T55qdD",
        "colab_type": "code",
        "outputId": "124bc5d0-b424-491f-fa84-94e747885a8b",
        "colab": {
          "base_uri": "https://localhost:8080/",
          "height": 34
        }
      },
      "source": [
        "#Check the data is downloaded or not\n",
        "!ls"
      ],
      "execution_count": 5,
      "outputs": [
        {
          "output_type": "stream",
          "text": [
            "drive  sample_data\n"
          ],
          "name": "stdout"
        }
      ]
    },
    {
      "cell_type": "markdown",
      "metadata": {
        "id": "gNdNq36P6mvb",
        "colab_type": "text"
      },
      "source": [
        ""
      ]
    },
    {
      "cell_type": "code",
      "metadata": {
        "id": "S8Vpq-qo5Yt6",
        "colab_type": "code",
        "outputId": "b5a6a967-a857-42e8-9020-a752ddc688a8",
        "colab": {
          "base_uri": "https://localhost:8080/",
          "height": 34
        }
      },
      "source": [
        "#Ensure Google COlab is utilising GPU \n",
        "tf.test.gpu_device_name()\n"
      ],
      "execution_count": 8,
      "outputs": [
        {
          "output_type": "execute_result",
          "data": {
            "text/plain": [
              "'/device:GPU:0'"
            ]
          },
          "metadata": {
            "tags": []
          },
          "execution_count": 8
        }
      ]
    },
    {
      "cell_type": "code",
      "metadata": {
        "scrolled": true,
        "id": "x5jjdQ5p2ERT",
        "colab_type": "code",
        "outputId": "1464be42-5fac-4517-ede7-0a5b1387d6fa",
        "colab": {
          "base_uri": "https://localhost:8080/",
          "height": 34
        }
      },
      "source": [
        "\n",
        "\n",
        "# data import from matlab\n",
        "subject_1 = sio.loadmat('1filtered.mat')      #recovering matlab data in the form of a python dictionar\n",
        "format_1 = subject_1['data']          #in the dictionary, only the data key interests us\n",
        "print (format_1.shape)\n",
        "\n",
        "# shuffle trials\n",
        "(channel, trial, time_points)= format_1.shape\n",
        "\n",
        "trials = np.arange(trial)\n",
        "np.random.shuffle(trials)\n",
        "\n",
        "#Z score\n",
        "format_1=stats.zscore(format_1, axis=2)"
      ],
      "execution_count": 6,
      "outputs": [
        {
          "output_type": "stream",
          "text": [
            "(65, 192, 1000)\n"
          ],
          "name": "stdout"
        }
      ]
    },
    {
      "cell_type": "code",
      "metadata": {
        "id": "LI4ZWx76sQpj",
        "colab_type": "code",
        "colab": {}
      },
      "source": [
        "#Visualize Using Tenosrboard\n",
        "!wget https://bin.equinox.io/c/4VmDzA7iaHb/ngrok-stable-linux-amd64.zip\n",
        "!unzip ngrok-stable-linux-amd64.zip\n"
      ],
      "execution_count": 0,
      "outputs": []
    },
    {
      "cell_type": "code",
      "metadata": {
        "id": "e-RZqJH12ERc",
        "colab_type": "code",
        "outputId": "9b4b76e5-ba97-4cec-be78-c845efca8b6e",
        "colab": {
          "base_uri": "https://localhost:8080/",
          "height": 156
        }
      },
      "source": [
        "# parametres\n",
        "\n",
        "eltmp = input ('''Enter the electrode number:''')\n",
        "electi = list(map(int, eltmp.split()))    #separation of the different responses and recovery in the form of a list of integers\n",
        "print (type(electi))\n",
        "print(electi)\n",
        "\n",
        "window = input ('''Enter the number of stimuli:''')\n",
        "window = int(window)\n",
        "\n",
        "n_channel = input('''Enter  the chanel number for which you want your predicion''')\n",
        "n_channel = list(map(int, n_channel.split()))\n",
        "\n",
        "\n",
        "relation = input('''Please define what should be predicted (1 for EEG from stimulus or 2 for stimulus from EEG or 3 for EEG forecasting ):''')\n",
        "\n",
        "if relation == '1':\n",
        "    response = input(\"Do you want to embed information of EEG as well ? ( 1 for yes or 2 for no)\")\n",
        "    if response == \"2\":\n",
        "      source_Y = electi[0]    #retrieving the electrode number as a whole number - implies that there is only one electrode chosen in this direction\n",
        "      source_X = [0]          #conversion of the stimuli line in the form of a list - necessary for the for loop: see below - extraction X\n",
        "    else:\n",
        "      source_Y = electi[0]\n",
        "      source_X = [0] + electi[0]\n",
        "\n",
        "elif relation == '2':\n",
        "    format_1 = np.flip(format_1,2)     # data inversion according to the time dimension - problem ????\n",
        "    source_Y = 0\n",
        "    source_X = electi\n",
        "    \n",
        "elif relation == '3':\n",
        "    response = input(\"Do you want to embed information of Stimuli as well ? ( 1 for yes or 2 for no)\") \n",
        "    if response == \"2\":\n",
        "      source_Y = n_channel\n",
        "      source_X = electi\n",
        "    else: \n",
        "      source_Y = n_channel\n",
        "      source_X = electi + [0]       \n"
      ],
      "execution_count": 8,
      "outputs": [
        {
          "output_type": "stream",
          "text": [
            "Enter the electrode number:1 2 3 4 5 6 7 8 9 10 11 12 13 14 15 16 17 18 19 20 21 22 23 24 25 26 27 28 29 30 31 32 33 34 35 36 37 38 39 40 41 42 43 44 45 46 47 48 49 50 51 52 53 54 55 56 57 58 59 60 61 62 63 64 \n",
            "<class 'list'>\n",
            "[1, 2, 3, 4, 5, 6, 7, 8, 9, 10, 11, 12, 13, 14, 15, 16, 17, 18, 19, 20, 21, 22, 23, 24, 25, 26, 27, 28, 29, 30, 31, 32, 33, 34, 35, 36, 37, 38, 39, 40, 41, 42, 43, 44, 45, 46, 47, 48, 49, 50, 51, 52, 53, 54, 55, 56, 57, 58, 59, 60, 61, 62, 63, 64]\n",
            "Enter the number of stimuli:160\n",
            "Enter  the chanel number for which you want your predicion1 2 3 4 5 6 7 8 9 10 11 12 13 14 15 16 17 18 19 20 21 22 23 24 25 26 27 28 29 30 31 32 33 34 35 36 37 38 39 40 41 42 43 44 45 46 47 48 49 50 51 52 53 54 55 56 57 58 59 60 61 62 63 64 \n",
            "Please define what should be predicted (1 for EEG from stimulus or 2 for stimulus from EEG or 3 for EEG forecasting ):3\n",
            "Do you want to embed information of Stimuli as well ? ( 1 for yes or 2 for no)2\n"
          ],
          "name": "stdout"
        }
      ]
    },
    {
      "cell_type": "code",
      "metadata": {
        "id": "96SotH8-IurZ",
        "colab_type": "code",
        "colab": {
          "base_uri": "https://localhost:8080/",
          "height": 54
        },
        "outputId": "4c168827-f179-4da8-83be-5683dc093585"
      },
      "source": [
        "for i in range(1, 65):\n",
        "  print(i, end = \" \")"
      ],
      "execution_count": 12,
      "outputs": [
        {
          "output_type": "stream",
          "text": [
            "1 2 3 4 5 6 7 8 9 10 11 12 13 14 15 16 17 18 19 20 21 22 23 24 25 26 27 28 29 30 31 32 33 34 35 36 37 38 39 40 41 42 43 44 45 46 47 48 49 50 51 52 53 54 55 56 57 58 59 60 61 62 63 64 "
          ],
          "name": "stdout"
        }
      ]
    },
    {
      "cell_type": "code",
      "metadata": {
        "id": "yodU9VVJ2ERe",
        "colab_type": "code",
        "colab": {}
      },
      "source": [
        "#### separation of train tests / valid / test\n",
        "\n",
        "train_num = int(np.around(len(trials) * 0.8))\n",
        "valid_num = int(np.around(len(trials) * 0.1))\n",
        "test_num = len(trials) - train_num - valid_num\n",
        "\n",
        "trials_train = trials[0:train_num]\n",
        "trials_valid = trials[train_num:train_num+valid_num]\n",
        "trials_test = trials[train_num+valid_num:]"
      ],
      "execution_count": 0,
      "outputs": []
    },
    {
      "cell_type": "code",
      "metadata": {
        "id": "5kUBgavduM0m",
        "colab_type": "code",
        "colab": {}
      },
      "source": [
        "trials_train = np.array([172, 125, 136,  99,  82,  31, 133,  44, 183, 184, 142, 121,  18,\n",
        "        89, 141,  27, 107,  49,  68, 186,  70,  92, 109,   6, 147, 124,\n",
        "       117, 161, 137,  39, 157, 159,   4,  23,  25, 145, 179, 118, 163,\n",
        "       106,  69, 187,  76, 108, 188,  32, 178,  19,  26,  72, 168, 158,\n",
        "        55,   8, 167,  11,  30,  59,  80,  95,  60, 148, 153,  45,  20,\n",
        "       152,  73,  48,  36, 100, 185, 131, 138,   3,  13,  97, 126, 171,\n",
        "       130,  54,   2,  50,  75,  83,  33, 174, 140,  79, 113, 146,  81,\n",
        "        64,  63,  46, 170,  16, 173, 156,  90, 103, 144,  29,  58,  47,\n",
        "       105, 189,  56,  34,  12, 165, 122, 119,  94,  42,  24,  37,  14,\n",
        "        65,  93,  87, 154,  77, 166, 114, 112, 160, 164,  51, 139,  84,\n",
        "       169,  85, 162,  88,  66, 155,  78,  28,   9,   1,  98, 132, 175,\n",
        "       177, 115,  96, 111,  52,  21, 180,  61, 191, 143,  10])\n",
        "\n",
        "trials_valid = np.array([ 67,  15,  38,  22,   0,  74, 182, 151,  91,  43,  53, 123, 127,\n",
        "       128, 149, 190, 134, 102, 181])\n",
        "\n",
        "trials_test = np.array([116,  57, 110,   7,  40, 176, 150,  41, 120, 135, 101,  71,  62,\n",
        "        86, 129,  35, 104,   5,  17])"
      ],
      "execution_count": 0,
      "outputs": []
    },
    {
      "cell_type": "code",
      "metadata": {
        "id": "mhbP56DC4rX-",
        "colab_type": "code",
        "colab": {}
      },
      "source": [
        "def rolling_window(a, window):\n",
        "    shape = a.shape[:-1] + (a.shape[-1] - window + 1, window)\n",
        "    strides = a.strides + (a.strides[-1],)\n",
        "    return np.lib.stride_tricks.as_strided(a, shape=shape, strides=strides)\n",
        "    "
      ],
      "execution_count": 0,
      "outputs": []
    },
    {
      "cell_type": "code",
      "metadata": {
        "id": "IbCiQ21d2ERf",
        "colab_type": "code",
        "colab": {}
      },
      "source": [
        "# extract Y for Muti Channel Prediction\n",
        "def extract_Y (batch_trials, batch_num, horizon, multivariate = False):             #creation of a function to recover y - simplification of reading\n",
        "    y = []\n",
        "    for idx, i in enumerate(source_Y):\n",
        "      y_tmp = []\n",
        "      for j in batch_trials:\n",
        "        tmp = rolling_window(format_1[i, j, 160:], horizon)\n",
        "        y_tmp.append(tmp)\n",
        "      y.append(np.vstack(y_tmp))\n",
        "    if multivariate:\n",
        "      y= np.moveaxis(np.array(y), 0, -1)      \n",
        "    else: \n",
        "      y = np.hstack(y)  \n",
        "    return  y           \n",
        "  "
      ],
      "execution_count": 0,
      "outputs": []
    },
    {
      "cell_type": "code",
      "metadata": {
        "id": "VSBFjfIo5IpE",
        "colab_type": "code",
        "outputId": "a9777017-4120-4270-d53c-a114a128fa0e",
        "colab": {
          "base_uri": "https://localhost:8080/",
          "height": 51
        }
      },
      "source": [
        "y_train = extract_Y (trials_train, train_num, horizon  = 1, multivariate= False)\n",
        "print (\"y_train.shape = \", y_train.shape)\n",
        "y_valid = extract_Y (trials_valid, valid_num, horizon  = 1, multivariate = False)\n",
        "print (\"y_valid.shape = \", y_valid.shape)"
      ],
      "execution_count": 13,
      "outputs": [
        {
          "output_type": "stream",
          "text": [
            "y_train.shape =  (129360, 64)\n",
            "y_valid.shape =  (15960, 64)\n"
          ],
          "name": "stdout"
        }
      ]
    },
    {
      "cell_type": "code",
      "metadata": {
        "id": "4uXbroV5eQNz",
        "colab_type": "code",
        "outputId": "8459c5d2-618f-4802-89c3-946a380847e7",
        "colab": {
          "base_uri": "https://localhost:8080/",
          "height": 34
        }
      },
      "source": [
        "y_test = extract_Y (trials_test, test_num, horizon  = 160, multivariate = True)\n",
        "print (\"y_test.shape = \", y_test.shape)"
      ],
      "execution_count": 28,
      "outputs": [
        {
          "output_type": "stream",
          "text": [
            "y_test.shape =  (12939, 160, 64)\n"
          ],
          "name": "stdout"
        }
      ]
    },
    {
      "cell_type": "code",
      "metadata": {
        "id": "J679vPOeiYQt",
        "colab_type": "code",
        "colab": {}
      },
      "source": [
        "\n",
        "def extract_X (batch_trials, batch_num, horizon = 1):                     #creation of a function to recover x - simplification of reading\n",
        "  \n",
        "    x = np.zeros((len(source_X),  batch_num * (time_points - window - horizon + 1 ), window ))                                     \n",
        "    for idx, i in enumerate(source_X):                                      #reading the source list -> reading each electrode number if flip\n",
        "      x_tmp = []\n",
        "      for j in batch_trials:\n",
        "        tmp = rolling_window(format_1[i, j, :-horizon], window)\n",
        "        x_tmp.append(tmp)\n",
        "      x[idx] = np.vstack(x_tmp)\n",
        "\n",
        "    x = np.hstack(x)\n",
        "    x = np.array(np.split(x, len(source_X), axis = -1))\n",
        "    x = np.moveaxis(x, 0, -1)\n",
        "    return x\n"
      ],
      "execution_count": 0,
      "outputs": []
    },
    {
      "cell_type": "code",
      "metadata": {
        "id": "StMDf0gOe9WX",
        "colab_type": "code",
        "outputId": "2ad6f8e2-5716-43c8-a9c1-bd76d9a6c30b",
        "colab": {
          "base_uri": "https://localhost:8080/",
          "height": 51
        }
      },
      "source": [
        "\n",
        "x_train = extract_X (trials_train, train_num, horizon = 1)\n",
        "print (\"x_train.shape = \", x_train.shape)\n",
        "x_valid = extract_X (trials_valid, valid_num, horizon = 1)\n",
        "print (\"x_valid.shape = \", x_valid.shape)"
      ],
      "execution_count": 16,
      "outputs": [
        {
          "output_type": "stream",
          "text": [
            "x_train.shape =  (129360, 160, 64)\n",
            "x_valid.shape =  (15960, 160, 64)\n"
          ],
          "name": "stdout"
        }
      ]
    },
    {
      "cell_type": "code",
      "metadata": {
        "id": "0rFC7L7re0lk",
        "colab_type": "code",
        "outputId": "9f3d9e55-7409-4f21-d87e-2d80084b78c4",
        "colab": {
          "base_uri": "https://localhost:8080/",
          "height": 34
        }
      },
      "source": [
        "\n",
        "x_test = extract_X (trials_test, test_num, horizon = 160)\n",
        "print (\"x_test.shape = \", x_test.shape)"
      ],
      "execution_count": 29,
      "outputs": [
        {
          "output_type": "stream",
          "text": [
            "x_test.shape =  (12939, 160, 64)\n"
          ],
          "name": "stdout"
        }
      ]
    },
    {
      "cell_type": "code",
      "metadata": {
        "id": "YADYrkgq2ERk",
        "colab_type": "code",
        "outputId": "3f6f2d1a-457c-4832-c39d-efbd6e9e2eda",
        "colab": {
          "base_uri": "https://localhost:8080/",
          "height": 51
        }
      },
      "source": [
        "\n",
        "train_X = x_train\n",
        "print(train_X.shape)\n",
        "train_Y = y_train\n",
        "print(train_Y.shape)\n",
        "n_samples_train = train_X.shape[0]\n",
        "\n",
        "valid_X = x_valid\n",
        "valid_Y = y_valid\n",
        "n_samples_valid = valid_X.shape[0]\n",
        "\n",
        "test_X = x_test\n",
        "test_Y = y_test\n",
        "n_samples_test = test_X.shape[0]"
      ],
      "execution_count": 18,
      "outputs": [
        {
          "output_type": "stream",
          "text": [
            "(129360, 160, 64)\n",
            "(129360, 64)\n"
          ],
          "name": "stdout"
        }
      ]
    },
    {
      "cell_type": "code",
      "metadata": {
        "id": "FefOyH9eLMi3",
        "colab_type": "code",
        "outputId": "a1a4b710-8e23-4fa6-bc59-8a3a89e1c078",
        "colab": {
          "base_uri": "https://localhost:8080/",
          "height": 68
        }
      },
      "source": [
        "#Sanity Check dimension of Inout\n",
        "print(\"Shape of Train_X  = \", train_X.shape)\n",
        "print(\"Shape of Valid_X  = \", valid_X.shape)\n",
        "print(\"Shape of Test_X   = \",test_X.shape )"
      ],
      "execution_count": 19,
      "outputs": [
        {
          "output_type": "stream",
          "text": [
            "Shape of Train_X  =  (129360, 160, 64)\n",
            "Shape of Valid_X  =  (15960, 160, 64)\n",
            "Shape of Test_X   =  (15960, 160, 64)\n"
          ],
          "name": "stdout"
        }
      ]
    },
    {
      "cell_type": "code",
      "metadata": {
        "id": "t3-uB5j6WWwn",
        "colab_type": "code",
        "outputId": "358e9df7-95fc-43fa-c4eb-3489c457ced7",
        "colab": {
          "base_uri": "https://localhost:8080/",
          "height": 164
        }
      },
      "source": [
        "K.clear_session()"
      ],
      "execution_count": 25,
      "outputs": [
        {
          "output_type": "error",
          "ename": "NameError",
          "evalue": "ignored",
          "traceback": [
            "\u001b[0;31m---------------------------------------------------------------------------\u001b[0m",
            "\u001b[0;31mNameError\u001b[0m                                 Traceback (most recent call last)",
            "\u001b[0;32m<ipython-input-25-ab4e10c4b9c1>\u001b[0m in \u001b[0;36m<module>\u001b[0;34m()\u001b[0m\n\u001b[0;32m----> 1\u001b[0;31m \u001b[0mK\u001b[0m\u001b[0;34m.\u001b[0m\u001b[0mclear_session\u001b[0m\u001b[0;34m(\u001b[0m\u001b[0;34m)\u001b[0m\u001b[0;34m\u001b[0m\u001b[0;34m\u001b[0m\u001b[0m\n\u001b[0m",
            "\u001b[0;31mNameError\u001b[0m: name 'K' is not defined"
          ]
        }
      ]
    },
    {
      "cell_type": "code",
      "metadata": {
        "id": "XgSgyhWQkW8r",
        "colab_type": "code",
        "colab": {}
      },
      "source": [
        "from tqdm import tqdm"
      ],
      "execution_count": 0,
      "outputs": []
    },
    {
      "cell_type": "code",
      "metadata": {
        "id": "3KDrvfijkrVL",
        "colab_type": "code",
        "colab": {
          "base_uri": "https://localhost:8080/",
          "height": 164
        },
        "outputId": "a9340a0e-38dc-413c-eeba-76c79780f388"
      },
      "source": [
        "x_test.shape, y_test.shape"
      ],
      "execution_count": 1,
      "outputs": [
        {
          "output_type": "error",
          "ename": "NameError",
          "evalue": "ignored",
          "traceback": [
            "\u001b[0;31m---------------------------------------------------------------------------\u001b[0m",
            "\u001b[0;31mNameError\u001b[0m                                 Traceback (most recent call last)",
            "\u001b[0;32m<ipython-input-1-a7b635b2cc4c>\u001b[0m in \u001b[0;36m<module>\u001b[0;34m()\u001b[0m\n\u001b[0;32m----> 1\u001b[0;31m \u001b[0mx_test\u001b[0m\u001b[0;34m.\u001b[0m\u001b[0mshape\u001b[0m\u001b[0;34m,\u001b[0m \u001b[0my_test\u001b[0m\u001b[0;34m.\u001b[0m\u001b[0mshape\u001b[0m\u001b[0;34m\u001b[0m\u001b[0;34m\u001b[0m\u001b[0m\n\u001b[0m",
            "\u001b[0;31mNameError\u001b[0m: name 'x_test' is not defined"
          ]
        }
      ]
    },
    {
      "cell_type": "code",
      "metadata": {
        "id": "ZSQtoWaMiOD2",
        "colab_type": "code",
        "colab": {}
      },
      "source": [
        "def predict(model, input, horizon = 2, return_sequence = False):\n",
        "    \"\"\"\n",
        "    Perform recursive prediction by feeding the network input at time t+1 with the prediction at\n",
        "    time t. This is repeted 'horizon' number of time.\n",
        "    :param input: np.array\n",
        "        (batch_size, window_size, n_features), n_features is supposed to be 1 (univariate time-series)\n",
        "    :param exogenous: np.array\n",
        "        exogenous feature for the loads to be predicted\n",
        "        (batch_size, horizon, n_exog_features)\n",
        "    :return: np.array\n",
        "        (batch_size, horizon)\n",
        "    \"\"\"\n",
        "    input_seq = input                                         # (batch_size, n_timestamps, n_features)\n",
        "    output_seq = np.zeros((input_seq.shape[0], horizon, input_seq.shape[-1] ))  # (batch_size, horizon, n_features)\n",
        "    for i in tqdm(range(horizon)):\n",
        "        if return_sequence:\n",
        "            output = model.predict(input_seq, verbose = 1)             # [batch_size, input_timesteps]\n",
        "            output = output[:,-1:]\n",
        "        else:\n",
        "            output = model.predict(input_seq, verbose = 1)             # [batch_size, n_features]\n",
        "            print(output.shape)\n",
        "        input_seq[:, :-1, :] = input_seq[:, 1:, :]                    \n",
        "        print(input_seq.shape)\n",
        "        print(output_seq.shape)\n",
        "        input_seq[:, -1, :] = output\n",
        "\n",
        "        '''if exogenous is not None:\n",
        "            input_seq[:, -1, 1:] = exogenous[:, i, :]\n",
        "        '''\n",
        "        # input_seq = np.concatenate([input_seq[:, 1:, :], np.expand_dims(output,axis=-1)], axis=1)\n",
        "        output_seq[:, i, :] = output\n",
        "    return output_seq"
      ],
      "execution_count": 0,
      "outputs": []
    },
    {
      "cell_type": "code",
      "metadata": {
        "id": "sRdXfNQtycU6",
        "colab_type": "code",
        "colab": {}
      },
      "source": [
        "model = load_model('model.h5')"
      ],
      "execution_count": 0,
      "outputs": []
    },
    {
      "cell_type": "code",
      "metadata": {
        "id": "Fvl2EoKdiymW",
        "colab_type": "code",
        "outputId": "253e225c-f109-4d7c-e3bc-a4774f66e80a",
        "colab": {
          "base_uri": "https://localhost:8080/",
          "height": 1000
        }
      },
      "source": [
        "predictions = predict(model, x_test, horizon = 160)"
      ],
      "execution_count": 0,
      "outputs": [
        {
          "output_type": "stream",
          "text": [
            "\r  0%|          | 0/160 [00:00<?, ?it/s]"
          ],
          "name": "stderr"
        },
        {
          "output_type": "stream",
          "text": [
            "12939/12939 [==============================] - 18s 1ms/sample\n",
            "(12939, 64)\n"
          ],
          "name": "stdout"
        },
        {
          "output_type": "stream",
          "text": [
            "\r  1%|          | 1/160 [00:18<50:06, 18.91s/it]"
          ],
          "name": "stderr"
        },
        {
          "output_type": "stream",
          "text": [
            "(12939, 160, 64)\n",
            "(12939, 160, 64)\n",
            "12939/12939 [==============================] - 18s 1ms/sample\n",
            "(12939, 64)\n"
          ],
          "name": "stdout"
        },
        {
          "output_type": "stream",
          "text": [
            "\r  1%|▏         | 2/160 [00:37<49:52, 18.94s/it]"
          ],
          "name": "stderr"
        },
        {
          "output_type": "stream",
          "text": [
            "(12939, 160, 64)\n",
            "(12939, 160, 64)\n",
            "12939/12939 [==============================] - 21s 2ms/sample\n",
            "(12939, 64)\n"
          ],
          "name": "stdout"
        },
        {
          "output_type": "stream",
          "text": [
            "\r  2%|▏         | 3/160 [00:59<51:41, 19.76s/it]"
          ],
          "name": "stderr"
        },
        {
          "output_type": "stream",
          "text": [
            "(12939, 160, 64)\n",
            "(12939, 160, 64)\n",
            "12939/12939 [==============================] - 21s 2ms/sample\n",
            "(12939, 64)\n"
          ],
          "name": "stdout"
        },
        {
          "output_type": "stream",
          "text": [
            "\r  2%|▎         | 4/160 [01:21<52:47, 20.30s/it]"
          ],
          "name": "stderr"
        },
        {
          "output_type": "stream",
          "text": [
            "(12939, 160, 64)\n",
            "(12939, 160, 64)\n",
            "12939/12939 [==============================] - 21s 2ms/sample\n",
            "(12939, 64)\n"
          ],
          "name": "stdout"
        },
        {
          "output_type": "stream",
          "text": [
            "\r  3%|▎         | 5/160 [01:42<53:18, 20.64s/it]"
          ],
          "name": "stderr"
        },
        {
          "output_type": "stream",
          "text": [
            "(12939, 160, 64)\n",
            "(12939, 160, 64)\n",
            "12939/12939 [==============================] - 21s 2ms/sample\n",
            "(12939, 64)\n"
          ],
          "name": "stdout"
        },
        {
          "output_type": "stream",
          "text": [
            "\r  4%|▍         | 6/160 [02:04<53:35, 20.88s/it]"
          ],
          "name": "stderr"
        },
        {
          "output_type": "stream",
          "text": [
            "(12939, 160, 64)\n",
            "(12939, 160, 64)\n",
            "12939/12939 [==============================] - 21s 2ms/sample\n",
            "(12939, 64)\n"
          ],
          "name": "stdout"
        },
        {
          "output_type": "stream",
          "text": [
            "\r  4%|▍         | 7/160 [02:25<53:36, 21.02s/it]"
          ],
          "name": "stderr"
        },
        {
          "output_type": "stream",
          "text": [
            "(12939, 160, 64)\n",
            "(12939, 160, 64)\n",
            "12939/12939 [==============================] - 21s 2ms/sample\n",
            "(12939, 64)\n"
          ],
          "name": "stdout"
        },
        {
          "output_type": "stream",
          "text": [
            "\r  5%|▌         | 8/160 [02:46<53:24, 21.08s/it]"
          ],
          "name": "stderr"
        },
        {
          "output_type": "stream",
          "text": [
            "(12939, 160, 64)\n",
            "(12939, 160, 64)\n",
            "12939/12939 [==============================] - 21s 2ms/sample\n",
            "(12939, 64)\n"
          ],
          "name": "stdout"
        },
        {
          "output_type": "stream",
          "text": [
            "\r  6%|▌         | 9/160 [03:07<53:10, 21.13s/it]"
          ],
          "name": "stderr"
        },
        {
          "output_type": "stream",
          "text": [
            "(12939, 160, 64)\n",
            "(12939, 160, 64)\n",
            "12939/12939 [==============================] - 21s 2ms/sample\n",
            "(12939, 64)\n"
          ],
          "name": "stdout"
        },
        {
          "output_type": "stream",
          "text": [
            "\r  6%|▋         | 10/160 [03:29<52:51, 21.14s/it]"
          ],
          "name": "stderr"
        },
        {
          "output_type": "stream",
          "text": [
            "(12939, 160, 64)\n",
            "(12939, 160, 64)\n",
            "12939/12939 [==============================] - 21s 2ms/sample\n",
            "(12939, 64)\n"
          ],
          "name": "stdout"
        },
        {
          "output_type": "stream",
          "text": [
            "\r  7%|▋         | 11/160 [03:50<52:31, 21.15s/it]"
          ],
          "name": "stderr"
        },
        {
          "output_type": "stream",
          "text": [
            "(12939, 160, 64)\n",
            "(12939, 160, 64)\n",
            "12939/12939 [==============================] - 21s 2ms/sample\n",
            "(12939, 64)\n"
          ],
          "name": "stdout"
        },
        {
          "output_type": "stream",
          "text": [
            "\r  8%|▊         | 12/160 [04:11<52:14, 21.18s/it]"
          ],
          "name": "stderr"
        },
        {
          "output_type": "stream",
          "text": [
            "(12939, 160, 64)\n",
            "(12939, 160, 64)\n",
            "12939/12939 [==============================] - 21s 2ms/sample\n",
            "(12939, 64)\n"
          ],
          "name": "stdout"
        },
        {
          "output_type": "stream",
          "text": [
            "\r  8%|▊         | 13/160 [04:32<51:48, 21.15s/it]"
          ],
          "name": "stderr"
        },
        {
          "output_type": "stream",
          "text": [
            "(12939, 160, 64)\n",
            "(12939, 160, 64)\n",
            "12939/12939 [==============================] - 21s 2ms/sample\n",
            "(12939, 64)\n"
          ],
          "name": "stdout"
        },
        {
          "output_type": "stream",
          "text": [
            "\r  9%|▉         | 14/160 [04:53<51:38, 21.23s/it]"
          ],
          "name": "stderr"
        },
        {
          "output_type": "stream",
          "text": [
            "(12939, 160, 64)\n",
            "(12939, 160, 64)\n",
            "12939/12939 [==============================] - 21s 2ms/sample\n",
            "(12939, 64)\n"
          ],
          "name": "stdout"
        },
        {
          "output_type": "stream",
          "text": [
            "\r  9%|▉         | 15/160 [05:15<51:16, 21.22s/it]"
          ],
          "name": "stderr"
        },
        {
          "output_type": "stream",
          "text": [
            "(12939, 160, 64)\n",
            "(12939, 160, 64)\n",
            "12939/12939 [==============================] - 21s 2ms/sample\n",
            "(12939, 64)\n"
          ],
          "name": "stdout"
        },
        {
          "output_type": "stream",
          "text": [
            "\r 10%|█         | 16/160 [05:36<50:49, 21.18s/it]"
          ],
          "name": "stderr"
        },
        {
          "output_type": "stream",
          "text": [
            "(12939, 160, 64)\n",
            "(12939, 160, 64)\n",
            "12939/12939 [==============================] - 21s 2ms/sample\n",
            "(12939, 64)\n"
          ],
          "name": "stdout"
        },
        {
          "output_type": "stream",
          "text": [
            "\r 11%|█         | 17/160 [05:57<50:33, 21.21s/it]"
          ],
          "name": "stderr"
        },
        {
          "output_type": "stream",
          "text": [
            "(12939, 160, 64)\n",
            "(12939, 160, 64)\n",
            "12939/12939 [==============================] - 21s 2ms/sample\n",
            "(12939, 64)\n"
          ],
          "name": "stdout"
        },
        {
          "output_type": "stream",
          "text": [
            "\r 11%|█▏        | 18/160 [06:18<50:16, 21.25s/it]"
          ],
          "name": "stderr"
        },
        {
          "output_type": "stream",
          "text": [
            "(12939, 160, 64)\n",
            "(12939, 160, 64)\n",
            "12939/12939 [==============================] - 20s 2ms/sample\n",
            "(12939, 64)\n"
          ],
          "name": "stdout"
        },
        {
          "output_type": "stream",
          "text": [
            "\r 12%|█▏        | 19/160 [06:39<49:42, 21.15s/it]"
          ],
          "name": "stderr"
        },
        {
          "output_type": "stream",
          "text": [
            "(12939, 160, 64)\n",
            "(12939, 160, 64)\n",
            "12939/12939 [==============================] - 20s 2ms/sample\n",
            "(12939, 64)\n"
          ],
          "name": "stdout"
        },
        {
          "output_type": "stream",
          "text": [
            "\r 12%|█▎        | 20/160 [07:00<49:12, 21.09s/it]"
          ],
          "name": "stderr"
        },
        {
          "output_type": "stream",
          "text": [
            "(12939, 160, 64)\n",
            "(12939, 160, 64)\n",
            "12939/12939 [==============================] - 21s 2ms/sample\n",
            "(12939, 64)\n"
          ],
          "name": "stdout"
        },
        {
          "output_type": "stream",
          "text": [
            "\r 13%|█▎        | 21/160 [07:21<48:50, 21.08s/it]"
          ],
          "name": "stderr"
        },
        {
          "output_type": "stream",
          "text": [
            "(12939, 160, 64)\n",
            "(12939, 160, 64)\n",
            "12939/12939 [==============================] - 20s 2ms/sample\n",
            "(12939, 64)\n"
          ],
          "name": "stdout"
        },
        {
          "output_type": "stream",
          "text": [
            "\r 14%|█▍        | 22/160 [07:42<48:28, 21.07s/it]"
          ],
          "name": "stderr"
        },
        {
          "output_type": "stream",
          "text": [
            "(12939, 160, 64)\n",
            "(12939, 160, 64)\n",
            "12939/12939 [==============================] - 20s 2ms/sample\n",
            "(12939, 64)\n"
          ],
          "name": "stdout"
        },
        {
          "output_type": "stream",
          "text": [
            "\r 14%|█▍        | 23/160 [08:03<48:00, 21.03s/it]"
          ],
          "name": "stderr"
        },
        {
          "output_type": "stream",
          "text": [
            "(12939, 160, 64)\n",
            "(12939, 160, 64)\n",
            "12939/12939 [==============================] - 20s 2ms/sample\n",
            "(12939, 64)\n"
          ],
          "name": "stdout"
        },
        {
          "output_type": "stream",
          "text": [
            "\r 15%|█▌        | 24/160 [08:24<47:34, 20.99s/it]"
          ],
          "name": "stderr"
        },
        {
          "output_type": "stream",
          "text": [
            "(12939, 160, 64)\n",
            "(12939, 160, 64)\n",
            "12939/12939 [==============================] - 20s 2ms/sample\n",
            "(12939, 64)\n"
          ],
          "name": "stdout"
        },
        {
          "output_type": "stream",
          "text": [
            "\r 16%|█▌        | 25/160 [08:45<47:10, 20.97s/it]"
          ],
          "name": "stderr"
        },
        {
          "output_type": "stream",
          "text": [
            "(12939, 160, 64)\n",
            "(12939, 160, 64)\n",
            "12939/12939 [==============================] - 20s 2ms/sample\n",
            "(12939, 64)\n"
          ],
          "name": "stdout"
        },
        {
          "output_type": "stream",
          "text": [
            "\r 16%|█▋        | 26/160 [09:06<46:52, 20.99s/it]"
          ],
          "name": "stderr"
        },
        {
          "output_type": "stream",
          "text": [
            "(12939, 160, 64)\n",
            "(12939, 160, 64)\n",
            "12939/12939 [==============================] - 20s 2ms/sample\n",
            "(12939, 64)\n"
          ],
          "name": "stdout"
        },
        {
          "output_type": "stream",
          "text": [
            "\r 17%|█▋        | 27/160 [09:27<46:18, 20.89s/it]"
          ],
          "name": "stderr"
        },
        {
          "output_type": "stream",
          "text": [
            "(12939, 160, 64)\n",
            "(12939, 160, 64)\n",
            "12939/12939 [==============================] - 20s 2ms/sample\n",
            "(12939, 64)\n"
          ],
          "name": "stdout"
        },
        {
          "output_type": "stream",
          "text": [
            "\r 18%|█▊        | 28/160 [09:47<45:48, 20.82s/it]"
          ],
          "name": "stderr"
        },
        {
          "output_type": "stream",
          "text": [
            "(12939, 160, 64)\n",
            "(12939, 160, 64)\n",
            "12939/12939 [==============================] - 20s 2ms/sample\n",
            "(12939, 64)\n"
          ],
          "name": "stdout"
        },
        {
          "output_type": "stream",
          "text": [
            "\r 18%|█▊        | 29/160 [10:08<45:25, 20.80s/it]"
          ],
          "name": "stderr"
        },
        {
          "output_type": "stream",
          "text": [
            "(12939, 160, 64)\n",
            "(12939, 160, 64)\n",
            "12939/12939 [==============================] - 20s 2ms/sample\n",
            "(12939, 64)\n"
          ],
          "name": "stdout"
        },
        {
          "output_type": "stream",
          "text": [
            "\r 19%|█▉        | 30/160 [10:29<45:04, 20.80s/it]"
          ],
          "name": "stderr"
        },
        {
          "output_type": "stream",
          "text": [
            "(12939, 160, 64)\n",
            "(12939, 160, 64)\n",
            "12939/12939 [==============================] - 20s 2ms/sample\n",
            "(12939, 64)\n"
          ],
          "name": "stdout"
        },
        {
          "output_type": "stream",
          "text": [
            "\r 19%|█▉        | 31/160 [10:50<44:38, 20.77s/it]"
          ],
          "name": "stderr"
        },
        {
          "output_type": "stream",
          "text": [
            "(12939, 160, 64)\n",
            "(12939, 160, 64)\n",
            "12939/12939 [==============================] - 20s 2ms/sample\n",
            "(12939, 64)\n"
          ],
          "name": "stdout"
        },
        {
          "output_type": "stream",
          "text": [
            "\r 20%|██        | 32/160 [11:10<44:19, 20.77s/it]"
          ],
          "name": "stderr"
        },
        {
          "output_type": "stream",
          "text": [
            "(12939, 160, 64)\n",
            "(12939, 160, 64)\n",
            "12939/12939 [==============================] - 20s 2ms/sample\n",
            "(12939, 64)\n"
          ],
          "name": "stdout"
        },
        {
          "output_type": "stream",
          "text": [
            "\r 21%|██        | 33/160 [11:31<44:01, 20.80s/it]"
          ],
          "name": "stderr"
        },
        {
          "output_type": "stream",
          "text": [
            "(12939, 160, 64)\n",
            "(12939, 160, 64)\n",
            "12939/12939 [==============================] - 20s 2ms/sample\n",
            "(12939, 64)\n"
          ],
          "name": "stdout"
        },
        {
          "output_type": "stream",
          "text": [
            "\r 21%|██▏       | 34/160 [11:52<43:41, 20.81s/it]"
          ],
          "name": "stderr"
        },
        {
          "output_type": "stream",
          "text": [
            "(12939, 160, 64)\n",
            "(12939, 160, 64)\n",
            "12939/12939 [==============================] - 20s 2ms/sample\n",
            "(12939, 64)\n"
          ],
          "name": "stdout"
        },
        {
          "output_type": "stream",
          "text": [
            "\r 22%|██▏       | 35/160 [12:13<43:23, 20.83s/it]"
          ],
          "name": "stderr"
        },
        {
          "output_type": "stream",
          "text": [
            "(12939, 160, 64)\n",
            "(12939, 160, 64)\n",
            "12939/12939 [==============================] - 20s 2ms/sample\n",
            "(12939, 64)\n"
          ],
          "name": "stdout"
        },
        {
          "output_type": "stream",
          "text": [
            "\r 22%|██▎       | 36/160 [12:34<43:10, 20.89s/it]"
          ],
          "name": "stderr"
        },
        {
          "output_type": "stream",
          "text": [
            "(12939, 160, 64)\n",
            "(12939, 160, 64)\n",
            "12939/12939 [==============================] - 21s 2ms/sample\n",
            "(12939, 64)\n"
          ],
          "name": "stdout"
        },
        {
          "output_type": "stream",
          "text": [
            "\r 23%|██▎       | 37/160 [12:55<42:57, 20.95s/it]"
          ],
          "name": "stderr"
        },
        {
          "output_type": "stream",
          "text": [
            "(12939, 160, 64)\n",
            "(12939, 160, 64)\n",
            "12939/12939 [==============================] - 20s 2ms/sample\n",
            "(12939, 64)\n"
          ],
          "name": "stdout"
        },
        {
          "output_type": "stream",
          "text": [
            "\r 24%|██▍       | 38/160 [13:16<42:35, 20.95s/it]"
          ],
          "name": "stderr"
        },
        {
          "output_type": "stream",
          "text": [
            "(12939, 160, 64)\n",
            "(12939, 160, 64)\n",
            "12939/12939 [==============================] - 20s 2ms/sample\n",
            "(12939, 64)\n"
          ],
          "name": "stdout"
        },
        {
          "output_type": "stream",
          "text": [
            "\r 24%|██▍       | 39/160 [13:37<42:09, 20.91s/it]"
          ],
          "name": "stderr"
        },
        {
          "output_type": "stream",
          "text": [
            "(12939, 160, 64)\n",
            "(12939, 160, 64)\n",
            "12939/12939 [==============================] - 20s 2ms/sample\n",
            "(12939, 64)\n"
          ],
          "name": "stdout"
        },
        {
          "output_type": "stream",
          "text": [
            "\r 25%|██▌       | 40/160 [13:57<41:23, 20.70s/it]"
          ],
          "name": "stderr"
        },
        {
          "output_type": "stream",
          "text": [
            "(12939, 160, 64)\n",
            "(12939, 160, 64)\n",
            "12939/12939 [==============================] - 19s 1ms/sample\n",
            "(12939, 64)\n"
          ],
          "name": "stdout"
        },
        {
          "output_type": "stream",
          "text": [
            "\r 26%|██▌       | 41/160 [14:17<40:31, 20.44s/it]"
          ],
          "name": "stderr"
        },
        {
          "output_type": "stream",
          "text": [
            "(12939, 160, 64)\n",
            "(12939, 160, 64)\n",
            "12939/12939 [==============================] - 20s 2ms/sample\n",
            "(12939, 64)\n"
          ],
          "name": "stdout"
        },
        {
          "output_type": "stream",
          "text": [
            "\r 26%|██▋       | 42/160 [14:37<40:16, 20.48s/it]"
          ],
          "name": "stderr"
        },
        {
          "output_type": "stream",
          "text": [
            "(12939, 160, 64)\n",
            "(12939, 160, 64)\n",
            "12939/12939 [==============================] - 20s 2ms/sample\n",
            "(12939, 64)\n"
          ],
          "name": "stdout"
        },
        {
          "output_type": "stream",
          "text": [
            "\r 27%|██▋       | 43/160 [14:58<40:03, 20.54s/it]"
          ],
          "name": "stderr"
        },
        {
          "output_type": "stream",
          "text": [
            "(12939, 160, 64)\n",
            "(12939, 160, 64)\n",
            "12939/12939 [==============================] - 20s 2ms/sample\n",
            "(12939, 64)\n"
          ],
          "name": "stdout"
        },
        {
          "output_type": "stream",
          "text": [
            "\r 28%|██▊       | 44/160 [15:19<39:50, 20.60s/it]"
          ],
          "name": "stderr"
        },
        {
          "output_type": "stream",
          "text": [
            "(12939, 160, 64)\n",
            "(12939, 160, 64)\n",
            "12939/12939 [==============================] - 20s 2ms/sample\n",
            "(12939, 64)\n"
          ],
          "name": "stdout"
        },
        {
          "output_type": "stream",
          "text": [
            "\r 28%|██▊       | 45/160 [15:39<39:26, 20.58s/it]"
          ],
          "name": "stderr"
        },
        {
          "output_type": "stream",
          "text": [
            "(12939, 160, 64)\n",
            "(12939, 160, 64)\n",
            "12939/12939 [==============================] - 20s 2ms/sample\n",
            "(12939, 64)\n"
          ],
          "name": "stdout"
        },
        {
          "output_type": "stream",
          "text": [
            "\r 29%|██▉       | 46/160 [16:00<39:02, 20.55s/it]"
          ],
          "name": "stderr"
        },
        {
          "output_type": "stream",
          "text": [
            "(12939, 160, 64)\n",
            "(12939, 160, 64)\n",
            "12939/12939 [==============================] - 20s 2ms/sample\n",
            "(12939, 64)\n"
          ],
          "name": "stdout"
        },
        {
          "output_type": "stream",
          "text": [
            "\r 29%|██▉       | 47/160 [16:20<38:38, 20.52s/it]"
          ],
          "name": "stderr"
        },
        {
          "output_type": "stream",
          "text": [
            "(12939, 160, 64)\n",
            "(12939, 160, 64)\n",
            "12939/12939 [==============================] - 20s 2ms/sample\n",
            "(12939, 64)\n"
          ],
          "name": "stdout"
        },
        {
          "output_type": "stream",
          "text": [
            "\r 30%|███       | 48/160 [16:41<38:21, 20.55s/it]"
          ],
          "name": "stderr"
        },
        {
          "output_type": "stream",
          "text": [
            "(12939, 160, 64)\n",
            "(12939, 160, 64)\n",
            "12939/12939 [==============================] - 20s 2ms/sample\n",
            "(12939, 64)\n"
          ],
          "name": "stdout"
        },
        {
          "output_type": "stream",
          "text": [
            "\r 31%|███       | 49/160 [17:02<38:07, 20.61s/it]"
          ],
          "name": "stderr"
        },
        {
          "output_type": "stream",
          "text": [
            "(12939, 160, 64)\n",
            "(12939, 160, 64)\n",
            "12939/12939 [==============================] - 20s 2ms/sample\n",
            "(12939, 64)\n"
          ],
          "name": "stdout"
        },
        {
          "output_type": "stream",
          "text": [
            "\r 31%|███▏      | 50/160 [17:22<37:42, 20.57s/it]"
          ],
          "name": "stderr"
        },
        {
          "output_type": "stream",
          "text": [
            "(12939, 160, 64)\n",
            "(12939, 160, 64)\n",
            "12939/12939 [==============================] - 20s 2ms/sample\n",
            "(12939, 64)\n"
          ],
          "name": "stdout"
        },
        {
          "output_type": "stream",
          "text": [
            "\r 32%|███▏      | 51/160 [17:43<37:31, 20.66s/it]"
          ],
          "name": "stderr"
        },
        {
          "output_type": "stream",
          "text": [
            "(12939, 160, 64)\n",
            "(12939, 160, 64)\n",
            "12939/12939 [==============================] - 20s 2ms/sample\n",
            "(12939, 64)\n"
          ],
          "name": "stdout"
        },
        {
          "output_type": "stream",
          "text": [
            "\r 32%|███▎      | 52/160 [18:04<37:17, 20.72s/it]"
          ],
          "name": "stderr"
        },
        {
          "output_type": "stream",
          "text": [
            "(12939, 160, 64)\n",
            "(12939, 160, 64)\n",
            "12939/12939 [==============================] - 20s 2ms/sample\n",
            "(12939, 64)\n"
          ],
          "name": "stdout"
        },
        {
          "output_type": "stream",
          "text": [
            "\r 33%|███▎      | 53/160 [18:25<36:53, 20.68s/it]"
          ],
          "name": "stderr"
        },
        {
          "output_type": "stream",
          "text": [
            "(12939, 160, 64)\n",
            "(12939, 160, 64)\n",
            "12939/12939 [==============================] - 20s 2ms/sample\n",
            "(12939, 64)\n"
          ],
          "name": "stdout"
        },
        {
          "output_type": "stream",
          "text": [
            "\r 34%|███▍      | 54/160 [18:45<36:24, 20.60s/it]"
          ],
          "name": "stderr"
        },
        {
          "output_type": "stream",
          "text": [
            "(12939, 160, 64)\n",
            "(12939, 160, 64)\n",
            "12939/12939 [==============================] - 20s 2ms/sample\n",
            "(12939, 64)\n"
          ],
          "name": "stdout"
        },
        {
          "output_type": "stream",
          "text": [
            "\r 34%|███▍      | 55/160 [19:06<36:07, 20.64s/it]"
          ],
          "name": "stderr"
        },
        {
          "output_type": "stream",
          "text": [
            "(12939, 160, 64)\n",
            "(12939, 160, 64)\n",
            "12939/12939 [==============================] - 20s 2ms/sample\n",
            "(12939, 64)\n"
          ],
          "name": "stdout"
        },
        {
          "output_type": "stream",
          "text": [
            "\r 35%|███▌      | 56/160 [19:26<35:49, 20.67s/it]"
          ],
          "name": "stderr"
        },
        {
          "output_type": "stream",
          "text": [
            "(12939, 160, 64)\n",
            "(12939, 160, 64)\n",
            "12939/12939 [==============================] - 20s 2ms/sample\n",
            "(12939, 64)\n"
          ],
          "name": "stdout"
        },
        {
          "output_type": "stream",
          "text": [
            "\r 36%|███▌      | 57/160 [19:47<35:22, 20.61s/it]"
          ],
          "name": "stderr"
        },
        {
          "output_type": "stream",
          "text": [
            "(12939, 160, 64)\n",
            "(12939, 160, 64)\n",
            "12939/12939 [==============================] - 20s 2ms/sample\n",
            "(12939, 64)\n"
          ],
          "name": "stdout"
        },
        {
          "output_type": "stream",
          "text": [
            "\r 36%|███▋      | 58/160 [20:07<34:59, 20.58s/it]"
          ],
          "name": "stderr"
        },
        {
          "output_type": "stream",
          "text": [
            "(12939, 160, 64)\n",
            "(12939, 160, 64)\n",
            "12939/12939 [==============================] - 20s 2ms/sample\n",
            "(12939, 64)\n"
          ],
          "name": "stdout"
        },
        {
          "output_type": "stream",
          "text": [
            "\r 37%|███▋      | 59/160 [20:28<34:35, 20.55s/it]"
          ],
          "name": "stderr"
        },
        {
          "output_type": "stream",
          "text": [
            "(12939, 160, 64)\n",
            "(12939, 160, 64)\n",
            "12939/12939 [==============================] - 20s 2ms/sample\n",
            "(12939, 64)\n"
          ],
          "name": "stdout"
        },
        {
          "output_type": "stream",
          "text": [
            "\r 38%|███▊      | 60/160 [20:49<34:18, 20.58s/it]"
          ],
          "name": "stderr"
        },
        {
          "output_type": "stream",
          "text": [
            "(12939, 160, 64)\n",
            "(12939, 160, 64)\n",
            "12939/12939 [==============================] - 20s 2ms/sample\n",
            "(12939, 64)\n"
          ],
          "name": "stdout"
        },
        {
          "output_type": "stream",
          "text": [
            "\r 38%|███▊      | 61/160 [21:09<33:57, 20.58s/it]"
          ],
          "name": "stderr"
        },
        {
          "output_type": "stream",
          "text": [
            "(12939, 160, 64)\n",
            "(12939, 160, 64)\n",
            "12939/12939 [==============================] - 20s 2ms/sample\n",
            "(12939, 64)\n"
          ],
          "name": "stdout"
        },
        {
          "output_type": "stream",
          "text": [
            "\r 39%|███▉      | 62/160 [21:30<33:32, 20.53s/it]"
          ],
          "name": "stderr"
        },
        {
          "output_type": "stream",
          "text": [
            "(12939, 160, 64)\n",
            "(12939, 160, 64)\n",
            "12939/12939 [==============================] - 20s 2ms/sample\n",
            "(12939, 64)\n"
          ],
          "name": "stdout"
        },
        {
          "output_type": "stream",
          "text": [
            "\r 39%|███▉      | 63/160 [21:50<33:04, 20.46s/it]"
          ],
          "name": "stderr"
        },
        {
          "output_type": "stream",
          "text": [
            "(12939, 160, 64)\n",
            "(12939, 160, 64)\n",
            "12939/12939 [==============================] - 20s 2ms/sample\n",
            "(12939, 64)\n"
          ],
          "name": "stdout"
        },
        {
          "output_type": "stream",
          "text": [
            "\r 40%|████      | 64/160 [22:10<32:49, 20.52s/it]"
          ],
          "name": "stderr"
        },
        {
          "output_type": "stream",
          "text": [
            "(12939, 160, 64)\n",
            "(12939, 160, 64)\n",
            "12939/12939 [==============================] - 20s 2ms/sample\n",
            "(12939, 64)\n"
          ],
          "name": "stdout"
        },
        {
          "output_type": "stream",
          "text": [
            "\r 41%|████      | 65/160 [22:31<32:25, 20.48s/it]"
          ],
          "name": "stderr"
        },
        {
          "output_type": "stream",
          "text": [
            "(12939, 160, 64)\n",
            "(12939, 160, 64)\n",
            "12939/12939 [==============================] - 20s 2ms/sample\n",
            "(12939, 64)\n"
          ],
          "name": "stdout"
        },
        {
          "output_type": "stream",
          "text": [
            "\r 41%|████▏     | 66/160 [22:52<32:12, 20.56s/it]"
          ],
          "name": "stderr"
        },
        {
          "output_type": "stream",
          "text": [
            "(12939, 160, 64)\n",
            "(12939, 160, 64)\n",
            "12939/12939 [==============================] - 20s 2ms/sample\n",
            "(12939, 64)\n"
          ],
          "name": "stdout"
        },
        {
          "output_type": "stream",
          "text": [
            "\r 42%|████▏     | 67/160 [23:12<31:50, 20.55s/it]"
          ],
          "name": "stderr"
        },
        {
          "output_type": "stream",
          "text": [
            "(12939, 160, 64)\n",
            "(12939, 160, 64)\n",
            "12939/12939 [==============================] - 19s 1ms/sample\n",
            "(12939, 64)\n"
          ],
          "name": "stdout"
        },
        {
          "output_type": "stream",
          "text": [
            "\r 42%|████▎     | 68/160 [23:32<31:03, 20.26s/it]"
          ],
          "name": "stderr"
        },
        {
          "output_type": "stream",
          "text": [
            "(12939, 160, 64)\n",
            "(12939, 160, 64)\n",
            "12939/12939 [==============================] - 19s 1ms/sample\n",
            "(12939, 64)\n"
          ],
          "name": "stdout"
        },
        {
          "output_type": "stream",
          "text": [
            "\r 43%|████▎     | 69/160 [23:51<30:24, 20.05s/it]"
          ],
          "name": "stderr"
        },
        {
          "output_type": "stream",
          "text": [
            "(12939, 160, 64)\n",
            "(12939, 160, 64)\n",
            "12939/12939 [==============================] - 19s 1ms/sample\n",
            "(12939, 64)\n"
          ],
          "name": "stdout"
        },
        {
          "output_type": "stream",
          "text": [
            "\r 44%|████▍     | 70/160 [24:11<29:53, 19.92s/it]"
          ],
          "name": "stderr"
        },
        {
          "output_type": "stream",
          "text": [
            "(12939, 160, 64)\n",
            "(12939, 160, 64)\n",
            "12939/12939 [==============================] - 19s 1ms/sample\n",
            "(12939, 64)\n"
          ],
          "name": "stdout"
        },
        {
          "output_type": "stream",
          "text": [
            "\r 44%|████▍     | 71/160 [24:30<29:23, 19.81s/it]"
          ],
          "name": "stderr"
        },
        {
          "output_type": "stream",
          "text": [
            "(12939, 160, 64)\n",
            "(12939, 160, 64)\n",
            "12939/12939 [==============================] - 19s 1ms/sample\n",
            "(12939, 64)\n"
          ],
          "name": "stdout"
        },
        {
          "output_type": "stream",
          "text": [
            "\r 45%|████▌     | 72/160 [24:50<29:05, 19.83s/it]"
          ],
          "name": "stderr"
        },
        {
          "output_type": "stream",
          "text": [
            "(12939, 160, 64)\n",
            "(12939, 160, 64)\n",
            "12939/12939 [==============================] - 19s 1ms/sample\n",
            "(12939, 64)\n"
          ],
          "name": "stdout"
        },
        {
          "output_type": "stream",
          "text": [
            "\r 46%|████▌     | 73/160 [25:10<28:43, 19.81s/it]"
          ],
          "name": "stderr"
        },
        {
          "output_type": "stream",
          "text": [
            "(12939, 160, 64)\n",
            "(12939, 160, 64)\n",
            "12939/12939 [==============================] - 19s 1ms/sample\n",
            "(12939, 64)\n"
          ],
          "name": "stdout"
        },
        {
          "output_type": "stream",
          "text": [
            "\r 46%|████▋     | 74/160 [25:30<28:15, 19.72s/it]"
          ],
          "name": "stderr"
        },
        {
          "output_type": "stream",
          "text": [
            "(12939, 160, 64)\n",
            "(12939, 160, 64)\n",
            "12939/12939 [==============================] - 19s 1ms/sample\n",
            "(12939, 64)\n"
          ],
          "name": "stdout"
        },
        {
          "output_type": "stream",
          "text": [
            "\r 47%|████▋     | 75/160 [25:49<27:56, 19.73s/it]"
          ],
          "name": "stderr"
        },
        {
          "output_type": "stream",
          "text": [
            "(12939, 160, 64)\n",
            "(12939, 160, 64)\n",
            "12939/12939 [==============================] - 19s 1ms/sample\n",
            "(12939, 64)\n"
          ],
          "name": "stdout"
        },
        {
          "output_type": "stream",
          "text": [
            "\r 48%|████▊     | 76/160 [26:09<27:31, 19.66s/it]"
          ],
          "name": "stderr"
        },
        {
          "output_type": "stream",
          "text": [
            "(12939, 160, 64)\n",
            "(12939, 160, 64)\n",
            "12939/12939 [==============================] - 19s 1ms/sample\n",
            "(12939, 64)\n"
          ],
          "name": "stdout"
        },
        {
          "output_type": "stream",
          "text": [
            "\r 48%|████▊     | 77/160 [26:28<27:04, 19.58s/it]"
          ],
          "name": "stderr"
        },
        {
          "output_type": "stream",
          "text": [
            "(12939, 160, 64)\n",
            "(12939, 160, 64)\n",
            "12939/12939 [==============================] - 19s 1ms/sample\n",
            "(12939, 64)\n"
          ],
          "name": "stdout"
        },
        {
          "output_type": "stream",
          "text": [
            "\r 49%|████▉     | 78/160 [26:48<26:40, 19.51s/it]"
          ],
          "name": "stderr"
        },
        {
          "output_type": "stream",
          "text": [
            "(12939, 160, 64)\n",
            "(12939, 160, 64)\n",
            "12939/12939 [==============================] - 19s 1ms/sample\n",
            "(12939, 64)\n"
          ],
          "name": "stdout"
        },
        {
          "output_type": "stream",
          "text": [
            "\r 49%|████▉     | 79/160 [27:07<26:15, 19.46s/it]"
          ],
          "name": "stderr"
        },
        {
          "output_type": "stream",
          "text": [
            "(12939, 160, 64)\n",
            "(12939, 160, 64)\n",
            "12939/12939 [==============================] - 19s 1ms/sample\n",
            "(12939, 64)\n"
          ],
          "name": "stdout"
        },
        {
          "output_type": "stream",
          "text": [
            "\r 50%|█████     | 80/160 [27:26<25:56, 19.45s/it]"
          ],
          "name": "stderr"
        },
        {
          "output_type": "stream",
          "text": [
            "(12939, 160, 64)\n",
            "(12939, 160, 64)\n",
            "12939/12939 [==============================] - 19s 1ms/sample\n",
            "(12939, 64)\n"
          ],
          "name": "stdout"
        },
        {
          "output_type": "stream",
          "text": [
            "\r 51%|█████     | 81/160 [27:46<25:39, 19.49s/it]"
          ],
          "name": "stderr"
        },
        {
          "output_type": "stream",
          "text": [
            "(12939, 160, 64)\n",
            "(12939, 160, 64)\n",
            "12939/12939 [==============================] - 19s 1ms/sample\n",
            "(12939, 64)\n"
          ],
          "name": "stdout"
        },
        {
          "output_type": "stream",
          "text": [
            "\r 51%|█████▏    | 82/160 [28:06<25:22, 19.51s/it]"
          ],
          "name": "stderr"
        },
        {
          "output_type": "stream",
          "text": [
            "(12939, 160, 64)\n",
            "(12939, 160, 64)\n",
            "12939/12939 [==============================] - 19s 1ms/sample\n",
            "(12939, 64)\n"
          ],
          "name": "stdout"
        },
        {
          "output_type": "stream",
          "text": [
            "\r 52%|█████▏    | 83/160 [28:25<25:06, 19.56s/it]"
          ],
          "name": "stderr"
        },
        {
          "output_type": "stream",
          "text": [
            "(12939, 160, 64)\n",
            "(12939, 160, 64)\n",
            "12939/12939 [==============================] - 19s 1ms/sample\n",
            "(12939, 64)\n"
          ],
          "name": "stdout"
        },
        {
          "output_type": "stream",
          "text": [
            "\r 52%|█████▎    | 84/160 [28:45<24:49, 19.60s/it]"
          ],
          "name": "stderr"
        },
        {
          "output_type": "stream",
          "text": [
            "(12939, 160, 64)\n",
            "(12939, 160, 64)\n",
            "12939/12939 [==============================] - 19s 1ms/sample\n",
            "(12939, 64)\n"
          ],
          "name": "stdout"
        },
        {
          "output_type": "stream",
          "text": [
            "\r 53%|█████▎    | 85/160 [29:04<24:28, 19.58s/it]"
          ],
          "name": "stderr"
        },
        {
          "output_type": "stream",
          "text": [
            "(12939, 160, 64)\n",
            "(12939, 160, 64)\n",
            "12939/12939 [==============================] - 19s 1ms/sample\n",
            "(12939, 64)\n"
          ],
          "name": "stdout"
        },
        {
          "output_type": "stream",
          "text": [
            "\r 54%|█████▍    | 86/160 [29:24<24:10, 19.60s/it]"
          ],
          "name": "stderr"
        },
        {
          "output_type": "stream",
          "text": [
            "(12939, 160, 64)\n",
            "(12939, 160, 64)\n",
            "12939/12939 [==============================] - 19s 1ms/sample\n",
            "(12939, 64)\n"
          ],
          "name": "stdout"
        },
        {
          "output_type": "stream",
          "text": [
            "\r 54%|█████▍    | 87/160 [29:44<23:48, 19.57s/it]"
          ],
          "name": "stderr"
        },
        {
          "output_type": "stream",
          "text": [
            "(12939, 160, 64)\n",
            "(12939, 160, 64)\n",
            "12939/12939 [==============================] - 19s 1ms/sample\n",
            "(12939, 64)\n"
          ],
          "name": "stdout"
        },
        {
          "output_type": "stream",
          "text": [
            "\r 55%|█████▌    | 88/160 [30:03<23:27, 19.55s/it]"
          ],
          "name": "stderr"
        },
        {
          "output_type": "stream",
          "text": [
            "(12939, 160, 64)\n",
            "(12939, 160, 64)\n",
            "12939/12939 [==============================] - 19s 1ms/sample\n",
            "(12939, 64)\n"
          ],
          "name": "stdout"
        },
        {
          "output_type": "stream",
          "text": [
            "\r 56%|█████▌    | 89/160 [30:23<23:09, 19.57s/it]"
          ],
          "name": "stderr"
        },
        {
          "output_type": "stream",
          "text": [
            "(12939, 160, 64)\n",
            "(12939, 160, 64)\n",
            "12939/12939 [==============================] - 19s 1ms/sample\n",
            "(12939, 64)\n"
          ],
          "name": "stdout"
        },
        {
          "output_type": "stream",
          "text": [
            "\r 56%|█████▋    | 90/160 [30:42<22:44, 19.49s/it]"
          ],
          "name": "stderr"
        },
        {
          "output_type": "stream",
          "text": [
            "(12939, 160, 64)\n",
            "(12939, 160, 64)\n",
            "12939/12939 [==============================] - 19s 1ms/sample\n",
            "(12939, 64)\n"
          ],
          "name": "stdout"
        },
        {
          "output_type": "stream",
          "text": [
            "\r 57%|█████▋    | 91/160 [31:01<22:25, 19.49s/it]"
          ],
          "name": "stderr"
        },
        {
          "output_type": "stream",
          "text": [
            "(12939, 160, 64)\n",
            "(12939, 160, 64)\n",
            "12939/12939 [==============================] - 19s 1ms/sample\n",
            "(12939, 64)\n"
          ],
          "name": "stdout"
        },
        {
          "output_type": "stream",
          "text": [
            "\r 57%|█████▊    | 92/160 [31:21<22:01, 19.43s/it]"
          ],
          "name": "stderr"
        },
        {
          "output_type": "stream",
          "text": [
            "(12939, 160, 64)\n",
            "(12939, 160, 64)\n",
            "12939/12939 [==============================] - 19s 1ms/sample\n",
            "(12939, 64)\n"
          ],
          "name": "stdout"
        },
        {
          "output_type": "stream",
          "text": [
            "\r 58%|█████▊    | 93/160 [31:40<21:44, 19.46s/it]"
          ],
          "name": "stderr"
        },
        {
          "output_type": "stream",
          "text": [
            "(12939, 160, 64)\n",
            "(12939, 160, 64)\n",
            "12939/12939 [==============================] - 19s 1ms/sample\n",
            "(12939, 64)\n"
          ],
          "name": "stdout"
        },
        {
          "output_type": "stream",
          "text": [
            "\r 59%|█████▉    | 94/160 [32:00<21:24, 19.46s/it]"
          ],
          "name": "stderr"
        },
        {
          "output_type": "stream",
          "text": [
            "(12939, 160, 64)\n",
            "(12939, 160, 64)\n",
            "12939/12939 [==============================] - 19s 1ms/sample\n",
            "(12939, 64)\n"
          ],
          "name": "stdout"
        },
        {
          "output_type": "stream",
          "text": [
            "\r 59%|█████▉    | 95/160 [32:19<21:09, 19.53s/it]"
          ],
          "name": "stderr"
        },
        {
          "output_type": "stream",
          "text": [
            "(12939, 160, 64)\n",
            "(12939, 160, 64)\n",
            "12939/12939 [==============================] - 19s 1ms/sample\n",
            "(12939, 64)\n"
          ],
          "name": "stdout"
        },
        {
          "output_type": "stream",
          "text": [
            "\r 60%|██████    | 96/160 [32:39<20:56, 19.64s/it]"
          ],
          "name": "stderr"
        },
        {
          "output_type": "stream",
          "text": [
            "(12939, 160, 64)\n",
            "(12939, 160, 64)\n",
            "12939/12939 [==============================] - 20s 2ms/sample\n",
            "(12939, 64)\n"
          ],
          "name": "stdout"
        },
        {
          "output_type": "stream",
          "text": [
            "\r 61%|██████    | 97/160 [33:00<20:47, 19.81s/it]"
          ],
          "name": "stderr"
        },
        {
          "output_type": "stream",
          "text": [
            "(12939, 160, 64)\n",
            "(12939, 160, 64)\n",
            "12939/12939 [==============================] - 19s 1ms/sample\n",
            "(12939, 64)\n"
          ],
          "name": "stdout"
        },
        {
          "output_type": "stream",
          "text": [
            "\r 61%|██████▏   | 98/160 [33:20<20:31, 19.86s/it]"
          ],
          "name": "stderr"
        },
        {
          "output_type": "stream",
          "text": [
            "(12939, 160, 64)\n",
            "(12939, 160, 64)\n",
            "12939/12939 [==============================] - 19s 1ms/sample\n",
            "(12939, 64)\n"
          ],
          "name": "stdout"
        },
        {
          "output_type": "stream",
          "text": [
            "\r 62%|██████▏   | 99/160 [33:39<20:10, 19.85s/it]"
          ],
          "name": "stderr"
        },
        {
          "output_type": "stream",
          "text": [
            "(12939, 160, 64)\n",
            "(12939, 160, 64)\n",
            "12939/12939 [==============================] - 19s 1ms/sample\n",
            "(12939, 64)\n"
          ],
          "name": "stdout"
        },
        {
          "output_type": "stream",
          "text": [
            "\r 62%|██████▎   | 100/160 [33:59<19:49, 19.82s/it]"
          ],
          "name": "stderr"
        },
        {
          "output_type": "stream",
          "text": [
            "(12939, 160, 64)\n",
            "(12939, 160, 64)\n",
            "12939/12939 [==============================] - 19s 1ms/sample\n",
            "(12939, 64)\n"
          ],
          "name": "stdout"
        },
        {
          "output_type": "stream",
          "text": [
            "\r 63%|██████▎   | 101/160 [34:19<19:28, 19.80s/it]"
          ],
          "name": "stderr"
        },
        {
          "output_type": "stream",
          "text": [
            "(12939, 160, 64)\n",
            "(12939, 160, 64)\n",
            "12939/12939 [==============================] - 19s 1ms/sample\n",
            "(12939, 64)\n"
          ],
          "name": "stdout"
        },
        {
          "output_type": "stream",
          "text": [
            "\r 64%|██████▍   | 102/160 [34:39<19:08, 19.81s/it]"
          ],
          "name": "stderr"
        },
        {
          "output_type": "stream",
          "text": [
            "(12939, 160, 64)\n",
            "(12939, 160, 64)\n",
            "12939/12939 [==============================] - 19s 1ms/sample\n",
            "(12939, 64)\n"
          ],
          "name": "stdout"
        },
        {
          "output_type": "stream",
          "text": [
            "\r 64%|██████▍   | 103/160 [34:59<18:50, 19.84s/it]"
          ],
          "name": "stderr"
        },
        {
          "output_type": "stream",
          "text": [
            "(12939, 160, 64)\n",
            "(12939, 160, 64)\n",
            "12939/12939 [==============================] - 19s 1ms/sample\n",
            "(12939, 64)\n"
          ],
          "name": "stdout"
        },
        {
          "output_type": "stream",
          "text": [
            "\r 65%|██████▌   | 104/160 [35:18<18:31, 19.85s/it]"
          ],
          "name": "stderr"
        },
        {
          "output_type": "stream",
          "text": [
            "(12939, 160, 64)\n",
            "(12939, 160, 64)\n",
            "12939/12939 [==============================] - 19s 2ms/sample\n",
            "(12939, 64)\n"
          ],
          "name": "stdout"
        },
        {
          "output_type": "stream",
          "text": [
            "\r 66%|██████▌   | 105/160 [35:38<18:13, 19.89s/it]"
          ],
          "name": "stderr"
        },
        {
          "output_type": "stream",
          "text": [
            "(12939, 160, 64)\n",
            "(12939, 160, 64)\n",
            "12939/12939 [==============================] - 19s 1ms/sample\n",
            "(12939, 64)\n"
          ],
          "name": "stdout"
        },
        {
          "output_type": "stream",
          "text": [
            "\r 66%|██████▋   | 106/160 [35:58<17:53, 19.88s/it]"
          ],
          "name": "stderr"
        },
        {
          "output_type": "stream",
          "text": [
            "(12939, 160, 64)\n",
            "(12939, 160, 64)\n",
            "12939/12939 [==============================] - 19s 1ms/sample\n",
            "(12939, 64)\n"
          ],
          "name": "stdout"
        },
        {
          "output_type": "stream",
          "text": [
            "\r 67%|██████▋   | 107/160 [36:18<17:33, 19.87s/it]"
          ],
          "name": "stderr"
        },
        {
          "output_type": "stream",
          "text": [
            "(12939, 160, 64)\n",
            "(12939, 160, 64)\n",
            "12939/12939 [==============================] - 19s 1ms/sample\n",
            "(12939, 64)\n"
          ],
          "name": "stdout"
        },
        {
          "output_type": "stream",
          "text": [
            "\r 68%|██████▊   | 108/160 [36:38<17:12, 19.86s/it]"
          ],
          "name": "stderr"
        },
        {
          "output_type": "stream",
          "text": [
            "(12939, 160, 64)\n",
            "(12939, 160, 64)\n",
            "12939/12939 [==============================] - 19s 1ms/sample\n",
            "(12939, 64)\n"
          ],
          "name": "stdout"
        },
        {
          "output_type": "stream",
          "text": [
            "\r 68%|██████▊   | 109/160 [36:58<16:53, 19.88s/it]"
          ],
          "name": "stderr"
        },
        {
          "output_type": "stream",
          "text": [
            "(12939, 160, 64)\n",
            "(12939, 160, 64)\n",
            "12939/12939 [==============================] - 19s 1ms/sample\n",
            "(12939, 64)\n"
          ],
          "name": "stdout"
        },
        {
          "output_type": "stream",
          "text": [
            "\r 69%|██████▉   | 110/160 [37:18<16:35, 19.91s/it]"
          ],
          "name": "stderr"
        },
        {
          "output_type": "stream",
          "text": [
            "(12939, 160, 64)\n",
            "(12939, 160, 64)\n",
            "12939/12939 [==============================] - 19s 1ms/sample\n",
            "(12939, 64)\n"
          ],
          "name": "stdout"
        },
        {
          "output_type": "stream",
          "text": [
            "\r 69%|██████▉   | 111/160 [37:38<16:14, 19.90s/it]"
          ],
          "name": "stderr"
        },
        {
          "output_type": "stream",
          "text": [
            "(12939, 160, 64)\n",
            "(12939, 160, 64)\n",
            "12939/12939 [==============================] - 19s 2ms/sample\n",
            "(12939, 64)\n"
          ],
          "name": "stdout"
        },
        {
          "output_type": "stream",
          "text": [
            "\r 70%|███████   | 112/160 [37:58<15:56, 19.92s/it]"
          ],
          "name": "stderr"
        },
        {
          "output_type": "stream",
          "text": [
            "(12939, 160, 64)\n",
            "(12939, 160, 64)\n",
            "12939/12939 [==============================] - 20s 2ms/sample\n",
            "(12939, 64)\n"
          ],
          "name": "stdout"
        },
        {
          "output_type": "stream",
          "text": [
            "\r 71%|███████   | 113/160 [38:18<15:38, 19.97s/it]"
          ],
          "name": "stderr"
        },
        {
          "output_type": "stream",
          "text": [
            "(12939, 160, 64)\n",
            "(12939, 160, 64)\n",
            "12939/12939 [==============================] - 20s 2ms/sample\n",
            "(12939, 64)\n"
          ],
          "name": "stdout"
        },
        {
          "output_type": "stream",
          "text": [
            "\r 71%|███████▏  | 114/160 [38:38<15:20, 20.01s/it]"
          ],
          "name": "stderr"
        },
        {
          "output_type": "stream",
          "text": [
            "(12939, 160, 64)\n",
            "(12939, 160, 64)\n",
            "12939/12939 [==============================] - 20s 2ms/sample\n",
            "(12939, 64)\n"
          ],
          "name": "stdout"
        },
        {
          "output_type": "stream",
          "text": [
            "\r 72%|███████▏  | 115/160 [38:58<15:02, 20.06s/it]"
          ],
          "name": "stderr"
        },
        {
          "output_type": "stream",
          "text": [
            "(12939, 160, 64)\n",
            "(12939, 160, 64)\n",
            "12939/12939 [==============================] - 20s 2ms/sample\n",
            "(12939, 64)\n"
          ],
          "name": "stdout"
        },
        {
          "output_type": "stream",
          "text": [
            "\r 72%|███████▎  | 116/160 [39:18<14:43, 20.08s/it]"
          ],
          "name": "stderr"
        },
        {
          "output_type": "stream",
          "text": [
            "(12939, 160, 64)\n",
            "(12939, 160, 64)\n",
            "12939/12939 [==============================] - 20s 2ms/sample\n",
            "(12939, 64)\n"
          ],
          "name": "stdout"
        },
        {
          "output_type": "stream",
          "text": [
            "\r 73%|███████▎  | 117/160 [39:38<14:23, 20.08s/it]"
          ],
          "name": "stderr"
        },
        {
          "output_type": "stream",
          "text": [
            "(12939, 160, 64)\n",
            "(12939, 160, 64)\n",
            "12939/12939 [==============================] - 19s 1ms/sample\n",
            "(12939, 64)\n"
          ],
          "name": "stdout"
        },
        {
          "output_type": "stream",
          "text": [
            "\r 74%|███████▍  | 118/160 [39:58<13:59, 19.99s/it]"
          ],
          "name": "stderr"
        },
        {
          "output_type": "stream",
          "text": [
            "(12939, 160, 64)\n",
            "(12939, 160, 64)\n",
            "12939/12939 [==============================] - 19s 1ms/sample\n",
            "(12939, 64)\n"
          ],
          "name": "stdout"
        },
        {
          "output_type": "stream",
          "text": [
            "\r 74%|███████▍  | 119/160 [40:18<13:38, 19.95s/it]"
          ],
          "name": "stderr"
        },
        {
          "output_type": "stream",
          "text": [
            "(12939, 160, 64)\n",
            "(12939, 160, 64)\n",
            "12939/12939 [==============================] - 19s 1ms/sample\n",
            "(12939, 64)\n"
          ],
          "name": "stdout"
        },
        {
          "output_type": "stream",
          "text": [
            "\r 75%|███████▌  | 120/160 [40:38<13:14, 19.85s/it]"
          ],
          "name": "stderr"
        },
        {
          "output_type": "stream",
          "text": [
            "(12939, 160, 64)\n",
            "(12939, 160, 64)\n",
            "12939/12939 [==============================] - 19s 1ms/sample\n",
            "(12939, 64)\n"
          ],
          "name": "stdout"
        },
        {
          "output_type": "stream",
          "text": [
            "\r 76%|███████▌  | 121/160 [40:57<12:51, 19.79s/it]"
          ],
          "name": "stderr"
        },
        {
          "output_type": "stream",
          "text": [
            "(12939, 160, 64)\n",
            "(12939, 160, 64)\n",
            "12939/12939 [==============================] - 19s 1ms/sample\n",
            "(12939, 64)\n"
          ],
          "name": "stdout"
        },
        {
          "output_type": "stream",
          "text": [
            "\r 76%|███████▋  | 122/160 [41:17<12:29, 19.72s/it]"
          ],
          "name": "stderr"
        },
        {
          "output_type": "stream",
          "text": [
            "(12939, 160, 64)\n",
            "(12939, 160, 64)\n",
            "12939/12939 [==============================] - 19s 1ms/sample\n",
            "(12939, 64)\n"
          ],
          "name": "stdout"
        },
        {
          "output_type": "stream",
          "text": [
            "\r 77%|███████▋  | 123/160 [41:36<12:06, 19.65s/it]"
          ],
          "name": "stderr"
        },
        {
          "output_type": "stream",
          "text": [
            "(12939, 160, 64)\n",
            "(12939, 160, 64)\n",
            "12939/12939 [==============================] - 19s 1ms/sample\n",
            "(12939, 64)\n"
          ],
          "name": "stdout"
        },
        {
          "output_type": "stream",
          "text": [
            "\r 78%|███████▊  | 124/160 [41:56<11:44, 19.57s/it]"
          ],
          "name": "stderr"
        },
        {
          "output_type": "stream",
          "text": [
            "(12939, 160, 64)\n",
            "(12939, 160, 64)\n",
            "12939/12939 [==============================] - 19s 1ms/sample\n",
            "(12939, 64)\n"
          ],
          "name": "stdout"
        },
        {
          "output_type": "stream",
          "text": [
            "\r 78%|███████▊  | 125/160 [42:15<11:24, 19.55s/it]"
          ],
          "name": "stderr"
        },
        {
          "output_type": "stream",
          "text": [
            "(12939, 160, 64)\n",
            "(12939, 160, 64)\n",
            "12939/12939 [==============================] - 19s 1ms/sample\n",
            "(12939, 64)\n"
          ],
          "name": "stdout"
        },
        {
          "output_type": "stream",
          "text": [
            "\r 79%|███████▉  | 126/160 [42:35<11:04, 19.54s/it]"
          ],
          "name": "stderr"
        },
        {
          "output_type": "stream",
          "text": [
            "(12939, 160, 64)\n",
            "(12939, 160, 64)\n",
            "12939/12939 [==============================] - 19s 1ms/sample\n",
            "(12939, 64)\n"
          ],
          "name": "stdout"
        },
        {
          "output_type": "stream",
          "text": [
            "\r 79%|███████▉  | 127/160 [42:54<10:43, 19.49s/it]"
          ],
          "name": "stderr"
        },
        {
          "output_type": "stream",
          "text": [
            "(12939, 160, 64)\n",
            "(12939, 160, 64)\n",
            "12939/12939 [==============================] - 19s 1ms/sample\n",
            "(12939, 64)\n"
          ],
          "name": "stdout"
        },
        {
          "output_type": "stream",
          "text": [
            "\r 80%|████████  | 128/160 [43:14<10:25, 19.54s/it]"
          ],
          "name": "stderr"
        },
        {
          "output_type": "stream",
          "text": [
            "(12939, 160, 64)\n",
            "(12939, 160, 64)\n",
            "12939/12939 [==============================] - 19s 1ms/sample\n",
            "(12939, 64)\n"
          ],
          "name": "stdout"
        },
        {
          "output_type": "stream",
          "text": [
            "\r 81%|████████  | 129/160 [43:33<10:03, 19.47s/it]"
          ],
          "name": "stderr"
        },
        {
          "output_type": "stream",
          "text": [
            "(12939, 160, 64)\n",
            "(12939, 160, 64)\n",
            "12939/12939 [==============================] - 19s 1ms/sample\n",
            "(12939, 64)\n"
          ],
          "name": "stdout"
        },
        {
          "output_type": "stream",
          "text": [
            "\r 81%|████████▏ | 130/160 [43:52<09:44, 19.48s/it]"
          ],
          "name": "stderr"
        },
        {
          "output_type": "stream",
          "text": [
            "(12939, 160, 64)\n",
            "(12939, 160, 64)\n",
            "12939/12939 [==============================] - 19s 1ms/sample\n",
            "(12939, 64)\n"
          ],
          "name": "stdout"
        },
        {
          "output_type": "stream",
          "text": [
            "\r 82%|████████▏ | 131/160 [44:12<09:23, 19.44s/it]"
          ],
          "name": "stderr"
        },
        {
          "output_type": "stream",
          "text": [
            "(12939, 160, 64)\n",
            "(12939, 160, 64)\n",
            "12939/12939 [==============================] - 19s 1ms/sample\n",
            "(12939, 64)\n"
          ],
          "name": "stdout"
        },
        {
          "output_type": "stream",
          "text": [
            "\r 82%|████████▎ | 132/160 [44:31<09:03, 19.40s/it]"
          ],
          "name": "stderr"
        },
        {
          "output_type": "stream",
          "text": [
            "(12939, 160, 64)\n",
            "(12939, 160, 64)\n",
            "12939/12939 [==============================] - 19s 1ms/sample\n",
            "(12939, 64)\n"
          ],
          "name": "stdout"
        },
        {
          "output_type": "stream",
          "text": [
            "\r 83%|████████▎ | 133/160 [44:51<08:43, 19.41s/it]"
          ],
          "name": "stderr"
        },
        {
          "output_type": "stream",
          "text": [
            "(12939, 160, 64)\n",
            "(12939, 160, 64)\n",
            "12939/12939 [==============================] - 19s 1ms/sample\n",
            "(12939, 64)\n"
          ],
          "name": "stdout"
        },
        {
          "output_type": "stream",
          "text": [
            "\r 84%|████████▍ | 134/160 [45:10<08:25, 19.45s/it]"
          ],
          "name": "stderr"
        },
        {
          "output_type": "stream",
          "text": [
            "(12939, 160, 64)\n",
            "(12939, 160, 64)\n",
            "12939/12939 [==============================] - 19s 1ms/sample\n",
            "(12939, 64)\n"
          ],
          "name": "stdout"
        },
        {
          "output_type": "stream",
          "text": [
            "\r 84%|████████▍ | 135/160 [45:30<08:05, 19.43s/it]"
          ],
          "name": "stderr"
        },
        {
          "output_type": "stream",
          "text": [
            "(12939, 160, 64)\n",
            "(12939, 160, 64)\n",
            "12939/12939 [==============================] - 19s 1ms/sample\n",
            "(12939, 64)\n"
          ],
          "name": "stdout"
        },
        {
          "output_type": "stream",
          "text": [
            "\r 85%|████████▌ | 136/160 [45:49<07:45, 19.41s/it]"
          ],
          "name": "stderr"
        },
        {
          "output_type": "stream",
          "text": [
            "(12939, 160, 64)\n",
            "(12939, 160, 64)\n",
            "12939/12939 [==============================] - 19s 1ms/sample\n",
            "(12939, 64)\n"
          ],
          "name": "stdout"
        },
        {
          "output_type": "stream",
          "text": [
            "\r 86%|████████▌ | 137/160 [46:08<07:25, 19.37s/it]"
          ],
          "name": "stderr"
        },
        {
          "output_type": "stream",
          "text": [
            "(12939, 160, 64)\n",
            "(12939, 160, 64)\n",
            "12939/12939 [==============================] - 19s 1ms/sample\n",
            "(12939, 64)\n"
          ],
          "name": "stdout"
        },
        {
          "output_type": "stream",
          "text": [
            "\r 86%|████████▋ | 138/160 [46:28<07:06, 19.37s/it]"
          ],
          "name": "stderr"
        },
        {
          "output_type": "stream",
          "text": [
            "(12939, 160, 64)\n",
            "(12939, 160, 64)\n",
            "12939/12939 [==============================] - 19s 1ms/sample\n",
            "(12939, 64)\n"
          ],
          "name": "stdout"
        },
        {
          "output_type": "stream",
          "text": [
            "\r 87%|████████▋ | 139/160 [46:47<06:46, 19.35s/it]"
          ],
          "name": "stderr"
        },
        {
          "output_type": "stream",
          "text": [
            "(12939, 160, 64)\n",
            "(12939, 160, 64)\n",
            "12939/12939 [==============================] - 18s 1ms/sample\n",
            "(12939, 64)\n"
          ],
          "name": "stdout"
        },
        {
          "output_type": "stream",
          "text": [
            "\r 88%|████████▊ | 140/160 [47:06<06:24, 19.23s/it]"
          ],
          "name": "stderr"
        },
        {
          "output_type": "stream",
          "text": [
            "(12939, 160, 64)\n",
            "(12939, 160, 64)\n",
            "12939/12939 [==============================] - 18s 1ms/sample\n",
            "(12939, 64)\n"
          ],
          "name": "stdout"
        },
        {
          "output_type": "stream",
          "text": [
            "\r 88%|████████▊ | 141/160 [47:25<06:04, 19.17s/it]"
          ],
          "name": "stderr"
        },
        {
          "output_type": "stream",
          "text": [
            "(12939, 160, 64)\n",
            "(12939, 160, 64)\n",
            "12939/12939 [==============================] - 19s 1ms/sample\n",
            "(12939, 64)\n"
          ],
          "name": "stdout"
        },
        {
          "output_type": "stream",
          "text": [
            "\r 89%|████████▉ | 142/160 [47:44<05:45, 19.17s/it]"
          ],
          "name": "stderr"
        },
        {
          "output_type": "stream",
          "text": [
            "(12939, 160, 64)\n",
            "(12939, 160, 64)\n",
            "12939/12939 [==============================] - 18s 1ms/sample\n",
            "(12939, 64)\n"
          ],
          "name": "stdout"
        },
        {
          "output_type": "stream",
          "text": [
            "\r 89%|████████▉ | 143/160 [48:03<05:24, 19.11s/it]"
          ],
          "name": "stderr"
        },
        {
          "output_type": "stream",
          "text": [
            "(12939, 160, 64)\n",
            "(12939, 160, 64)\n",
            "12939/12939 [==============================] - 19s 1ms/sample\n",
            "(12939, 64)\n"
          ],
          "name": "stdout"
        },
        {
          "output_type": "stream",
          "text": [
            "\r 90%|█████████ | 144/160 [48:22<05:05, 19.11s/it]"
          ],
          "name": "stderr"
        },
        {
          "output_type": "stream",
          "text": [
            "(12939, 160, 64)\n",
            "(12939, 160, 64)\n",
            "12939/12939 [==============================] - 18s 1ms/sample\n",
            "(12939, 64)\n"
          ],
          "name": "stdout"
        },
        {
          "output_type": "stream",
          "text": [
            "\r 91%|█████████ | 145/160 [48:41<04:45, 19.06s/it]"
          ],
          "name": "stderr"
        },
        {
          "output_type": "stream",
          "text": [
            "(12939, 160, 64)\n",
            "(12939, 160, 64)\n",
            "12939/12939 [==============================] - 18s 1ms/sample\n",
            "(12939, 64)\n"
          ],
          "name": "stdout"
        },
        {
          "output_type": "stream",
          "text": [
            "\r 91%|█████████▏| 146/160 [49:00<04:26, 19.07s/it]"
          ],
          "name": "stderr"
        },
        {
          "output_type": "stream",
          "text": [
            "(12939, 160, 64)\n",
            "(12939, 160, 64)\n",
            "12939/12939 [==============================] - 19s 1ms/sample\n",
            "(12939, 64)\n"
          ],
          "name": "stdout"
        },
        {
          "output_type": "stream",
          "text": [
            "\r 92%|█████████▏| 147/160 [49:19<04:08, 19.08s/it]"
          ],
          "name": "stderr"
        },
        {
          "output_type": "stream",
          "text": [
            "(12939, 160, 64)\n",
            "(12939, 160, 64)\n",
            "12939/12939 [==============================] - 18s 1ms/sample\n",
            "(12939, 64)\n"
          ],
          "name": "stdout"
        },
        {
          "output_type": "stream",
          "text": [
            "\r 92%|█████████▎| 148/160 [49:38<03:48, 19.02s/it]"
          ],
          "name": "stderr"
        },
        {
          "output_type": "stream",
          "text": [
            "(12939, 160, 64)\n",
            "(12939, 160, 64)\n",
            " 2208/12939 [====>.........................] - ETA: 15s"
          ],
          "name": "stdout"
        }
      ]
    },
    {
      "cell_type": "code",
      "metadata": {
        "id": "zNjVOHmYzFvW",
        "colab_type": "code",
        "colab": {}
      },
      "source": [
        "time =np.arange(0, 1, 1 / 160)"
      ],
      "execution_count": 0,
      "outputs": []
    },
    {
      "cell_type": "code",
      "metadata": {
        "id": "Lu2MGmnhzNA2",
        "colab_type": "code",
        "colab": {}
      },
      "source": [
        "true_elec = x_test[:, :, 63]\n",
        "pred_elec = predictions[:, :, 63]"
      ],
      "execution_count": 0,
      "outputs": []
    },
    {
      "cell_type": "code",
      "metadata": {
        "id": "Mc20THM2G5ME",
        "colab_type": "code",
        "colab": {}
      },
      "source": [
        ""
      ],
      "execution_count": 0,
      "outputs": []
    },
    {
      "cell_type": "code",
      "metadata": {
        "id": "3Hr7_dNbzyzt",
        "colab_type": "code",
        "colab": {}
      },
      "source": [
        "l = []\n",
        "for i in range(160):\n",
        "  l.append(compute_correlation(true_elec[:,i], pred_elec[:, i]))\n"
      ],
      "execution_count": 0,
      "outputs": []
    },
    {
      "cell_type": "code",
      "metadata": {
        "id": "xWCCb9oF0H5h",
        "colab_type": "code",
        "colab": {
          "base_uri": "https://localhost:8080/",
          "height": 54
        },
        "outputId": "06a1a250-4753-4e85-c161-023e434a5c4d"
      },
      "source": [
        "print(l)"
      ],
      "execution_count": 58,
      "outputs": [
        {
          "output_type": "stream",
          "text": [
            "[1.0, 0.9999999999999999, 1.0, 0.9999999999999998, 1.0, 1.0, 1.0, 1.0, 0.9999999999999998, 1.0, 0.9999999999999998, 1.0, 1.0, 1.0, 1.0, 0.9999999999999999, 1.0, 1.0, 1.0, 1.0, 1.0, 1.0, 1.0, 1.0, 1.0, 1.0, 1.0, 1.0, 1.0, 1.0, 1.0, 1.0, 1.0, 1.0, 1.0, 1.0, 1.0, 0.9999999999999999, 1.0, 0.9999999999999999, 0.9999999999999999, 1.0, 1.0, 1.0, 0.9999999999999999, 0.9999999999999999, 1.0, 1.0, 0.9999999999999999, 1.0, 0.9999999999999999, 1.0, 1.0, 1.0, 1.0, 1.0, 1.0, 0.9999999999999999, 1.0, 0.9999999999999999, 1.0, 0.9999999999999999, 0.9999999999999999, 0.9999999999999999, 0.9999999999999999, 1.0, 1.0, 1.0, 1.0, 1.0, 0.9999999999999999, 1.0, 1.0, 1.0, 0.9999999999999999, 0.9999999999999999, 1.0, 1.0, 1.0, 1.0, 1.0, 1.0, 1.0, 0.9999999999999998, 1.0, 1.0, 0.9999999999999998, 1.0, 0.9999999999999998, 0.9999999999999998, 1.0, 1.0, 0.9999999999999998, 1.0, 0.9999999999999998, 1.0, 0.9999999999999998, 0.9999999999999998, 1.0, 0.9999999999999998, 1.0, 1.0, 0.9999999999999998, 1.0, 1.0, 1.0, 0.9999999999999998, 0.9999999999999998, 0.9999999999999999, 1.0, 1.0, 1.0, 1.0, 0.9999999999999999, 0.9999999999999999, 0.9999999999999999, 1.0, 0.9999999999999999, 1.0, 1.0, 1.0, 1.0, 1.0, 1.0, 1.0, 0.9999999999999999, 0.9999999999999999, 0.9999999999999999, 1.0, 1.0, 0.9999999999999999, 1.0, 1.0, 1.0, 1.0, 0.9999999999999999, 0.9999999999999999, 1.0, 1.0, 1.0, 0.9999999999999999, 1.0, 0.9999999999999999, 1.0, 1.0, 1.0, 1.0, 1.0, 1.0, 1.0, 0.9999999999999999, 1.0, 1.0, 0.9999999999999999, 0.9999999999999999, 1.0, 1.0, 1.0, 0.9999999999999999, 1.0]\n"
          ],
          "name": "stdout"
        }
      ]
    },
    {
      "cell_type": "code",
      "metadata": {
        "id": "D79SJa12zpGu",
        "colab_type": "code",
        "colab": {
          "base_uri": "https://localhost:8080/",
          "height": 282
        },
        "outputId": "e1262d46-b257-4501-b2a1-ebd14af68cc6"
      },
      "source": [
        "plt.plot(time, l)"
      ],
      "execution_count": 59,
      "outputs": [
        {
          "output_type": "execute_result",
          "data": {
            "text/plain": [
              "[<matplotlib.lines.Line2D at 0x7f41fd2479e8>]"
            ]
          },
          "metadata": {
            "tags": []
          },
          "execution_count": 59
        },
        {
          "output_type": "display_data",
          "data": {
            "image/png": "[encoded data removed]",
            "text/plain": [
              "<Figure size 432x288 with 1 Axes>"
            ]
          },
          "metadata": {
            "tags": []
          }
        }
      ]
    },
    {
      "cell_type": "code",
      "metadata": {
        "id": "jHlv70P1a5td",
        "colab_type": "code",
        "colab": {}
      },
      "source": [
        "from tqdm import tqdm"
      ],
      "execution_count": 0,
      "outputs": []
    },
    {
      "cell_type": "code",
      "metadata": {
        "id": "F2H9iPHJrhyS",
        "colab_type": "code",
        "outputId": "24be38c3-ee7a-41b6-ef2f-30dcf431a8bb",
        "colab": {
          "base_uri": "https://localhost:8080/",
          "height": 105
        }
      },
      "source": [
        "K.clear_session()"
      ],
      "execution_count": 0,
      "outputs": [
        {
          "output_type": "stream",
          "text": [
            "WARNING:tensorflow:From /usr/local/lib/python3.6/dist-packages/keras/backend/tensorflow_backend.py:107: The name tf.reset_default_graph is deprecated. Please use tf.compat.v1.reset_default_graph instead.\n",
            "\n",
            "WARNING:tensorflow:From /usr/local/lib/python3.6/dist-packages/keras/backend/tensorflow_backend.py:111: The name tf.placeholder_with_default is deprecated. Please use tf.compat.v1.placeholder_with_default instead.\n",
            "\n"
          ],
          "name": "stdout"
        }
      ]
    },
    {
      "cell_type": "code",
      "metadata": {
        "id": "rrwgHZ1blLew",
        "colab_type": "code",
        "colab": {}
      },
      "source": [
        "#Parameters of model\n",
        "model_name = \"LSTM\"\n",
        "optimizer_name = \"sgd\"\n",
        "training_epochs = 200\n",
        "batch_size = 1024\n",
        "layers = 1\n",
        "units = 95\n",
        "learning_rate = 0.1\n",
        "activation = \"relu\"\n",
        "features = train_X.shape[-1]"
      ],
      "execution_count": 0,
      "outputs": []
    },
    {
      "cell_type": "code",
      "metadata": {
        "id": "f2MSn7F52ERo",
        "colab_type": "code",
        "colab": {}
      },
      "source": [
        "def vanilla_RNN(layers, units, features):\n",
        "    inp = Input([window, features])\n",
        "    X = inp\n",
        "    for i in range(layers - 1):\n",
        "      X = LSTM(units, return_sequences = True)(X)\n",
        "    X = LSTM(units)(X)\n",
        "    out = Dense(len(source_Y), kernel_initializer = 'normal')(X)\n",
        "    \n",
        "    model = Model(inputs = inp, outputs = out)\n",
        "    #Set up the Optimizers\n",
        "    sgd = optimizers.SGD(learning_rate)\n",
        "    adam = optimizers.Adam(lr = learning_rate)\n",
        "    rmsprop = optimizers.RMSprop(lr = learning_rate)\n",
        "\n",
        "    #Compile the model\n",
        "    model.compile(loss = \"mse\", optimizer = sgd , metrics=[\"mse\"])\n",
        "    return model \n",
        "    \n",
        "    "
      ],
      "execution_count": 0,
      "outputs": []
    },
    {
      "cell_type": "code",
      "metadata": {
        "id": "YUwdv98D2ERq",
        "colab_type": "code",
        "outputId": "49a377d2-bde0-442d-fb4e-bf64ed20da9d",
        "colab": {
          "base_uri": "https://localhost:8080/",
          "height": 139
        }
      },
      "source": [
        "#Define Keras Model \n",
        "model = vanilla_RNN( layers, units, features)\n"
      ],
      "execution_count": 28,
      "outputs": [
        {
          "output_type": "stream",
          "text": [
            "WARNING:tensorflow:From /tensorflow-1.15.0/python3.6/tensorflow_core/python/ops/resource_variable_ops.py:1630: calling BaseResourceVariable.__init__ (from tensorflow.python.ops.resource_variable_ops) with constraint is deprecated and will be removed in a future version.\n",
            "Instructions for updating:\n",
            "If using Keras pass *_constraint arguments to layers.\n",
            "WARNING:tensorflow:From /tensorflow-1.15.0/python3.6/tensorflow_core/python/keras/initializers.py:143: calling RandomNormal.__init__ (from tensorflow.python.ops.init_ops) with dtype is deprecated and will be removed in a future version.\n",
            "Instructions for updating:\n",
            "Call initializer instance with the dtype argument instead of passing it to the constructor\n"
          ],
          "name": "stdout"
        }
      ]
    },
    {
      "cell_type": "code",
      "metadata": {
        "id": "rAqrciJC2ERu",
        "colab_type": "code",
        "outputId": "d0a5b033-11da-43b4-e115-ba3cf173417d",
        "colab": {
          "base_uri": "https://localhost:8080/",
          "height": 255
        }
      },
      "source": [
        "model.summary()"
      ],
      "execution_count": 29,
      "outputs": [
        {
          "output_type": "stream",
          "text": [
            "Model: \"model\"\n",
            "_________________________________________________________________\n",
            "Layer (type)                 Output Shape              Param #   \n",
            "=================================================================\n",
            "input_1 (InputLayer)         [(None, 160, 64)]         0         \n",
            "_________________________________________________________________\n",
            "lstm (LSTM)                  (None, 95)                60800     \n",
            "_________________________________________________________________\n",
            "dense (Dense)                (None, 64)                6144      \n",
            "=================================================================\n",
            "Total params: 66,944\n",
            "Trainable params: 66,944\n",
            "Non-trainable params: 0\n",
            "_________________________________________________________________\n"
          ],
          "name": "stdout"
        }
      ]
    },
    {
      "cell_type": "code",
      "metadata": {
        "id": "jwEV8jz5phDJ",
        "colab_type": "code",
        "colab": {}
      },
      "source": [
        "class TrainValTensorBoard(TensorBoard):\n",
        "    def __init__(self, log_dir='./logs', **kwargs):\n",
        "        # Make the original `TensorBoard` log to a subdirectory 'training'\n",
        "        training_log_dir = os.path.join(log_dir, 'training')\n",
        "        super(TrainValTensorBoard, self).__init__(training_log_dir, **kwargs)\n",
        "\n",
        "        # Log the validation metrics to a separate subdirectory\n",
        "        self.val_log_dir = os.path.join(log_dir, 'validation')\n",
        "\n",
        "    def set_model(self, model):\n",
        "        # Setup writer for validation metrics\n",
        "        self.val_writer = tf.summary.FileWriter(self.val_log_dir)\n",
        "        super(TrainValTensorBoard, self).set_model(model)\n",
        "\n",
        "    def on_epoch_end(self, epoch, logs=None):\n",
        "        # Pop the validation logs and handle them separately with\n",
        "        # `self.val_writer`. Also rename the keys so that they can\n",
        "        # be plotted on the same figure with the training metrics\n",
        "        logs = logs or {}\n",
        "        val_logs = {k.replace('val_', ''): v for k, v in logs.items() if k.startswith('val_')}\n",
        "        for name, value in val_logs.items():\n",
        "            summary = tf.Summary()\n",
        "            summary_value = summary.value.add()\n",
        "            summary_value.simple_value = value.item()\n",
        "            summary_value.tag = name\n",
        "            self.val_writer.add_summary(summary, epoch)\n",
        "        self.val_writer.flush()\n",
        "\n",
        "        # Pass the remaining logs to `TensorBoard.on_epoch_end`\n",
        "        logs = {k: v for k, v in logs.items() if not k.startswith('val_')}\n",
        "        super(TrainValTensorBoard, self).on_epoch_end(epoch, logs)\n",
        "\n",
        "    def on_train_end(self, logs=None):\n",
        "        super(TrainValTensorBoard, self).on_train_end(logs)\n",
        "        self.val_writer.close()\n"
      ],
      "execution_count": 0,
      "outputs": []
    },
    {
      "cell_type": "code",
      "metadata": {
        "id": "e6awBoWU2ERw",
        "colab_type": "code",
        "outputId": "97a917d8-a3df-4020-9180-bdc65e51c1e7",
        "colab": {
          "base_uri": "https://localhost:8080/",
          "height": 371
        }
      },
      "source": [
        "#Set Up Tensorboard for visualisation for training\n",
        "Name = \"{} + optimizer_{} + batch_size_{} + epochs_{} + Layer_{} + units_{} + learning_rate_{} +  activation_{} + relation_{} + date_\".format(model_name, optimizer_name, batch_size, training_epochs, layers, units, learning_rate, activation, relation)\n",
        "logdir =\"logs/scalars/\"+ Name + datetime.now().strftime(\"%Y%m%d-%H%M%S\")\n",
        "tensorboard_callback = TrainValTensorBoard(log_dir=logdir, write_images = True, histogram_freq = 2)\n",
        "#Sanity Check for LogDir\n",
        "print(logdir)"
      ],
      "execution_count": 31,
      "outputs": [
        {
          "output_type": "error",
          "ename": "NameError",
          "evalue": "ignored",
          "traceback": [
            "\u001b[0;31m---------------------------------------------------------------------------\u001b[0m",
            "\u001b[0;31mNameError\u001b[0m                                 Traceback (most recent call last)",
            "\u001b[0;32m<ipython-input-31-e48a05025479>\u001b[0m in \u001b[0;36m<module>\u001b[0;34m()\u001b[0m\n\u001b[1;32m      1\u001b[0m \u001b[0mName\u001b[0m \u001b[0;34m=\u001b[0m \u001b[0;34m\"{} + optimizer_{} + batch_size_{} + epochs_{} + Layer_{} + units_{} + learning_rate_{} +  activation_{} + relation_{} + date_\"\u001b[0m\u001b[0;34m.\u001b[0m\u001b[0mformat\u001b[0m\u001b[0;34m(\u001b[0m\u001b[0mmodel_name\u001b[0m\u001b[0;34m,\u001b[0m \u001b[0moptimizer_name\u001b[0m\u001b[0;34m,\u001b[0m \u001b[0mbatch_size\u001b[0m\u001b[0;34m,\u001b[0m \u001b[0mtraining_epochs\u001b[0m\u001b[0;34m,\u001b[0m \u001b[0mlayers\u001b[0m\u001b[0;34m,\u001b[0m \u001b[0munits\u001b[0m\u001b[0;34m,\u001b[0m \u001b[0mlearning_rate\u001b[0m\u001b[0;34m,\u001b[0m \u001b[0mactivation\u001b[0m\u001b[0;34m,\u001b[0m \u001b[0mrelation\u001b[0m\u001b[0;34m)\u001b[0m\u001b[0;34m\u001b[0m\u001b[0;34m\u001b[0m\u001b[0m\n\u001b[1;32m      2\u001b[0m \u001b[0mlogdir\u001b[0m \u001b[0;34m=\u001b[0m\u001b[0;34m\"logs/scalars/\"\u001b[0m\u001b[0;34m+\u001b[0m \u001b[0mName\u001b[0m \u001b[0;34m+\u001b[0m \u001b[0mdatetime\u001b[0m\u001b[0;34m.\u001b[0m\u001b[0mnow\u001b[0m\u001b[0;34m(\u001b[0m\u001b[0;34m)\u001b[0m\u001b[0;34m.\u001b[0m\u001b[0mstrftime\u001b[0m\u001b[0;34m(\u001b[0m\u001b[0;34m\"%Y%m%d-%H%M%S\"\u001b[0m\u001b[0;34m)\u001b[0m\u001b[0;34m\u001b[0m\u001b[0;34m\u001b[0m\u001b[0m\n\u001b[0;32m----> 3\u001b[0;31m \u001b[0mtensorboard_callback\u001b[0m \u001b[0;34m=\u001b[0m \u001b[0mTrainValTensorBoard\u001b[0m\u001b[0;34m(\u001b[0m\u001b[0mlog_dir\u001b[0m\u001b[0;34m=\u001b[0m\u001b[0mlogdir\u001b[0m\u001b[0;34m,\u001b[0m \u001b[0mwrite_images\u001b[0m \u001b[0;34m=\u001b[0m \u001b[0;32mTrue\u001b[0m\u001b[0;34m,\u001b[0m \u001b[0mhistogram_freq\u001b[0m \u001b[0;34m=\u001b[0m \u001b[0;36m2\u001b[0m\u001b[0;34m)\u001b[0m\u001b[0;34m\u001b[0m\u001b[0;34m\u001b[0m\u001b[0m\n\u001b[0m\u001b[1;32m      4\u001b[0m \u001b[0;31m#Sanity Check for LogDir\u001b[0m\u001b[0;34m\u001b[0m\u001b[0;34m\u001b[0m\u001b[0;34m\u001b[0m\u001b[0m\n\u001b[1;32m      5\u001b[0m \u001b[0mprint\u001b[0m\u001b[0;34m(\u001b[0m\u001b[0mlogdir\u001b[0m\u001b[0;34m)\u001b[0m\u001b[0;34m\u001b[0m\u001b[0;34m\u001b[0m\u001b[0m\n",
            "\u001b[0;32m<ipython-input-30-d7d992e0e11f>\u001b[0m in \u001b[0;36m__init__\u001b[0;34m(self, log_dir, **kwargs)\u001b[0m\n\u001b[1;32m      2\u001b[0m     \u001b[0;32mdef\u001b[0m \u001b[0m__init__\u001b[0m\u001b[0;34m(\u001b[0m\u001b[0mself\u001b[0m\u001b[0;34m,\u001b[0m \u001b[0mlog_dir\u001b[0m\u001b[0;34m=\u001b[0m\u001b[0;34m'./logs'\u001b[0m\u001b[0;34m,\u001b[0m \u001b[0;34m**\u001b[0m\u001b[0mkwargs\u001b[0m\u001b[0;34m)\u001b[0m\u001b[0;34m:\u001b[0m\u001b[0;34m\u001b[0m\u001b[0;34m\u001b[0m\u001b[0m\n\u001b[1;32m      3\u001b[0m         \u001b[0;31m# Make the original `TensorBoard` log to a subdirectory 'training'\u001b[0m\u001b[0;34m\u001b[0m\u001b[0;34m\u001b[0m\u001b[0;34m\u001b[0m\u001b[0m\n\u001b[0;32m----> 4\u001b[0;31m         \u001b[0mtraining_log_dir\u001b[0m \u001b[0;34m=\u001b[0m \u001b[0mos\u001b[0m\u001b[0;34m.\u001b[0m\u001b[0mpath\u001b[0m\u001b[0;34m.\u001b[0m\u001b[0mjoin\u001b[0m\u001b[0;34m(\u001b[0m\u001b[0mlog_dir\u001b[0m\u001b[0;34m,\u001b[0m \u001b[0;34m'training'\u001b[0m\u001b[0;34m)\u001b[0m\u001b[0;34m\u001b[0m\u001b[0;34m\u001b[0m\u001b[0m\n\u001b[0m\u001b[1;32m      5\u001b[0m         \u001b[0msuper\u001b[0m\u001b[0;34m(\u001b[0m\u001b[0mTrainValTensorBoard\u001b[0m\u001b[0;34m,\u001b[0m \u001b[0mself\u001b[0m\u001b[0;34m)\u001b[0m\u001b[0;34m.\u001b[0m\u001b[0m__init__\u001b[0m\u001b[0;34m(\u001b[0m\u001b[0mtraining_log_dir\u001b[0m\u001b[0;34m,\u001b[0m \u001b[0;34m**\u001b[0m\u001b[0mkwargs\u001b[0m\u001b[0;34m)\u001b[0m\u001b[0;34m\u001b[0m\u001b[0;34m\u001b[0m\u001b[0m\n\u001b[1;32m      6\u001b[0m \u001b[0;34m\u001b[0m\u001b[0m\n",
            "\u001b[0;31mNameError\u001b[0m: name 'os' is not defined"
          ]
        }
      ]
    },
    {
      "cell_type": "code",
      "metadata": {
        "id": "1Shr84Zt2feB",
        "colab_type": "code",
        "outputId": "f9b0a1a4-b129-4f35-f107-a0cb213a6c23",
        "colab": {
          "base_uri": "https://localhost:8080/",
          "height": 204
        }
      },
      "source": [
        "LOG_DIR = 'logs/'\n",
        "get_ipython().system_raw(\n",
        "    'tensorboard --logdir {} --host 0.0.0.0 --port 6006 &'\n",
        "    .format(LOG_DIR)\n",
        ")\n",
        "#Get url of TensorBoard to Visualise\n",
        "get_ipython().system_raw('./ngrok http 6006 &')\n",
        "! curl -s http://localhost:4040/api/tunnels | python3 -c \\\n",
        "    \"import sys, json; print(json.load(sys.stdin)['tunnels'][0]['public_url'])\""
      ],
      "execution_count": 32,
      "outputs": [
        {
          "output_type": "stream",
          "text": [
            "Traceback (most recent call last):\n",
            "  File \"<string>\", line 1, in <module>\n",
            "  File \"/usr/lib/python3.6/json/__init__.py\", line 299, in load\n",
            "    parse_constant=parse_constant, object_pairs_hook=object_pairs_hook, **kw)\n",
            "  File \"/usr/lib/python3.6/json/__init__.py\", line 354, in loads\n",
            "    return _default_decoder.decode(s)\n",
            "  File \"/usr/lib/python3.6/json/decoder.py\", line 339, in decode\n",
            "    obj, end = self.raw_decode(s, idx=_w(s, 0).end())\n",
            "  File \"/usr/lib/python3.6/json/decoder.py\", line 357, in raw_decode\n",
            "    raise JSONDecodeError(\"Expecting value\", s, err.value) from None\n",
            "json.decoder.JSONDecodeError: Expecting value: line 1 column 1 (char 0)\n"
          ],
          "name": "stdout"
        }
      ]
    },
    {
      "cell_type": "code",
      "metadata": {
        "id": "hEB9DElnrCbt",
        "colab_type": "code",
        "colab": {}
      },
      "source": [
        "training_epochs = 200\n"
      ],
      "execution_count": 0,
      "outputs": []
    },
    {
      "cell_type": "code",
      "metadata": {
        "id": "IZ15oWpYrwCW",
        "colab_type": "code",
        "outputId": "b88244b8-1dad-4bf4-ac33-76daabd2a340",
        "colab": {
          "base_uri": "https://localhost:8080/",
          "height": 1000
        }
      },
      "source": [
        "#Fit the model with the Data\n",
        "\n",
        "history = model.fit(\n",
        "    x_train, \n",
        "    y_train, \n",
        "    validation_data= (x_valid, y_valid),\n",
        "    batch_size = batch_size,\n",
        "    epochs = training_epochs,\n",
        "    verbose = 1,\n",
        "    )\n"
      ],
      "execution_count": 34,
      "outputs": [
        {
          "output_type": "stream",
          "text": [
            "WARNING:tensorflow:From /tensorflow-1.15.0/python3.6/tensorflow_core/python/ops/math_grad.py:1424: where (from tensorflow.python.ops.array_ops) is deprecated and will be removed in a future version.\n",
            "Instructions for updating:\n",
            "Use tf.where in 2.0, which has the same broadcast rule as np.where\n",
            "Train on 129360 samples, validate on 15960 samples\n",
            "Epoch 1/200\n",
            "129360/129360 [==============================] - 36s 277us/sample - loss: 0.8695 - mean_squared_error: 0.8695 - val_loss: 0.7899 - val_mean_squared_error: 0.7899\n",
            "Epoch 2/200\n",
            "129360/129360 [==============================] - 34s 265us/sample - loss: 0.7521 - mean_squared_error: 0.7521 - val_loss: 0.7158 - val_mean_squared_error: 0.7158\n",
            "Epoch 3/200\n",
            "129360/129360 [==============================] - 34s 265us/sample - loss: 0.6981 - mean_squared_error: 0.6981 - val_loss: 0.6755 - val_mean_squared_error: 0.6755\n",
            "Epoch 4/200\n",
            "129360/129360 [==============================] - 34s 263us/sample - loss: 0.6624 - mean_squared_error: 0.6624 - val_loss: 0.6444 - val_mean_squared_error: 0.6444\n",
            "Epoch 5/200\n",
            "129360/129360 [==============================] - 34s 263us/sample - loss: 0.6328 - mean_squared_error: 0.6328 - val_loss: 0.6175 - val_mean_squared_error: 0.6175\n",
            "Epoch 6/200\n",
            "129360/129360 [==============================] - 34s 264us/sample - loss: 0.6063 - mean_squared_error: 0.6063 - val_loss: 0.5934 - val_mean_squared_error: 0.5934\n",
            "Epoch 7/200\n",
            "129360/129360 [==============================] - 34s 261us/sample - loss: 0.5825 - mean_squared_error: 0.5825 - val_loss: 0.5715 - val_mean_squared_error: 0.5715\n",
            "Epoch 8/200\n",
            "129360/129360 [==============================] - 34s 261us/sample - loss: 0.5607 - mean_squared_error: 0.5607 - val_loss: 0.5515 - val_mean_squared_error: 0.5515\n",
            "Epoch 9/200\n",
            "129360/129360 [==============================] - 34s 263us/sample - loss: 0.5410 - mean_squared_error: 0.5410 - val_loss: 0.5333 - val_mean_squared_error: 0.5333\n",
            "Epoch 10/200\n",
            "129360/129360 [==============================] - 34s 262us/sample - loss: 0.5230 - mean_squared_error: 0.5230 - val_loss: 0.5167 - val_mean_squared_error: 0.5167\n",
            "Epoch 11/200\n",
            "129360/129360 [==============================] - 34s 264us/sample - loss: 0.5067 - mean_squared_error: 0.5067 - val_loss: 0.5019 - val_mean_squared_error: 0.5019\n",
            "Epoch 12/200\n",
            "129360/129360 [==============================] - 34s 263us/sample - loss: 0.4922 - mean_squared_error: 0.4922 - val_loss: 0.4885 - val_mean_squared_error: 0.4885\n",
            "Epoch 13/200\n",
            "129360/129360 [==============================] - 34s 263us/sample - loss: 0.4792 - mean_squared_error: 0.4792 - val_loss: 0.4767 - val_mean_squared_error: 0.4767\n",
            "Epoch 14/200\n",
            "129360/129360 [==============================] - 34s 264us/sample - loss: 0.4676 - mean_squared_error: 0.4676 - val_loss: 0.4661 - val_mean_squared_error: 0.4661\n",
            "Epoch 15/200\n",
            "129360/129360 [==============================] - 34s 261us/sample - loss: 0.4573 - mean_squared_error: 0.4573 - val_loss: 0.4566 - val_mean_squared_error: 0.4566\n",
            "Epoch 16/200\n",
            "129360/129360 [==============================] - 34s 260us/sample - loss: 0.4481 - mean_squared_error: 0.4481 - val_loss: 0.4482 - val_mean_squared_error: 0.4482\n",
            "Epoch 17/200\n",
            "129360/129360 [==============================] - 34s 262us/sample - loss: 0.4397 - mean_squared_error: 0.4397 - val_loss: 0.4405 - val_mean_squared_error: 0.4405\n",
            "Epoch 18/200\n",
            "129360/129360 [==============================] - 34s 261us/sample - loss: 0.4322 - mean_squared_error: 0.4322 - val_loss: 0.4335 - val_mean_squared_error: 0.4335\n",
            "Epoch 19/200\n",
            "129360/129360 [==============================] - 34s 262us/sample - loss: 0.4253 - mean_squared_error: 0.4253 - val_loss: 0.4271 - val_mean_squared_error: 0.4271\n",
            "Epoch 20/200\n",
            "129360/129360 [==============================] - 34s 264us/sample - loss: 0.4190 - mean_squared_error: 0.4190 - val_loss: 0.4212 - val_mean_squared_error: 0.4212\n",
            "Epoch 21/200\n",
            "129360/129360 [==============================] - 34s 260us/sample - loss: 0.4132 - mean_squared_error: 0.4132 - val_loss: 0.4158 - val_mean_squared_error: 0.4158\n",
            "Epoch 22/200\n",
            "129360/129360 [==============================] - 33s 258us/sample - loss: 0.4079 - mean_squared_error: 0.4079 - val_loss: 0.4108 - val_mean_squared_error: 0.4108\n",
            "Epoch 23/200\n",
            "129360/129360 [==============================] - 33s 258us/sample - loss: 0.4029 - mean_squared_error: 0.4029 - val_loss: 0.4061 - val_mean_squared_error: 0.4061\n",
            "Epoch 24/200\n",
            "129360/129360 [==============================] - 33s 256us/sample - loss: 0.3983 - mean_squared_error: 0.3983 - val_loss: 0.4018 - val_mean_squared_error: 0.4018\n",
            "Epoch 25/200\n",
            "129360/129360 [==============================] - 34s 259us/sample - loss: 0.3941 - mean_squared_error: 0.3941 - val_loss: 0.3977 - val_mean_squared_error: 0.3977\n",
            "Epoch 26/200\n",
            "129360/129360 [==============================] - 33s 257us/sample - loss: 0.3901 - mean_squared_error: 0.3901 - val_loss: 0.3940 - val_mean_squared_error: 0.3940\n",
            "Epoch 27/200\n",
            "129360/129360 [==============================] - 34s 259us/sample - loss: 0.3864 - mean_squared_error: 0.3864 - val_loss: 0.3904 - val_mean_squared_error: 0.3904\n",
            "Epoch 28/200\n",
            "129360/129360 [==============================] - 34s 261us/sample - loss: 0.3829 - mean_squared_error: 0.3829 - val_loss: 0.3871 - val_mean_squared_error: 0.3871\n",
            "Epoch 29/200\n",
            "129360/129360 [==============================] - 34s 265us/sample - loss: 0.3797 - mean_squared_error: 0.3797 - val_loss: 0.3841 - val_mean_squared_error: 0.3841\n",
            "Epoch 30/200\n",
            "129360/129360 [==============================] - 34s 263us/sample - loss: 0.3766 - mean_squared_error: 0.3766 - val_loss: 0.3811 - val_mean_squared_error: 0.3811\n",
            "Epoch 31/200\n",
            "129360/129360 [==============================] - 34s 262us/sample - loss: 0.3738 - mean_squared_error: 0.3738 - val_loss: 0.3785 - val_mean_squared_error: 0.3785\n",
            "Epoch 32/200\n",
            "129360/129360 [==============================] - 34s 263us/sample - loss: 0.3711 - mean_squared_error: 0.3711 - val_loss: 0.3759 - val_mean_squared_error: 0.3759\n",
            "Epoch 33/200\n",
            "129360/129360 [==============================] - 34s 262us/sample - loss: 0.3686 - mean_squared_error: 0.3686 - val_loss: 0.3735 - val_mean_squared_error: 0.3735\n",
            "Epoch 34/200\n",
            "129360/129360 [==============================] - 34s 266us/sample - loss: 0.3663 - mean_squared_error: 0.3663 - val_loss: 0.3713 - val_mean_squared_error: 0.3713\n",
            "Epoch 35/200\n",
            "129360/129360 [==============================] - 35s 267us/sample - loss: 0.3640 - mean_squared_error: 0.3640 - val_loss: 0.3691 - val_mean_squared_error: 0.3691\n",
            "Epoch 36/200\n",
            "129360/129360 [==============================] - 35s 267us/sample - loss: 0.3619 - mean_squared_error: 0.3619 - val_loss: 0.3671 - val_mean_squared_error: 0.3671\n",
            "Epoch 37/200\n",
            "129360/129360 [==============================] - 35s 269us/sample - loss: 0.3599 - mean_squared_error: 0.3599 - val_loss: 0.3652 - val_mean_squared_error: 0.3652\n",
            "Epoch 38/200\n",
            "129360/129360 [==============================] - 35s 269us/sample - loss: 0.3581 - mean_squared_error: 0.3581 - val_loss: 0.3633 - val_mean_squared_error: 0.3633\n",
            "Epoch 39/200\n",
            "129360/129360 [==============================] - 35s 268us/sample - loss: 0.3563 - mean_squared_error: 0.3563 - val_loss: 0.3616 - val_mean_squared_error: 0.3616\n",
            "Epoch 40/200\n",
            "129360/129360 [==============================] - 35s 269us/sample - loss: 0.3546 - mean_squared_error: 0.3546 - val_loss: 0.3600 - val_mean_squared_error: 0.3600\n",
            "Epoch 41/200\n",
            "129360/129360 [==============================] - 35s 269us/sample - loss: 0.3530 - mean_squared_error: 0.3530 - val_loss: 0.3584 - val_mean_squared_error: 0.3584\n",
            "Epoch 42/200\n",
            "129360/129360 [==============================] - 35s 269us/sample - loss: 0.3514 - mean_squared_error: 0.3514 - val_loss: 0.3569 - val_mean_squared_error: 0.3569\n",
            "Epoch 43/200\n",
            "129360/129360 [==============================] - 35s 271us/sample - loss: 0.3499 - mean_squared_error: 0.3499 - val_loss: 0.3555 - val_mean_squared_error: 0.3555\n",
            "Epoch 44/200\n",
            "129360/129360 [==============================] - 35s 271us/sample - loss: 0.3485 - mean_squared_error: 0.3485 - val_loss: 0.3542 - val_mean_squared_error: 0.3542\n",
            "Epoch 45/200\n",
            "129360/129360 [==============================] - 35s 269us/sample - loss: 0.3472 - mean_squared_error: 0.3472 - val_loss: 0.3528 - val_mean_squared_error: 0.3528\n",
            "Epoch 46/200\n",
            "129360/129360 [==============================] - 35s 269us/sample - loss: 0.3459 - mean_squared_error: 0.3459 - val_loss: 0.3516 - val_mean_squared_error: 0.3516\n",
            "Epoch 47/200\n",
            "129360/129360 [==============================] - 35s 269us/sample - loss: 0.3447 - mean_squared_error: 0.3447 - val_loss: 0.3504 - val_mean_squared_error: 0.3504\n",
            "Epoch 48/200\n",
            "129360/129360 [==============================] - 35s 267us/sample - loss: 0.3435 - mean_squared_error: 0.3435 - val_loss: 0.3492 - val_mean_squared_error: 0.3492\n",
            "Epoch 49/200\n",
            "129360/129360 [==============================] - 34s 263us/sample - loss: 0.3423 - mean_squared_error: 0.3423 - val_loss: 0.3481 - val_mean_squared_error: 0.3481\n",
            "Epoch 50/200\n",
            "129360/129360 [==============================] - 34s 264us/sample - loss: 0.3412 - mean_squared_error: 0.3412 - val_loss: 0.3470 - val_mean_squared_error: 0.3470\n",
            "Epoch 51/200\n",
            "129360/129360 [==============================] - 34s 263us/sample - loss: 0.3402 - mean_squared_error: 0.3402 - val_loss: 0.3460 - val_mean_squared_error: 0.3460\n",
            "Epoch 52/200\n",
            "129360/129360 [==============================] - 34s 262us/sample - loss: 0.3392 - mean_squared_error: 0.3392 - val_loss: 0.3451 - val_mean_squared_error: 0.3451\n",
            "Epoch 53/200\n",
            "129360/129360 [==============================] - 34s 260us/sample - loss: 0.3382 - mean_squared_error: 0.3382 - val_loss: 0.3441 - val_mean_squared_error: 0.3441\n",
            "Epoch 54/200\n",
            "129360/129360 [==============================] - 34s 261us/sample - loss: 0.3373 - mean_squared_error: 0.3373 - val_loss: 0.3432 - val_mean_squared_error: 0.3432\n",
            "Epoch 55/200\n",
            "129360/129360 [==============================] - 34s 261us/sample - loss: 0.3364 - mean_squared_error: 0.3364 - val_loss: 0.3423 - val_mean_squared_error: 0.3423\n",
            "Epoch 56/200\n",
            "129360/129360 [==============================] - 34s 262us/sample - loss: 0.3355 - mean_squared_error: 0.3355 - val_loss: 0.3415 - val_mean_squared_error: 0.3415\n",
            "Epoch 57/200\n",
            "129360/129360 [==============================] - 34s 260us/sample - loss: 0.3347 - mean_squared_error: 0.3347 - val_loss: 0.3407 - val_mean_squared_error: 0.3407\n",
            "Epoch 58/200\n",
            "129360/129360 [==============================] - 34s 260us/sample - loss: 0.3339 - mean_squared_error: 0.3339 - val_loss: 0.3399 - val_mean_squared_error: 0.3399\n",
            "Epoch 59/200\n",
            "129360/129360 [==============================] - 33s 259us/sample - loss: 0.3331 - mean_squared_error: 0.3331 - val_loss: 0.3391 - val_mean_squared_error: 0.3391\n",
            "Epoch 60/200\n",
            "129360/129360 [==============================] - 34s 260us/sample - loss: 0.3324 - mean_squared_error: 0.3324 - val_loss: 0.3384 - val_mean_squared_error: 0.3384\n",
            "Epoch 61/200\n",
            "129360/129360 [==============================] - 34s 259us/sample - loss: 0.3316 - mean_squared_error: 0.3316 - val_loss: 0.3377 - val_mean_squared_error: 0.3377\n",
            "Epoch 62/200\n",
            "129360/129360 [==============================] - 34s 260us/sample - loss: 0.3309 - mean_squared_error: 0.3309 - val_loss: 0.3370 - val_mean_squared_error: 0.3370\n",
            "Epoch 63/200\n",
            "129360/129360 [==============================] - 34s 259us/sample - loss: 0.3302 - mean_squared_error: 0.3302 - val_loss: 0.3364 - val_mean_squared_error: 0.3364\n",
            "Epoch 64/200\n",
            "129360/129360 [==============================] - 33s 259us/sample - loss: 0.3296 - mean_squared_error: 0.3296 - val_loss: 0.3359 - val_mean_squared_error: 0.3359\n",
            "Epoch 65/200\n",
            "129360/129360 [==============================] - 34s 260us/sample - loss: 0.3290 - mean_squared_error: 0.3290 - val_loss: 0.3351 - val_mean_squared_error: 0.3351\n",
            "Epoch 66/200\n",
            "129360/129360 [==============================] - 34s 260us/sample - loss: 0.3283 - mean_squared_error: 0.3283 - val_loss: 0.3345 - val_mean_squared_error: 0.3345\n",
            "Epoch 67/200\n",
            "129360/129360 [==============================] - 34s 260us/sample - loss: 0.3277 - mean_squared_error: 0.3277 - val_loss: 0.3340 - val_mean_squared_error: 0.3340\n",
            "Epoch 68/200\n",
            "129360/129360 [==============================] - 34s 259us/sample - loss: 0.3271 - mean_squared_error: 0.3271 - val_loss: 0.3333 - val_mean_squared_error: 0.3333\n",
            "Epoch 69/200\n",
            "129360/129360 [==============================] - 34s 260us/sample - loss: 0.3265 - mean_squared_error: 0.3265 - val_loss: 0.3329 - val_mean_squared_error: 0.3329\n",
            "Epoch 70/200\n",
            "129360/129360 [==============================] - 34s 259us/sample - loss: 0.3260 - mean_squared_error: 0.3260 - val_loss: 0.3323 - val_mean_squared_error: 0.3323\n",
            "Epoch 71/200\n",
            "129360/129360 [==============================] - 33s 258us/sample - loss: 0.3254 - mean_squared_error: 0.3254 - val_loss: 0.3318 - val_mean_squared_error: 0.3318\n",
            "Epoch 72/200\n",
            "129360/129360 [==============================] - 33s 258us/sample - loss: 0.3249 - mean_squared_error: 0.3249 - val_loss: 0.3313 - val_mean_squared_error: 0.3313\n",
            "Epoch 73/200\n",
            "129360/129360 [==============================] - 33s 258us/sample - loss: 0.3244 - mean_squared_error: 0.3244 - val_loss: 0.3308 - val_mean_squared_error: 0.3308\n",
            "Epoch 74/200\n",
            "129360/129360 [==============================] - 34s 260us/sample - loss: 0.3239 - mean_squared_error: 0.3239 - val_loss: 0.3303 - val_mean_squared_error: 0.3303\n",
            "Epoch 75/200\n",
            "129360/129360 [==============================] - 34s 261us/sample - loss: 0.3234 - mean_squared_error: 0.3234 - val_loss: 0.3299 - val_mean_squared_error: 0.3299\n",
            "Epoch 76/200\n",
            "129360/129360 [==============================] - 33s 259us/sample - loss: 0.3229 - mean_squared_error: 0.3229 - val_loss: 0.3294 - val_mean_squared_error: 0.3294\n",
            "Epoch 77/200\n",
            "129360/129360 [==============================] - 33s 259us/sample - loss: 0.3225 - mean_squared_error: 0.3225 - val_loss: 0.3290 - val_mean_squared_error: 0.3290\n",
            "Epoch 78/200\n",
            "129360/129360 [==============================] - 33s 258us/sample - loss: 0.3220 - mean_squared_error: 0.3220 - val_loss: 0.3285 - val_mean_squared_error: 0.3285\n",
            "Epoch 79/200\n",
            "129360/129360 [==============================] - 34s 260us/sample - loss: 0.3216 - mean_squared_error: 0.3216 - val_loss: 0.3281 - val_mean_squared_error: 0.3281\n",
            "Epoch 80/200\n",
            "129360/129360 [==============================] - 34s 259us/sample - loss: 0.3212 - mean_squared_error: 0.3212 - val_loss: 0.3278 - val_mean_squared_error: 0.3278\n",
            "Epoch 81/200\n",
            "129360/129360 [==============================] - 33s 258us/sample - loss: 0.3207 - mean_squared_error: 0.3207 - val_loss: 0.3272 - val_mean_squared_error: 0.3272\n",
            "Epoch 82/200\n",
            "129360/129360 [==============================] - 33s 257us/sample - loss: 0.3203 - mean_squared_error: 0.3203 - val_loss: 0.3270 - val_mean_squared_error: 0.3270\n",
            "Epoch 83/200\n",
            "129360/129360 [==============================] - 33s 259us/sample - loss: 0.3199 - mean_squared_error: 0.3199 - val_loss: 0.3265 - val_mean_squared_error: 0.3265\n",
            "Epoch 84/200\n",
            "129360/129360 [==============================] - 33s 259us/sample - loss: 0.3195 - mean_squared_error: 0.3195 - val_loss: 0.3262 - val_mean_squared_error: 0.3262\n",
            "Epoch 85/200\n",
            "129360/129360 [==============================] - 33s 258us/sample - loss: 0.3192 - mean_squared_error: 0.3192 - val_loss: 0.3258 - val_mean_squared_error: 0.3258\n",
            "Epoch 86/200\n",
            "129360/129360 [==============================] - 33s 258us/sample - loss: 0.3188 - mean_squared_error: 0.3188 - val_loss: 0.3256 - val_mean_squared_error: 0.3256\n",
            "Epoch 87/200\n",
            "129360/129360 [==============================] - 33s 258us/sample - loss: 0.3184 - mean_squared_error: 0.3184 - val_loss: 0.3252 - val_mean_squared_error: 0.3252\n",
            "Epoch 88/200\n",
            "129360/129360 [==============================] - 33s 258us/sample - loss: 0.3181 - mean_squared_error: 0.3181 - val_loss: 0.3249 - val_mean_squared_error: 0.3249\n",
            "Epoch 89/200\n",
            "129360/129360 [==============================] - 34s 261us/sample - loss: 0.3177 - mean_squared_error: 0.3177 - val_loss: 0.3246 - val_mean_squared_error: 0.3246\n",
            "Epoch 90/200\n",
            "129360/129360 [==============================] - 34s 263us/sample - loss: 0.3174 - mean_squared_error: 0.3174 - val_loss: 0.3243 - val_mean_squared_error: 0.3243\n",
            "Epoch 91/200\n",
            "129360/129360 [==============================] - 34s 263us/sample - loss: 0.3171 - mean_squared_error: 0.3171 - val_loss: 0.3240 - val_mean_squared_error: 0.3240\n",
            "Epoch 92/200\n",
            "129360/129360 [==============================] - 34s 260us/sample - loss: 0.3168 - mean_squared_error: 0.3168 - val_loss: 0.3236 - val_mean_squared_error: 0.3236\n",
            "Epoch 93/200\n",
            "129360/129360 [==============================] - 34s 263us/sample - loss: 0.3165 - mean_squared_error: 0.3165 - val_loss: 0.3234 - val_mean_squared_error: 0.3234\n",
            "Epoch 94/200\n",
            "129360/129360 [==============================] - 34s 262us/sample - loss: 0.3161 - mean_squared_error: 0.3161 - val_loss: 0.3230 - val_mean_squared_error: 0.3230\n",
            "Epoch 95/200\n",
            "129360/129360 [==============================] - 34s 261us/sample - loss: 0.3159 - mean_squared_error: 0.3159 - val_loss: 0.3228 - val_mean_squared_error: 0.3228\n",
            "Epoch 96/200\n",
            "129360/129360 [==============================] - 34s 262us/sample - loss: 0.3156 - mean_squared_error: 0.3156 - val_loss: 0.3225 - val_mean_squared_error: 0.3225\n",
            "Epoch 97/200\n",
            "129360/129360 [==============================] - 34s 263us/sample - loss: 0.3153 - mean_squared_error: 0.3153 - val_loss: 0.3223 - val_mean_squared_error: 0.3223\n",
            "Epoch 98/200\n",
            "129360/129360 [==============================] - 34s 263us/sample - loss: 0.3150 - mean_squared_error: 0.3150 - val_loss: 0.3220 - val_mean_squared_error: 0.3220\n",
            "Epoch 99/200\n",
            "129360/129360 [==============================] - 34s 263us/sample - loss: 0.3147 - mean_squared_error: 0.3147 - val_loss: 0.3220 - val_mean_squared_error: 0.3220\n",
            "Epoch 100/200\n",
            "129360/129360 [==============================] - 34s 261us/sample - loss: 0.3145 - mean_squared_error: 0.3145 - val_loss: 0.3215 - val_mean_squared_error: 0.3215\n",
            "Epoch 101/200\n",
            "129360/129360 [==============================] - 34s 264us/sample - loss: 0.3142 - mean_squared_error: 0.3142 - val_loss: 0.3212 - val_mean_squared_error: 0.3212\n",
            "Epoch 102/200\n",
            "129360/129360 [==============================] - 34s 264us/sample - loss: 0.3139 - mean_squared_error: 0.3139 - val_loss: 0.3210 - val_mean_squared_error: 0.3210\n",
            "Epoch 103/200\n",
            "129360/129360 [==============================] - 34s 262us/sample - loss: 0.3137 - mean_squared_error: 0.3137 - val_loss: 0.3207 - val_mean_squared_error: 0.3207\n",
            "Epoch 104/200\n",
            "129360/129360 [==============================] - 34s 261us/sample - loss: 0.3134 - mean_squared_error: 0.3134 - val_loss: 0.3205 - val_mean_squared_error: 0.3205\n",
            "Epoch 105/200\n",
            "129360/129360 [==============================] - 34s 263us/sample - loss: 0.3132 - mean_squared_error: 0.3132 - val_loss: 0.3203 - val_mean_squared_error: 0.3203\n",
            "Epoch 106/200\n",
            "129360/129360 [==============================] - 34s 262us/sample - loss: 0.3130 - mean_squared_error: 0.3130 - val_loss: 0.3201 - val_mean_squared_error: 0.3201\n",
            "Epoch 107/200\n",
            "129360/129360 [==============================] - 34s 260us/sample - loss: 0.3127 - mean_squared_error: 0.3127 - val_loss: 0.3199 - val_mean_squared_error: 0.3199\n",
            "Epoch 108/200\n",
            "129360/129360 [==============================] - 34s 260us/sample - loss: 0.3125 - mean_squared_error: 0.3125 - val_loss: 0.3198 - val_mean_squared_error: 0.3198\n",
            "Epoch 109/200\n",
            "129360/129360 [==============================] - 33s 258us/sample - loss: 0.3123 - mean_squared_error: 0.3123 - val_loss: 0.3194 - val_mean_squared_error: 0.3194\n",
            "Epoch 110/200\n",
            "129360/129360 [==============================] - 33s 259us/sample - loss: 0.3121 - mean_squared_error: 0.3121 - val_loss: 0.3194 - val_mean_squared_error: 0.3194\n",
            "Epoch 111/200\n",
            "129360/129360 [==============================] - 33s 257us/sample - loss: 0.3119 - mean_squared_error: 0.3119 - val_loss: 0.3191 - val_mean_squared_error: 0.3191\n",
            "Epoch 112/200\n",
            "129360/129360 [==============================] - 34s 259us/sample - loss: 0.3116 - mean_squared_error: 0.3116 - val_loss: 0.3189 - val_mean_squared_error: 0.3189\n",
            "Epoch 113/200\n",
            "129360/129360 [==============================] - 33s 259us/sample - loss: 0.3114 - mean_squared_error: 0.3114 - val_loss: 0.3187 - val_mean_squared_error: 0.3187\n",
            "Epoch 114/200\n",
            "129360/129360 [==============================] - 33s 258us/sample - loss: 0.3112 - mean_squared_error: 0.3112 - val_loss: 0.3185 - val_mean_squared_error: 0.3185\n",
            "Epoch 115/200\n",
            "129360/129360 [==============================] - 33s 258us/sample - loss: 0.3110 - mean_squared_error: 0.3110 - val_loss: 0.3185 - val_mean_squared_error: 0.3185\n",
            "Epoch 116/200\n",
            "129360/129360 [==============================] - 33s 258us/sample - loss: 0.3108 - mean_squared_error: 0.3108 - val_loss: 0.3181 - val_mean_squared_error: 0.3181\n",
            "Epoch 117/200\n",
            "129360/129360 [==============================] - 34s 260us/sample - loss: 0.3106 - mean_squared_error: 0.3106 - val_loss: 0.3180 - val_mean_squared_error: 0.3180\n",
            "Epoch 118/200\n",
            "129360/129360 [==============================] - 34s 260us/sample - loss: 0.3104 - mean_squared_error: 0.3104 - val_loss: 0.3180 - val_mean_squared_error: 0.3180\n",
            "Epoch 119/200\n",
            "129360/129360 [==============================] - 34s 259us/sample - loss: 0.3103 - mean_squared_error: 0.3103 - val_loss: 0.3177 - val_mean_squared_error: 0.3177\n",
            "Epoch 120/200\n",
            "129360/129360 [==============================] - 33s 259us/sample - loss: 0.3101 - mean_squared_error: 0.3101 - val_loss: 0.3175 - val_mean_squared_error: 0.3175\n",
            "Epoch 121/200\n",
            "129360/129360 [==============================] - 34s 262us/sample - loss: 0.3099 - mean_squared_error: 0.3099 - val_loss: 0.3173 - val_mean_squared_error: 0.3173\n",
            "Epoch 122/200\n",
            "129360/129360 [==============================] - 34s 260us/sample - loss: 0.3097 - mean_squared_error: 0.3097 - val_loss: 0.3173 - val_mean_squared_error: 0.3173\n",
            "Epoch 123/200\n",
            "129360/129360 [==============================] - 34s 259us/sample - loss: 0.3095 - mean_squared_error: 0.3095 - val_loss: 0.3170 - val_mean_squared_error: 0.3170\n",
            "Epoch 124/200\n",
            "129360/129360 [==============================] - 34s 259us/sample - loss: 0.3094 - mean_squared_error: 0.3094 - val_loss: 0.3173 - val_mean_squared_error: 0.3173\n",
            "Epoch 125/200\n",
            "129360/129360 [==============================] - 33s 258us/sample - loss: 0.3092 - mean_squared_error: 0.3092 - val_loss: 0.3168 - val_mean_squared_error: 0.3168\n",
            "Epoch 126/200\n",
            "129360/129360 [==============================] - 34s 259us/sample - loss: 0.3090 - mean_squared_error: 0.3090 - val_loss: 0.3166 - val_mean_squared_error: 0.3166\n",
            "Epoch 127/200\n",
            "129360/129360 [==============================] - 34s 259us/sample - loss: 0.3089 - mean_squared_error: 0.3089 - val_loss: 0.3165 - val_mean_squared_error: 0.3165\n",
            "Epoch 128/200\n",
            "129360/129360 [==============================] - 34s 259us/sample - loss: 0.3087 - mean_squared_error: 0.3087 - val_loss: 0.3163 - val_mean_squared_error: 0.3163\n",
            "Epoch 129/200\n",
            "129360/129360 [==============================] - 33s 258us/sample - loss: 0.3086 - mean_squared_error: 0.3086 - val_loss: 0.3160 - val_mean_squared_error: 0.3160\n",
            "Epoch 130/200\n",
            "129360/129360 [==============================] - 34s 260us/sample - loss: 0.3084 - mean_squared_error: 0.3084 - val_loss: 0.3160 - val_mean_squared_error: 0.3160\n",
            "Epoch 131/200\n",
            "129360/129360 [==============================] - 33s 258us/sample - loss: 0.3082 - mean_squared_error: 0.3082 - val_loss: 0.3158 - val_mean_squared_error: 0.3158\n",
            "Epoch 132/200\n",
            "129360/129360 [==============================] - 33s 257us/sample - loss: 0.3081 - mean_squared_error: 0.3081 - val_loss: 0.3157 - val_mean_squared_error: 0.3157\n",
            "Epoch 133/200\n",
            "129360/129360 [==============================] - 33s 254us/sample - loss: 0.3080 - mean_squared_error: 0.3080 - val_loss: 0.3156 - val_mean_squared_error: 0.3156\n",
            "Epoch 134/200\n",
            "129360/129360 [==============================] - 33s 254us/sample - loss: 0.3078 - mean_squared_error: 0.3078 - val_loss: 0.3155 - val_mean_squared_error: 0.3155\n",
            "Epoch 135/200\n",
            "129360/129360 [==============================] - 33s 254us/sample - loss: 0.3077 - mean_squared_error: 0.3077 - val_loss: 0.3154 - val_mean_squared_error: 0.3154\n",
            "Epoch 136/200\n",
            "129360/129360 [==============================] - 33s 254us/sample - loss: 0.3075 - mean_squared_error: 0.3075 - val_loss: 0.3151 - val_mean_squared_error: 0.3151\n",
            "Epoch 137/200\n",
            "129360/129360 [==============================] - 33s 254us/sample - loss: 0.3074 - mean_squared_error: 0.3074 - val_loss: 0.3151 - val_mean_squared_error: 0.3151\n",
            "Epoch 138/200\n",
            "129360/129360 [==============================] - 33s 252us/sample - loss: 0.3072 - mean_squared_error: 0.3072 - val_loss: 0.3158 - val_mean_squared_error: 0.3158\n",
            "Epoch 139/200\n",
            "129360/129360 [==============================] - 33s 256us/sample - loss: 0.3071 - mean_squared_error: 0.3071 - val_loss: 0.3148 - val_mean_squared_error: 0.3148\n",
            "Epoch 140/200\n",
            "129360/129360 [==============================] - 33s 255us/sample - loss: 0.3069 - mean_squared_error: 0.3069 - val_loss: 0.3147 - val_mean_squared_error: 0.3147\n",
            "Epoch 141/200\n",
            "129360/129360 [==============================] - 33s 259us/sample - loss: 0.3068 - mean_squared_error: 0.3068 - val_loss: 0.3146 - val_mean_squared_error: 0.3146\n",
            "Epoch 142/200\n",
            "129360/129360 [==============================] - 34s 260us/sample - loss: 0.3067 - mean_squared_error: 0.3067 - val_loss: 0.3145 - val_mean_squared_error: 0.3145\n",
            "Epoch 143/200\n",
            "129360/129360 [==============================] - 34s 260us/sample - loss: 0.3065 - mean_squared_error: 0.3065 - val_loss: 0.3146 - val_mean_squared_error: 0.3146\n",
            "Epoch 144/200\n",
            "129360/129360 [==============================] - 34s 261us/sample - loss: 0.3064 - mean_squared_error: 0.3064 - val_loss: 0.3142 - val_mean_squared_error: 0.3142\n",
            "Epoch 145/200\n",
            "129360/129360 [==============================] - 34s 261us/sample - loss: 0.3063 - mean_squared_error: 0.3063 - val_loss: 0.3140 - val_mean_squared_error: 0.3140\n",
            "Epoch 146/200\n",
            "129360/129360 [==============================] - 34s 263us/sample - loss: 0.3062 - mean_squared_error: 0.3062 - val_loss: 0.3140 - val_mean_squared_error: 0.3140\n",
            "Epoch 147/200\n",
            "129360/129360 [==============================] - 35s 271us/sample - loss: 0.3060 - mean_squared_error: 0.3060 - val_loss: 0.3138 - val_mean_squared_error: 0.3138\n",
            "Epoch 148/200\n",
            "129360/129360 [==============================] - 36s 277us/sample - loss: 0.3059 - mean_squared_error: 0.3059 - val_loss: 0.3138 - val_mean_squared_error: 0.3138\n",
            "Epoch 149/200\n",
            "129360/129360 [==============================] - 37s 283us/sample - loss: 0.3058 - mean_squared_error: 0.3058 - val_loss: 0.3138 - val_mean_squared_error: 0.3138\n",
            "Epoch 150/200\n",
            "129360/129360 [==============================] - 36s 279us/sample - loss: 0.3057 - mean_squared_error: 0.3057 - val_loss: 0.3136 - val_mean_squared_error: 0.3136\n",
            "Epoch 151/200\n",
            "129360/129360 [==============================] - 36s 276us/sample - loss: 0.3056 - mean_squared_error: 0.3056 - val_loss: 0.3137 - val_mean_squared_error: 0.3137\n",
            "Epoch 152/200\n",
            "129360/129360 [==============================] - 35s 274us/sample - loss: 0.3054 - mean_squared_error: 0.3054 - val_loss: 0.3134 - val_mean_squared_error: 0.3134\n",
            "Epoch 153/200\n",
            "129360/129360 [==============================] - 35s 274us/sample - loss: 0.3053 - mean_squared_error: 0.3053 - val_loss: 0.3132 - val_mean_squared_error: 0.3132\n",
            "Epoch 154/200\n",
            "129360/129360 [==============================] - 35s 272us/sample - loss: 0.3052 - mean_squared_error: 0.3052 - val_loss: 0.3132 - val_mean_squared_error: 0.3132\n",
            "Epoch 155/200\n",
            "129360/129360 [==============================] - 36s 274us/sample - loss: 0.3051 - mean_squared_error: 0.3051 - val_loss: 0.3130 - val_mean_squared_error: 0.3130\n",
            "Epoch 156/200\n",
            "129360/129360 [==============================] - 36s 275us/sample - loss: 0.3050 - mean_squared_error: 0.3050 - val_loss: 0.3130 - val_mean_squared_error: 0.3130\n",
            "Epoch 157/200\n",
            "129360/129360 [==============================] - 35s 271us/sample - loss: 0.3049 - mean_squared_error: 0.3049 - val_loss: 0.3128 - val_mean_squared_error: 0.3128\n",
            "Epoch 158/200\n",
            "129360/129360 [==============================] - 34s 265us/sample - loss: 0.3047 - mean_squared_error: 0.3047 - val_loss: 0.3128 - val_mean_squared_error: 0.3128\n",
            "Epoch 159/200\n",
            "129360/129360 [==============================] - 34s 260us/sample - loss: 0.3046 - mean_squared_error: 0.3046 - val_loss: 0.3126 - val_mean_squared_error: 0.3126\n",
            "Epoch 160/200\n",
            "129360/129360 [==============================] - 34s 259us/sample - loss: 0.3045 - mean_squared_error: 0.3045 - val_loss: 0.3131 - val_mean_squared_error: 0.3131\n",
            "Epoch 161/200\n",
            "129360/129360 [==============================] - 33s 255us/sample - loss: 0.3044 - mean_squared_error: 0.3044 - val_loss: 0.3130 - val_mean_squared_error: 0.3130\n",
            "Epoch 162/200\n",
            "129360/129360 [==============================] - 33s 255us/sample - loss: 0.3043 - mean_squared_error: 0.3043 - val_loss: 0.3125 - val_mean_squared_error: 0.3125\n",
            "Epoch 163/200\n",
            "129360/129360 [==============================] - 33s 254us/sample - loss: 0.3042 - mean_squared_error: 0.3042 - val_loss: 0.3123 - val_mean_squared_error: 0.3123\n",
            "Epoch 164/200\n",
            "129360/129360 [==============================] - 33s 255us/sample - loss: 0.3041 - mean_squared_error: 0.3041 - val_loss: 0.3122 - val_mean_squared_error: 0.3122\n",
            "Epoch 165/200\n",
            "129360/129360 [==============================] - 33s 256us/sample - loss: 0.3040 - mean_squared_error: 0.3040 - val_loss: 0.3120 - val_mean_squared_error: 0.3120\n",
            "Epoch 166/200\n",
            "129360/129360 [==============================] - 33s 254us/sample - loss: 0.3039 - mean_squared_error: 0.3039 - val_loss: 0.3120 - val_mean_squared_error: 0.3120\n",
            "Epoch 167/200\n",
            "129360/129360 [==============================] - 33s 257us/sample - loss: 0.3038 - mean_squared_error: 0.3038 - val_loss: 0.3117 - val_mean_squared_error: 0.3117\n",
            "Epoch 168/200\n",
            "129360/129360 [==============================] - 33s 255us/sample - loss: 0.3037 - mean_squared_error: 0.3037 - val_loss: 0.3119 - val_mean_squared_error: 0.3119\n",
            "Epoch 169/200\n",
            "129360/129360 [==============================] - 33s 258us/sample - loss: 0.3036 - mean_squared_error: 0.3036 - val_loss: 0.3117 - val_mean_squared_error: 0.3117\n",
            "Epoch 170/200\n",
            "129360/129360 [==============================] - 34s 264us/sample - loss: 0.3035 - mean_squared_error: 0.3035 - val_loss: 0.3116 - val_mean_squared_error: 0.3116\n",
            "Epoch 171/200\n",
            "129360/129360 [==============================] - 35s 268us/sample - loss: 0.3034 - mean_squared_error: 0.3034 - val_loss: 0.3124 - val_mean_squared_error: 0.3124\n",
            "Epoch 172/200\n",
            "129360/129360 [==============================] - 34s 261us/sample - loss: 0.3033 - mean_squared_error: 0.3033 - val_loss: 0.3120 - val_mean_squared_error: 0.3120\n",
            "Epoch 173/200\n",
            "129360/129360 [==============================] - 34s 259us/sample - loss: 0.3032 - mean_squared_error: 0.3032 - val_loss: 0.3116 - val_mean_squared_error: 0.3116\n",
            "Epoch 174/200\n",
            "129360/129360 [==============================] - 34s 260us/sample - loss: 0.3031 - mean_squared_error: 0.3031 - val_loss: 0.3112 - val_mean_squared_error: 0.3112\n",
            "Epoch 175/200\n",
            "129360/129360 [==============================] - 34s 260us/sample - loss: 0.3030 - mean_squared_error: 0.3030 - val_loss: 0.3113 - val_mean_squared_error: 0.3113\n",
            "Epoch 176/200\n",
            "129360/129360 [==============================] - 34s 261us/sample - loss: 0.3029 - mean_squared_error: 0.3029 - val_loss: 0.3115 - val_mean_squared_error: 0.3115\n",
            "Epoch 177/200\n",
            "129360/129360 [==============================] - 34s 260us/sample - loss: 0.3029 - mean_squared_error: 0.3029 - val_loss: 0.3113 - val_mean_squared_error: 0.3113\n",
            "Epoch 178/200\n",
            "129360/129360 [==============================] - 34s 259us/sample - loss: 0.3028 - mean_squared_error: 0.3028 - val_loss: 0.3114 - val_mean_squared_error: 0.3114\n",
            "Epoch 179/200\n",
            "129360/129360 [==============================] - 34s 261us/sample - loss: 0.3027 - mean_squared_error: 0.3027 - val_loss: 0.3110 - val_mean_squared_error: 0.3110\n",
            "Epoch 180/200\n",
            "129360/129360 [==============================] - 34s 261us/sample - loss: 0.3026 - mean_squared_error: 0.3026 - val_loss: 0.3106 - val_mean_squared_error: 0.3106\n",
            "Epoch 181/200\n",
            "129360/129360 [==============================] - 34s 261us/sample - loss: 0.3025 - mean_squared_error: 0.3025 - val_loss: 0.3106 - val_mean_squared_error: 0.3106\n",
            "Epoch 182/200\n",
            "129360/129360 [==============================] - 34s 262us/sample - loss: 0.3024 - mean_squared_error: 0.3024 - val_loss: 0.3109 - val_mean_squared_error: 0.3109\n",
            "Epoch 183/200\n",
            "129360/129360 [==============================] - 33s 258us/sample - loss: 0.3023 - mean_squared_error: 0.3023 - val_loss: 0.3108 - val_mean_squared_error: 0.3108\n",
            "Epoch 184/200\n",
            "129360/129360 [==============================] - 34s 261us/sample - loss: 0.3022 - mean_squared_error: 0.3022 - val_loss: 0.3103 - val_mean_squared_error: 0.3103\n",
            "Epoch 185/200\n",
            "129360/129360 [==============================] - 34s 260us/sample - loss: 0.3022 - mean_squared_error: 0.3022 - val_loss: 0.3113 - val_mean_squared_error: 0.3113\n",
            "Epoch 186/200\n",
            "129360/129360 [==============================] - 34s 262us/sample - loss: 0.3021 - mean_squared_error: 0.3021 - val_loss: 0.3105 - val_mean_squared_error: 0.3105\n",
            "Epoch 187/200\n",
            "129360/129360 [==============================] - 34s 262us/sample - loss: 0.3020 - mean_squared_error: 0.3020 - val_loss: 0.3106 - val_mean_squared_error: 0.3106\n",
            "Epoch 188/200\n",
            "129360/129360 [==============================] - 34s 263us/sample - loss: 0.3019 - mean_squared_error: 0.3019 - val_loss: 0.3103 - val_mean_squared_error: 0.3103\n",
            "Epoch 189/200\n",
            "129360/129360 [==============================] - 34s 264us/sample - loss: 0.3018 - mean_squared_error: 0.3018 - val_loss: 0.3103 - val_mean_squared_error: 0.3103\n",
            "Epoch 190/200\n",
            "129360/129360 [==============================] - 34s 263us/sample - loss: 0.3018 - mean_squared_error: 0.3018 - val_loss: 0.3101 - val_mean_squared_error: 0.3101\n",
            "Epoch 191/200\n",
            "129360/129360 [==============================] - 34s 264us/sample - loss: 0.3017 - mean_squared_error: 0.3017 - val_loss: 0.3100 - val_mean_squared_error: 0.3100\n",
            "Epoch 192/200\n",
            "129360/129360 [==============================] - 34s 263us/sample - loss: 0.3016 - mean_squared_error: 0.3016 - val_loss: 0.3098 - val_mean_squared_error: 0.3098\n",
            "Epoch 193/200\n",
            "129360/129360 [==============================] - 34s 265us/sample - loss: 0.3015 - mean_squared_error: 0.3015 - val_loss: 0.3097 - val_mean_squared_error: 0.3097\n",
            "Epoch 194/200\n",
            "129360/129360 [==============================] - 34s 263us/sample - loss: 0.3014 - mean_squared_error: 0.3014 - val_loss: 0.3100 - val_mean_squared_error: 0.3100\n",
            "Epoch 195/200\n",
            "129360/129360 [==============================] - 34s 263us/sample - loss: 0.3014 - mean_squared_error: 0.3014 - val_loss: 0.3095 - val_mean_squared_error: 0.3095\n",
            "Epoch 196/200\n",
            "129360/129360 [==============================] - 35s 272us/sample - loss: 0.3013 - mean_squared_error: 0.3013 - val_loss: 0.3097 - val_mean_squared_error: 0.3097\n",
            "Epoch 197/200\n",
            "129360/129360 [==============================] - 35s 271us/sample - loss: 0.3012 - mean_squared_error: 0.3012 - val_loss: 0.3096 - val_mean_squared_error: 0.3096\n",
            "Epoch 198/200\n",
            "129360/129360 [==============================] - 35s 273us/sample - loss: 0.3011 - mean_squared_error: 0.3011 - val_loss: 0.3095 - val_mean_squared_error: 0.3095\n",
            "Epoch 199/200\n",
            "129360/129360 [==============================] - 35s 272us/sample - loss: 0.3011 - mean_squared_error: 0.3011 - val_loss: 0.3094 - val_mean_squared_error: 0.3094\n",
            "Epoch 200/200\n",
            "129360/129360 [==============================] - 35s 272us/sample - loss: 0.3010 - mean_squared_error: 0.3010 - val_loss: 0.3092 - val_mean_squared_error: 0.3092\n"
          ],
          "name": "stdout"
        }
      ]
    },
    {
      "cell_type": "code",
      "metadata": {
        "id": "V10is7e7GOtf",
        "colab_type": "code",
        "outputId": "bfe396cd-564c-412f-ea94-ce80cc3f3bf7",
        "colab": {
          "base_uri": "https://localhost:8080/",
          "height": 34
        }
      },
      "source": [
        "predictions = model.predict(x_test, verbose  = 1)\n",
        "\n",
        "\n"
      ],
      "execution_count": 21,
      "outputs": [
        {
          "output_type": "stream",
          "text": [
            "15960/15960 [==============================] - 21s 1ms/sample\n"
          ],
          "name": "stdout"
        }
      ]
    },
    {
      "cell_type": "code",
      "metadata": {
        "id": "4y0-Bs6g_IQ8",
        "colab_type": "code",
        "colab": {}
      },
      "source": [
        "def compute_correlation(true, pred):\n",
        "    corr_coef = np.corrcoef(true, pred)[0, 1]\n",
        "    return corr_coef \n",
        "    "
      ],
      "execution_count": 0,
      "outputs": []
    },
    {
      "cell_type": "code",
      "metadata": {
        "id": "bp-14YbbXL1_",
        "colab_type": "code",
        "outputId": "8bb3aed6-a3ee-4505-add7-ca0a85ebb7e3",
        "colab": {
          "base_uri": "https://localhost:8080/",
          "height": 34
        }
      },
      "source": [
        "predictions.shape, y_test.shape"
      ],
      "execution_count": 23,
      "outputs": [
        {
          "output_type": "execute_result",
          "data": {
            "text/plain": [
              "((15960, 64), (15960, 64))"
            ]
          },
          "metadata": {
            "tags": []
          },
          "execution_count": 23
        }
      ]
    },
    {
      "cell_type": "code",
      "metadata": {
        "id": "7lOSkjCE_K7l",
        "colab_type": "code",
        "outputId": "e293d03c-f494-4dcc-ad8f-fade17cc1896",
        "colab": {
          "base_uri": "https://localhost:8080/",
          "height": 34
        }
      },
      "source": [
        "compute_correlation(y_test, predictions)"
      ],
      "execution_count": 24,
      "outputs": [
        {
          "output_type": "execute_result",
          "data": {
            "text/plain": [
              "0.7774253406510199"
            ]
          },
          "metadata": {
            "tags": []
          },
          "execution_count": 24
        }
      ]
    },
    {
      "cell_type": "code",
      "metadata": {
        "id": "qFap89N7r1nJ",
        "colab_type": "code",
        "colab": {}
      },
      "source": [
        "def list_correlation(electi, true, pred):\n",
        "    l = []\n",
        "    for i in range(true.shape[-1]):\n",
        "        l.append(compute_correlation(true[:, i], pred[:,i]))\n",
        "    return l"
      ],
      "execution_count": 0,
      "outputs": []
    },
    {
      "cell_type": "code",
      "metadata": {
        "id": "2zk1aXdzr8zD",
        "colab_type": "code",
        "colab": {}
      },
      "source": [
        "k = list_correlation(electi, y_test, predictions)"
      ],
      "execution_count": 0,
      "outputs": []
    },
    {
      "cell_type": "code",
      "metadata": {
        "id": "2nsC5T2uBjwu",
        "colab_type": "code",
        "outputId": "110a81b5-21ed-4588-9839-b6d5afdcdd33",
        "colab": {
          "base_uri": "https://localhost:8080/",
          "height": 1000
        }
      },
      "source": [
        "k"
      ],
      "execution_count": 27,
      "outputs": [
        {
          "output_type": "execute_result",
          "data": {
            "text/plain": [
              "[0.6342512791736576,\n",
              " 0.721923791206957,\n",
              " 0.6807324278449047,\n",
              " 0.8882211603040994,\n",
              " 0.8103091413856236,\n",
              " 0.743317954165881,\n",
              " 0.8520538290134588,\n",
              " 0.869992054985196,\n",
              " 0.8642312252238192,\n",
              " 0.6403473961374687,\n",
              " 0.9024445520603898,\n",
              " 0.9061129755990902,\n",
              " 0.8951967512844763,\n",
              " 0.8563098813937989,\n",
              " 0.7251747873530398,\n",
              " 0.7761173769426924,\n",
              " 0.8851409219493299,\n",
              " 0.9087505864623349,\n",
              " 0.9167145515547567,\n",
              " 0.9296491885845126,\n",
              " 0.5428525988179983,\n",
              " 0.9228324259966021,\n",
              " 0.8766375911685761,\n",
              " 0.8282636158005867,\n",
              " 0.8979420170234748,\n",
              " 0.9026086469402455,\n",
              " 0.8879417018518168,\n",
              " 0.5531286009068603,\n",
              " 0.8227767112237978,\n",
              " 0.9345275164080721,\n",
              " 0.9289857775391902,\n",
              " 0.8962341880002737,\n",
              " 0.6599908150172774,\n",
              " 0.5387073900809616,\n",
              " 0.5802244579095948,\n",
              " 0.5855503602469407,\n",
              " 0.8225248583510615,\n",
              " 0.8940536260492395,\n",
              " 0.8687986996820364,\n",
              " 0.8263412554569226,\n",
              " 0.6454352561698411,\n",
              " 0.839244199490511,\n",
              " 0.8163684638247306,\n",
              " 0.8564847895927492,\n",
              " 0.6631455774934604,\n",
              " 0.8948225713130452,\n",
              " 0.9119102752128176,\n",
              " 0.9073012233317523,\n",
              " 0.825843325957117,\n",
              " 0.8312186770758202,\n",
              " 0.8363513592037227,\n",
              " 0.6343831078516937,\n",
              " 0.7171340668105323,\n",
              " 0.876830052902285,\n",
              " 0.8949859034787976,\n",
              " 0.9213889323481802,\n",
              " 0.9089609556957301,\n",
              " 0.48503435142576423,\n",
              " 0.90068212444765,\n",
              " 0.8634546282516489,\n",
              " 0.8828695241851423,\n",
              " 0.8498331881927491,\n",
              " 0.9150333775269328,\n",
              " 0.8202103818207321]"
            ]
          },
          "metadata": {
            "tags": []
          },
          "execution_count": 27
        }
      ]
    },
    {
      "cell_type": "code",
      "metadata": {
        "id": "Bg-UwTfwBYDb",
        "colab_type": "code",
        "colab": {}
      },
      "source": [
        "def convert_to_csv():\n",
        "  frame = pd.DataFrame()"
      ],
      "execution_count": 0,
      "outputs": []
    },
    {
      "cell_type": "code",
      "metadata": {
        "id": "Uesq5EAX2ESF",
        "colab_type": "code",
        "colab": {}
      },
      "source": [
        "#Graphical Display to plot weights\n",
        "def plot_weights(weights, electi):\n",
        " \n",
        "        \n",
        "    T = np.arange(0, 0.00625*stim, 0.00625)                       # creation of the time variable (on 1s) for the abscissa\n",
        "    \n",
        "    nbr_elct = len(electi)\n",
        "    (Lo_W, la_W) = weights[0].shape\n",
        "    Lo_W = int(Lo_W)                                              # number of lines: inputs (160 * nbr_electrodes, for example)\n",
        "    la_W = int(la_W)                                              # number of columns: number of neurons in the layer\n",
        "    \n",
        "    z=0\n",
        "    while z < nbr_elct:                                           # for each electrode\n",
        "        z_1=0 \n",
        "        while z_1 < la_W:                                         # for each neuron of the W layer [1]\n",
        "            W_tmp = tf.slice(K.constant(weights[0]), [0, z_1], [Lo_W, 1])           # slice: starting value [line 0, column of the neuron], dimensions of the section [160 * nbr_electrodes lines, 1 column])\n",
        "            W_tmp = tf.slice(W_tmp, [z*stim, 0], [stim, 1])       # slice: starting value [first value of the new electrode, column 0], dimensions of the section [160 lines, 1 column]\n",
        "            print (W_tmp.shape)\n",
        "            \n",
        "            plt.plot(T, K.eval(W_tmp), label= (\"neurone_\", z_1, \"layer_1, electrode_\", electi[z]))\n",
        "            z_1 = z_1+1\n",
        "            \n",
        "        z = z+1\n",
        "        \n",
        "    plt.legend()    \n",
        "    plt.show()\n",
        "    "
      ],
      "execution_count": 0,
      "outputs": []
    },
    {
      "cell_type": "code",
      "metadata": {
        "id": "Q354AwSR2ESG",
        "colab_type": "code",
        "outputId": "5562dff6-fa66-4297-be99-c7cd3b5eb317",
        "colab": {}
      },
      "source": [
        "weights = np.array(model.get_weights()) #Convert the weights into np array\n",
        "\n",
        "plot_weights(weights, electi)            #Plot the weights of the model"
      ],
      "execution_count": 0,
      "outputs": [
        {
          "output_type": "stream",
          "text": [
            "(160, 1)\n"
          ],
          "name": "stdout"
        },
        {
          "output_type": "display_data",
          "data": {
            "image/png": "[encoded data removed]",
            "text/plain": [
              "<Figure size 432x288 with 1 Axes>"
            ]
          },
          "metadata": {
            "tags": [],
            "needs_background": "light"
          }
        }
      ]
    },
    {
      "cell_type": "code",
      "metadata": {
        "id": "9PbK-ywf2ESI",
        "colab_type": "code",
        "outputId": "90e8c1fb-5c97-488f-8e17-1ac32fe3a611",
        "colab": {}
      },
      "source": [
        "weights.shape"
      ],
      "execution_count": 0,
      "outputs": [
        {
          "output_type": "execute_result",
          "data": {
            "text/plain": [
              "(2,)"
            ]
          },
          "metadata": {
            "tags": []
          },
          "execution_count": 80
        }
      ]
    }
  ]
}