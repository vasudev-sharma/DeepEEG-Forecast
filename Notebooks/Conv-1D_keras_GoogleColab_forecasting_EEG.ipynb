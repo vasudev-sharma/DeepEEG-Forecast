{
  "nbformat": 4,
  "nbformat_minor": 0,
  "metadata": {
    "kernelspec": {
      "name": "python3",
      "display_name": "Python 3"
    },
    "language_info": {
      "codemirror_mode": {
        "name": "ipython",
        "version": 3
      },
      "file_extension": ".py",
      "mimetype": "text/x-python",
      "name": "python",
      "nbconvert_exporter": "python",
      "pygments_lexer": "ipython3",
      "version": "3.6.10"
    },
    "colab": {
      "name": "vanilla_RNN_keras_GoogleColab_forecasting_EEG.ipynb",
      "provenance": [],
      "collapsed_sections": [],
      "machine_shape": "hm",
      "include_colab_link": true
    },
    "accelerator": "GPU"
  },
  "cells": [
    {
      "cell_type": "markdown",
      "metadata": {
        "id": "view-in-github",
        "colab_type": "text"
      },
      "source": [
        "<a href=\"https://colab.research.google.com/github/vs74/EEG/blob/master/Notebooks/Conv-1D_keras_GoogleColab_forecasting_EEG.ipynb\" target=\"_parent\"><img src=\"https://colab.research.google.com/assets/colab-badge.svg\" alt=\"Open In Colab\"/></a>"
      ]
    },
    {
      "cell_type": "code",
      "metadata": {
        "id": "oe31xP1M2ERH",
        "colab_type": "code",
        "colab": {}
      },
      "source": [
        "import tensorflow as tf\n",
        "import numpy as np\n",
        "import matplotlib as mpl\n",
        "import matplotlib.pyplot as plt\n",
        "import scipy.io as sio\n",
        "rng = np.random\n",
        "from array import array\n",
        "from scipy import stats\n",
        "\n",
        "#Keras import \n",
        "import tensorflow.keras as K\n",
        "from tensorflow.keras.models import *\n",
        "from tensorflow.keras.layers import *\n",
        "\n",
        "from tensorflow.keras import optimizers\n",
        "from tensorflow.keras.callbacks import *\n",
        "\n",
        "#import models\n",
        "#from Linear_Regression import linear_regression \n",
        "\n",
        "#import datetime for tensorboard\n",
        "from datetime import *\n",
        "\n",
        "#Import for reading the MATLAB files\n",
        "import glob\n",
        "\n",
        "#Preprocessing using scikit learn \n",
        "from sklearn.preprocessing import MinMaxScaler"
      ],
      "execution_count": 0,
      "outputs": []
    },
    {
      "cell_type": "markdown",
      "metadata": {
        "id": "CPXzCxPa7NyR",
        "colab_type": "text"
      },
      "source": [
        ""
      ]
    },
    {
      "cell_type": "code",
      "metadata": {
        "id": "H2LXb49-UgzL",
        "colab_type": "code",
        "outputId": "3ac7dc68-b17c-4d9e-b327-6e72f44e31fc",
        "colab": {
          "base_uri": "https://localhost:8080/",
          "height": 34
        }
      },
      "source": [
        "from google.colab import drive\n",
        "drive.mount('/content/drive')"
      ],
      "execution_count": 154,
      "outputs": [
        {
          "output_type": "stream",
          "text": [
            "Drive already mounted at /content/drive; to attempt to forcibly remount, call drive.mount(\"/content/drive\", force_remount=True).\n"
          ],
          "name": "stdout"
        }
      ]
    },
    {
      "cell_type": "code",
      "metadata": {
        "id": "ODKGBJrd3dVf",
        "colab_type": "code",
        "colab": {}
      },
      "source": [
        "\n"
      ],
      "execution_count": 0,
      "outputs": []
    },
    {
      "cell_type": "code",
      "metadata": {
        "id": "CZFdU0DCUsy8",
        "colab_type": "code",
        "colab": {}
      },
      "source": [
        "#Copy the content from the drive folder to the root directory\n",
        "!cp /content/drive/My\\ Drive/EEG_data/1filtered.mat /content/"
      ],
      "execution_count": 0,
      "outputs": []
    },
    {
      "cell_type": "code",
      "metadata": {
        "id": "q6SHn7T55qdD",
        "colab_type": "code",
        "outputId": "47260936-76f0-400f-f524-87cf62737f6c",
        "colab": {
          "base_uri": "https://localhost:8080/",
          "height": 102
        }
      },
      "source": [
        "#Check the data is downloaded or not\n",
        "!ls"
      ],
      "execution_count": 156,
      "outputs": [
        {
          "output_type": "stream",
          "text": [
            "1filtered.mat\tngrok-stable-linux-amd64.zip\tngrok-stable-linux-amd64.zip.5\n",
            "drive\t\tngrok-stable-linux-amd64.zip.1\tngrok-stable-linux-amd64.zip.6\n",
            "logs\t\tngrok-stable-linux-amd64.zip.2\tngrok-stable-linux-amd64.zip.7\n",
            "model_plot.png\tngrok-stable-linux-amd64.zip.3\tngrok-stable-linux-amd64.zip.8\n",
            "ngrok\t\tngrok-stable-linux-amd64.zip.4\tsample_data\n"
          ],
          "name": "stdout"
        }
      ]
    },
    {
      "cell_type": "code",
      "metadata": {
        "id": "S8Vpq-qo5Yt6",
        "colab_type": "code",
        "outputId": "db94e596-d705-41e5-9c8b-7d1030d4e4cb",
        "colab": {
          "base_uri": "https://localhost:8080/",
          "height": 34
        }
      },
      "source": [
        "#Ensure Google COlab is utilising GPU \n",
        "tf.test.gpu_device_name()\n"
      ],
      "execution_count": 157,
      "outputs": [
        {
          "output_type": "execute_result",
          "data": {
            "text/plain": [
              "'/device:GPU:0'"
            ]
          },
          "metadata": {
            "tags": []
          },
          "execution_count": 157
        }
      ]
    },
    {
      "cell_type": "code",
      "metadata": {
        "id": "ySSRppr02ERN",
        "colab_type": "code",
        "outputId": "fd3431b9-facb-4550-c16a-f3e527f121e7",
        "colab": {
          "base_uri": "https://localhost:8080/",
          "height": 102
        }
      },
      "source": [
        "\n",
        "#Ensure that GPU memory utilisation is full\n",
        "# memory footprint support libraries/code\n",
        "!ln -sf /opt/bin/nvidia-smi /usr/bin/nvidia-smi\n",
        "!pip install gputil\n",
        "!pip install psutil\n",
        "!pip install humanize\n",
        "import psutil\n",
        "import humanize\n",
        "import os\n",
        "import GPUtil as GPU\n",
        "GPUs = GPU.getGPUs()\n",
        "# XXX: only one GPU on Colab and isn’t guaranteed\n",
        "gpu = GPUs[0]\n",
        "def printm():\n",
        " process = psutil.Process(os.getpid())\n",
        " print(\"Gen RAM Free: \" + humanize.naturalsize( psutil.virtual_memory().available ), \" | Proc size: \" + humanize.naturalsize( process.memory_info().rss))\n",
        " print(\"GPU RAM Free: {0:.0f}MB | Used: {1:.0f}MB | Util {2:3.0f}% | Total {3:.0f}MB\".format(gpu.memoryFree, gpu.memoryUsed, gpu.memoryUtil*100, gpu.memoryTotal))\n",
        "printm() "
      ],
      "execution_count": 158,
      "outputs": [
        {
          "output_type": "stream",
          "text": [
            "Requirement already satisfied: gputil in /usr/local/lib/python3.6/dist-packages (1.4.0)\n",
            "Requirement already satisfied: psutil in /usr/local/lib/python3.6/dist-packages (5.4.8)\n",
            "Requirement already satisfied: humanize in /usr/local/lib/python3.6/dist-packages (0.5.1)\n",
            "Gen RAM Free: 11.1 GB  | Proc size: 23.2 GB\n",
            "GPU RAM Free: 12149MB | Used: 4131MB | Util  25% | Total 16280MB\n"
          ],
          "name": "stdout"
        }
      ]
    },
    {
      "cell_type": "code",
      "metadata": {
        "id": "jsY31tfWbo3w",
        "colab_type": "code",
        "colab": {
          "base_uri": "https://localhost:8080/",
          "height": 34
        },
        "outputId": "acd638c9-9333-459e-e207-6062931af2d6"
      },
      "source": [
        "'''!nvidia-smi\n",
        "!kill 0\n",
        "'''"
      ],
      "execution_count": 159,
      "outputs": [
        {
          "output_type": "execute_result",
          "data": {
            "text/plain": [
              "'!nvidia-smi\\n!kill 0\\n'"
            ]
          },
          "metadata": {
            "tags": []
          },
          "execution_count": 159
        }
      ]
    },
    {
      "cell_type": "code",
      "metadata": {
        "id": "DNu8gZkY4W7_",
        "colab_type": "code",
        "outputId": "2ccf3b92-70d7-4239-f42b-aab31b9800b0",
        "colab": {
          "base_uri": "https://localhost:8080/",
          "height": 255
        }
      },
      "source": [
        "#Visualize Using Tenosrboard\n",
        "!wget https://bin.equinox.io/c/4VmDzA7iaHb/ngrok-stable-linux-amd64.zip\n",
        "!unzip ngrok-stable-linux-amd64.zip\n"
      ],
      "execution_count": 160,
      "outputs": [
        {
          "output_type": "stream",
          "text": [
            "--2020-03-12 16:51:07--  https://bin.equinox.io/c/4VmDzA7iaHb/ngrok-stable-linux-amd64.zip\n",
            "Resolving bin.equinox.io (bin.equinox.io)... 52.20.119.24, 52.206.56.146, 34.194.226.61, ...\n",
            "Connecting to bin.equinox.io (bin.equinox.io)|52.20.119.24|:443... connected.\n",
            "HTTP request sent, awaiting response... 200 OK\n",
            "Length: 13773305 (13M) [application/octet-stream]\n",
            "Saving to: ‘ngrok-stable-linux-amd64.zip.9’\n",
            "\n",
            "ngrok-stable-linux- 100%[===================>]  13.13M  18.8MB/s    in 0.7s    \n",
            "\n",
            "2020-03-12 16:51:08 (18.8 MB/s) - ‘ngrok-stable-linux-amd64.zip.9’ saved [13773305/13773305]\n",
            "\n",
            "Archive:  ngrok-stable-linux-amd64.zip\n",
            "replace ngrok? [y]es, [n]o, [A]ll, [N]one, [r]ename: y\n",
            "  inflating: ngrok                   \n"
          ],
          "name": "stdout"
        }
      ]
    },
    {
      "cell_type": "code",
      "metadata": {
        "scrolled": true,
        "id": "x5jjdQ5p2ERT",
        "colab_type": "code",
        "outputId": "c56c5731-3b88-46e6-e3b5-318aa77114ef",
        "colab": {
          "base_uri": "https://localhost:8080/",
          "height": 34
        }
      },
      "source": [
        "\n",
        "\n",
        "\n",
        "# data import from matlab\n",
        "subject_1 = sio.loadmat('1filtered.mat')      #recovering matlab data in the form of a python dictionar\n",
        "format_1 = subject_1['data']          #in the dictionary, only the data key interests us\n",
        "print (format_1.shape)\n",
        "\n",
        "# shuffle trials\n",
        "(channel, trial, time_points)= format_1.shape\n",
        "\n",
        "trials = np.arange(trial)\n",
        "np.random.shuffle(trials)\n",
        "\n",
        "#Z score\n",
        "format_1=stats.zscore(format_1, axis=2)"
      ],
      "execution_count": 161,
      "outputs": [
        {
          "output_type": "stream",
          "text": [
            "(65, 192, 1000)\n"
          ],
          "name": "stdout"
        }
      ]
    },
    {
      "cell_type": "code",
      "metadata": {
        "id": "CywHnuB82ERZ",
        "colab_type": "code",
        "outputId": "6c967af1-fb02-4303-f237-76267e32290f",
        "colab": {
          "base_uri": "https://localhost:8080/",
          "height": 54
        }
      },
      "source": [
        "'''\n",
        "#Plot EEG\n",
        "#plot of a single channel of EEG\n",
        "%matplotlib inline\n",
        "Time = np.linspace(0, 6.25, 1000)\n",
        "for i in range (channel):\n",
        "    plt.plot(Time, format_1[i][0])\n",
        "    plt.figure()\n",
        "\n",
        "plt.plot(Time, format_1[52][1])\n",
        "\n",
        "'''"
      ],
      "execution_count": 10,
      "outputs": [
        {
          "output_type": "execute_result",
          "data": {
            "text/plain": [
              "'\\n#Plot EEG\\n#plot of a single channel of EEG\\n%matplotlib inline\\nTime = np.linspace(0, 6.25, 1000)\\nfor i in range (channel):\\n    plt.plot(Time, format_1[i][0])\\n    plt.figure()\\n\\nplt.plot(Time, format_1[52][1])\\n\\n'"
            ]
          },
          "metadata": {
            "tags": []
          },
          "execution_count": 10
        }
      ]
    },
    {
      "cell_type": "code",
      "metadata": {
        "id": "e-RZqJH12ERc",
        "colab_type": "code",
        "outputId": "63fc5201-9ce0-4f1f-e4ee-6655da24cd7e",
        "colab": {
          "base_uri": "https://localhost:8080/",
          "height": 156
        }
      },
      "source": [
        "# parametres\n",
        "\n",
        "eltmp = input ('''Enter the electrode number:''')\n",
        "electi = list(map(int, eltmp.split()))    #separation of the different responses and recovery in the form of a list of integers\n",
        "print (type(electi))\n",
        "print(electi)\n",
        "\n",
        "window = input ('''Enter the number of stimuli:''')\n",
        "window = int(window)\n",
        "\n",
        "n_channel = int(input('''Enter  the chanel number for which you want your predicion'''))\n",
        "\n",
        "\n",
        "relation = input('''Please define what should be predicted (1 for EEG from stimulus or 2 for stimulus from EEG or 3 for EEG forecasting ):''')\n",
        "\n",
        "if relation == '1':\n",
        "    response = input(\"Do you want to embed information of EEG as well ? ( 1 for yes or 2 for no)\")\n",
        "    if response == \"2\":\n",
        "      source_Y = electi[0]    #retrieving the electrode number as a whole number - implies that there is only one electrode chosen in this direction\n",
        "      source_X = [0]          #conversion of the stimuli line in the form of a list - necessary for the for loop: see below - extraction X\n",
        "    else:\n",
        "      source_Y = electi[0]\n",
        "      source_X = [0] + electi[0]\n",
        "\n",
        "elif relation == '2':\n",
        "    format_1 = np.flip(format_1,2)     # data inversion according to the time dimension - problem ????\n",
        "    source_Y = 0\n",
        "    source_X = electi\n",
        "    \n",
        "elif relation == '3':\n",
        "    response = input(\"Do you want to embed information of Stimuli as well ? ( 1 for yes or 2 for no)\") \n",
        "    if response == \"2\":\n",
        "      source_Y = n_channel\n",
        "      source_X = electi\n",
        "    else: \n",
        "      source_Y = n_channel\n",
        "      source_X = electi + [0]       \n"
      ],
      "execution_count": 224,
      "outputs": [
        {
          "output_type": "stream",
          "text": [
            "Enter the electrode number:1 2 3 4 5 6 7 8 9 10 11 12 13 14 15 16 17 18 19 20 21 22 23 24 25 26 27 28 29 31 32 33 34 35 36 37 38 39 40 41 42 43 44 45 46 47 48 49 50 51 52 53 54 55 56 57 58 59 60 61 62 63 64 \n",
            "<class 'list'>\n",
            "[1, 2, 3, 4, 5, 6, 7, 8, 9, 10, 11, 12, 13, 14, 15, 16, 17, 18, 19, 20, 21, 22, 23, 24, 25, 26, 27, 28, 29, 31, 32, 33, 34, 35, 36, 37, 38, 39, 40, 41, 42, 43, 44, 45, 46, 47, 48, 49, 50, 51, 52, 53, 54, 55, 56, 57, 58, 59, 60, 61, 62, 63, 64]\n",
            "Enter the number of stimuli:160\n",
            "Enter  the chanel number for which you want your predicion30\n",
            "Please define what should be predicted (1 for EEG from stimulus or 2 for stimulus from EEG or 3 for EEG forecasting ):3\n",
            "Do you want to embed information of Stimuli as well ? ( 1 for yes or 2 for no)2\n"
          ],
          "name": "stdout"
        }
      ]
    },
    {
      "cell_type": "code",
      "metadata": {
        "id": "ZvTpCrv8maTA",
        "colab_type": "code",
        "outputId": "5c21cd6a-2edc-4e68-8fc2-29facd85f93d",
        "colab": {
          "base_uri": "https://localhost:8080/",
          "height": 51
        }
      },
      "source": [
        "elec = int(input(\"Enter the electrode for which you want prediction \"))\n",
        "for i in range(1, 65):\n",
        "  if(i!=elec):\n",
        "    print(i, end = \" \")\n",
        "\n",
        "\n",
        "\n"
      ],
      "execution_count": 225,
      "outputs": [
        {
          "output_type": "stream",
          "text": [
            "Enter the electrode for which you want prediction 30\n",
            "1 2 3 4 5 6 7 8 9 10 11 12 13 14 15 16 17 18 19 20 21 22 23 24 25 26 27 28 29 31 32 33 34 35 36 37 38 39 40 41 42 43 44 45 46 47 48 49 50 51 52 53 54 55 56 57 58 59 60 61 62 63 64 "
          ],
          "name": "stdout"
        }
      ]
    },
    {
      "cell_type": "code",
      "metadata": {
        "id": "yodU9VVJ2ERe",
        "colab_type": "code",
        "colab": {}
      },
      "source": [
        "#### separation of train tests / valid / test\n",
        "\n",
        "train_num = int(np.around(len(trials) * 0.8))\n",
        "valid_num = int(np.around(len(trials) * 0.1))\n",
        "test_num = len(trials) - train_num - valid_num\n",
        "\n",
        "\n",
        "trials_train = trials[0:train_num]\n",
        "trials_valid = trials[train_num:train_num+valid_num]\n",
        "trials_test = trials[train_num+valid_num:]\n"
      ],
      "execution_count": 0,
      "outputs": []
    },
    {
      "cell_type": "markdown",
      "metadata": {
        "id": "zB4pqiPy41TE",
        "colab_type": "text"
      },
      "source": [
        ""
      ]
    },
    {
      "cell_type": "code",
      "metadata": {
        "id": "xI_1H-GsV1pX",
        "colab_type": "code",
        "colab": {}
      },
      "source": [
        "trials_train = np.array([172, 125, 136,  99,  82,  31, 133,  44, 183, 184, 142, 121,  18,\n",
        "        89, 141,  27, 107,  49,  68, 186,  70,  92, 109,   6, 147, 124,\n",
        "       117, 161, 137,  39, 157, 159,   4,  23,  25, 145, 179, 118, 163,\n",
        "       106,  69, 187,  76, 108, 188,  32, 178,  19,  26,  72, 168, 158,\n",
        "        55,   8, 167,  11,  30,  59,  80,  95,  60, 148, 153,  45,  20,\n",
        "       152,  73,  48,  36, 100, 185, 131, 138,   3,  13,  97, 126, 171,\n",
        "       130,  54,   2,  50,  75,  83,  33, 174, 140,  79, 113, 146,  81,\n",
        "        64,  63,  46, 170,  16, 173, 156,  90, 103, 144,  29,  58,  47,\n",
        "       105, 189,  56,  34,  12, 165, 122, 119,  94,  42,  24,  37,  14,\n",
        "        65,  93,  87, 154,  77, 166, 114, 112, 160, 164,  51, 139,  84,\n",
        "       169,  85, 162,  88,  66, 155,  78,  28,   9,   1,  98, 132, 175,\n",
        "       177, 115,  96, 111,  52,  21, 180,  61, 191, 143,  10])\n",
        "\n",
        "trials_valid = np.array([ 67,  15,  38,  22,   0,  74, 182, 151,  91,  43,  53, 123, 127,\n",
        "       128, 149, 190, 134, 102, 181])\n",
        "\n",
        "trials_test = np.array([116,  57, 110,   7,  40, 176, 150,  41, 120, 135, 101,  71,  62,\n",
        "        86, 129,  35, 104,   5,  17])"
      ],
      "execution_count": 0,
      "outputs": []
    },
    {
      "cell_type": "code",
      "metadata": {
        "id": "wG-TlDZUeK1a",
        "colab_type": "code",
        "colab": {
          "base_uri": "https://localhost:8080/",
          "height": 1000
        },
        "outputId": "994a124c-8674-4ce3-f963-522490bc3e49"
      },
      "source": [
        "electi"
      ],
      "execution_count": 228,
      "outputs": [
        {
          "output_type": "execute_result",
          "data": {
            "text/plain": [
              "[1,\n",
              " 2,\n",
              " 3,\n",
              " 4,\n",
              " 5,\n",
              " 6,\n",
              " 7,\n",
              " 8,\n",
              " 9,\n",
              " 10,\n",
              " 11,\n",
              " 12,\n",
              " 13,\n",
              " 14,\n",
              " 15,\n",
              " 16,\n",
              " 17,\n",
              " 18,\n",
              " 19,\n",
              " 20,\n",
              " 21,\n",
              " 22,\n",
              " 23,\n",
              " 24,\n",
              " 25,\n",
              " 26,\n",
              " 27,\n",
              " 28,\n",
              " 29,\n",
              " 31,\n",
              " 32,\n",
              " 33,\n",
              " 34,\n",
              " 35,\n",
              " 36,\n",
              " 37,\n",
              " 38,\n",
              " 39,\n",
              " 40,\n",
              " 41,\n",
              " 42,\n",
              " 43,\n",
              " 44,\n",
              " 45,\n",
              " 46,\n",
              " 47,\n",
              " 48,\n",
              " 49,\n",
              " 50,\n",
              " 51,\n",
              " 52,\n",
              " 53,\n",
              " 54,\n",
              " 55,\n",
              " 56,\n",
              " 57,\n",
              " 58,\n",
              " 59,\n",
              " 60,\n",
              " 61,\n",
              " 62,\n",
              " 63,\n",
              " 64]"
            ]
          },
          "metadata": {
            "tags": []
          },
          "execution_count": 228
        }
      ]
    },
    {
      "cell_type": "code",
      "metadata": {
        "id": "LprQkZcj49eC",
        "colab_type": "code",
        "colab": {
          "base_uri": "https://localhost:8080/",
          "height": 34
        },
        "outputId": "b14d1f3a-38f0-4416-b264-21f58449bd6d"
      },
      "source": [
        "source_Y"
      ],
      "execution_count": 229,
      "outputs": [
        {
          "output_type": "execute_result",
          "data": {
            "text/plain": [
              "30"
            ]
          },
          "metadata": {
            "tags": []
          },
          "execution_count": 229
        }
      ]
    },
    {
      "cell_type": "code",
      "metadata": {
        "id": "IbCiQ21d2ERf",
        "colab_type": "code",
        "colab": {
          "base_uri": "https://localhost:8080/",
          "height": 68
        },
        "outputId": "88c19c07-5809-4bf6-a5f7-a0f47532b813"
      },
      "source": [
        "# extract Y for Muti Channel Prediction\n",
        "def extract_Y (batch_trials, batch_num):              #creation of a function to recover y - simplification of reading\n",
        "    y = []\n",
        "    for i in range(len(source_X)):\n",
        "        y_tmp=format_1[i, batch_trials, window:]     #recovery of Y in the form of a matrix of 154 * 840\n",
        "        y_tmp=np.reshape(y_tmp, ((time_points-window)*batch_num))    #passage through the list of 129 360 values ​​(test 0, test 1, ... test 153)\n",
        "        y_tmp=np.matrix(y_tmp)                           #1 * 129360 matrix conversion\n",
        "        y_tmp=np.transpose(y_tmp)                        #transposition into a matrix of 129360 * 1, matrix equal to that of Matlab (necessary for the rest)\n",
        "        y.append(y_tmp)\n",
        "    return(np.hstack(y))                                     #returns the content of y_tmp\n",
        "y_train = extract_Y (trials_train, train_num)\n",
        "print (\"y_train.shape = \", y_train.shape)\n",
        "y_valid = extract_Y (trials_valid, valid_num)\n",
        "print (\"y_valid.shape = \", y_valid.shape)\n",
        "y_test = extract_Y (trials_test, test_num)\n",
        "print (\"y_test.shape = \", y_test.shape)\n"
      ],
      "execution_count": 231,
      "outputs": [
        {
          "output_type": "stream",
          "text": [
            "y_train.shape =  (129360, 63)\n",
            "y_valid.shape =  (15960, 63)\n",
            "y_test.shape =  (15960, 63)\n"
          ],
          "name": "stdout"
        }
      ]
    },
    {
      "cell_type": "code",
      "metadata": {
        "id": "5xD87syFgFei",
        "colab_type": "code",
        "colab": {}
      },
      "source": [
        ""
      ],
      "execution_count": 0,
      "outputs": []
    },
    {
      "cell_type": "code",
      "metadata": {
        "id": "4d2e6bQcdtIn",
        "colab_type": "code",
        "colab": {
          "base_uri": "https://localhost:8080/",
          "height": 68
        },
        "outputId": "5359b88f-a9f7-4de9-99bf-e2935a56f915"
      },
      "source": [
        "# extract data from format_1\n",
        "\n",
        "def extract_Y (batch_trials, batch_num):              #creation of a function to recover y - simplification of reading\n",
        "    \n",
        "    y_tmp=format_1[source_Y, batch_trials, window:]     #recovery of Y in the form of a matrix of 154 * 840\n",
        "    y_tmp=np.reshape(y_tmp, (time_points-window)*batch_num)    #passage through the list of 129 360 values ​​(test 0, test 1, ... test 153)\n",
        "    y_tmp=np.matrix(y_tmp)                           #1 * 129360 matrix conversion\n",
        "    y_tmp=np.transpose(y_tmp)                        #transposition into a matrix of 129360 * 1, matrix equal to that of Matlab (necessary for the rest)\n",
        "    return y_tmp                                     #returns the content of y_tmp\n",
        "    \n",
        "y_train = extract_Y (trials_train, train_num)\n",
        "print (\"y_train.shape = \", y_train.shape)\n",
        "y_valid = extract_Y (trials_valid, valid_num)\n",
        "print (\"y_valid.shape = \", y_valid.shape)\n",
        "y_test = extract_Y (trials_test, test_num)\n",
        "print (\"y_test.shape = \", y_test.shape)"
      ],
      "execution_count": 232,
      "outputs": [
        {
          "output_type": "stream",
          "text": [
            "y_train.shape =  (129360, 1)\n",
            "y_valid.shape =  (15960, 1)\n",
            "y_test.shape =  (15960, 1)\n"
          ],
          "name": "stdout"
        }
      ]
    },
    {
      "cell_type": "code",
      "metadata": {
        "id": "5peO9BQ2dm1W",
        "colab_type": "code",
        "colab": {}
      },
      "source": [
        ""
      ],
      "execution_count": 0,
      "outputs": []
    },
    {
      "cell_type": "code",
      "metadata": {
        "id": "yo0SNanmgWDy",
        "colab_type": "code",
        "colab": {}
      },
      "source": [
        "def rolling_window(a, window):\n",
        "    shape = a.shape[:-1] + (a.shape[-1] - window + 1, window)\n",
        "    strides = a.strides + (a.strides[-1],)\n",
        "    return np.lib.stride_tricks.as_strided(a, shape=shape, strides=strides)\n",
        "    "
      ],
      "execution_count": 0,
      "outputs": []
    },
    {
      "cell_type": "code",
      "metadata": {
        "id": "oTeUcmJI4ltJ",
        "colab_type": "code",
        "colab": {
          "base_uri": "https://localhost:8080/",
          "height": 1000
        },
        "outputId": "ca87787c-1a34-4be7-c65c-fd563d95f08f"
      },
      "source": [
        "source_X"
      ],
      "execution_count": 234,
      "outputs": [
        {
          "output_type": "execute_result",
          "data": {
            "text/plain": [
              "[1,\n",
              " 2,\n",
              " 3,\n",
              " 4,\n",
              " 5,\n",
              " 6,\n",
              " 7,\n",
              " 8,\n",
              " 9,\n",
              " 10,\n",
              " 11,\n",
              " 12,\n",
              " 13,\n",
              " 14,\n",
              " 15,\n",
              " 16,\n",
              " 17,\n",
              " 18,\n",
              " 19,\n",
              " 20,\n",
              " 21,\n",
              " 22,\n",
              " 23,\n",
              " 24,\n",
              " 25,\n",
              " 26,\n",
              " 27,\n",
              " 28,\n",
              " 29,\n",
              " 31,\n",
              " 32,\n",
              " 33,\n",
              " 34,\n",
              " 35,\n",
              " 36,\n",
              " 37,\n",
              " 38,\n",
              " 39,\n",
              " 40,\n",
              " 41,\n",
              " 42,\n",
              " 43,\n",
              " 44,\n",
              " 45,\n",
              " 46,\n",
              " 47,\n",
              " 48,\n",
              " 49,\n",
              " 50,\n",
              " 51,\n",
              " 52,\n",
              " 53,\n",
              " 54,\n",
              " 55,\n",
              " 56,\n",
              " 57,\n",
              " 58,\n",
              " 59,\n",
              " 60,\n",
              " 61,\n",
              " 62,\n",
              " 63,\n",
              " 64]"
            ]
          },
          "metadata": {
            "tags": []
          },
          "execution_count": 234
        }
      ]
    },
    {
      "cell_type": "code",
      "metadata": {
        "id": "fqY26_j_2ERi",
        "colab_type": "code",
        "outputId": "35b2dfe8-3303-4889-bebe-7a6e9fe7961b",
        "colab": {
          "base_uri": "https://localhost:8080/",
          "height": 68
        }
      },
      "source": [
        "\n",
        "def extract_X (batch_trials, batch_num):                     #creation of a function to recover x - simplification of reading\n",
        "  \n",
        "    x = []                                            \n",
        "    for i in source_X:                                      #reading the source list -> reading each electrode number if flip\n",
        "      x_tmp = []\n",
        "      for j in batch_trials:\n",
        "        tmp = rolling_window(format_1[i, j, :-1], window)\n",
        "        x_tmp.append(tmp)\n",
        "      x.append(np.vstack(x_tmp))\n",
        "    x = np.hstack(x)\n",
        "    x = np.array(np.split(x, len(source_X), axis = -1))\n",
        "    x = np.moveaxis(x, 0, 1)\n",
        "    x = np.moveaxis(x, 1, 2)\n",
        "    return x\n",
        "\n",
        "\n",
        "        \n",
        "x_train = extract_X (trials_train, train_num)\n",
        "print (\"x_train.shape = \", x_train.shape)\n",
        "x_valid = extract_X (trials_valid, valid_num)\n",
        "print (\"x_valid.shape = \", x_valid.shape)\n",
        "x_test = extract_X (trials_test, test_num)\n",
        "print (\"x_test.shape = \", x_test.shape)"
      ],
      "execution_count": 235,
      "outputs": [
        {
          "output_type": "stream",
          "text": [
            "x_train.shape =  (129360, 160, 63)\n",
            "x_valid.shape =  (15960, 160, 63)\n",
            "x_test.shape =  (15960, 160, 63)\n"
          ],
          "name": "stdout"
        }
      ]
    },
    {
      "cell_type": "code",
      "metadata": {
        "id": "q02ecJHYVVp5",
        "colab_type": "code",
        "colab": {}
      },
      "source": [
        ""
      ],
      "execution_count": 0,
      "outputs": []
    },
    {
      "cell_type": "code",
      "metadata": {
        "id": "YADYrkgq2ERk",
        "colab_type": "code",
        "colab": {
          "base_uri": "https://localhost:8080/",
          "height": 51
        },
        "outputId": "c2fe8370-12c2-4785-8702-f308a548e8e1"
      },
      "source": [
        "#tensorflow - Linear regression cf github\n",
        "\n",
        "\n",
        "train_X = x_train\n",
        "print(train_X.shape)\n",
        "train_Y = y_train\n",
        "print(train_Y.shape)\n",
        "n_samples_train = train_X.shape[0]\n",
        "\n",
        "valid_X = x_valid\n",
        "valid_Y = y_valid\n",
        "n_samples_valid = valid_X.shape[0]\n",
        "\n",
        "test_X = x_test\n",
        "test_Y = y_test\n",
        "n_samples_test = test_X.shape[0]"
      ],
      "execution_count": 236,
      "outputs": [
        {
          "output_type": "stream",
          "text": [
            "(129360, 160, 63)\n",
            "(129360, 1)\n"
          ],
          "name": "stdout"
        }
      ]
    },
    {
      "cell_type": "code",
      "metadata": {
        "id": "y_F2z8BvLVvh",
        "colab_type": "code",
        "outputId": "f261d15e-5d57-4797-f40c-2eb3d2b94e8b",
        "colab": {
          "base_uri": "https://localhost:8080/",
          "height": 34
        }
      },
      "source": [
        "type(train_X.shape)"
      ],
      "execution_count": 237,
      "outputs": [
        {
          "output_type": "execute_result",
          "data": {
            "text/plain": [
              "tuple"
            ]
          },
          "metadata": {
            "tags": []
          },
          "execution_count": 237
        }
      ]
    },
    {
      "cell_type": "code",
      "metadata": {
        "id": "hpOGGHsxJ53Z",
        "colab_type": "code",
        "colab": {
          "base_uri": "https://localhost:8080/",
          "height": 54
        },
        "outputId": "fea4b549-cd78-4879-950e-70b8952a5c9f"
      },
      "source": [
        "'''\n",
        "\n",
        "\n",
        "\n",
        "def prepare_data_lstm(train, valid, test):\n",
        "  #Tranfrom Numpy matrix to numpy array \n",
        "  train = np.array(train)\n",
        "  valid = np.array(valid)\n",
        "  test =  np.array(test)\n",
        "\n",
        "  #Number of features for prediction\n",
        "  features = train.shape[-1] / window         \n",
        "  print(features)   \n",
        "\n",
        "  #Split the training set into the [Samples, Time_Step, Features] dimension to feed into LSTM network\n",
        "  train = np.array(np.split(train, features, axis = -1))\n",
        "  valid = np.array(np.split(valid, features, axis = -1))\n",
        "  test =  np.array(np.split(test, features, axis = -1))\n",
        "\n",
        "  #Resphape the Training_Set\n",
        "  train = np.moveaxis(train, 0, -1)\n",
        "  valid = np.moveaxis(valid, 0, -1)\n",
        "  test = np.moveaxis(test, 0, -1)\n",
        "\n",
        "\n",
        "  return train, valid, test\n",
        "'''"
      ],
      "execution_count": 238,
      "outputs": [
        {
          "output_type": "execute_result",
          "data": {
            "text/plain": [
              "'\\n\\n\\n\\ndef prepare_data_lstm(train, valid, test):\\n  #Tranfrom Numpy matrix to numpy array \\n  train = np.array(train)\\n  valid = np.array(valid)\\n  test =  np.array(test)\\n\\n  #Number of features for prediction\\n  features = train.shape[-1] / window         \\n  print(features)   \\n\\n  #Split the training set into the [Samples, Time_Step, Features] dimension to feed into LSTM network\\n  train = np.array(np.split(train, features, axis = -1))\\n  valid = np.array(np.split(valid, features, axis = -1))\\n  test =  np.array(np.split(test, features, axis = -1))\\n\\n  #Resphape the Training_Set\\n  train = np.moveaxis(train, 0, -1)\\n  valid = np.moveaxis(valid, 0, -1)\\n  test = np.moveaxis(test, 0, -1)\\n\\n\\n  return train, valid, test\\n'"
            ]
          },
          "metadata": {
            "tags": []
          },
          "execution_count": 238
        }
      ]
    },
    {
      "cell_type": "code",
      "metadata": {
        "id": "gBSn6bvcK2n5",
        "colab_type": "code",
        "colab": {}
      },
      "source": [
        "\n",
        "#train, valid, test = prepare_data_lstm(train_X, valid_X, test_X)"
      ],
      "execution_count": 0,
      "outputs": []
    },
    {
      "cell_type": "code",
      "metadata": {
        "id": "FefOyH9eLMi3",
        "colab_type": "code",
        "colab": {
          "base_uri": "https://localhost:8080/",
          "height": 68
        },
        "outputId": "0563a915-a92c-444e-e293-7ec53167d6e7"
      },
      "source": [
        "\n",
        "#Sanity Check dimension of Input\n",
        "print(\"Shape of Train_X  = \", train_X.shape)\n",
        "print(\"Shape of Valid_X  = \", valid_X.shape)\n",
        "print(\"Shape of Test_X   = \",test_X.shape )\n",
        "\n",
        "\n",
        "\n"
      ],
      "execution_count": 240,
      "outputs": [
        {
          "output_type": "stream",
          "text": [
            "Shape of Train_X  =  (129360, 160, 63)\n",
            "Shape of Valid_X  =  (15960, 160, 63)\n",
            "Shape of Test_X   =  (15960, 160, 63)\n"
          ],
          "name": "stdout"
        }
      ]
    },
    {
      "cell_type": "code",
      "metadata": {
        "id": "I2OttVz6l5wm",
        "colab_type": "code",
        "colab": {}
      },
      "source": [
        ""
      ],
      "execution_count": 0,
      "outputs": []
    },
    {
      "cell_type": "code",
      "metadata": {
        "id": "t3-uB5j6WWwn",
        "colab_type": "code",
        "colab": {}
      },
      "source": [
        "from keras import backend as K\n",
        "\n",
        "curr_session = tf.get_default_session()\n",
        "# close current session\n",
        "if curr_session is not None:\n",
        "    curr_session.close()\n",
        "# reset graph\n",
        "K.clear_session()\n",
        "# create new session\n",
        "s = tf.InteractiveSession()\n",
        "K.set_session(s)"
      ],
      "execution_count": 0,
      "outputs": []
    },
    {
      "cell_type": "code",
      "metadata": {
        "id": "Uqo14WsW40hC",
        "colab_type": "code",
        "colab": {}
      },
      "source": [
        "#Parameters of model\n",
        "model_name = \"Conv-1D\"\n",
        "optimizer_name = \"sgd\"\n",
        "training_epochs = 60\n",
        "batch_size = 1024\n",
        "\n",
        "layers = 2\n",
        "learning_rate = 0.01\n",
        "normalized_data = True\n",
        "features = train_X.shape[-1]"
      ],
      "execution_count": 0,
      "outputs": []
    },
    {
      "cell_type": "code",
      "metadata": {
        "id": "f2MSn7F52ERo",
        "colab_type": "code",
        "colab": {}
      },
      "source": [
        "\n",
        "\n",
        "def conv_1D(layers, features):\n",
        "    inp = Input([window, features])\n",
        "    X = inp\n",
        "    \n",
        "    X = Conv1D(filters = 2, kernel_size = 5)(X)\n",
        "    X = LeakyReLU()(X)\n",
        "    X = MaxPooling1D(pool_size= 2)(X)\n",
        "\n",
        "  \n",
        "    for i in range(layers):\n",
        "      X = Conv1D(filters = 4, kernel_size = 5)(X)\n",
        "      X = LeakyReLU()(X)\n",
        "      X = MaxPooling1D(pool_size= 2)(X)\n",
        "    \n",
        "    X = Flatten()(X)\n",
        "    #out = Activation(\"linear\")(X)\n",
        "    #X = Dense(50, activation = \"relu\")(X)\n",
        "    out = Dense(1, activation = \"linear\",  kernel_initializer = 'normal')(X)\n",
        "    \n",
        "    model = Model(inputs = inp, outputs = out)\n",
        "    return model \n",
        "    "
      ],
      "execution_count": 0,
      "outputs": []
    },
    {
      "cell_type": "code",
      "metadata": {
        "id": "YUwdv98D2ERq",
        "colab_type": "code",
        "colab": {}
      },
      "source": [
        "#Define Keras Model \n",
        "model = conv_1D(layers, features)\n"
      ],
      "execution_count": 0,
      "outputs": []
    },
    {
      "cell_type": "code",
      "metadata": {
        "id": "rAqrciJC2ERu",
        "colab_type": "code",
        "outputId": "0dfcb146-9ac3-4d26-ff25-f8c45f2951f1",
        "colab": {
          "base_uri": "https://localhost:8080/",
          "height": 561
        }
      },
      "source": [
        "model.summary()"
      ],
      "execution_count": 268,
      "outputs": [
        {
          "output_type": "stream",
          "text": [
            "Model: \"model\"\n",
            "_________________________________________________________________\n",
            "Layer (type)                 Output Shape              Param #   \n",
            "=================================================================\n",
            "input_1 (InputLayer)         [(None, 160, 63)]         0         \n",
            "_________________________________________________________________\n",
            "conv1d (Conv1D)              (None, 156, 2)            632       \n",
            "_________________________________________________________________\n",
            "leaky_re_lu (LeakyReLU)      (None, 156, 2)            0         \n",
            "_________________________________________________________________\n",
            "max_pooling1d (MaxPooling1D) (None, 78, 2)             0         \n",
            "_________________________________________________________________\n",
            "conv1d_1 (Conv1D)            (None, 74, 4)             44        \n",
            "_________________________________________________________________\n",
            "leaky_re_lu_1 (LeakyReLU)    (None, 74, 4)             0         \n",
            "_________________________________________________________________\n",
            "max_pooling1d_1 (MaxPooling1 (None, 37, 4)             0         \n",
            "_________________________________________________________________\n",
            "conv1d_2 (Conv1D)            (None, 33, 4)             84        \n",
            "_________________________________________________________________\n",
            "leaky_re_lu_2 (LeakyReLU)    (None, 33, 4)             0         \n",
            "_________________________________________________________________\n",
            "max_pooling1d_2 (MaxPooling1 (None, 16, 4)             0         \n",
            "_________________________________________________________________\n",
            "flatten (Flatten)            (None, 64)                0         \n",
            "_________________________________________________________________\n",
            "dense (Dense)                (None, 1)                 65        \n",
            "=================================================================\n",
            "Total params: 825\n",
            "Trainable params: 825\n",
            "Non-trainable params: 0\n",
            "_________________________________________________________________\n"
          ],
          "name": "stdout"
        }
      ]
    },
    {
      "cell_type": "code",
      "metadata": {
        "id": "QIMm-F2_ScBE",
        "colab_type": "code",
        "outputId": "794eb0b2-7fc7-4ec1-b776-c02f86d20d8c",
        "colab": {
          "base_uri": "https://localhost:8080/",
          "height": 180
        }
      },
      "source": [
        "\n",
        "\n",
        "\n",
        "\n",
        "#Plot the graph of the model \n",
        "\n",
        "plot_model(model, to_file='model_plot.png', show_shapes=True, show_layer_names=True)"
      ],
      "execution_count": 269,
      "outputs": [
        {
          "output_type": "error",
          "ename": "NameError",
          "evalue": "ignored",
          "traceback": [
            "\u001b[0;31m---------------------------------------------------------------------------\u001b[0m",
            "\u001b[0;31mNameError\u001b[0m                                 Traceback (most recent call last)",
            "\u001b[0;32m<ipython-input-269-77e789fd4b38>\u001b[0m in \u001b[0;36m<module>\u001b[0;34m()\u001b[0m\n\u001b[1;32m      1\u001b[0m \u001b[0;34m\u001b[0m\u001b[0m\n\u001b[0;32m----> 2\u001b[0;31m \u001b[0mplot_model\u001b[0m\u001b[0;34m(\u001b[0m\u001b[0mmodel\u001b[0m\u001b[0;34m,\u001b[0m \u001b[0mto_file\u001b[0m\u001b[0;34m=\u001b[0m\u001b[0;34m'model_plot.png'\u001b[0m\u001b[0;34m,\u001b[0m \u001b[0mshow_shapes\u001b[0m\u001b[0;34m=\u001b[0m\u001b[0;32mTrue\u001b[0m\u001b[0;34m,\u001b[0m \u001b[0mshow_layer_names\u001b[0m\u001b[0;34m=\u001b[0m\u001b[0;32mTrue\u001b[0m\u001b[0;34m)\u001b[0m\u001b[0;34m\u001b[0m\u001b[0;34m\u001b[0m\u001b[0m\n\u001b[0m",
            "\u001b[0;31mNameError\u001b[0m: name 'plot_model' is not defined"
          ]
        }
      ]
    },
    {
      "cell_type": "code",
      "metadata": {
        "id": "cVZzuKSg6RPV",
        "colab_type": "code",
        "outputId": "703d6bd3-8815-4ef1-be52-e71c6cddf1f1",
        "colab": {
          "base_uri": "https://localhost:8080/",
          "height": 51
        }
      },
      "source": [
        "\n",
        "\n",
        "#Make Directory to store Tenorboad Logs\n",
        "!mkdir logs\n",
        "!mkdir logs/scalars"
      ],
      "execution_count": 270,
      "outputs": [
        {
          "output_type": "stream",
          "text": [
            "mkdir: cannot create directory ‘logs’: File exists\n",
            "mkdir: cannot create directory ‘logs/scalars’: File exists\n"
          ],
          "name": "stdout"
        }
      ]
    },
    {
      "cell_type": "code",
      "metadata": {
        "id": "Dk8S5zgjnTC7",
        "colab_type": "code",
        "outputId": "ab677b1c-1081-4b63-be22-d25faf212ee7",
        "colab": {
          "base_uri": "https://localhost:8080/",
          "height": 102
        }
      },
      "source": [
        "!apt-get install tree\n"
      ],
      "execution_count": 271,
      "outputs": [
        {
          "output_type": "stream",
          "text": [
            "Reading package lists... Done\n",
            "Building dependency tree       \n",
            "Reading state information... Done\n",
            "tree is already the newest version (1.7.0-5).\n",
            "0 upgraded, 0 newly installed, 0 to remove and 25 not upgraded.\n"
          ],
          "name": "stdout"
        }
      ]
    },
    {
      "cell_type": "code",
      "metadata": {
        "id": "yP6xZ58dsJlk",
        "colab_type": "code",
        "colab": {}
      },
      "source": [
        "\n",
        "\n",
        "class TrainValTensorBoard(TensorBoard):\n",
        "    def __init__(self, log_dir='./logs', **kwargs):\n",
        "        # Make the original `TensorBoard` log to a subdirectory 'training'\n",
        "        training_log_dir = os.path.join(log_dir, 'training')\n",
        "        super(TrainValTensorBoard, self).__init__(training_log_dir, **kwargs)\n",
        "\n",
        "        # Log the validation metrics to a separate subdirectory\n",
        "        self.val_log_dir = os.path.join(log_dir, 'validation')\n",
        "\n",
        "    def set_model(self, model):\n",
        "        # Setup writer for validation metrics\n",
        "        self.val_writer = tf.summary.FileWriter(self.val_log_dir)\n",
        "        super(TrainValTensorBoard, self).set_model(model)\n",
        "\n",
        "    def on_epoch_end(self, epoch, logs=None):\n",
        "        # Pop the validation logs and handle them separately with\n",
        "        # `self.val_writer`. Also rename the keys so that they can\n",
        "        # be plotted on the same figure with the training metrics\n",
        "        logs = logs or {}\n",
        "        val_logs = {k.replace('val_', ''): v for k, v in logs.items() if k.startswith('val_')}\n",
        "        for name, value in val_logs.items():\n",
        "            summary = tf.Summary()\n",
        "            summary_value = summary.value.add()\n",
        "            summary_value.simple_value = value.item()\n",
        "            summary_value.tag = name\n",
        "            self.val_writer.add_summary(summary, epoch)\n",
        "        self.val_writer.flush()\n",
        "\n",
        "        # Pass the remaining logs to `TensorBoard.on_epoch_end`\n",
        "        logs = {k: v for k, v in logs.items() if not k.startswith('val_')}\n",
        "        super(TrainValTensorBoard, self).on_epoch_end(epoch, logs)\n",
        "\n",
        "    def on_train_end(self, logs=None):\n",
        "        super(TrainValTensorBoard, self).on_train_end(logs)\n",
        "        self.val_writer.close()"
      ],
      "execution_count": 0,
      "outputs": []
    },
    {
      "cell_type": "code",
      "metadata": {
        "id": "e6awBoWU2ERw",
        "colab_type": "code",
        "outputId": "719e8fae-d5ee-400e-9b13-01e0329d5e37",
        "colab": {
          "base_uri": "https://localhost:8080/",
          "height": 34
        }
      },
      "source": [
        "\n",
        "\n",
        "#Set Up Tensorboard for visualisation for training\n",
        "Name = \"{} + optimizer_{} + batch_size_{} + epochs_{} + Layer_{} + learning_rate_{} + + Normalized_{} + relation_{}  + date_\".format(model_name, optimizer_name, batch_size, training_epochs, layers, learning_rate,  normalized_data, relation)\n",
        "logdir =\"logs/scalars/\"+ Name + datetime.now().strftime(\"%Y%m%d-%H%M%S\")\n",
        "tensorboard_callback = TrainValTensorBoard(log_dir=logdir, write_images = True, histogram_freq = 2)\n",
        "#Sanity Check for LogDir\n",
        "print(logdir)"
      ],
      "execution_count": 273,
      "outputs": [
        {
          "output_type": "stream",
          "text": [
            "logs/scalars/Conv-1D + optimizer_sgd + batch_size_1024 + epochs_60 + Layer_2 + learning_rate_0.01 + + Normalized_True + relation_3  + date_20200312-171810\n"
          ],
          "name": "stdout"
        }
      ]
    },
    {
      "cell_type": "code",
      "metadata": {
        "id": "8dwKw-cA2ERz",
        "colab_type": "code",
        "colab": {}
      },
      "source": [
        "#Define training Loss \n",
        "def Mean_Squared_Error(y_true, y_pred):\n",
        "    return (K.mean(K.square(y_pred - y_true), axis = -1)) / 2"
      ],
      "execution_count": 0,
      "outputs": []
    },
    {
      "cell_type": "code",
      "metadata": {
        "id": "-3I1dxnG2ER2",
        "colab_type": "code",
        "colab": {}
      },
      "source": [
        "#Checkpoint the model\n",
        "filepath=\"weights.best.hdf5\"\n",
        "checkpoint_callback = ModelCheckpoint(filepath, monitor = Mean_Squared_Error, verbose=1, save_best_only=True, mode='min')\n",
        "\n",
        "    "
      ],
      "execution_count": 0,
      "outputs": []
    },
    {
      "cell_type": "code",
      "metadata": {
        "id": "dNR-k_d82ER4",
        "colab_type": "code",
        "outputId": "39660cf3-4b3e-4625-c70e-172bf4c8d9fb",
        "colab": {
          "base_uri": "https://localhost:8080/",
          "height": 54
        }
      },
      "source": [
        "\n",
        "#Grid Search for Hyper Parameter Tuning  - it is left to be explored \n",
        "\n",
        "#Define Grid Search Parameters\n",
        "\n",
        "'''\n",
        "param_grid = [50, 100, 200]\n",
        "batch_size = [8, 16, 32, 64, 128, 256, 512]\n",
        "param_grid = dict(batch_size=batch_size, epochs=epochs)\n",
        "grid = GridSearchCV(estimator=model, param_grid=param_grid, n_jobs=-1, cv=3)\n",
        "grid_result = grid.fit(X, Y)\n",
        "'''"
      ],
      "execution_count": 276,
      "outputs": [
        {
          "output_type": "execute_result",
          "data": {
            "text/plain": [
              "'\\nparam_grid = [50, 100, 200]\\nbatch_size = [8, 16, 32, 64, 128, 256, 512]\\nparam_grid = dict(batch_size=batch_size, epochs=epochs)\\ngrid = GridSearchCV(estimator=model, param_grid=param_grid, n_jobs=-1, cv=3)\\ngrid_result = grid.fit(X, Y)\\n'"
            ]
          },
          "metadata": {
            "tags": []
          },
          "execution_count": 276
        }
      ]
    },
    {
      "cell_type": "code",
      "metadata": {
        "id": "umhXwzj02ER9",
        "colab_type": "code",
        "colab": {}
      },
      "source": [
        "#Set up the Optimizers\n",
        "sgd = optimizers.SGD(learning_rate)\n",
        "adam = optimizers.Adam(lr = learning_rate)\n",
        "rmsprop = optimizers.RMSprop(lr = learning_rate)\n",
        "\n",
        "\n",
        "#Compile the model\n",
        "model.compile(loss = Mean_Squared_Error, optimizer = sgd, metrics=[Mean_Squared_Error])"
      ],
      "execution_count": 0,
      "outputs": []
    },
    {
      "cell_type": "code",
      "metadata": {
        "id": "eql7y5FCdO-_",
        "colab_type": "code",
        "outputId": "f9c0145a-bcd4-4bf9-9fd1-ccf093c9585e",
        "colab": {
          "base_uri": "https://localhost:8080/",
          "height": 34
        }
      },
      "source": [
        "\n",
        "LOG_DIR = 'logs/'\n",
        "get_ipython().system_raw(\n",
        "    'tensorboard --logdir {} --host 0.0.0.0 --port 6006 &'\n",
        "    .format(LOG_DIR)\n",
        ")\n",
        "#Get url of TensorBoard to Visualise\n",
        "get_ipython().system_raw('./ngrok http 6006 &')\n",
        "! curl -s http://localhost:4040/api/tunnels | python3 -c \\\n",
        "    \"import sys, json; print(json.load(sys.stdin)['tunnels'][0]['public_url'])\""
      ],
      "execution_count": 278,
      "outputs": [
        {
          "output_type": "stream",
          "text": [
            "http://0f84a0ff.ngrok.io\n"
          ],
          "name": "stdout"
        }
      ]
    },
    {
      "cell_type": "code",
      "metadata": {
        "id": "850rdwgB2ER-",
        "colab_type": "code",
        "outputId": "c3de6e8e-b444-46f6-8842-2031909227a5",
        "colab": {
          "base_uri": "https://localhost:8080/",
          "height": 231
        }
      },
      "source": [
        "\n",
        "\n",
        "#Fit the model with the Data\n",
        "history = model.fit(\n",
        "    train_X, \n",
        "    train_Y, \n",
        "    batch_size = batch_size,\n",
        "    epochs = training_epochs, \n",
        "    validation_data = (valid_X, valid_Y), \n",
        "    verbose = 1,\n",
        "    callbacks = [tensorboard_callback])\n",
        "\n",
        "''' , checkpoint_callback '''"
      ],
      "execution_count": 1,
      "outputs": [
        {
          "output_type": "error",
          "ename": "NameError",
          "evalue": "ignored",
          "traceback": [
            "\u001b[0;31m---------------------------------------------------------------------------\u001b[0m",
            "\u001b[0;31mNameError\u001b[0m                                 Traceback (most recent call last)",
            "\u001b[0;32m<ipython-input-1-61f5123b9f3a>\u001b[0m in \u001b[0;36m<module>\u001b[0;34m()\u001b[0m\n\u001b[0;32m----> 1\u001b[0;31m history = model.fit(\n\u001b[0m\u001b[1;32m      2\u001b[0m     \u001b[0mtrain_X\u001b[0m\u001b[0;34m,\u001b[0m\u001b[0;34m\u001b[0m\u001b[0;34m\u001b[0m\u001b[0m\n\u001b[1;32m      3\u001b[0m     \u001b[0mtrain_Y\u001b[0m\u001b[0;34m,\u001b[0m\u001b[0;34m\u001b[0m\u001b[0;34m\u001b[0m\u001b[0m\n\u001b[1;32m      4\u001b[0m     \u001b[0mbatch_size\u001b[0m \u001b[0;34m=\u001b[0m \u001b[0mbatch_size\u001b[0m\u001b[0;34m,\u001b[0m\u001b[0;34m\u001b[0m\u001b[0;34m\u001b[0m\u001b[0m\n\u001b[1;32m      5\u001b[0m     \u001b[0mepochs\u001b[0m \u001b[0;34m=\u001b[0m \u001b[0mtraining_epochs\u001b[0m\u001b[0;34m,\u001b[0m\u001b[0;34m\u001b[0m\u001b[0;34m\u001b[0m\u001b[0m\n",
            "\u001b[0;31mNameError\u001b[0m: name 'model' is not defined"
          ]
        }
      ]
    },
    {
      "cell_type": "code",
      "metadata": {
        "id": "VFEu_ATOistV",
        "colab_type": "code",
        "colab": {}
      },
      "source": [
        "\n",
        "\n",
        "#Evaluate model on Test Data -\n",
        "predictions = model.predict(test_X, verbose = True)\n",
        "\n"
      ],
      "execution_count": 0,
      "outputs": []
    },
    {
      "cell_type": "code",
      "metadata": {
        "id": "ih97ufFL-5JM",
        "colab_type": "code",
        "colab": {
          "base_uri": "https://localhost:8080/",
          "height": 136
        },
        "outputId": "4949b8bc-6119-46bf-e46e-4bcd3870c446"
      },
      "source": [
        "predictions"
      ],
      "execution_count": 259,
      "outputs": [
        {
          "output_type": "execute_result",
          "data": {
            "text/plain": [
              "array([[ 0.22364429],\n",
              "       [ 0.30984804],\n",
              "       [ 0.50981385],\n",
              "       ...,\n",
              "       [ 0.05089305],\n",
              "       [-0.07057948],\n",
              "       [-0.02976447]], dtype=float32)"
            ]
          },
          "metadata": {
            "tags": []
          },
          "execution_count": 259
        }
      ]
    },
    {
      "cell_type": "code",
      "metadata": {
        "id": "3VwzNESv-n7y",
        "colab_type": "code",
        "outputId": "54375899-ebc4-4be5-b36b-d6b896f65924",
        "colab": {
          "base_uri": "https://localhost:8080/",
          "height": 136
        }
      },
      "source": [
        "\n",
        "y_test"
      ],
      "execution_count": 260,
      "outputs": [
        {
          "output_type": "execute_result",
          "data": {
            "text/plain": [
              "matrix([[ 0.3493746 ],\n",
              "        [ 0.27043746],\n",
              "        [ 0.74073456],\n",
              "        ...,\n",
              "        [-1.36639856],\n",
              "        [-2.01688422],\n",
              "        [-2.48151663]])"
            ]
          },
          "metadata": {
            "tags": []
          },
          "execution_count": 260
        }
      ]
    },
    {
      "cell_type": "markdown",
      "metadata": {
        "id": "HDxBtYz3o3JN",
        "colab_type": "text"
      },
      "source": [
        ""
      ]
    },
    {
      "cell_type": "code",
      "metadata": {
        "id": "Wq0U8HfOtlwa",
        "colab_type": "code",
        "outputId": "ba70c1f9-3346-4a6d-bb0c-8b16295f8003",
        "colab": {
          "base_uri": "https://localhost:8080/",
          "height": 34
        }
      },
      "source": [
        "\n",
        "predictions.shape, y_test.shape\n",
        "\n"
      ],
      "execution_count": 218,
      "outputs": [
        {
          "output_type": "execute_result",
          "data": {
            "text/plain": [
              "((15960, 1), (15960, 1))"
            ]
          },
          "metadata": {
            "tags": []
          },
          "execution_count": 218
        }
      ]
    },
    {
      "cell_type": "code",
      "metadata": {
        "id": "ohS6HViTtpK0",
        "colab_type": "code",
        "colab": {}
      },
      "source": [
        "\n",
        "def compute_correlation(true, pred):\n",
        "    true = true.squeeze()\n",
        "    pred = pred.squeeze()\n",
        "    corr_coef = np.corrcoef(true, pred)[0, 1]\n",
        "    \n",
        "    return corr_coef \n",
        "    \n",
        "    "
      ],
      "execution_count": 0,
      "outputs": []
    },
    {
      "cell_type": "code",
      "metadata": {
        "id": "vBMZvkH788co",
        "colab_type": "code",
        "colab": {
          "base_uri": "https://localhost:8080/",
          "height": 34
        },
        "outputId": "135a3aa7-13aa-439c-9dc9-e0796f8b8cd7"
      },
      "source": [
        "compute_correlation(y_test, predictions)"
      ],
      "execution_count": 263,
      "outputs": [
        {
          "output_type": "execute_result",
          "data": {
            "text/plain": [
              "0.5239360874971711"
            ]
          },
          "metadata": {
            "tags": []
          },
          "execution_count": 263
        }
      ]
    },
    {
      "cell_type": "code",
      "metadata": {
        "id": "49MHuLEjg5MR",
        "colab_type": "code",
        "colab": {
          "base_uri": "https://localhost:8080/",
          "height": 34
        },
        "outputId": "712db63e-ae4d-4126-a59a-0ce75b6687f4"
      },
      "source": [
        "y_test[:,0].shape"
      ],
      "execution_count": 220,
      "outputs": [
        {
          "output_type": "execute_result",
          "data": {
            "text/plain": [
              "(15960, 1)"
            ]
          },
          "metadata": {
            "tags": []
          },
          "execution_count": 220
        }
      ]
    },
    {
      "cell_type": "code",
      "metadata": {
        "id": "eBfmJzB-tsDR",
        "colab_type": "code",
        "outputId": "83ed70f5-1fd3-472f-8931-0d66516b9b0e",
        "colab": {
          "base_uri": "https://localhost:8080/",
          "height": 316
        }
      },
      "source": [
        "l = []\n",
        "for i in range(len(electi)):\n",
        "  l.append(compute_correlation(y_test[:, i], predictions[:, i]))\n"
      ],
      "execution_count": 261,
      "outputs": [
        {
          "output_type": "error",
          "ename": "IndexError",
          "evalue": "ignored",
          "traceback": [
            "\u001b[0;31m---------------------------------------------------------------------------\u001b[0m",
            "\u001b[0;31mIndexError\u001b[0m                                Traceback (most recent call last)",
            "\u001b[0;32m<ipython-input-261-b67a43894280>\u001b[0m in \u001b[0;36m<module>\u001b[0;34m()\u001b[0m\n\u001b[1;32m      1\u001b[0m \u001b[0ml\u001b[0m \u001b[0;34m=\u001b[0m \u001b[0;34m[\u001b[0m\u001b[0;34m]\u001b[0m\u001b[0;34m\u001b[0m\u001b[0;34m\u001b[0m\u001b[0m\n\u001b[1;32m      2\u001b[0m \u001b[0;32mfor\u001b[0m \u001b[0mi\u001b[0m \u001b[0;32min\u001b[0m \u001b[0mrange\u001b[0m\u001b[0;34m(\u001b[0m\u001b[0mlen\u001b[0m\u001b[0;34m(\u001b[0m\u001b[0melecti\u001b[0m\u001b[0;34m)\u001b[0m\u001b[0;34m)\u001b[0m\u001b[0;34m:\u001b[0m\u001b[0;34m\u001b[0m\u001b[0;34m\u001b[0m\u001b[0m\n\u001b[0;32m----> 3\u001b[0;31m   \u001b[0ml\u001b[0m\u001b[0;34m.\u001b[0m\u001b[0mappend\u001b[0m\u001b[0;34m(\u001b[0m\u001b[0mcompute_correlation\u001b[0m\u001b[0;34m(\u001b[0m\u001b[0my_test\u001b[0m\u001b[0;34m[\u001b[0m\u001b[0;34m:\u001b[0m\u001b[0;34m,\u001b[0m \u001b[0mi\u001b[0m\u001b[0;34m]\u001b[0m\u001b[0;34m,\u001b[0m \u001b[0mpredictions\u001b[0m\u001b[0;34m[\u001b[0m\u001b[0;34m:\u001b[0m\u001b[0;34m,\u001b[0m \u001b[0mi\u001b[0m\u001b[0;34m]\u001b[0m\u001b[0;34m)\u001b[0m\u001b[0;34m)\u001b[0m\u001b[0;34m\u001b[0m\u001b[0;34m\u001b[0m\u001b[0m\n\u001b[0m",
            "\u001b[0;32m/usr/local/lib/python3.6/dist-packages/numpy/matrixlib/defmatrix.py\u001b[0m in \u001b[0;36m__getitem__\u001b[0;34m(self, index)\u001b[0m\n\u001b[1;32m    193\u001b[0m \u001b[0;34m\u001b[0m\u001b[0m\n\u001b[1;32m    194\u001b[0m         \u001b[0;32mtry\u001b[0m\u001b[0;34m:\u001b[0m\u001b[0;34m\u001b[0m\u001b[0;34m\u001b[0m\u001b[0m\n\u001b[0;32m--> 195\u001b[0;31m             \u001b[0mout\u001b[0m \u001b[0;34m=\u001b[0m \u001b[0mN\u001b[0m\u001b[0;34m.\u001b[0m\u001b[0mndarray\u001b[0m\u001b[0;34m.\u001b[0m\u001b[0m__getitem__\u001b[0m\u001b[0;34m(\u001b[0m\u001b[0mself\u001b[0m\u001b[0;34m,\u001b[0m \u001b[0mindex\u001b[0m\u001b[0;34m)\u001b[0m\u001b[0;34m\u001b[0m\u001b[0;34m\u001b[0m\u001b[0m\n\u001b[0m\u001b[1;32m    196\u001b[0m         \u001b[0;32mfinally\u001b[0m\u001b[0;34m:\u001b[0m\u001b[0;34m\u001b[0m\u001b[0;34m\u001b[0m\u001b[0m\n\u001b[1;32m    197\u001b[0m             \u001b[0mself\u001b[0m\u001b[0;34m.\u001b[0m\u001b[0m_getitem\u001b[0m \u001b[0;34m=\u001b[0m \u001b[0;32mFalse\u001b[0m\u001b[0;34m\u001b[0m\u001b[0;34m\u001b[0m\u001b[0m\n",
            "\u001b[0;31mIndexError\u001b[0m: index 1 is out of bounds for axis 1 with size 1"
          ]
        }
      ]
    },
    {
      "cell_type": "code",
      "metadata": {
        "id": "D28kvYbufj_X",
        "colab_type": "code",
        "colab": {
          "base_uri": "https://localhost:8080/",
          "height": 34
        },
        "outputId": "d98918d2-4546-4ada-9a06-04862253f020"
      },
      "source": [
        "print(l)"
      ],
      "execution_count": 222,
      "outputs": [
        {
          "output_type": "stream",
          "text": [
            "[0.16216452869260364]\n"
          ],
          "name": "stdout"
        }
      ]
    },
    {
      "cell_type": "code",
      "metadata": {
        "id": "y8sAlyNArruw",
        "colab_type": "code",
        "outputId": "8f695961-ccb3-4d3e-e381-a993480654e2",
        "colab": {
          "base_uri": "https://localhost:8080/",
          "height": 1000
        }
      },
      "source": [
        "predictions[0:100]"
      ],
      "execution_count": 148,
      "outputs": [
        {
          "output_type": "execute_result",
          "data": {
            "text/plain": [
              "array([[0.04746907],\n",
              "       [0.06031939],\n",
              "       [0.04643389],\n",
              "       [0.02104632],\n",
              "       [0.05830663],\n",
              "       [0.02435583],\n",
              "       [0.03463713],\n",
              "       [0.04703913],\n",
              "       [0.01323395],\n",
              "       [0.0249184 ],\n",
              "       [0.05631682],\n",
              "       [0.06635903],\n",
              "       [0.0214283 ],\n",
              "       [0.02320929],\n",
              "       [0.04422016],\n",
              "       [0.06013297],\n",
              "       [0.08172096],\n",
              "       [0.04641955],\n",
              "       [0.05632845],\n",
              "       [0.03110451],\n",
              "       [0.07813198],\n",
              "       [0.04420315],\n",
              "       [0.06266318],\n",
              "       [0.10769485],\n",
              "       [0.07386111],\n",
              "       [0.07330091],\n",
              "       [0.10818113],\n",
              "       [0.06306164],\n",
              "       [0.05262052],\n",
              "       [0.04853421],\n",
              "       [0.01710865],\n",
              "       [0.03067171],\n",
              "       [0.02521534],\n",
              "       [0.04397602],\n",
              "       [0.05310081],\n",
              "       [0.02877854],\n",
              "       [0.04598337],\n",
              "       [0.0402838 ],\n",
              "       [0.12059392],\n",
              "       [0.05844425],\n",
              "       [0.05763567],\n",
              "       [0.05391576],\n",
              "       [0.06010441],\n",
              "       [0.0155332 ],\n",
              "       [0.01735402],\n",
              "       [0.03885668],\n",
              "       [0.06267992],\n",
              "       [0.05050445],\n",
              "       [0.07560157],\n",
              "       [0.07637404],\n",
              "       [0.03140865],\n",
              "       [0.00194623],\n",
              "       [0.06278622],\n",
              "       [0.06476174],\n",
              "       [0.05519861],\n",
              "       [0.06797882],\n",
              "       [0.03953946],\n",
              "       [0.0150005 ],\n",
              "       [0.04226377],\n",
              "       [0.06853481],\n",
              "       [0.03687403],\n",
              "       [0.0646724 ],\n",
              "       [0.05226128],\n",
              "       [0.02800301],\n",
              "       [0.096755  ],\n",
              "       [0.07843454],\n",
              "       [0.04956991],\n",
              "       [0.10150495],\n",
              "       [0.03240027],\n",
              "       [0.12331947],\n",
              "       [0.1312024 ],\n",
              "       [0.05331657],\n",
              "       [0.05588071],\n",
              "       [0.09316127],\n",
              "       [0.0517104 ],\n",
              "       [0.02731675],\n",
              "       [0.05344066],\n",
              "       [0.0516187 ],\n",
              "       [0.03545873],\n",
              "       [0.0426347 ],\n",
              "       [0.06314287],\n",
              "       [0.02610239],\n",
              "       [0.0684675 ],\n",
              "       [0.02399816],\n",
              "       [0.0716686 ],\n",
              "       [0.01370016],\n",
              "       [0.03550126],\n",
              "       [0.06754486],\n",
              "       [0.02821046],\n",
              "       [0.03217483],\n",
              "       [0.07526705],\n",
              "       [0.01969742],\n",
              "       [0.0559677 ],\n",
              "       [0.04896288],\n",
              "       [0.05705265],\n",
              "       [0.04550097],\n",
              "       [0.03479092],\n",
              "       [0.02533661],\n",
              "       [0.05694419],\n",
              "       [0.04005378]], dtype=float32)"
            ]
          },
          "metadata": {
            "tags": []
          },
          "execution_count": 148
        }
      ]
    },
    {
      "cell_type": "code",
      "metadata": {
        "id": "VJHFxSP8e2tq",
        "colab_type": "code",
        "colab": {
          "base_uri": "https://localhost:8080/",
          "height": 163
        },
        "outputId": "8ad85f8e-ecfc-4da1-dfa2-dc03087e2f25"
      },
      "source": [
        ""
      ],
      "execution_count": 150,
      "outputs": [
        {
          "output_type": "error",
          "ename": "TypeError",
          "evalue": "ignored",
          "traceback": [
            "\u001b[0;31m---------------------------------------------------------------------------\u001b[0m",
            "\u001b[0;31mTypeError\u001b[0m                                 Traceback (most recent call last)",
            "\u001b[0;32m<ipython-input-150-918b95a1ef88>\u001b[0m in \u001b[0;36m<module>\u001b[0;34m()\u001b[0m\n\u001b[0;32m----> 1\u001b[0;31m \u001b[0mlist\u001b[0m\u001b[0;34m(\u001b[0m\u001b[0mhistory\u001b[0m\u001b[0;34m.\u001b[0m\u001b[0mhistory\u001b[0m\u001b[0;34m)\u001b[0m\u001b[0;34m\u001b[0m\u001b[0;34m\u001b[0m\u001b[0m\n\u001b[0m",
            "\u001b[0;31mTypeError\u001b[0m: 'History' object is not iterable"
          ]
        }
      ]
    },
    {
      "cell_type": "code",
      "metadata": {
        "id": "7JCbTO5X80uS",
        "colab_type": "code",
        "colab": {
          "base_uri": "https://localhost:8080/",
          "height": 231
        },
        "outputId": "a9fbdd31-dc72-4a59-e03e-b95a02934829"
      },
      "source": [
        "# summarize history for loss\n",
        "plt.plot(history.history['loss'])\n",
        "plt.plot(history.history['val_loss'])\n",
        "plt.title('model loss')\n",
        "plt.ylabel('loss')\n",
        "plt.xlabel('epoch')\n",
        "plt.legend(['train', 'valid'], loc='upper right')\n",
        "plt.show()"
      ],
      "execution_count": 153,
      "outputs": [
        {
          "output_type": "error",
          "ename": "TypeError",
          "evalue": "ignored",
          "traceback": [
            "\u001b[0;31m---------------------------------------------------------------------------\u001b[0m",
            "\u001b[0;31mTypeError\u001b[0m                                 Traceback (most recent call last)",
            "\u001b[0;32m<ipython-input-153-4e673159af54>\u001b[0m in \u001b[0;36m<module>\u001b[0;34m()\u001b[0m\n\u001b[0;32m----> 1\u001b[0;31m \u001b[0mplt\u001b[0m\u001b[0;34m.\u001b[0m\u001b[0mplot\u001b[0m\u001b[0;34m(\u001b[0m\u001b[0mhistory\u001b[0m\u001b[0;34m.\u001b[0m\u001b[0mhistory\u001b[0m\u001b[0;34m[\u001b[0m\u001b[0;34m'loss'\u001b[0m\u001b[0;34m]\u001b[0m\u001b[0;34m)\u001b[0m\u001b[0;34m\u001b[0m\u001b[0;34m\u001b[0m\u001b[0m\n\u001b[0m\u001b[1;32m      2\u001b[0m \u001b[0mplt\u001b[0m\u001b[0;34m.\u001b[0m\u001b[0mplot\u001b[0m\u001b[0;34m(\u001b[0m\u001b[0mhistory\u001b[0m\u001b[0;34m.\u001b[0m\u001b[0mhistory\u001b[0m\u001b[0;34m[\u001b[0m\u001b[0;34m'val_loss'\u001b[0m\u001b[0;34m]\u001b[0m\u001b[0;34m)\u001b[0m\u001b[0;34m\u001b[0m\u001b[0;34m\u001b[0m\u001b[0m\n\u001b[1;32m      3\u001b[0m \u001b[0mplt\u001b[0m\u001b[0;34m.\u001b[0m\u001b[0mtitle\u001b[0m\u001b[0;34m(\u001b[0m\u001b[0;34m'model loss'\u001b[0m\u001b[0;34m)\u001b[0m\u001b[0;34m\u001b[0m\u001b[0;34m\u001b[0m\u001b[0m\n\u001b[1;32m      4\u001b[0m \u001b[0mplt\u001b[0m\u001b[0;34m.\u001b[0m\u001b[0mylabel\u001b[0m\u001b[0;34m(\u001b[0m\u001b[0;34m'loss'\u001b[0m\u001b[0;34m)\u001b[0m\u001b[0;34m\u001b[0m\u001b[0;34m\u001b[0m\u001b[0m\n\u001b[1;32m      5\u001b[0m \u001b[0mplt\u001b[0m\u001b[0;34m.\u001b[0m\u001b[0mxlabel\u001b[0m\u001b[0;34m(\u001b[0m\u001b[0;34m'epoch'\u001b[0m\u001b[0;34m)\u001b[0m\u001b[0;34m\u001b[0m\u001b[0;34m\u001b[0m\u001b[0m\n",
            "\u001b[0;31mTypeError\u001b[0m: 'History' object is not subscriptable"
          ]
        }
      ]
    },
    {
      "cell_type": "code",
      "metadata": {
        "id": "10Wjkmn5e2Dw",
        "colab_type": "code",
        "colab": {}
      },
      "source": [
        ""
      ],
      "execution_count": 0,
      "outputs": []
    },
    {
      "cell_type": "code",
      "metadata": {
        "id": "OEeUGLvUjxT-",
        "colab_type": "code",
        "colab": {}
      },
      "source": [
        "def plot_predictions(batch_trials, batch_num):\n",
        "    y_true=format_1[source_Y, batch_trials, window:]     #recovery of Y true values from the dataset\n",
        "    Time = np.linspace(1, 6.25, (time_points - window))\n",
        "    \n",
        "\n",
        "    x_true = format_1[source_X, batch_trials, :]\n",
        "    y_pred = np.zeros((batch_num, time_points - window))  \n",
        "    \n",
        "    for i in range(batch_num):\n",
        "        k = 0\n",
        "        while k < time_points - window:\n",
        "            y_pred[i, k] = model.predict(x_true[i, k : window + k].reshape((1, window, 1)))\n",
        "            k = k + 1\n",
        "    print(y_pred.shape)\n",
        "    \n",
        "    for i in range(2):\n",
        "        plt.figure()\n",
        "        plt.plot(Time, y_true[i], label = \"True\")\n",
        "        plt.plot(Time, y_pred[i], label = \"Predicted\")\n",
        "        plt.legend()"
      ],
      "execution_count": 0,
      "outputs": []
    },
    {
      "cell_type": "code",
      "metadata": {
        "id": "TzDK1oRNkFcj",
        "colab_type": "code",
        "outputId": "e35d8609-a034-4377-fb94-c119a3a44502",
        "colab": {
          "base_uri": "https://localhost:8080/",
          "height": 531
        }
      },
      "source": [
        "plot_predictions(trials_valid, valid_num)\n"
      ],
      "execution_count": 0,
      "outputs": [
        {
          "output_type": "stream",
          "text": [
            "(19, 840)\n"
          ],
          "name": "stdout"
        },
        {
          "output_type": "display_data",
          "data": {
            "image/png": "[encoded data removed]",
            "text/plain": [
              "<Figure size 432x288 with 1 Axes>"
            ]
          },
          "metadata": {
            "tags": []
          }
        },
        {
          "output_type": "display_data",
          "data": {
            "image/png": "[encoded data removed]",
            "text/plain": [
              "<Figure size 432x288 with 1 Axes>"
            ]
          },
          "metadata": {
            "tags": []
          }
        }
      ]
    },
    {
      "cell_type": "code",
      "metadata": {
        "id": "luuF_5TY2ESB",
        "colab_type": "code",
        "outputId": "b1831f3f-0176-4cff-963a-1f6517da06fb",
        "colab": {
          "base_uri": "https://localhost:8080/",
          "height": 132
        }
      },
      "source": [
        "#Visualise and set the best learning rate for the model \n",
        "plt.semilogx(history.history[“lr”], history.history[“loss”])\n",
        "plt.axis([1e-8, 1e-4, 0, 30])"
      ],
      "execution_count": 0,
      "outputs": [
        {
          "output_type": "error",
          "ename": "SyntaxError",
          "evalue": "ignored",
          "traceback": [
            "\u001b[0;36m  File \u001b[0;32m\"<ipython-input-946-e6400c891560>\"\u001b[0;36m, line \u001b[0;32m1\u001b[0m\n\u001b[0;31m    plt.semilogx(history.history[“lr”], history.history[“loss”])\u001b[0m\n\u001b[0m                                    ^\u001b[0m\n\u001b[0;31mSyntaxError\u001b[0m\u001b[0;31m:\u001b[0m invalid character in identifier\n"
          ]
        }
      ]
    },
    {
      "cell_type": "code",
      "metadata": {
        "id": "ac8vT-yI2ESD",
        "colab_type": "code",
        "colab": {}
      },
      "source": [
        "score = model.evaluate(test_X, test_Y)\n",
        "print(\"Test Loss:\", score[0])\n"
      ],
      "execution_count": 0,
      "outputs": []
    },
    {
      "cell_type": "code",
      "metadata": {
        "id": "Uesq5EAX2ESF",
        "colab_type": "code",
        "colab": {}
      },
      "source": [
        "#Graphical Display to plot weights\n",
        "def plot_weights(weights, electi):\n",
        " \n",
        "        \n",
        "    T = np.arange(0, 0.00625*window, 0.00625)                       # creation of the time variable (on 1s) for the abscissa\n",
        "    \n",
        "    nbr_elct = len(electi)\n",
        "    (Lo_W, la_W) = weights[0].shape\n",
        "    Lo_W = int(Lo_W)                                              # number of lines: inputs (160 * nbr_electrodes, for example)\n",
        "    la_W = int(la_W)                                              # number of columns: number of neurons in the layer\n",
        "    \n",
        "    z=0\n",
        "    while z < nbr_elct:                                           # for each electrode\n",
        "        z_1=0 \n",
        "        while z_1 < la_W:                                         # for each neuron of the W layer [1]\n",
        "            W_tmp = tf.slice(K.constant(weights[0]), [0, z_1], [Lo_W, 1])           # slice: starting value [line 0, column of the neuron], dimensions of the section [160 * nbr_electrodes lines, 1 column])\n",
        "            W_tmp = tf.slice(W_tmp, [z*window, 0], [window, 1])       # slice: starting value [first value of the new electrode, column 0], dimensions of the section [160 lines, 1 column]\n",
        "            print (W_tmp.shape)\n",
        "            \n",
        "            plt.plot(T, K.eval(W_tmp), label= (\"neurone_\", z_1, \"layer_1, electrode_\", electi[z]))\n",
        "            z_1 = z_1+1\n",
        "            \n",
        "        z = z+1\n",
        "        \n",
        "    plt.legend()    \n",
        "    plt.show()\n",
        "    "
      ],
      "execution_count": 0,
      "outputs": []
    },
    {
      "cell_type": "code",
      "metadata": {
        "id": "Q354AwSR2ESG",
        "colab_type": "code",
        "colab": {}
      },
      "source": [
        "weights = np.array(model.get_weights()) #Convert the weights into np array\n",
        "\n",
        "plot_weights(weights, electi)            #Plot the weights of the model"
      ],
      "execution_count": 0,
      "outputs": []
    },
    {
      "cell_type": "code",
      "metadata": {
        "id": "9PbK-ywf2ESI",
        "colab_type": "code",
        "colab": {}
      },
      "source": [
        "weights.shape"
      ],
      "execution_count": 0,
      "outputs": []
    },
    {
      "cell_type": "code",
      "metadata": {
        "id": "iLD0D_uSfnlL",
        "colab_type": "code",
        "colab": {}
      },
      "source": [
        ""
      ],
      "execution_count": 0,
      "outputs": []
    }
  ]
}