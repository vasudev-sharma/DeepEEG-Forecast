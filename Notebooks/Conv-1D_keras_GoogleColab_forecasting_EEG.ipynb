{
  "nbformat": 4,
  "nbformat_minor": 0,
  "metadata": {
    "kernelspec": {
      "name": "python3",
      "display_name": "Python 3"
    },
    "language_info": {
      "codemirror_mode": {
        "name": "ipython",
        "version": 3
      },
      "file_extension": ".py",
      "mimetype": "text/x-python",
      "name": "python",
      "nbconvert_exporter": "python",
      "pygments_lexer": "ipython3",
      "version": "3.6.10"
    },
    "colab": {
      "name": "vanilla_RNN_keras_GoogleColab_forecasting_EEG.ipynb",
      "provenance": [],
      "collapsed_sections": [],
      "machine_shape": "hm",
      "include_colab_link": true
    },
    "accelerator": "GPU"
  },
  "cells": [
    {
      "cell_type": "markdown",
      "metadata": {
        "id": "view-in-github",
        "colab_type": "text"
      },
      "source": [
        "<a href=\"https://colab.research.google.com/github/vs74/EEG/blob/master/Notebooks/Conv-1D_keras_GoogleColab_forecasting_EEG.ipynb\" target=\"_parent\"><img src=\"https://colab.research.google.com/assets/colab-badge.svg\" alt=\"Open In Colab\"/></a>"
      ]
    },
    {
      "cell_type": "code",
      "metadata": {
        "id": "oe31xP1M2ERH",
        "colab_type": "code",
        "outputId": "d3a67f9e-16b4-480e-fefa-c1c376e89def",
        "colab": {
          "base_uri": "https://localhost:8080/",
          "height": 80
        }
      },
      "source": [
        "import tensorflow as tf\n",
        "import numpy as np\n",
        "import matplotlib as mpl\n",
        "import matplotlib.pyplot as plt\n",
        "import scipy.io as sio\n",
        "rng = np.random\n",
        "from array import array\n",
        "from scipy import stats\n",
        "\n",
        "#Keras import \n",
        "import keras.backend as K\n",
        "from keras.models import *\n",
        "from keras.layers import *\n",
        "\n",
        "from keras import optimizers\n",
        "from keras.callbacks import *\n",
        "from keras.utils.vis_utils import plot_model\n",
        "\n",
        "\n",
        "#import models\n",
        "#from Linear_Regression import linear_regression \n",
        "\n",
        "#import datetime for tensorboard\n",
        "from datetime import *\n",
        "\n",
        "#Import for reading the MATLAB files\n",
        "import glob\n",
        "\n",
        "\n",
        "#Import Sckit Learn for Grid Search \n",
        "from sklearn.model_selection import GridSearchCV\n",
        "#Preprocessing using scikit learn \n",
        "from sklearn.preprocessing import MinMaxScaler"
      ],
      "execution_count": 1,
      "outputs": [
        {
          "output_type": "display_data",
          "data": {
            "text/html": [
              "<p style=\"color: red;\">\n",
              "The default version of TensorFlow in Colab will soon switch to TensorFlow 2.x.<br>\n",
              "We recommend you <a href=\"https://www.tensorflow.org/guide/migrate\" target=\"_blank\">upgrade</a> now \n",
              "or ensure your notebook will continue to use TensorFlow 1.x via the <code>%tensorflow_version 1.x</code> magic:\n",
              "<a href=\"https://colab.research.google.com/notebooks/tensorflow_version.ipynb\" target=\"_blank\">more info</a>.</p>\n"
            ],
            "text/plain": [
              "<IPython.core.display.HTML object>"
            ]
          },
          "metadata": {
            "tags": []
          }
        },
        {
          "output_type": "stream",
          "text": [
            "Using TensorFlow backend.\n"
          ],
          "name": "stderr"
        }
      ]
    },
    {
      "cell_type": "code",
      "metadata": {
        "id": "H2LXb49-UgzL",
        "colab_type": "code",
        "outputId": "1f8bfcef-ee3d-4823-9682-845065752556",
        "colab": {
          "base_uri": "https://localhost:8080/",
          "height": 34
        }
      },
      "source": [
        "from google.colab import drive\n",
        "drive.mount('/content/drive')"
      ],
      "execution_count": 2,
      "outputs": [
        {
          "output_type": "stream",
          "text": [
            "Drive already mounted at /content/drive; to attempt to forcibly remount, call drive.mount(\"/content/drive\", force_remount=True).\n"
          ],
          "name": "stdout"
        }
      ]
    },
    {
      "cell_type": "code",
      "metadata": {
        "id": "CZFdU0DCUsy8",
        "colab_type": "code",
        "colab": {}
      },
      "source": [
        "#Copy the content from the drive folder to the root directory\n",
        "!cp /content/drive/My\\ Drive/EEG_data/1filtered.mat /content/"
      ],
      "execution_count": 0,
      "outputs": []
    },
    {
      "cell_type": "code",
      "metadata": {
        "id": "q6SHn7T55qdD",
        "colab_type": "code",
        "outputId": "647d3100-3387-4b79-8c19-5db29dce4203",
        "colab": {
          "base_uri": "https://localhost:8080/",
          "height": 68
        }
      },
      "source": [
        "#Check the data is downloaded or not\n",
        "!ls"
      ],
      "execution_count": 4,
      "outputs": [
        {
          "output_type": "stream",
          "text": [
            "1filtered.mat  model_plot.png\t\t     ngrok-stable-linux-amd64.zip.1\n",
            "drive\t       ngrok\t\t\t     ngrok-stable-linux-amd64.zip.2\n",
            "logs\t       ngrok-stable-linux-amd64.zip  sample_data\n"
          ],
          "name": "stdout"
        }
      ]
    },
    {
      "cell_type": "code",
      "metadata": {
        "id": "S8Vpq-qo5Yt6",
        "colab_type": "code",
        "outputId": "bde6ba39-a57f-4146-a55e-3a497440ee05",
        "colab": {
          "base_uri": "https://localhost:8080/",
          "height": 34
        }
      },
      "source": [
        "#Ensure Google COlab is utilising GPU \n",
        "tf.test.gpu_device_name()\n"
      ],
      "execution_count": 5,
      "outputs": [
        {
          "output_type": "execute_result",
          "data": {
            "text/plain": [
              "'/device:GPU:0'"
            ]
          },
          "metadata": {
            "tags": []
          },
          "execution_count": 5
        }
      ]
    },
    {
      "cell_type": "code",
      "metadata": {
        "id": "ySSRppr02ERN",
        "colab_type": "code",
        "outputId": "30e17bf9-97dd-40e0-8744-0a37c59fe50f",
        "colab": {
          "base_uri": "https://localhost:8080/",
          "height": 102
        }
      },
      "source": [
        "\n",
        "#Ensure that GPU memory utilisation is full\n",
        "# memory footprint support libraries/code\n",
        "!ln -sf /opt/bin/nvidia-smi /usr/bin/nvidia-smi\n",
        "!pip install gputil\n",
        "!pip install psutil\n",
        "!pip install humanize\n",
        "import psutil\n",
        "import humanize\n",
        "import os\n",
        "import GPUtil as GPU\n",
        "GPUs = GPU.getGPUs()\n",
        "# XXX: only one GPU on Colab and isn’t guaranteed\n",
        "gpu = GPUs[0]\n",
        "def printm():\n",
        " process = psutil.Process(os.getpid())\n",
        " print(\"Gen RAM Free: \" + humanize.naturalsize( psutil.virtual_memory().available ), \" | Proc size: \" + humanize.naturalsize( process.memory_info().rss))\n",
        " print(\"GPU RAM Free: {0:.0f}MB | Used: {1:.0f}MB | Util {2:3.0f}% | Total {3:.0f}MB\".format(gpu.memoryFree, gpu.memoryUsed, gpu.memoryUtil*100, gpu.memoryTotal))\n",
        "printm() "
      ],
      "execution_count": 6,
      "outputs": [
        {
          "output_type": "stream",
          "text": [
            "Requirement already satisfied: gputil in /usr/local/lib/python3.6/dist-packages (1.4.0)\n",
            "Requirement already satisfied: psutil in /usr/local/lib/python3.6/dist-packages (5.4.8)\n",
            "Requirement already satisfied: humanize in /usr/local/lib/python3.6/dist-packages (0.5.1)\n",
            "Gen RAM Free: 25.2 GB  | Proc size: 469.2 MB\n",
            "GPU RAM Free: 11372MB | Used: 69MB | Util   1% | Total 11441MB\n"
          ],
          "name": "stdout"
        }
      ]
    },
    {
      "cell_type": "code",
      "metadata": {
        "id": "jsY31tfWbo3w",
        "colab_type": "code",
        "colab": {
          "base_uri": "https://localhost:8080/",
          "height": 34
        },
        "outputId": "47cdd773-ec64-4694-f1ee-d050c250bd97"
      },
      "source": [
        "'''!nvidia-smi\n",
        "!kill 0\n",
        "'''"
      ],
      "execution_count": 7,
      "outputs": [
        {
          "output_type": "execute_result",
          "data": {
            "text/plain": [
              "'!nvidia-smi\\n!kill 0\\n'"
            ]
          },
          "metadata": {
            "tags": []
          },
          "execution_count": 7
        }
      ]
    },
    {
      "cell_type": "code",
      "metadata": {
        "id": "DNu8gZkY4W7_",
        "colab_type": "code",
        "outputId": "fc3a8cb7-2bc7-4478-dbf7-fa1e6606c89f",
        "colab": {
          "base_uri": "https://localhost:8080/",
          "height": 34
        }
      },
      "source": [
        "'''\n",
        "#Visualize Using Tenosrboard\n",
        "!wget https://bin.equinox.io/c/4VmDzA7iaHb/ngrok-stable-linux-amd64.zip\n",
        "!unzip ngrok-stable-linux-amd64.zip\n",
        "'''"
      ],
      "execution_count": 12,
      "outputs": [
        {
          "output_type": "execute_result",
          "data": {
            "text/plain": [
              "'\\n#Visualize Using Tenosrboard\\n!wget https://bin.equinox.io/c/4VmDzA7iaHb/ngrok-stable-linux-amd64.zip\\n!unzip ngrok-stable-linux-amd64.zip\\n'"
            ]
          },
          "metadata": {
            "tags": []
          },
          "execution_count": 12
        }
      ]
    },
    {
      "cell_type": "code",
      "metadata": {
        "scrolled": true,
        "id": "x5jjdQ5p2ERT",
        "colab_type": "code",
        "outputId": "0e068084-0ce0-47d4-8c47-b391f8958b2f",
        "colab": {
          "base_uri": "https://localhost:8080/",
          "height": 34
        }
      },
      "source": [
        "\n",
        "\n",
        "\n",
        "# data import from matlab\n",
        "subject_1 = sio.loadmat('1filtered.mat')      #recovering matlab data in the form of a python dictionar\n",
        "format_1 = subject_1['data']          #in the dictionary, only the data key interests us\n",
        "print (format_1.shape)\n",
        "\n",
        "# shuffle trials\n",
        "(channel, trial, time_points)= format_1.shape\n",
        "\n",
        "trials = np.arange(trial)\n",
        "np.random.shuffle(trials)\n",
        "\n",
        "#Z score\n",
        "format_1=stats.zscore(format_1, axis=2)"
      ],
      "execution_count": 8,
      "outputs": [
        {
          "output_type": "stream",
          "text": [
            "(65, 192, 1000)\n"
          ],
          "name": "stdout"
        }
      ]
    },
    {
      "cell_type": "code",
      "metadata": {
        "id": "CywHnuB82ERZ",
        "colab_type": "code",
        "outputId": "5b740855-54ae-4b20-8398-18df6d522a37",
        "colab": {
          "base_uri": "https://localhost:8080/",
          "height": 54
        }
      },
      "source": [
        "'''\n",
        "#Plot EEG\n",
        "#plot of a single channel of EEG\n",
        "%matplotlib inline\n",
        "Time = np.linspace(0, 6.25, 1000)\n",
        "for i in range (channel):\n",
        "    plt.plot(Time, format_1[i][0])\n",
        "    plt.figure()\n",
        "\n",
        "plt.plot(Time, format_1[52][1])\n",
        "\n",
        "'''"
      ],
      "execution_count": 9,
      "outputs": [
        {
          "output_type": "execute_result",
          "data": {
            "text/plain": [
              "'\\n#Plot EEG\\n#plot of a single channel of EEG\\n%matplotlib inline\\nTime = np.linspace(0, 6.25, 1000)\\nfor i in range (channel):\\n    plt.plot(Time, format_1[i][0])\\n    plt.figure()\\n\\nplt.plot(Time, format_1[52][1])\\n\\n'"
            ]
          },
          "metadata": {
            "tags": []
          },
          "execution_count": 9
        }
      ]
    },
    {
      "cell_type": "code",
      "metadata": {
        "id": "e-RZqJH12ERc",
        "colab_type": "code",
        "outputId": "4868c35b-e6cb-4e24-883b-94fa1044104d",
        "colab": {
          "base_uri": "https://localhost:8080/",
          "height": 156
        }
      },
      "source": [
        "# parametres\n",
        "\n",
        "eltmp = input ('''Enter the electrode number:''')\n",
        "electi = list(map(int, eltmp.split()))    #separation of the different responses and recovery in the form of a list of integers\n",
        "print (type(electi))\n",
        "print(electi)\n",
        "\n",
        "window = input ('''Enter the number of stimuli:''')\n",
        "window = int(window)\n",
        "\n",
        "n_channel = int(input('''Enter  the chanel number for which you want your predicion'''))\n",
        "\n",
        "\n",
        "relation = input('''Please define what should be predicted (1 for EEG from stimulus or 2 for stimulus from EEG or 3 for EEG forecasting ):''')\n",
        "\n",
        "if relation == '1':\n",
        "    response = input(\"Do you want to embed information of EEG as well ? ( 1 for yes or 2 for no)\")\n",
        "    if response == \"2\":\n",
        "      source_Y = electi[0]    #retrieving the electrode number as a whole number - implies that there is only one electrode chosen in this direction\n",
        "      source_X = [0]          #conversion of the stimuli line in the form of a list - necessary for the for loop: see below - extraction X\n",
        "    else:\n",
        "      source_Y = electi[0]\n",
        "      source_X = [0] + electi[0]\n",
        "\n",
        "elif relation == '2':\n",
        "    format_1 = np.flip(format_1,2)     # data inversion according to the time dimension - problem ????\n",
        "    source_Y = 0\n",
        "    source_X = electi\n",
        "    \n",
        "elif relation == '3':\n",
        "    response = input(\"Do you want to embed information of Stimuli as well ? ( 1 for yes or 2 for no)\") \n",
        "    if response == \"2\":\n",
        "      source_Y = n_channel\n",
        "      source_X = electi\n",
        "    else: \n",
        "      source_Y = n_channel\n",
        "      source_X = electi + [0]       \n"
      ],
      "execution_count": 10,
      "outputs": [
        {
          "output_type": "stream",
          "text": [
            "Enter the electrode number:1 2 3 4 5 6 7 8 9 10 11 12 13 14 15 16 17 18 19 20 21 22 23 24 25 26 27 28 29 31 32 33 34 35 36 37 38 39 40 41 42 43 44 45 46 47 48 49 50 51 52 53 54 55 56 57 58 59 60 61 62 63 64 \n",
            "<class 'list'>\n",
            "[1, 2, 3, 4, 5, 6, 7, 8, 9, 10, 11, 12, 13, 14, 15, 16, 17, 18, 19, 20, 21, 22, 23, 24, 25, 26, 27, 28, 29, 31, 32, 33, 34, 35, 36, 37, 38, 39, 40, 41, 42, 43, 44, 45, 46, 47, 48, 49, 50, 51, 52, 53, 54, 55, 56, 57, 58, 59, 60, 61, 62, 63, 64]\n",
            "Enter the number of stimuli:160\n",
            "Enter  the chanel number for which you want your predicion30\n",
            "Please define what should be predicted (1 for EEG from stimulus or 2 for stimulus from EEG or 3 for EEG forecasting ):3\n",
            "Do you want to embed information of Stimuli as well ? ( 1 for yes or 2 for no)1\n"
          ],
          "name": "stdout"
        }
      ]
    },
    {
      "cell_type": "code",
      "metadata": {
        "id": "ZvTpCrv8maTA",
        "colab_type": "code",
        "outputId": "0fa00140-d2b4-48c5-c5ed-042d5fef141b",
        "colab": {
          "base_uri": "https://localhost:8080/",
          "height": 51
        }
      },
      "source": [
        "elec = int(input(\"Enter the electrode for which you want prediction \"))\n",
        "for i in range(1, 65):\n",
        "  if(i!=elec):\n",
        "    print(i, end = \" \")\n",
        "\n",
        "\n",
        "\n"
      ],
      "execution_count": 214,
      "outputs": [
        {
          "output_type": "stream",
          "text": [
            "Enter the electrode for which you want prediction 30\n",
            "1 2 3 4 5 6 7 8 9 10 11 12 13 14 15 16 17 18 19 20 21 22 23 24 25 26 27 28 29 31 32 33 34 35 36 37 38 39 40 41 42 43 44 45 46 47 48 49 50 51 52 53 54 55 56 57 58 59 60 61 62 63 64 "
          ],
          "name": "stdout"
        }
      ]
    },
    {
      "cell_type": "code",
      "metadata": {
        "id": "yodU9VVJ2ERe",
        "colab_type": "code",
        "colab": {}
      },
      "source": [
        "#### separation of train tests / valid / test\n",
        "\n",
        "train_num = int(np.around(len(trials) * 0.8))\n",
        "valid_num = int(np.around(len(trials) * 0.1))\n",
        "test_num = len(trials) - train_num - valid_num\n",
        "\n",
        "\n",
        "trials_train = trials[0:train_num]\n",
        "trials_valid = trials[train_num:train_num+valid_num]\n",
        "trials_test = trials[train_num+valid_num:]\n"
      ],
      "execution_count": 0,
      "outputs": []
    },
    {
      "cell_type": "code",
      "metadata": {
        "id": "xI_1H-GsV1pX",
        "colab_type": "code",
        "colab": {}
      },
      "source": [
        "trials_train = np.array([172, 125, 136,  99,  82,  31, 133,  44, 183, 184, 142, 121,  18,\n",
        "        89, 141,  27, 107,  49,  68, 186,  70,  92, 109,   6, 147, 124,\n",
        "       117, 161, 137,  39, 157, 159,   4,  23,  25, 145, 179, 118, 163,\n",
        "       106,  69, 187,  76, 108, 188,  32, 178,  19,  26,  72, 168, 158,\n",
        "        55,   8, 167,  11,  30,  59,  80,  95,  60, 148, 153,  45,  20,\n",
        "       152,  73,  48,  36, 100, 185, 131, 138,   3,  13,  97, 126, 171,\n",
        "       130,  54,   2,  50,  75,  83,  33, 174, 140,  79, 113, 146,  81,\n",
        "        64,  63,  46, 170,  16, 173, 156,  90, 103, 144,  29,  58,  47,\n",
        "       105, 189,  56,  34,  12, 165, 122, 119,  94,  42,  24,  37,  14,\n",
        "        65,  93,  87, 154,  77, 166, 114, 112, 160, 164,  51, 139,  84,\n",
        "       169,  85, 162,  88,  66, 155,  78,  28,   9,   1,  98, 132, 175,\n",
        "       177, 115,  96, 111,  52,  21, 180,  61, 191, 143,  10])\n",
        "\n",
        "trials_valid = np.array([ 67,  15,  38,  22,   0,  74, 182, 151,  91,  43,  53, 123, 127,\n",
        "       128, 149, 190, 134, 102, 181])\n",
        "\n",
        "trials_test = np.array([116,  57, 110,   7,  40, 176, 150,  41, 120, 135, 101,  71,  62,\n",
        "        86, 129,  35, 104,   5,  17])"
      ],
      "execution_count": 0,
      "outputs": []
    },
    {
      "cell_type": "code",
      "metadata": {
        "id": "IbCiQ21d2ERf",
        "colab_type": "code",
        "colab": {
          "base_uri": "https://localhost:8080/",
          "height": 68
        },
        "outputId": "1ef2beb7-dd80-4de0-d477-74072f9c8441"
      },
      "source": [
        "# extract data from format_1\n",
        "def extract_Y (batch_trials, batch_num):              #creation of a function to recover y - simplification of reading\n",
        "    y = []\n",
        "    for i in range(len(source_X)):\n",
        "        y_tmp=format_1[i, batch_trials, stim:]     #recovery of Y in the form of a matrix of 154 * 840\n",
        "        y_tmp=np.reshape(y_tmp, ((time_points-stim)*batch_num))    #passage through the list of 129 360 values ​​(test 0, test 1, ... test 153)\n",
        "        y_tmp=np.matrix(y_tmp)                           #1 * 129360 matrix conversion\n",
        "        y_tmp=np.transpose(y_tmp)                        #transposition into a matrix of 129360 * 1, matrix equal to that of Matlab (necessary for the rest)\n",
        "        y.append(y_tmp)\n",
        "    return(np.hstack(y))                                     #returns the content of y_tmp\n",
        "y_train = extract_Y (trials_train, train_num)\n",
        "print (\"y_train.shape = \", y_train.shape)\n",
        "y_valid = extract_Y (trials_valid, valid_num)\n",
        "print (\"y_valid.shape = \", y_valid.shape)\n",
        "y_test = extract_Y (trials_test, test_num)\n",
        "print (\"y_test.shape = \", y_test.shape)\n"
      ],
      "execution_count": 13,
      "outputs": [
        {
          "output_type": "stream",
          "text": [
            "y_train.shape =  (129360, 1)\n",
            "y_valid.shape =  (15960, 1)\n",
            "y_test.shape =  (15960, 1)\n"
          ],
          "name": "stdout"
        }
      ]
    },
    {
      "cell_type": "code",
      "metadata": {
        "id": "eI9-MbGIOyQJ",
        "colab_type": "code",
        "colab": {}
      },
      "source": [
        "\n",
        "from more_itertools import windowed"
      ],
      "execution_count": 0,
      "outputs": []
    },
    {
      "cell_type": "code",
      "metadata": {
        "id": "fqY26_j_2ERi",
        "colab_type": "code",
        "outputId": "c462e887-4ddb-4d8f-b01a-55ab0a87fc5e",
        "colab": {
          "base_uri": "https://localhost:8080/",
          "height": 68
        }
      },
      "source": [
        "\n",
        "def extract_X (batch_trials, batch_num):                     #creation of a function to recover x - simplification of reading\n",
        "  \n",
        "    x = []                                            \n",
        "    for i in source_X:                                      #reading the source list -> reading each electrode number if flip\n",
        "      x_tmp = []\n",
        "      for j in batch_trials:\n",
        "        tmp = rolling_window(format_1[i, j, :-1], window)\n",
        "        x_tmp.append(tmp)\n",
        "      x.append(np.vstack(x_tmp))\n",
        "    x = np.hstack(x)\n",
        "    x = np.array(np.split(x, len(source_X), axis = -1))\n",
        "    x = np.moveaxis(x, 0, 1)\n",
        "    x = np.moveaxis(x, 1, 2)\n",
        "    return x\n",
        "\n",
        "\n",
        "        \n",
        "x_train = extract_X (trials_train, train_num)\n",
        "print (\"x_train.shape = \", x_train.shape)\n",
        "x_valid = extract_X (trials_valid, valid_num)\n",
        "print (\"x_valid.shape = \", x_valid.shape)\n",
        "x_test = extract_X (trials_test, test_num)\n",
        "print (\"x_test.shape = \", x_test.shape)"
      ],
      "execution_count": 17,
      "outputs": [
        {
          "output_type": "stream",
          "text": [
            "x_train.shape =  (129360, 160, 64)\n",
            "x_valid.shape =  (15960, 160, 64)\n",
            "x_test.shape =  (15960, 160, 64)\n"
          ],
          "name": "stdout"
        }
      ]
    },
    {
      "cell_type": "code",
      "metadata": {
        "id": "SIILgjuhOIcd",
        "colab_type": "code",
        "colab": {
          "base_uri": "https://localhost:8080/",
          "height": 350
        },
        "outputId": "1675c442-2cb6-40e6-bc6e-7b9ed9d356f6"
      },
      "source": [
        "def extract_X (batch_trials, batch_num):                     #creation of a function to recover x - simplification of reading\n",
        "    x_tmp = [[]]*((time_points-stim)*batch_num)                       #creation of an empty list x_tmp of size (129630,)\n",
        "    x_tmp = np.matrix(x_tmp)                                #conversion as a matrix 129630 * 0 (number of lines good)\n",
        "    x_tmp = np.transpose(x_tmp)                             #transposition 1: form 0 * 129630, necessary at n.append\n",
        "                                                            #avoid the transposition line in the for loop (2 transpo instead of 160\n",
        "    for i in source_X:                                      #reading the source list -> reading each electrode number if flip\n",
        "        \n",
        "        k = 0\n",
        "        while k < stim:                                     #160 loops - recovery of the 840 values ​​of each test (in the form test 1, test 2, ...), shifted by 1 at each iteration\n",
        "            tmp = format_1[i, batch_trials, k:(time_points-stim+k)]    #see extract_Y\n",
        "            tmp = np.reshape(tmp,((time_points-stim)*batch_num))\n",
        "            tmp = np.matrix(tmp)\n",
        "            \n",
        "            x_tmp = np.append(x_tmp, tmp, axis=0)           #concatenation of the matrix tmp 1 * 129360 at the end of the matrix x_tmp (k + 1) * 129360\n",
        "            k = k+1\n",
        "    x_tmp = np.transpose(x_tmp)                             #transposition 2: form 129360 * (160 * nbr_électrode)\n",
        "    return x_tmp\n",
        "        \n",
        "x_train = extract_X (trials_train, train_num)\n",
        "print (\"x_train.shape = \", x_train.shape)\n",
        "x_valid = extract_X (trials_valid, valid_num)\n",
        "print (\"x_valid.shape = \", x_valid.shape)\n",
        "x_test = extract_X (trials_test, test_num)\n",
        "print (\"x_test.shape = \", x_test.shape)"
      ],
      "execution_count": 18,
      "outputs": [
        {
          "output_type": "error",
          "ename": "NameError",
          "evalue": "ignored",
          "traceback": [
            "\u001b[0;31m---------------------------------------------------------------------------\u001b[0m",
            "\u001b[0;31mNameError\u001b[0m                                 Traceback (most recent call last)",
            "\u001b[0;32m<ipython-input-18-1c19d0e5cdb9>\u001b[0m in \u001b[0;36m<module>\u001b[0;34m()\u001b[0m\n\u001b[1;32m     17\u001b[0m     \u001b[0;32mreturn\u001b[0m \u001b[0mx_tmp\u001b[0m\u001b[0;34m\u001b[0m\u001b[0;34m\u001b[0m\u001b[0m\n\u001b[1;32m     18\u001b[0m \u001b[0;34m\u001b[0m\u001b[0m\n\u001b[0;32m---> 19\u001b[0;31m \u001b[0mx_train\u001b[0m \u001b[0;34m=\u001b[0m \u001b[0mextract_X\u001b[0m \u001b[0;34m(\u001b[0m\u001b[0mtrials_train\u001b[0m\u001b[0;34m,\u001b[0m \u001b[0mtrain_num\u001b[0m\u001b[0;34m)\u001b[0m\u001b[0;34m\u001b[0m\u001b[0;34m\u001b[0m\u001b[0m\n\u001b[0m\u001b[1;32m     20\u001b[0m \u001b[0mprint\u001b[0m \u001b[0;34m(\u001b[0m\u001b[0;34m\"x_train.shape = \"\u001b[0m\u001b[0;34m,\u001b[0m \u001b[0mx_train\u001b[0m\u001b[0;34m.\u001b[0m\u001b[0mshape\u001b[0m\u001b[0;34m)\u001b[0m\u001b[0;34m\u001b[0m\u001b[0;34m\u001b[0m\u001b[0m\n\u001b[1;32m     21\u001b[0m \u001b[0mx_valid\u001b[0m \u001b[0;34m=\u001b[0m \u001b[0mextract_X\u001b[0m \u001b[0;34m(\u001b[0m\u001b[0mtrials_valid\u001b[0m\u001b[0;34m,\u001b[0m \u001b[0mvalid_num\u001b[0m\u001b[0;34m)\u001b[0m\u001b[0;34m\u001b[0m\u001b[0;34m\u001b[0m\u001b[0m\n",
            "\u001b[0;32m<ipython-input-18-1c19d0e5cdb9>\u001b[0m in \u001b[0;36mextract_X\u001b[0;34m(batch_trials, batch_num)\u001b[0m\n\u001b[1;32m      1\u001b[0m \u001b[0;32mdef\u001b[0m \u001b[0mextract_X\u001b[0m \u001b[0;34m(\u001b[0m\u001b[0mbatch_trials\u001b[0m\u001b[0;34m,\u001b[0m \u001b[0mbatch_num\u001b[0m\u001b[0;34m)\u001b[0m\u001b[0;34m:\u001b[0m                     \u001b[0;31m#creation of a function to recover x - simplification of reading\u001b[0m\u001b[0;34m\u001b[0m\u001b[0;34m\u001b[0m\u001b[0m\n\u001b[0;32m----> 2\u001b[0;31m     \u001b[0mx_tmp\u001b[0m \u001b[0;34m=\u001b[0m \u001b[0;34m[\u001b[0m\u001b[0;34m[\u001b[0m\u001b[0;34m]\u001b[0m\u001b[0;34m]\u001b[0m\u001b[0;34m*\u001b[0m\u001b[0;34m(\u001b[0m\u001b[0;34m(\u001b[0m\u001b[0mtime_points\u001b[0m\u001b[0;34m-\u001b[0m\u001b[0mstim\u001b[0m\u001b[0;34m)\u001b[0m\u001b[0;34m*\u001b[0m\u001b[0mbatch_num\u001b[0m\u001b[0;34m)\u001b[0m                       \u001b[0;31m#creation of an empty list x_tmp of size (129630,)\u001b[0m\u001b[0;34m\u001b[0m\u001b[0;34m\u001b[0m\u001b[0m\n\u001b[0m\u001b[1;32m      3\u001b[0m     \u001b[0mx_tmp\u001b[0m \u001b[0;34m=\u001b[0m \u001b[0mnp\u001b[0m\u001b[0;34m.\u001b[0m\u001b[0mmatrix\u001b[0m\u001b[0;34m(\u001b[0m\u001b[0mx_tmp\u001b[0m\u001b[0;34m)\u001b[0m                                \u001b[0;31m#conversion as a matrix 129630 * 0 (number of lines good)\u001b[0m\u001b[0;34m\u001b[0m\u001b[0;34m\u001b[0m\u001b[0m\n\u001b[1;32m      4\u001b[0m     \u001b[0mx_tmp\u001b[0m \u001b[0;34m=\u001b[0m \u001b[0mnp\u001b[0m\u001b[0;34m.\u001b[0m\u001b[0mtranspose\u001b[0m\u001b[0;34m(\u001b[0m\u001b[0mx_tmp\u001b[0m\u001b[0;34m)\u001b[0m                             \u001b[0;31m#transposition 1: form 0 * 129630, necessary at n.append\u001b[0m\u001b[0;34m\u001b[0m\u001b[0;34m\u001b[0m\u001b[0m\n\u001b[1;32m      5\u001b[0m                                                             \u001b[0;31m#avoid the transposition line in the for loop (2 transpo instead of 160\u001b[0m\u001b[0;34m\u001b[0m\u001b[0;34m\u001b[0m\u001b[0;34m\u001b[0m\u001b[0m\n",
            "\u001b[0;31mNameError\u001b[0m: name 'stim' is not defined"
          ]
        }
      ]
    },
    {
      "cell_type": "code",
      "metadata": {
        "id": "q02ecJHYVVp5",
        "colab_type": "code",
        "colab": {}
      },
      "source": [
        "def rolling_window(a, window):\n",
        "    shape = a.shape[:-1] + (a.shape[-1] - window + 1, window)\n",
        "    strides = a.strides + (a.strides[-1],)\n",
        "    return np.lib.stride_tricks.as_strided(a, shape=shape, strides=strides)"
      ],
      "execution_count": 0,
      "outputs": []
    },
    {
      "cell_type": "code",
      "metadata": {
        "id": "YADYrkgq2ERk",
        "colab_type": "code",
        "colab": {
          "base_uri": "https://localhost:8080/",
          "height": 51
        },
        "outputId": "f2658829-6c69-495c-eff2-32bdc67f6563"
      },
      "source": [
        "#tensorflow - Linear regression cf github\n",
        "\n",
        "\n",
        "train_X = x_train\n",
        "print(train_X.shape)\n",
        "train_Y = y_train\n",
        "print(train_Y.shape)\n",
        "n_samples_train = train_X.shape[0]\n",
        "\n",
        "valid_X = x_valid\n",
        "valid_Y = y_valid\n",
        "n_samples_valid = valid_X.shape[0]\n",
        "\n",
        "test_X = x_test\n",
        "test_Y = y_test\n",
        "n_samples_test = test_X.shape[0]"
      ],
      "execution_count": 19,
      "outputs": [
        {
          "output_type": "stream",
          "text": [
            "(129360, 160, 64)\n",
            "(129360, 1)\n"
          ],
          "name": "stdout"
        }
      ]
    },
    {
      "cell_type": "code",
      "metadata": {
        "id": "y_F2z8BvLVvh",
        "colab_type": "code",
        "outputId": "02db2b0d-05ed-4925-9a1e-b6d56ca60fb8",
        "colab": {
          "base_uri": "https://localhost:8080/",
          "height": 34
        }
      },
      "source": [
        "type(train_X.shape)"
      ],
      "execution_count": 20,
      "outputs": [
        {
          "output_type": "execute_result",
          "data": {
            "text/plain": [
              "tuple"
            ]
          },
          "metadata": {
            "tags": []
          },
          "execution_count": 20
        }
      ]
    },
    {
      "cell_type": "code",
      "metadata": {
        "id": "hpOGGHsxJ53Z",
        "colab_type": "code",
        "colab": {
          "base_uri": "https://localhost:8080/",
          "height": 54
        },
        "outputId": "078484f6-420f-49f6-e31b-b412e40bf0a1"
      },
      "source": [
        "'''\n",
        "\n",
        "\n",
        "\n",
        "def prepare_data_lstm(train, valid, test):\n",
        "  #Tranfrom Numpy matrix to numpy array \n",
        "  train = np.array(train)\n",
        "  valid = np.array(valid)\n",
        "  test =  np.array(test)\n",
        "\n",
        "  #Number of features for prediction\n",
        "  features = train.shape[-1] / window         \n",
        "  print(features)   \n",
        "\n",
        "  #Split the training set into the [Samples, Time_Step, Features] dimension to feed into LSTM network\n",
        "  train = np.array(np.split(train, features, axis = -1))\n",
        "  valid = np.array(np.split(valid, features, axis = -1))\n",
        "  test =  np.array(np.split(test, features, axis = -1))\n",
        "\n",
        "  #Resphape the Training_Set\n",
        "  train = np.moveaxis(train, 0, -1)\n",
        "  valid = np.moveaxis(valid, 0, -1)\n",
        "  test = np.moveaxis(test, 0, -1)\n",
        "\n",
        "\n",
        "  return train, valid, test\n",
        "'''"
      ],
      "execution_count": 21,
      "outputs": [
        {
          "output_type": "execute_result",
          "data": {
            "text/plain": [
              "'\\n\\n\\n\\ndef prepare_data_lstm(train, valid, test):\\n  #Tranfrom Numpy matrix to numpy array \\n  train = np.array(train)\\n  valid = np.array(valid)\\n  test =  np.array(test)\\n\\n  #Number of features for prediction\\n  features = train.shape[-1] / window         \\n  print(features)   \\n\\n  #Split the training set into the [Samples, Time_Step, Features] dimension to feed into LSTM network\\n  train = np.array(np.split(train, features, axis = -1))\\n  valid = np.array(np.split(valid, features, axis = -1))\\n  test =  np.array(np.split(test, features, axis = -1))\\n\\n  #Resphape the Training_Set\\n  train = np.moveaxis(train, 0, -1)\\n  valid = np.moveaxis(valid, 0, -1)\\n  test = np.moveaxis(test, 0, -1)\\n\\n\\n  return train, valid, test\\n'"
            ]
          },
          "metadata": {
            "tags": []
          },
          "execution_count": 21
        }
      ]
    },
    {
      "cell_type": "code",
      "metadata": {
        "id": "gBSn6bvcK2n5",
        "colab_type": "code",
        "colab": {}
      },
      "source": [
        "\n",
        "#train, valid, test = prepare_data_lstm(train_X, valid_X, test_X)"
      ],
      "execution_count": 0,
      "outputs": []
    },
    {
      "cell_type": "code",
      "metadata": {
        "id": "FefOyH9eLMi3",
        "colab_type": "code",
        "colab": {
          "base_uri": "https://localhost:8080/",
          "height": 68
        },
        "outputId": "aaa3156c-ae9f-481a-cd19-08e3e9a9f498"
      },
      "source": [
        "\n",
        "#Sanity Check dimension of Input\n",
        "print(\"Shape of Train_X  = \", train_X.shape)\n",
        "print(\"Shape of Valid_X  = \", valid_X.shape)\n",
        "print(\"Shape of Test_X   = \",test_X.shape )\n",
        "\n",
        "\n",
        "\n"
      ],
      "execution_count": 23,
      "outputs": [
        {
          "output_type": "stream",
          "text": [
            "Shape of Train_X  =  (129360, 160, 64)\n",
            "Shape of Valid_X  =  (15960, 160, 64)\n",
            "Shape of Test_X   =  (15960, 160, 64)\n"
          ],
          "name": "stdout"
        }
      ]
    },
    {
      "cell_type": "code",
      "metadata": {
        "id": "I2OttVz6l5wm",
        "colab_type": "code",
        "colab": {}
      },
      "source": [
        ""
      ],
      "execution_count": 0,
      "outputs": []
    },
    {
      "cell_type": "code",
      "metadata": {
        "id": "t3-uB5j6WWwn",
        "colab_type": "code",
        "colab": {}
      },
      "source": [
        "from keras import backend as K\n",
        "\n",
        "curr_session = tf.get_default_session()\n",
        "# close current session\n",
        "if curr_session is not None:\n",
        "    curr_session.close()\n",
        "# reset graph\n",
        "K.clear_session()\n",
        "# create new session\n",
        "s = tf.InteractiveSession()\n",
        "K.set_session(s)"
      ],
      "execution_count": 0,
      "outputs": []
    },
    {
      "cell_type": "code",
      "metadata": {
        "id": "Uqo14WsW40hC",
        "colab_type": "code",
        "colab": {}
      },
      "source": [
        "#Parameters of model\n",
        "model_name = \"Conv-1D\"\n",
        "optimizer_name = \"sgd\"\n",
        "training_epochs = 100\n",
        "batch_size = 1024\n",
        "\n",
        "layers = 2\n",
        "learning_rate = 0.01\n",
        "normalized_data = True\n",
        "features = train_X.shape[-1]"
      ],
      "execution_count": 0,
      "outputs": []
    },
    {
      "cell_type": "code",
      "metadata": {
        "id": "f2MSn7F52ERo",
        "colab_type": "code",
        "colab": {}
      },
      "source": [
        "\n",
        "\n",
        "\n",
        "def conv_1D(layers, features):\n",
        "    inp = Input([window, features])\n",
        "    X = inp\n",
        "    \n",
        "    X = Conv1D(filters = 2, kernel_size = 5, activation='relu')(X)\n",
        "    X = MaxPooling1D(pool_size= 2)(X)\n",
        "\n",
        "  \n",
        "    for i in range(layers):\n",
        "      X = Conv1D(filters = 4, kernel_size = 5, activation='relu')(X)\n",
        "      X = MaxPooling1D(pool_size= 2)(X)\n",
        "    \n",
        "    X = Flatten()(X)\n",
        "    #X = Dense(50, activation = \"relu\")(X)\n",
        "    out = Dense(1, activation = \"linear\",  kernel_initializer = 'normal')(X)\n",
        "    \n",
        "    model = Model(inputs = inp, outputs = out)\n",
        "    return model \n",
        "    "
      ],
      "execution_count": 0,
      "outputs": []
    },
    {
      "cell_type": "code",
      "metadata": {
        "id": "YUwdv98D2ERq",
        "colab_type": "code",
        "colab": {}
      },
      "source": [
        "#Define Keras Model \n",
        "model = conv_1D(layers, features)\n"
      ],
      "execution_count": 0,
      "outputs": []
    },
    {
      "cell_type": "code",
      "metadata": {
        "id": "mzzmVgF52ERs",
        "colab_type": "code",
        "outputId": "3c3a5e87-4328-4475-d576-5f2fd228f7b9",
        "colab": {
          "base_uri": "https://localhost:8080/",
          "height": 163
        }
      },
      "source": [
        "hidden_layers"
      ],
      "execution_count": 76,
      "outputs": [
        {
          "output_type": "error",
          "ename": "NameError",
          "evalue": "ignored",
          "traceback": [
            "\u001b[0;31m---------------------------------------------------------------------------\u001b[0m",
            "\u001b[0;31mNameError\u001b[0m                                 Traceback (most recent call last)",
            "\u001b[0;32m<ipython-input-76-8187eea99788>\u001b[0m in \u001b[0;36m<module>\u001b[0;34m()\u001b[0m\n\u001b[0;32m----> 1\u001b[0;31m \u001b[0mhidden_layers\u001b[0m\u001b[0;34m\u001b[0m\u001b[0;34m\u001b[0m\u001b[0m\n\u001b[0m",
            "\u001b[0;31mNameError\u001b[0m: name 'hidden_layers' is not defined"
          ]
        }
      ]
    },
    {
      "cell_type": "code",
      "metadata": {
        "id": "rAqrciJC2ERu",
        "colab_type": "code",
        "outputId": "4e72fc2c-47de-4188-dee0-27d9f7778ba3",
        "colab": {
          "base_uri": "https://localhost:8080/",
          "height": 459
        }
      },
      "source": [
        "model.summary()"
      ],
      "execution_count": 77,
      "outputs": [
        {
          "output_type": "stream",
          "text": [
            "Model: \"model_1\"\n",
            "_________________________________________________________________\n",
            "Layer (type)                 Output Shape              Param #   \n",
            "=================================================================\n",
            "input_1 (InputLayer)         (None, 160, 64)           0         \n",
            "_________________________________________________________________\n",
            "conv1d_1 (Conv1D)            (None, 156, 2)            642       \n",
            "_________________________________________________________________\n",
            "max_pooling1d_1 (MaxPooling1 (None, 78, 2)             0         \n",
            "_________________________________________________________________\n",
            "conv1d_2 (Conv1D)            (None, 74, 4)             44        \n",
            "_________________________________________________________________\n",
            "max_pooling1d_2 (MaxPooling1 (None, 37, 4)             0         \n",
            "_________________________________________________________________\n",
            "conv1d_3 (Conv1D)            (None, 33, 4)             84        \n",
            "_________________________________________________________________\n",
            "max_pooling1d_3 (MaxPooling1 (None, 16, 4)             0         \n",
            "_________________________________________________________________\n",
            "flatten_1 (Flatten)          (None, 64)                0         \n",
            "_________________________________________________________________\n",
            "dense_1 (Dense)              (None, 1)                 65        \n",
            "=================================================================\n",
            "Total params: 835\n",
            "Trainable params: 835\n",
            "Non-trainable params: 0\n",
            "_________________________________________________________________\n"
          ],
          "name": "stdout"
        }
      ]
    },
    {
      "cell_type": "code",
      "metadata": {
        "id": "QIMm-F2_ScBE",
        "colab_type": "code",
        "outputId": "bf22f2f4-c59b-402f-a34b-683373b89b9c",
        "colab": {
          "base_uri": "https://localhost:8080/",
          "height": 976
        }
      },
      "source": [
        "\n",
        "\n",
        "\n",
        "#Plot the graph of the model \n",
        "\n",
        "plot_model(model, to_file='model_plot.png', show_shapes=True, show_layer_names=True)"
      ],
      "execution_count": 78,
      "outputs": [
        {
          "output_type": "execute_result",
          "data": {
            "image/png": "[encoded data removed]",
            "text/plain": [
              "<IPython.core.display.Image object>"
            ]
          },
          "metadata": {
            "tags": []
          },
          "execution_count": 78
        }
      ]
    },
    {
      "cell_type": "code",
      "metadata": {
        "id": "cVZzuKSg6RPV",
        "colab_type": "code",
        "outputId": "1e3aead2-65a8-4bb2-b886-cf6100b21ec8",
        "colab": {
          "base_uri": "https://localhost:8080/",
          "height": 51
        }
      },
      "source": [
        "#Make Directory to store Tenorboad Logs\n",
        "!mkdir logs\n",
        "!mkdir logs/scalars"
      ],
      "execution_count": 79,
      "outputs": [
        {
          "output_type": "stream",
          "text": [
            "mkdir: cannot create directory ‘logs’: File exists\n",
            "mkdir: cannot create directory ‘logs/scalars’: File exists\n"
          ],
          "name": "stdout"
        }
      ]
    },
    {
      "cell_type": "code",
      "metadata": {
        "id": "Dk8S5zgjnTC7",
        "colab_type": "code",
        "outputId": "bb3eff30-c222-4f63-daab-8f118d99a36c",
        "colab": {
          "base_uri": "https://localhost:8080/",
          "height": 102
        }
      },
      "source": [
        "!apt-get install tree\n"
      ],
      "execution_count": 80,
      "outputs": [
        {
          "output_type": "stream",
          "text": [
            "Reading package lists... Done\n",
            "Building dependency tree       \n",
            "Reading state information... Done\n",
            "tree is already the newest version (1.7.0-5).\n",
            "0 upgraded, 0 newly installed, 0 to remove and 25 not upgraded.\n"
          ],
          "name": "stdout"
        }
      ]
    },
    {
      "cell_type": "code",
      "metadata": {
        "id": "yP6xZ58dsJlk",
        "colab_type": "code",
        "colab": {}
      },
      "source": [
        "\n",
        "\n",
        "class TrainValTensorBoard(TensorBoard):\n",
        "    def __init__(self, log_dir='./logs', **kwargs):\n",
        "        # Make the original `TensorBoard` log to a subdirectory 'training'\n",
        "        training_log_dir = os.path.join(log_dir, 'training')\n",
        "        super(TrainValTensorBoard, self).__init__(training_log_dir, **kwargs)\n",
        "\n",
        "        # Log the validation metrics to a separate subdirectory\n",
        "        self.val_log_dir = os.path.join(log_dir, 'validation')\n",
        "\n",
        "    def set_model(self, model):\n",
        "        # Setup writer for validation metrics\n",
        "        self.val_writer = tf.summary.FileWriter(self.val_log_dir)\n",
        "        super(TrainValTensorBoard, self).set_model(model)\n",
        "\n",
        "    def on_epoch_end(self, epoch, logs=None):\n",
        "        # Pop the validation logs and handle them separately with\n",
        "        # `self.val_writer`. Also rename the keys so that they can\n",
        "        # be plotted on the same figure with the training metrics\n",
        "        logs = logs or {}\n",
        "        val_logs = {k.replace('val_', ''): v for k, v in logs.items() if k.startswith('val_')}\n",
        "        for name, value in val_logs.items():\n",
        "            summary = tf.Summary()\n",
        "            summary_value = summary.value.add()\n",
        "            summary_value.simple_value = value.item()\n",
        "            summary_value.tag = name\n",
        "            self.val_writer.add_summary(summary, epoch)\n",
        "        self.val_writer.flush()\n",
        "\n",
        "        # Pass the remaining logs to `TensorBoard.on_epoch_end`\n",
        "        logs = {k: v for k, v in logs.items() if not k.startswith('val_')}\n",
        "        super(TrainValTensorBoard, self).on_epoch_end(epoch, logs)\n",
        "\n",
        "    def on_train_end(self, logs=None):\n",
        "        super(TrainValTensorBoard, self).on_train_end(logs)\n",
        "        self.val_writer.close()"
      ],
      "execution_count": 0,
      "outputs": []
    },
    {
      "cell_type": "code",
      "metadata": {
        "id": "e6awBoWU2ERw",
        "colab_type": "code",
        "outputId": "0e6582bb-5712-49bb-e898-b6807f19e80f",
        "colab": {
          "base_uri": "https://localhost:8080/",
          "height": 34
        }
      },
      "source": [
        "\n",
        "#Set Up Tensorboard for visualisation for training\n",
        "Name = \"{} + optimizer_{} + batch_size_{} + epochs_{} + Layer_{} + learning_rate_{} + + Normalized_{} + relation_{}  + date_\".format(model_name, optimizer_name, batch_size, training_epochs, layers, learning_rate,  normalized_data, relation)\n",
        "logdir =\"logs/scalars/\"+ Name + datetime.now().strftime(\"%Y%m%d-%H%M%S\")\n",
        "tensorboard_callback = TrainValTensorBoard(log_dir=logdir, write_images = True, histogram_freq = 2)\n",
        "#Sanity Check for LogDir\n",
        "print(logdir)"
      ],
      "execution_count": 82,
      "outputs": [
        {
          "output_type": "stream",
          "text": [
            "logs/scalars/Conv-1D + optimizer_sgd + batch_size_1024 + epochs_100 + Layer_2 + learning_rate_0.01 + + Normalized_True + relation_3  + date_20200311-163142\n"
          ],
          "name": "stdout"
        }
      ]
    },
    {
      "cell_type": "code",
      "metadata": {
        "id": "8dwKw-cA2ERz",
        "colab_type": "code",
        "colab": {}
      },
      "source": [
        "#Define training Loss \n",
        "def Mean_Squared_Error(y_true, y_pred):\n",
        "    return (K.mean(K.square(y_pred - y_true), axis = -1)) / 2"
      ],
      "execution_count": 0,
      "outputs": []
    },
    {
      "cell_type": "code",
      "metadata": {
        "id": "-3I1dxnG2ER2",
        "colab_type": "code",
        "colab": {}
      },
      "source": [
        "#Checkpoint the model\n",
        "filepath=\"weights.best.hdf5\"\n",
        "checkpoint_callback = ModelCheckpoint(filepath, monitor = Mean_Squared_Error, verbose=1, save_best_only=True, mode='min')\n",
        "\n",
        "    "
      ],
      "execution_count": 0,
      "outputs": []
    },
    {
      "cell_type": "code",
      "metadata": {
        "id": "dNR-k_d82ER4",
        "colab_type": "code",
        "outputId": "d926bd2e-1f42-47d1-acc3-828c90b3973d",
        "colab": {
          "base_uri": "https://localhost:8080/",
          "height": 54
        }
      },
      "source": [
        "#Grid Search for Hyper Parameter Tuning  - it is left to be explored \n",
        "\n",
        "#Define Grid Search Parameters\n",
        "\n",
        "'''\n",
        "param_grid = [50, 100, 200]\n",
        "batch_size = [8, 16, 32, 64, 128, 256, 512]\n",
        "param_grid = dict(batch_size=batch_size, epochs=epochs)\n",
        "grid = GridSearchCV(estimator=model, param_grid=param_grid, n_jobs=-1, cv=3)\n",
        "grid_result = grid.fit(X, Y)\n",
        "'''"
      ],
      "execution_count": 85,
      "outputs": [
        {
          "output_type": "execute_result",
          "data": {
            "text/plain": [
              "'\\nparam_grid = [50, 100, 200]\\nbatch_size = [8, 16, 32, 64, 128, 256, 512]\\nparam_grid = dict(batch_size=batch_size, epochs=epochs)\\ngrid = GridSearchCV(estimator=model, param_grid=param_grid, n_jobs=-1, cv=3)\\ngrid_result = grid.fit(X, Y)\\n'"
            ]
          },
          "metadata": {
            "tags": []
          },
          "execution_count": 85
        }
      ]
    },
    {
      "cell_type": "code",
      "metadata": {
        "id": "umhXwzj02ER9",
        "colab_type": "code",
        "colab": {}
      },
      "source": [
        "#Set up the Optimizers\n",
        "sgd = optimizers.SGD(learning_rate)\n",
        "adam = optimizers.Adam(lr = learning_rate)\n",
        "rmsprop = optimizers.RMSprop(lr = learning_rate)\n",
        "\n",
        "\n",
        "#Compile the model\n",
        "model.compile(loss = Mean_Squared_Error, optimizer = sgd, metrics=[Mean_Squared_Error])"
      ],
      "execution_count": 0,
      "outputs": []
    },
    {
      "cell_type": "code",
      "metadata": {
        "id": "eql7y5FCdO-_",
        "colab_type": "code",
        "outputId": "3ce422c1-6f1d-4766-c54c-7b01fb042764",
        "colab": {
          "base_uri": "https://localhost:8080/",
          "height": 34
        }
      },
      "source": [
        "LOG_DIR = 'logs/'\n",
        "get_ipython().system_raw(\n",
        "    'tensorboard --logdir {} --host 0.0.0.0 --port 6006 &'\n",
        "    .format(LOG_DIR)\n",
        ")\n",
        "#Get url of TensorBoard to Visualise\n",
        "get_ipython().system_raw('./ngrok http 6006 &')\n",
        "! curl -s http://localhost:4040/api/tunnels | python3 -c \\\n",
        "    \"import sys, json; print(json.load(sys.stdin)['tunnels'][0]['public_url'])\""
      ],
      "execution_count": 87,
      "outputs": [
        {
          "output_type": "stream",
          "text": [
            "http://50640c3c.ngrok.io\n"
          ],
          "name": "stdout"
        }
      ]
    },
    {
      "cell_type": "code",
      "metadata": {
        "id": "850rdwgB2ER-",
        "colab_type": "code",
        "outputId": "fbde26bf-a81e-49d3-901c-ffa2073e010f",
        "colab": {
          "base_uri": "https://localhost:8080/",
          "height": 1000
        }
      },
      "source": [
        "\n",
        "\n",
        "\n",
        "#Fit the model with the Data\n",
        "history = model.fit(\n",
        "    train_X, \n",
        "    train_Y, \n",
        "    batch_size = batch_size,\n",
        "    epochs = training_epochs, \n",
        "    validation_data = (valid_X, valid_Y), \n",
        "    verbose = 1,\n",
        "    callbacks = [tensorboard_callback])\n",
        "\n",
        "''' , checkpoint_callback '''"
      ],
      "execution_count": 88,
      "outputs": [
        {
          "output_type": "stream",
          "text": [
            "Train on 129360 samples, validate on 15960 samples\n",
            "Epoch 1/100\n",
            "129360/129360 [==============================] - 14s 107us/step - loss: 0.4463 - Mean_Squared_Error: 0.4463 - val_loss: 0.4591 - val_Mean_Squared_Error: 0.4591\n",
            "Epoch 2/100\n",
            "129360/129360 [==============================] - 14s 105us/step - loss: 0.4378 - Mean_Squared_Error: 0.4378 - val_loss: 0.4467 - val_Mean_Squared_Error: 0.4467\n",
            "Epoch 3/100\n",
            "129360/129360 [==============================] - 14s 107us/step - loss: 0.4206 - Mean_Squared_Error: 0.4206 - val_loss: 0.4217 - val_Mean_Squared_Error: 0.4217\n",
            "Epoch 4/100\n",
            "129360/129360 [==============================] - 14s 107us/step - loss: 0.3988 - Mean_Squared_Error: 0.3988 - val_loss: 0.4075 - val_Mean_Squared_Error: 0.4075\n",
            "Epoch 5/100\n",
            "129360/129360 [==============================] - 15s 114us/step - loss: 0.3857 - Mean_Squared_Error: 0.3857 - val_loss: 0.3999 - val_Mean_Squared_Error: 0.3999\n",
            "Epoch 6/100\n",
            "129360/129360 [==============================] - 14s 106us/step - loss: 0.3772 - Mean_Squared_Error: 0.3772 - val_loss: 0.3937 - val_Mean_Squared_Error: 0.3937\n",
            "Epoch 7/100\n",
            "129360/129360 [==============================] - 14s 106us/step - loss: 0.3710 - Mean_Squared_Error: 0.3710 - val_loss: 0.3899 - val_Mean_Squared_Error: 0.3899\n",
            "Epoch 8/100\n",
            "129360/129360 [==============================] - 14s 106us/step - loss: 0.3661 - Mean_Squared_Error: 0.3661 - val_loss: 0.3864 - val_Mean_Squared_Error: 0.3864\n",
            "Epoch 9/100\n",
            "129360/129360 [==============================] - 14s 106us/step - loss: 0.3621 - Mean_Squared_Error: 0.3621 - val_loss: 0.3838 - val_Mean_Squared_Error: 0.3838\n",
            "Epoch 10/100\n",
            "129360/129360 [==============================] - 14s 106us/step - loss: 0.3588 - Mean_Squared_Error: 0.3588 - val_loss: 0.3811 - val_Mean_Squared_Error: 0.3811\n",
            "Epoch 11/100\n",
            "129360/129360 [==============================] - 14s 106us/step - loss: 0.3559 - Mean_Squared_Error: 0.3559 - val_loss: 0.3793 - val_Mean_Squared_Error: 0.3793\n",
            "Epoch 12/100\n",
            "129360/129360 [==============================] - 14s 108us/step - loss: 0.3535 - Mean_Squared_Error: 0.3535 - val_loss: 0.3774 - val_Mean_Squared_Error: 0.3774\n",
            "Epoch 13/100\n",
            "129360/129360 [==============================] - 14s 109us/step - loss: 0.3513 - Mean_Squared_Error: 0.3513 - val_loss: 0.3761 - val_Mean_Squared_Error: 0.3761\n",
            "Epoch 14/100\n",
            "129360/129360 [==============================] - 14s 107us/step - loss: 0.3493 - Mean_Squared_Error: 0.3493 - val_loss: 0.3746 - val_Mean_Squared_Error: 0.3746\n",
            "Epoch 15/100\n",
            "129360/129360 [==============================] - 14s 108us/step - loss: 0.3477 - Mean_Squared_Error: 0.3477 - val_loss: 0.3738 - val_Mean_Squared_Error: 0.3738\n",
            "Epoch 16/100\n",
            "129360/129360 [==============================] - 14s 107us/step - loss: 0.3462 - Mean_Squared_Error: 0.3462 - val_loss: 0.3722 - val_Mean_Squared_Error: 0.3722\n",
            "Epoch 17/100\n",
            "129360/129360 [==============================] - 14s 106us/step - loss: 0.3449 - Mean_Squared_Error: 0.3449 - val_loss: 0.3722 - val_Mean_Squared_Error: 0.3722\n",
            "Epoch 18/100\n",
            "129360/129360 [==============================] - 14s 106us/step - loss: 0.3438 - Mean_Squared_Error: 0.3438 - val_loss: 0.3713 - val_Mean_Squared_Error: 0.3713\n",
            "Epoch 19/100\n",
            "129360/129360 [==============================] - 14s 106us/step - loss: 0.3428 - Mean_Squared_Error: 0.3428 - val_loss: 0.3697 - val_Mean_Squared_Error: 0.3697\n",
            "Epoch 20/100\n",
            "129360/129360 [==============================] - 14s 104us/step - loss: 0.3418 - Mean_Squared_Error: 0.3418 - val_loss: 0.3694 - val_Mean_Squared_Error: 0.3694\n",
            "Epoch 21/100\n",
            "129360/129360 [==============================] - 13s 104us/step - loss: 0.3410 - Mean_Squared_Error: 0.3410 - val_loss: 0.3702 - val_Mean_Squared_Error: 0.3702\n",
            "Epoch 22/100\n",
            "129360/129360 [==============================] - 14s 107us/step - loss: 0.3403 - Mean_Squared_Error: 0.3403 - val_loss: 0.3709 - val_Mean_Squared_Error: 0.3709\n",
            "Epoch 23/100\n",
            "129360/129360 [==============================] - 14s 106us/step - loss: 0.3394 - Mean_Squared_Error: 0.3394 - val_loss: 0.3678 - val_Mean_Squared_Error: 0.3678\n",
            "Epoch 24/100\n",
            "129360/129360 [==============================] - 14s 106us/step - loss: 0.3387 - Mean_Squared_Error: 0.3387 - val_loss: 0.3669 - val_Mean_Squared_Error: 0.3669\n",
            "Epoch 25/100\n",
            "129360/129360 [==============================] - 14s 107us/step - loss: 0.3380 - Mean_Squared_Error: 0.3380 - val_loss: 0.3672 - val_Mean_Squared_Error: 0.3672\n",
            "Epoch 26/100\n",
            "129360/129360 [==============================] - 14s 106us/step - loss: 0.3374 - Mean_Squared_Error: 0.3374 - val_loss: 0.3665 - val_Mean_Squared_Error: 0.3665\n",
            "Epoch 27/100\n",
            "129360/129360 [==============================] - 14s 107us/step - loss: 0.3368 - Mean_Squared_Error: 0.3368 - val_loss: 0.3659 - val_Mean_Squared_Error: 0.3659\n",
            "Epoch 28/100\n",
            "129360/129360 [==============================] - 14s 107us/step - loss: 0.3363 - Mean_Squared_Error: 0.3363 - val_loss: 0.3689 - val_Mean_Squared_Error: 0.3689\n",
            "Epoch 29/100\n",
            "129360/129360 [==============================] - 14s 107us/step - loss: 0.3358 - Mean_Squared_Error: 0.3358 - val_loss: 0.3650 - val_Mean_Squared_Error: 0.3650\n",
            "Epoch 30/100\n",
            "129360/129360 [==============================] - 14s 107us/step - loss: 0.3353 - Mean_Squared_Error: 0.3353 - val_loss: 0.3648 - val_Mean_Squared_Error: 0.3648\n",
            "Epoch 31/100\n",
            "129360/129360 [==============================] - 14s 107us/step - loss: 0.3348 - Mean_Squared_Error: 0.3348 - val_loss: 0.3663 - val_Mean_Squared_Error: 0.3663\n",
            "Epoch 32/100\n",
            "129360/129360 [==============================] - 14s 107us/step - loss: 0.3344 - Mean_Squared_Error: 0.3344 - val_loss: 0.3650 - val_Mean_Squared_Error: 0.3650\n",
            "Epoch 33/100\n",
            "129360/129360 [==============================] - 14s 107us/step - loss: 0.3339 - Mean_Squared_Error: 0.3339 - val_loss: 0.3636 - val_Mean_Squared_Error: 0.3636\n",
            "Epoch 34/100\n",
            "129360/129360 [==============================] - 14s 108us/step - loss: 0.3335 - Mean_Squared_Error: 0.3335 - val_loss: 0.3644 - val_Mean_Squared_Error: 0.3644\n",
            "Epoch 35/100\n",
            "129360/129360 [==============================] - 14s 107us/step - loss: 0.3331 - Mean_Squared_Error: 0.3331 - val_loss: 0.3635 - val_Mean_Squared_Error: 0.3635\n",
            "Epoch 36/100\n",
            "129360/129360 [==============================] - 14s 107us/step - loss: 0.3327 - Mean_Squared_Error: 0.3327 - val_loss: 0.3634 - val_Mean_Squared_Error: 0.3634\n",
            "Epoch 37/100\n",
            "129360/129360 [==============================] - 14s 107us/step - loss: 0.3323 - Mean_Squared_Error: 0.3323 - val_loss: 0.3626 - val_Mean_Squared_Error: 0.3626\n",
            "Epoch 38/100\n",
            "129360/129360 [==============================] - 14s 106us/step - loss: 0.3320 - Mean_Squared_Error: 0.3320 - val_loss: 0.3639 - val_Mean_Squared_Error: 0.3639\n",
            "Epoch 39/100\n",
            "129360/129360 [==============================] - 14s 106us/step - loss: 0.3317 - Mean_Squared_Error: 0.3317 - val_loss: 0.3625 - val_Mean_Squared_Error: 0.3625\n",
            "Epoch 40/100\n",
            "129360/129360 [==============================] - 14s 105us/step - loss: 0.3313 - Mean_Squared_Error: 0.3313 - val_loss: 0.3648 - val_Mean_Squared_Error: 0.3648\n",
            "Epoch 41/100\n",
            "129360/129360 [==============================] - 14s 105us/step - loss: 0.3310 - Mean_Squared_Error: 0.3310 - val_loss: 0.3623 - val_Mean_Squared_Error: 0.3623\n",
            "Epoch 42/100\n",
            "129360/129360 [==============================] - 14s 106us/step - loss: 0.3307 - Mean_Squared_Error: 0.3307 - val_loss: 0.3632 - val_Mean_Squared_Error: 0.3632\n",
            "Epoch 43/100\n",
            "129360/129360 [==============================] - 14s 106us/step - loss: 0.3303 - Mean_Squared_Error: 0.3303 - val_loss: 0.3644 - val_Mean_Squared_Error: 0.3644\n",
            "Epoch 44/100\n",
            "129360/129360 [==============================] - 14s 106us/step - loss: 0.3300 - Mean_Squared_Error: 0.3300 - val_loss: 0.3610 - val_Mean_Squared_Error: 0.3610\n",
            "Epoch 45/100\n",
            "129360/129360 [==============================] - 14s 106us/step - loss: 0.3298 - Mean_Squared_Error: 0.3298 - val_loss: 0.3617 - val_Mean_Squared_Error: 0.3617\n",
            "Epoch 46/100\n",
            "129360/129360 [==============================] - 14s 107us/step - loss: 0.3294 - Mean_Squared_Error: 0.3294 - val_loss: 0.3612 - val_Mean_Squared_Error: 0.3612\n",
            "Epoch 47/100\n",
            "129360/129360 [==============================] - 14s 107us/step - loss: 0.3292 - Mean_Squared_Error: 0.3292 - val_loss: 0.3611 - val_Mean_Squared_Error: 0.3611\n",
            "Epoch 48/100\n",
            "129360/129360 [==============================] - 14s 106us/step - loss: 0.3289 - Mean_Squared_Error: 0.3289 - val_loss: 0.3635 - val_Mean_Squared_Error: 0.3635\n",
            "Epoch 49/100\n",
            "129360/129360 [==============================] - 14s 107us/step - loss: 0.3287 - Mean_Squared_Error: 0.3287 - val_loss: 0.3608 - val_Mean_Squared_Error: 0.3608\n",
            "Epoch 50/100\n",
            "129360/129360 [==============================] - 14s 107us/step - loss: 0.3283 - Mean_Squared_Error: 0.3283 - val_loss: 0.3603 - val_Mean_Squared_Error: 0.3603\n",
            "Epoch 51/100\n",
            "129360/129360 [==============================] - 14s 107us/step - loss: 0.3281 - Mean_Squared_Error: 0.3281 - val_loss: 0.3605 - val_Mean_Squared_Error: 0.3605\n",
            "Epoch 52/100\n",
            "129360/129360 [==============================] - 14s 106us/step - loss: 0.3279 - Mean_Squared_Error: 0.3279 - val_loss: 0.3598 - val_Mean_Squared_Error: 0.3598\n",
            "Epoch 53/100\n",
            "129360/129360 [==============================] - 14s 106us/step - loss: 0.3277 - Mean_Squared_Error: 0.3277 - val_loss: 0.3601 - val_Mean_Squared_Error: 0.3601\n",
            "Epoch 54/100\n",
            "129360/129360 [==============================] - 14s 106us/step - loss: 0.3273 - Mean_Squared_Error: 0.3273 - val_loss: 0.3647 - val_Mean_Squared_Error: 0.3647\n",
            "Epoch 55/100\n",
            "129360/129360 [==============================] - 14s 107us/step - loss: 0.3271 - Mean_Squared_Error: 0.3271 - val_loss: 0.3621 - val_Mean_Squared_Error: 0.3621\n",
            "Epoch 56/100\n",
            "129360/129360 [==============================] - 14s 107us/step - loss: 0.3269 - Mean_Squared_Error: 0.3269 - val_loss: 0.3592 - val_Mean_Squared_Error: 0.3592\n",
            "Epoch 57/100\n",
            "129360/129360 [==============================] - 14s 106us/step - loss: 0.3265 - Mean_Squared_Error: 0.3265 - val_loss: 0.3590 - val_Mean_Squared_Error: 0.3590\n",
            "Epoch 58/100\n",
            "129360/129360 [==============================] - 14s 106us/step - loss: 0.3264 - Mean_Squared_Error: 0.3264 - val_loss: 0.3587 - val_Mean_Squared_Error: 0.3587\n",
            "Epoch 59/100\n",
            "129360/129360 [==============================] - 14s 105us/step - loss: 0.3262 - Mean_Squared_Error: 0.3262 - val_loss: 0.3594 - val_Mean_Squared_Error: 0.3594\n",
            "Epoch 60/100\n",
            "129360/129360 [==============================] - 14s 105us/step - loss: 0.3259 - Mean_Squared_Error: 0.3259 - val_loss: 0.3584 - val_Mean_Squared_Error: 0.3584\n",
            "Epoch 61/100\n",
            "129360/129360 [==============================] - 14s 104us/step - loss: 0.3256 - Mean_Squared_Error: 0.3256 - val_loss: 0.3591 - val_Mean_Squared_Error: 0.3591\n",
            "Epoch 62/100\n",
            "129360/129360 [==============================] - 14s 106us/step - loss: 0.3255 - Mean_Squared_Error: 0.3255 - val_loss: 0.3584 - val_Mean_Squared_Error: 0.3584\n",
            "Epoch 63/100\n",
            "129360/129360 [==============================] - 14s 107us/step - loss: 0.3252 - Mean_Squared_Error: 0.3252 - val_loss: 0.3590 - val_Mean_Squared_Error: 0.3590\n",
            "Epoch 64/100\n",
            "129360/129360 [==============================] - 14s 106us/step - loss: 0.3250 - Mean_Squared_Error: 0.3250 - val_loss: 0.3586 - val_Mean_Squared_Error: 0.3586\n",
            "Epoch 65/100\n",
            "129360/129360 [==============================] - 14s 106us/step - loss: 0.3249 - Mean_Squared_Error: 0.3249 - val_loss: 0.3602 - val_Mean_Squared_Error: 0.3602\n",
            "Epoch 66/100\n",
            "129360/129360 [==============================] - 14s 107us/step - loss: 0.3247 - Mean_Squared_Error: 0.3247 - val_loss: 0.3584 - val_Mean_Squared_Error: 0.3584\n",
            "Epoch 67/100\n",
            "129360/129360 [==============================] - 14s 108us/step - loss: 0.3244 - Mean_Squared_Error: 0.3244 - val_loss: 0.3589 - val_Mean_Squared_Error: 0.3589\n",
            "Epoch 68/100\n",
            "129360/129360 [==============================] - 14s 106us/step - loss: 0.3243 - Mean_Squared_Error: 0.3243 - val_loss: 0.3574 - val_Mean_Squared_Error: 0.3574\n",
            "Epoch 69/100\n",
            "129360/129360 [==============================] - 14s 107us/step - loss: 0.3239 - Mean_Squared_Error: 0.3239 - val_loss: 0.3588 - val_Mean_Squared_Error: 0.3588\n",
            "Epoch 70/100\n",
            "129360/129360 [==============================] - 14s 108us/step - loss: 0.3238 - Mean_Squared_Error: 0.3238 - val_loss: 0.3575 - val_Mean_Squared_Error: 0.3575\n",
            "Epoch 71/100\n",
            "129360/129360 [==============================] - 14s 109us/step - loss: 0.3236 - Mean_Squared_Error: 0.3236 - val_loss: 0.3575 - val_Mean_Squared_Error: 0.3575\n",
            "Epoch 72/100\n",
            "129360/129360 [==============================] - 14s 109us/step - loss: 0.3233 - Mean_Squared_Error: 0.3233 - val_loss: 0.3575 - val_Mean_Squared_Error: 0.3575\n",
            "Epoch 73/100\n",
            "129360/129360 [==============================] - 14s 108us/step - loss: 0.3231 - Mean_Squared_Error: 0.3231 - val_loss: 0.3575 - val_Mean_Squared_Error: 0.3575\n",
            "Epoch 74/100\n",
            "129360/129360 [==============================] - 14s 108us/step - loss: 0.3229 - Mean_Squared_Error: 0.3229 - val_loss: 0.3571 - val_Mean_Squared_Error: 0.3571\n",
            "Epoch 75/100\n",
            "129360/129360 [==============================] - 14s 108us/step - loss: 0.3228 - Mean_Squared_Error: 0.3228 - val_loss: 0.3567 - val_Mean_Squared_Error: 0.3567\n",
            "Epoch 76/100\n",
            "129360/129360 [==============================] - 14s 109us/step - loss: 0.3225 - Mean_Squared_Error: 0.3225 - val_loss: 0.3565 - val_Mean_Squared_Error: 0.3565\n",
            "Epoch 77/100\n",
            "129360/129360 [==============================] - 14s 109us/step - loss: 0.3224 - Mean_Squared_Error: 0.3224 - val_loss: 0.3570 - val_Mean_Squared_Error: 0.3570\n",
            "Epoch 78/100\n",
            "129360/129360 [==============================] - 14s 109us/step - loss: 0.3221 - Mean_Squared_Error: 0.3221 - val_loss: 0.3562 - val_Mean_Squared_Error: 0.3562\n",
            "Epoch 79/100\n",
            "129360/129360 [==============================] - 14s 108us/step - loss: 0.3219 - Mean_Squared_Error: 0.3219 - val_loss: 0.3557 - val_Mean_Squared_Error: 0.3557\n",
            "Epoch 80/100\n",
            "129360/129360 [==============================] - 14s 107us/step - loss: 0.3217 - Mean_Squared_Error: 0.3217 - val_loss: 0.3563 - val_Mean_Squared_Error: 0.3563\n",
            "Epoch 81/100\n",
            "129360/129360 [==============================] - 14s 104us/step - loss: 0.3216 - Mean_Squared_Error: 0.3216 - val_loss: 0.3562 - val_Mean_Squared_Error: 0.3562\n",
            "Epoch 82/100\n",
            "129360/129360 [==============================] - 14s 106us/step - loss: 0.3213 - Mean_Squared_Error: 0.3213 - val_loss: 0.3564 - val_Mean_Squared_Error: 0.3564\n",
            "Epoch 83/100\n",
            "129360/129360 [==============================] - 14s 109us/step - loss: 0.3212 - Mean_Squared_Error: 0.3212 - val_loss: 0.3581 - val_Mean_Squared_Error: 0.3581\n",
            "Epoch 84/100\n",
            "129360/129360 [==============================] - 14s 108us/step - loss: 0.3210 - Mean_Squared_Error: 0.3210 - val_loss: 0.3559 - val_Mean_Squared_Error: 0.3559\n",
            "Epoch 85/100\n",
            "129360/129360 [==============================] - 14s 109us/step - loss: 0.3208 - Mean_Squared_Error: 0.3208 - val_loss: 0.3564 - val_Mean_Squared_Error: 0.3564\n",
            "Epoch 86/100\n",
            "129360/129360 [==============================] - 14s 110us/step - loss: 0.3206 - Mean_Squared_Error: 0.3206 - val_loss: 0.3558 - val_Mean_Squared_Error: 0.3558\n",
            "Epoch 87/100\n",
            "129360/129360 [==============================] - 14s 108us/step - loss: 0.3204 - Mean_Squared_Error: 0.3204 - val_loss: 0.3547 - val_Mean_Squared_Error: 0.3547\n",
            "Epoch 88/100\n",
            "129360/129360 [==============================] - 14s 108us/step - loss: 0.3204 - Mean_Squared_Error: 0.3204 - val_loss: 0.3545 - val_Mean_Squared_Error: 0.3545\n",
            "Epoch 89/100\n",
            "129360/129360 [==============================] - 14s 109us/step - loss: 0.3201 - Mean_Squared_Error: 0.3201 - val_loss: 0.3606 - val_Mean_Squared_Error: 0.3606\n",
            "Epoch 90/100\n",
            "129360/129360 [==============================] - 14s 109us/step - loss: 0.3200 - Mean_Squared_Error: 0.3200 - val_loss: 0.3553 - val_Mean_Squared_Error: 0.3553\n",
            "Epoch 91/100\n",
            "129360/129360 [==============================] - 14s 109us/step - loss: 0.3197 - Mean_Squared_Error: 0.3197 - val_loss: 0.3559 - val_Mean_Squared_Error: 0.3559\n",
            "Epoch 92/100\n",
            "129360/129360 [==============================] - 14s 108us/step - loss: 0.3196 - Mean_Squared_Error: 0.3196 - val_loss: 0.3548 - val_Mean_Squared_Error: 0.3548\n",
            "Epoch 93/100\n",
            "129360/129360 [==============================] - 14s 109us/step - loss: 0.3193 - Mean_Squared_Error: 0.3193 - val_loss: 0.3537 - val_Mean_Squared_Error: 0.3537\n",
            "Epoch 94/100\n",
            "129360/129360 [==============================] - 14s 108us/step - loss: 0.3192 - Mean_Squared_Error: 0.3192 - val_loss: 0.3548 - val_Mean_Squared_Error: 0.3548\n",
            "Epoch 95/100\n",
            "129360/129360 [==============================] - 14s 108us/step - loss: 0.3191 - Mean_Squared_Error: 0.3191 - val_loss: 0.3541 - val_Mean_Squared_Error: 0.3541\n",
            "Epoch 96/100\n",
            "129360/129360 [==============================] - 14s 108us/step - loss: 0.3189 - Mean_Squared_Error: 0.3189 - val_loss: 0.3566 - val_Mean_Squared_Error: 0.3566\n",
            "Epoch 97/100\n",
            "129360/129360 [==============================] - 15s 113us/step - loss: 0.3187 - Mean_Squared_Error: 0.3187 - val_loss: 0.3536 - val_Mean_Squared_Error: 0.3536\n",
            "Epoch 98/100\n",
            "129360/129360 [==============================] - 14s 109us/step - loss: 0.3185 - Mean_Squared_Error: 0.3185 - val_loss: 0.3560 - val_Mean_Squared_Error: 0.3560\n",
            "Epoch 99/100\n",
            "129360/129360 [==============================] - 14s 108us/step - loss: 0.3184 - Mean_Squared_Error: 0.3184 - val_loss: 0.3544 - val_Mean_Squared_Error: 0.3544\n",
            "Epoch 100/100\n",
            "129360/129360 [==============================] - 14s 108us/step - loss: 0.3182 - Mean_Squared_Error: 0.3182 - val_loss: 0.3538 - val_Mean_Squared_Error: 0.3538\n"
          ],
          "name": "stdout"
        },
        {
          "output_type": "execute_result",
          "data": {
            "text/plain": [
              "' , checkpoint_callback '"
            ]
          },
          "metadata": {
            "tags": []
          },
          "execution_count": 88
        }
      ]
    },
    {
      "cell_type": "code",
      "metadata": {
        "id": "VFEu_ATOistV",
        "colab_type": "code",
        "outputId": "ea092774-0284-4d15-ea63-af473e02dbca",
        "colab": {
          "base_uri": "https://localhost:8080/",
          "height": 34
        }
      },
      "source": [
        "\n",
        "#Evaluate model on Test Data -\n",
        "predictions = model.predict(test_X, verbose = True)\n",
        "\n"
      ],
      "execution_count": 89,
      "outputs": [
        {
          "output_type": "stream",
          "text": [
            "15960/15960 [==============================] - 2s 109us/step\n"
          ],
          "name": "stdout"
        }
      ]
    },
    {
      "cell_type": "code",
      "metadata": {
        "id": "ih97ufFL-5JM",
        "colab_type": "code",
        "colab": {
          "base_uri": "https://localhost:8080/",
          "height": 136
        },
        "outputId": "4ecc2dfa-662c-4af1-b0de-8f7dae5fd9bc"
      },
      "source": [
        "predictions"
      ],
      "execution_count": 90,
      "outputs": [
        {
          "output_type": "execute_result",
          "data": {
            "text/plain": [
              "array([[ 0.4548476 ],\n",
              "       [ 0.9199519 ],\n",
              "       [ 0.9550483 ],\n",
              "       ...,\n",
              "       [-0.25326705],\n",
              "       [-0.14443415],\n",
              "       [-0.20415735]], dtype=float32)"
            ]
          },
          "metadata": {
            "tags": []
          },
          "execution_count": 90
        }
      ]
    },
    {
      "cell_type": "code",
      "metadata": {
        "id": "3VwzNESv-n7y",
        "colab_type": "code",
        "outputId": "79ed553c-eec3-4a32-dab7-e43629600564",
        "colab": {
          "base_uri": "https://localhost:8080/",
          "height": 136
        }
      },
      "source": [
        "\n",
        "y_test"
      ],
      "execution_count": 91,
      "outputs": [
        {
          "output_type": "execute_result",
          "data": {
            "text/plain": [
              "matrix([[ 0.3493746 ],\n",
              "        [ 0.27043746],\n",
              "        [ 0.74073456],\n",
              "        ...,\n",
              "        [-1.36639856],\n",
              "        [-2.01688422],\n",
              "        [-2.48151663]])"
            ]
          },
          "metadata": {
            "tags": []
          },
          "execution_count": 91
        }
      ]
    },
    {
      "cell_type": "markdown",
      "metadata": {
        "id": "HDxBtYz3o3JN",
        "colab_type": "text"
      },
      "source": [
        ""
      ]
    },
    {
      "cell_type": "code",
      "metadata": {
        "id": "Wq0U8HfOtlwa",
        "colab_type": "code",
        "outputId": "ac04a303-4129-4543-f441-b5f3425a2aee",
        "colab": {
          "base_uri": "https://localhost:8080/",
          "height": 34
        }
      },
      "source": [
        "\n",
        "predictions.shape, y_test.shape\n",
        "\n"
      ],
      "execution_count": 92,
      "outputs": [
        {
          "output_type": "execute_result",
          "data": {
            "text/plain": [
              "((15960, 1), (15960, 1))"
            ]
          },
          "metadata": {
            "tags": []
          },
          "execution_count": 92
        }
      ]
    },
    {
      "cell_type": "code",
      "metadata": {
        "id": "ohS6HViTtpK0",
        "colab_type": "code",
        "colab": {}
      },
      "source": [
        "\n",
        "def compute_correlation(true, pred):\n",
        "    true = true.squeeze()\n",
        "    pred = pred.squeeze()\n",
        "    corr_coef = np.corrcoef(true, pred)[0, 1]\n",
        "    \n",
        "    return corr_coef \n",
        "    \n",
        "    "
      ],
      "execution_count": 0,
      "outputs": []
    },
    {
      "cell_type": "code",
      "metadata": {
        "id": "eBfmJzB-tsDR",
        "colab_type": "code",
        "outputId": "52ac67c8-3190-4b10-9adf-cae5454d69e8",
        "colab": {
          "base_uri": "https://localhost:8080/",
          "height": 34
        }
      },
      "source": [
        "\n",
        "compute_correlation(y_test, predictions)"
      ],
      "execution_count": 94,
      "outputs": [
        {
          "output_type": "execute_result",
          "data": {
            "text/plain": [
              "0.516891115762153"
            ]
          },
          "metadata": {
            "tags": []
          },
          "execution_count": 94
        }
      ]
    },
    {
      "cell_type": "code",
      "metadata": {
        "id": "y8sAlyNArruw",
        "colab_type": "code",
        "outputId": "8f695961-ccb3-4d3e-e381-a993480654e2",
        "colab": {
          "base_uri": "https://localhost:8080/",
          "height": 1000
        }
      },
      "source": [
        "predictions[0:100]"
      ],
      "execution_count": 148,
      "outputs": [
        {
          "output_type": "execute_result",
          "data": {
            "text/plain": [
              "array([[0.04746907],\n",
              "       [0.06031939],\n",
              "       [0.04643389],\n",
              "       [0.02104632],\n",
              "       [0.05830663],\n",
              "       [0.02435583],\n",
              "       [0.03463713],\n",
              "       [0.04703913],\n",
              "       [0.01323395],\n",
              "       [0.0249184 ],\n",
              "       [0.05631682],\n",
              "       [0.06635903],\n",
              "       [0.0214283 ],\n",
              "       [0.02320929],\n",
              "       [0.04422016],\n",
              "       [0.06013297],\n",
              "       [0.08172096],\n",
              "       [0.04641955],\n",
              "       [0.05632845],\n",
              "       [0.03110451],\n",
              "       [0.07813198],\n",
              "       [0.04420315],\n",
              "       [0.06266318],\n",
              "       [0.10769485],\n",
              "       [0.07386111],\n",
              "       [0.07330091],\n",
              "       [0.10818113],\n",
              "       [0.06306164],\n",
              "       [0.05262052],\n",
              "       [0.04853421],\n",
              "       [0.01710865],\n",
              "       [0.03067171],\n",
              "       [0.02521534],\n",
              "       [0.04397602],\n",
              "       [0.05310081],\n",
              "       [0.02877854],\n",
              "       [0.04598337],\n",
              "       [0.0402838 ],\n",
              "       [0.12059392],\n",
              "       [0.05844425],\n",
              "       [0.05763567],\n",
              "       [0.05391576],\n",
              "       [0.06010441],\n",
              "       [0.0155332 ],\n",
              "       [0.01735402],\n",
              "       [0.03885668],\n",
              "       [0.06267992],\n",
              "       [0.05050445],\n",
              "       [0.07560157],\n",
              "       [0.07637404],\n",
              "       [0.03140865],\n",
              "       [0.00194623],\n",
              "       [0.06278622],\n",
              "       [0.06476174],\n",
              "       [0.05519861],\n",
              "       [0.06797882],\n",
              "       [0.03953946],\n",
              "       [0.0150005 ],\n",
              "       [0.04226377],\n",
              "       [0.06853481],\n",
              "       [0.03687403],\n",
              "       [0.0646724 ],\n",
              "       [0.05226128],\n",
              "       [0.02800301],\n",
              "       [0.096755  ],\n",
              "       [0.07843454],\n",
              "       [0.04956991],\n",
              "       [0.10150495],\n",
              "       [0.03240027],\n",
              "       [0.12331947],\n",
              "       [0.1312024 ],\n",
              "       [0.05331657],\n",
              "       [0.05588071],\n",
              "       [0.09316127],\n",
              "       [0.0517104 ],\n",
              "       [0.02731675],\n",
              "       [0.05344066],\n",
              "       [0.0516187 ],\n",
              "       [0.03545873],\n",
              "       [0.0426347 ],\n",
              "       [0.06314287],\n",
              "       [0.02610239],\n",
              "       [0.0684675 ],\n",
              "       [0.02399816],\n",
              "       [0.0716686 ],\n",
              "       [0.01370016],\n",
              "       [0.03550126],\n",
              "       [0.06754486],\n",
              "       [0.02821046],\n",
              "       [0.03217483],\n",
              "       [0.07526705],\n",
              "       [0.01969742],\n",
              "       [0.0559677 ],\n",
              "       [0.04896288],\n",
              "       [0.05705265],\n",
              "       [0.04550097],\n",
              "       [0.03479092],\n",
              "       [0.02533661],\n",
              "       [0.05694419],\n",
              "       [0.04005378]], dtype=float32)"
            ]
          },
          "metadata": {
            "tags": []
          },
          "execution_count": 148
        }
      ]
    },
    {
      "cell_type": "code",
      "metadata": {
        "id": "VJHFxSP8e2tq",
        "colab_type": "code",
        "colab": {
          "base_uri": "https://localhost:8080/",
          "height": 163
        },
        "outputId": "8ad85f8e-ecfc-4da1-dfa2-dc03087e2f25"
      },
      "source": [
        ""
      ],
      "execution_count": 150,
      "outputs": [
        {
          "output_type": "error",
          "ename": "TypeError",
          "evalue": "ignored",
          "traceback": [
            "\u001b[0;31m---------------------------------------------------------------------------\u001b[0m",
            "\u001b[0;31mTypeError\u001b[0m                                 Traceback (most recent call last)",
            "\u001b[0;32m<ipython-input-150-918b95a1ef88>\u001b[0m in \u001b[0;36m<module>\u001b[0;34m()\u001b[0m\n\u001b[0;32m----> 1\u001b[0;31m \u001b[0mlist\u001b[0m\u001b[0;34m(\u001b[0m\u001b[0mhistory\u001b[0m\u001b[0;34m.\u001b[0m\u001b[0mhistory\u001b[0m\u001b[0;34m)\u001b[0m\u001b[0;34m\u001b[0m\u001b[0;34m\u001b[0m\u001b[0m\n\u001b[0m",
            "\u001b[0;31mTypeError\u001b[0m: 'History' object is not iterable"
          ]
        }
      ]
    },
    {
      "cell_type": "code",
      "metadata": {
        "id": "7JCbTO5X80uS",
        "colab_type": "code",
        "colab": {
          "base_uri": "https://localhost:8080/",
          "height": 231
        },
        "outputId": "a9fbdd31-dc72-4a59-e03e-b95a02934829"
      },
      "source": [
        "# summarize history for loss\n",
        "plt.plot(history.history['loss'])\n",
        "plt.plot(history.history['val_loss'])\n",
        "plt.title('model loss')\n",
        "plt.ylabel('loss')\n",
        "plt.xlabel('epoch')\n",
        "plt.legend(['train', 'valid'], loc='upper right')\n",
        "plt.show()"
      ],
      "execution_count": 153,
      "outputs": [
        {
          "output_type": "error",
          "ename": "TypeError",
          "evalue": "ignored",
          "traceback": [
            "\u001b[0;31m---------------------------------------------------------------------------\u001b[0m",
            "\u001b[0;31mTypeError\u001b[0m                                 Traceback (most recent call last)",
            "\u001b[0;32m<ipython-input-153-4e673159af54>\u001b[0m in \u001b[0;36m<module>\u001b[0;34m()\u001b[0m\n\u001b[0;32m----> 1\u001b[0;31m \u001b[0mplt\u001b[0m\u001b[0;34m.\u001b[0m\u001b[0mplot\u001b[0m\u001b[0;34m(\u001b[0m\u001b[0mhistory\u001b[0m\u001b[0;34m.\u001b[0m\u001b[0mhistory\u001b[0m\u001b[0;34m[\u001b[0m\u001b[0;34m'loss'\u001b[0m\u001b[0;34m]\u001b[0m\u001b[0;34m)\u001b[0m\u001b[0;34m\u001b[0m\u001b[0;34m\u001b[0m\u001b[0m\n\u001b[0m\u001b[1;32m      2\u001b[0m \u001b[0mplt\u001b[0m\u001b[0;34m.\u001b[0m\u001b[0mplot\u001b[0m\u001b[0;34m(\u001b[0m\u001b[0mhistory\u001b[0m\u001b[0;34m.\u001b[0m\u001b[0mhistory\u001b[0m\u001b[0;34m[\u001b[0m\u001b[0;34m'val_loss'\u001b[0m\u001b[0;34m]\u001b[0m\u001b[0;34m)\u001b[0m\u001b[0;34m\u001b[0m\u001b[0;34m\u001b[0m\u001b[0m\n\u001b[1;32m      3\u001b[0m \u001b[0mplt\u001b[0m\u001b[0;34m.\u001b[0m\u001b[0mtitle\u001b[0m\u001b[0;34m(\u001b[0m\u001b[0;34m'model loss'\u001b[0m\u001b[0;34m)\u001b[0m\u001b[0;34m\u001b[0m\u001b[0;34m\u001b[0m\u001b[0m\n\u001b[1;32m      4\u001b[0m \u001b[0mplt\u001b[0m\u001b[0;34m.\u001b[0m\u001b[0mylabel\u001b[0m\u001b[0;34m(\u001b[0m\u001b[0;34m'loss'\u001b[0m\u001b[0;34m)\u001b[0m\u001b[0;34m\u001b[0m\u001b[0;34m\u001b[0m\u001b[0m\n\u001b[1;32m      5\u001b[0m \u001b[0mplt\u001b[0m\u001b[0;34m.\u001b[0m\u001b[0mxlabel\u001b[0m\u001b[0;34m(\u001b[0m\u001b[0;34m'epoch'\u001b[0m\u001b[0;34m)\u001b[0m\u001b[0;34m\u001b[0m\u001b[0;34m\u001b[0m\u001b[0m\n",
            "\u001b[0;31mTypeError\u001b[0m: 'History' object is not subscriptable"
          ]
        }
      ]
    },
    {
      "cell_type": "code",
      "metadata": {
        "id": "10Wjkmn5e2Dw",
        "colab_type": "code",
        "colab": {}
      },
      "source": [
        ""
      ],
      "execution_count": 0,
      "outputs": []
    },
    {
      "cell_type": "code",
      "metadata": {
        "id": "OEeUGLvUjxT-",
        "colab_type": "code",
        "colab": {}
      },
      "source": [
        "def plot_predictions(batch_trials, batch_num):\n",
        "    y_true=format_1[source_Y, batch_trials, window:]     #recovery of Y true values from the dataset\n",
        "    Time = np.linspace(1, 6.25, (time_points - window))\n",
        "    \n",
        "\n",
        "    x_true = format_1[source_X, batch_trials, :]\n",
        "    y_pred = np.zeros((batch_num, time_points - window))  \n",
        "    \n",
        "    for i in range(batch_num):\n",
        "        k = 0\n",
        "        while k < time_points - window:\n",
        "            y_pred[i, k] = model.predict(x_true[i, k : window + k].reshape((1, window, 1)))\n",
        "            k = k + 1\n",
        "    print(y_pred.shape)\n",
        "    \n",
        "    for i in range(2):\n",
        "        plt.figure()\n",
        "        plt.plot(Time, y_true[i], label = \"True\")\n",
        "        plt.plot(Time, y_pred[i], label = \"Predicted\")\n",
        "        plt.legend()"
      ],
      "execution_count": 0,
      "outputs": []
    },
    {
      "cell_type": "code",
      "metadata": {
        "id": "TzDK1oRNkFcj",
        "colab_type": "code",
        "outputId": "e35d8609-a034-4377-fb94-c119a3a44502",
        "colab": {
          "base_uri": "https://localhost:8080/",
          "height": 531
        }
      },
      "source": [
        "plot_predictions(trials_valid, valid_num)\n"
      ],
      "execution_count": 0,
      "outputs": [
        {
          "output_type": "stream",
          "text": [
            "(19, 840)\n"
          ],
          "name": "stdout"
        },
        {
          "output_type": "display_data",
          "data": {
            "image/png": "[encoded data removed]",
            "text/plain": [
              "<Figure size 432x288 with 1 Axes>"
            ]
          },
          "metadata": {
            "tags": []
          }
        },
        {
          "output_type": "display_data",
          "data": {
            "image/png": "[encoded data removed]",
            "text/plain": [
              "<Figure size 432x288 with 1 Axes>"
            ]
          },
          "metadata": {
            "tags": []
          }
        }
      ]
    },
    {
      "cell_type": "code",
      "metadata": {
        "id": "luuF_5TY2ESB",
        "colab_type": "code",
        "outputId": "b1831f3f-0176-4cff-963a-1f6517da06fb",
        "colab": {
          "base_uri": "https://localhost:8080/",
          "height": 132
        }
      },
      "source": [
        "#Visualise and set the best learning rate for the model \n",
        "plt.semilogx(history.history[“lr”], history.history[“loss”])\n",
        "plt.axis([1e-8, 1e-4, 0, 30])"
      ],
      "execution_count": 0,
      "outputs": [
        {
          "output_type": "error",
          "ename": "SyntaxError",
          "evalue": "ignored",
          "traceback": [
            "\u001b[0;36m  File \u001b[0;32m\"<ipython-input-946-e6400c891560>\"\u001b[0;36m, line \u001b[0;32m1\u001b[0m\n\u001b[0;31m    plt.semilogx(history.history[“lr”], history.history[“loss”])\u001b[0m\n\u001b[0m                                    ^\u001b[0m\n\u001b[0;31mSyntaxError\u001b[0m\u001b[0;31m:\u001b[0m invalid character in identifier\n"
          ]
        }
      ]
    },
    {
      "cell_type": "code",
      "metadata": {
        "id": "ac8vT-yI2ESD",
        "colab_type": "code",
        "colab": {}
      },
      "source": [
        "score = model.evaluate(test_X, test_Y)\n",
        "print(\"Test Loss:\", score[0])\n"
      ],
      "execution_count": 0,
      "outputs": []
    },
    {
      "cell_type": "code",
      "metadata": {
        "id": "Uesq5EAX2ESF",
        "colab_type": "code",
        "colab": {}
      },
      "source": [
        "#Graphical Display to plot weights\n",
        "def plot_weights(weights, electi):\n",
        " \n",
        "        \n",
        "    T = np.arange(0, 0.00625*window, 0.00625)                       # creation of the time variable (on 1s) for the abscissa\n",
        "    \n",
        "    nbr_elct = len(electi)\n",
        "    (Lo_W, la_W) = weights[0].shape\n",
        "    Lo_W = int(Lo_W)                                              # number of lines: inputs (160 * nbr_electrodes, for example)\n",
        "    la_W = int(la_W)                                              # number of columns: number of neurons in the layer\n",
        "    \n",
        "    z=0\n",
        "    while z < nbr_elct:                                           # for each electrode\n",
        "        z_1=0 \n",
        "        while z_1 < la_W:                                         # for each neuron of the W layer [1]\n",
        "            W_tmp = tf.slice(K.constant(weights[0]), [0, z_1], [Lo_W, 1])           # slice: starting value [line 0, column of the neuron], dimensions of the section [160 * nbr_electrodes lines, 1 column])\n",
        "            W_tmp = tf.slice(W_tmp, [z*window, 0], [window, 1])       # slice: starting value [first value of the new electrode, column 0], dimensions of the section [160 lines, 1 column]\n",
        "            print (W_tmp.shape)\n",
        "            \n",
        "            plt.plot(T, K.eval(W_tmp), label= (\"neurone_\", z_1, \"layer_1, electrode_\", electi[z]))\n",
        "            z_1 = z_1+1\n",
        "            \n",
        "        z = z+1\n",
        "        \n",
        "    plt.legend()    \n",
        "    plt.show()\n",
        "    "
      ],
      "execution_count": 0,
      "outputs": []
    },
    {
      "cell_type": "code",
      "metadata": {
        "id": "Q354AwSR2ESG",
        "colab_type": "code",
        "colab": {}
      },
      "source": [
        "weights = np.array(model.get_weights()) #Convert the weights into np array\n",
        "\n",
        "plot_weights(weights, electi)            #Plot the weights of the model"
      ],
      "execution_count": 0,
      "outputs": []
    },
    {
      "cell_type": "code",
      "metadata": {
        "id": "9PbK-ywf2ESI",
        "colab_type": "code",
        "colab": {}
      },
      "source": [
        "weights.shape"
      ],
      "execution_count": 0,
      "outputs": []
    },
    {
      "cell_type": "code",
      "metadata": {
        "id": "iLD0D_uSfnlL",
        "colab_type": "code",
        "colab": {}
      },
      "source": [
        ""
      ],
      "execution_count": 0,
      "outputs": []
    }
  ]
}