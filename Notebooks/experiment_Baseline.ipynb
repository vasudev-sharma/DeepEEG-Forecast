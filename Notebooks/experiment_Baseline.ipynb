{
  "nbformat": 4,
  "nbformat_minor": 0,
  "metadata": {
    "kernelspec": {
      "name": "python3",
      "display_name": "Python 3"
    },
    "language_info": {
      "codemirror_mode": {
        "name": "ipython",
        "version": 3
      },
      "file_extension": ".py",
      "mimetype": "text/x-python",
      "name": "python",
      "nbconvert_exporter": "python",
      "pygments_lexer": "ipython3",
      "version": "3.6.10"
    },
    "colab": {
      "name": "vanilla_RNN_keras_GoogleColab_forecasting_EEG.ipynb",
      "provenance": [],
      "collapsed_sections": [],
      "machine_shape": "hm",
      "include_colab_link": true
    },
    "accelerator": "GPU"
  },
  "cells": [
    {
      "cell_type": "markdown",
      "metadata": {
        "id": "view-in-github",
        "colab_type": "text"
      },
      "source": [
        "<a href=\"https://colab.research.google.com/github/vs74/EEG/blob/Baseline/Notebooks/experiment.ipynb\" target=\"_parent\"><img src=\"https://colab.research.google.com/assets/colab-badge.svg\" alt=\"Open In Colab\"/></a>"
      ]
    },
    {
      "cell_type": "code",
      "metadata": {
        "id": "oe31xP1M2ERH",
        "colab_type": "code",
        "colab": {
          "base_uri": "https://localhost:8080/",
          "height": 80
        },
        "outputId": "26974db5-2283-4e03-cbe4-6f45d2b9a5be"
      },
      "source": [
        "import tensorflow as tf\n",
        "import numpy as np\n",
        "import matplotlib as mpl\n",
        "import matplotlib.pyplot as plt\n",
        "import scipy.io as sio\n",
        "rng = np.random\n",
        "from array import array\n",
        "from scipy import stats\n",
        "\n",
        "#Keras import \n",
        "import keras as K\n",
        "from keras.models import *\n",
        "from keras.layers import *\n",
        "\n",
        "from keras import optimizers\n",
        "from keras.callbacks import *\n",
        "\n",
        "#import models\n",
        "#from Linear_Regression import linear_regression \n",
        "\n",
        "#import datetime for tensorboard\n",
        "from datetime import *\n",
        "\n",
        "#Import for reading the MATLAB files\n",
        "import glob\n",
        "\n"
      ],
      "execution_count": 2,
      "outputs": [
        {
          "output_type": "display_data",
          "data": {
            "text/html": [
              "<p style=\"color: red;\">\n",
              "The default version of TensorFlow in Colab will switch to TensorFlow 2.x on the 27th of March, 2020.<br>\n",
              "We recommend you <a href=\"https://www.tensorflow.org/guide/migrate\" target=\"_blank\">upgrade</a> now\n",
              "or ensure your notebook will continue to use TensorFlow 1.x via the <code>%tensorflow_version 1.x</code> magic:\n",
              "<a href=\"https://colab.research.google.com/notebooks/tensorflow_version.ipynb\" target=\"_blank\">more info</a>.</p>\n"
            ],
            "text/plain": [
              "<IPython.core.display.HTML object>"
            ]
          },
          "metadata": {
            "tags": []
          }
        },
        {
          "output_type": "stream",
          "text": [
            "Using TensorFlow backend.\n"
          ],
          "name": "stderr"
        }
      ]
    },
    {
      "cell_type": "markdown",
      "metadata": {
        "id": "CPXzCxPa7NyR",
        "colab_type": "text"
      },
      "source": [
        ""
      ]
    },
    {
      "cell_type": "code",
      "metadata": {
        "id": "H2LXb49-UgzL",
        "colab_type": "code",
        "outputId": "635ddbaa-619f-4dee-d1e1-2f904342ca24",
        "colab": {
          "base_uri": "https://localhost:8080/",
          "height": 34
        }
      },
      "source": [
        "from google.colab import drive\n",
        "drive.mount('/content/drive')"
      ],
      "execution_count": 3,
      "outputs": [
        {
          "output_type": "stream",
          "text": [
            "Drive already mounted at /content/drive; to attempt to forcibly remount, call drive.mount(\"/content/drive\", force_remount=True).\n"
          ],
          "name": "stdout"
        }
      ]
    },
    {
      "cell_type": "code",
      "metadata": {
        "id": "ODKGBJrd3dVf",
        "colab_type": "code",
        "outputId": "9d3b1e54-a044-4274-f469-388b2c55673a",
        "colab": {
          "base_uri": "https://localhost:8080/",
          "height": 34
        }
      },
      "source": [
        "tf.__version__\n"
      ],
      "execution_count": 24,
      "outputs": [
        {
          "output_type": "execute_result",
          "data": {
            "text/plain": [
              "'1.15.0'"
            ]
          },
          "metadata": {
            "tags": []
          },
          "execution_count": 24
        }
      ]
    },
    {
      "cell_type": "code",
      "metadata": {
        "id": "CZFdU0DCUsy8",
        "colab_type": "code",
        "colab": {}
      },
      "source": [
        "#Copy the content from the drive folder to the root directory\n",
        "!cp /content/drive/My\\ Drive/EEG_data/1filtered.mat /content/"
      ],
      "execution_count": 0,
      "outputs": []
    },
    {
      "cell_type": "code",
      "metadata": {
        "id": "q6SHn7T55qdD",
        "colab_type": "code",
        "outputId": "ff66f409-add2-4797-a614-78a6ce192b6d",
        "colab": {
          "base_uri": "https://localhost:8080/",
          "height": 34
        }
      },
      "source": [
        "#Check the data is downloaded or not\n",
        "!ls"
      ],
      "execution_count": 26,
      "outputs": [
        {
          "output_type": "stream",
          "text": [
            "1filtered.mat  drive  sample_data\n"
          ],
          "name": "stdout"
        }
      ]
    },
    {
      "cell_type": "code",
      "metadata": {
        "id": "S8Vpq-qo5Yt6",
        "colab_type": "code",
        "outputId": "bd0d483d-dabc-4a07-c807-b143475d6f19",
        "colab": {
          "base_uri": "https://localhost:8080/",
          "height": 34
        }
      },
      "source": [
        "#Ensure Google COlab is utilising GPU \n",
        "tf.test.gpu_device_name()\n"
      ],
      "execution_count": 27,
      "outputs": [
        {
          "output_type": "execute_result",
          "data": {
            "text/plain": [
              "'/device:GPU:0'"
            ]
          },
          "metadata": {
            "tags": []
          },
          "execution_count": 27
        }
      ]
    },
    {
      "cell_type": "code",
      "metadata": {
        "id": "jsY31tfWbo3w",
        "colab_type": "code",
        "outputId": "670d342d-81b5-4ad9-abfc-ce9d7c7551a6",
        "colab": {
          "base_uri": "https://localhost:8080/",
          "height": 34
        }
      },
      "source": [
        "'''!nvidia-smi\n",
        "!kill 0\n",
        "'''"
      ],
      "execution_count": 0,
      "outputs": [
        {
          "output_type": "execute_result",
          "data": {
            "text/plain": [
              "'!nvidia-smi\\n!kill 0\\n'"
            ]
          },
          "metadata": {
            "tags": []
          },
          "execution_count": 11
        }
      ]
    },
    {
      "cell_type": "code",
      "metadata": {
        "id": "DNu8gZkY4W7_",
        "colab_type": "code",
        "outputId": "de7a175b-ebf0-4af6-ffc2-74270b5e6595",
        "colab": {
          "base_uri": "https://localhost:8080/",
          "height": 238
        }
      },
      "source": [
        "#Visualize Using Tenosrboard\n",
        "!wget https://bin.equinox.io/c/4VmDzA7iaHb/ngrok-stable-linux-amd64.zip\n",
        "!unzip ngrok-stable-linux-amd64.zip\n"
      ],
      "execution_count": 0,
      "outputs": [
        {
          "output_type": "stream",
          "text": [
            "--2020-03-20 14:36:54--  https://bin.equinox.io/c/4VmDzA7iaHb/ngrok-stable-linux-amd64.zip\n",
            "Resolving bin.equinox.io (bin.equinox.io)... 3.228.157.109, 34.197.77.37, 34.192.123.246, ...\n",
            "Connecting to bin.equinox.io (bin.equinox.io)|3.228.157.109|:443... connected.\n",
            "HTTP request sent, awaiting response... 200 OK\n",
            "Length: 13773305 (13M) [application/octet-stream]\n",
            "Saving to: ‘ngrok-stable-linux-amd64.zip’\n",
            "\n",
            "\r          ngrok-sta   0%[                    ]       0  --.-KB/s               \r         ngrok-stab  69%[============>       ]   9.17M  45.2MB/s               \rngrok-stable-linux- 100%[===================>]  13.13M  53.8MB/s    in 0.2s    \n",
            "\n",
            "2020-03-20 14:36:54 (53.8 MB/s) - ‘ngrok-stable-linux-amd64.zip’ saved [13773305/13773305]\n",
            "\n",
            "Archive:  ngrok-stable-linux-amd64.zip\n",
            "  inflating: ngrok                   \n"
          ],
          "name": "stdout"
        }
      ]
    },
    {
      "cell_type": "code",
      "metadata": {
        "scrolled": true,
        "id": "x5jjdQ5p2ERT",
        "colab_type": "code",
        "outputId": "74b92a07-9395-4b48-e783-ee388b80892e",
        "colab": {
          "base_uri": "https://localhost:8080/",
          "height": 34
        }
      },
      "source": [
        "\n",
        "\n",
        "\n",
        "# data import from matlab\n",
        "subject_1 = sio.loadmat('1filtered.mat')      #recovering matlab data in the form of a python dictionar\n",
        "format_1 = subject_1['data']          #in the dictionary, only the data key interests us\n",
        "print (format_1.shape)\n",
        "\n",
        "# shuffle trials\n",
        "(channel, trial, time_points)= format_1.shape\n",
        "\n",
        "trials = np.arange(trial)\n",
        "np.random.shuffle(trials)\n",
        "\n",
        "#Z score\n",
        "format_1=stats.zscore(format_1, axis=2)"
      ],
      "execution_count": 4,
      "outputs": [
        {
          "output_type": "stream",
          "text": [
            "(65, 192, 1000)\n"
          ],
          "name": "stdout"
        }
      ]
    },
    {
      "cell_type": "code",
      "metadata": {
        "id": "N5xD2DRKzz9S",
        "colab_type": "code",
        "outputId": "c5d3d62b-bffc-4471-a846-57203d34ef11",
        "colab": {
          "base_uri": "https://localhost:8080/",
          "height": 34
        }
      },
      "source": [
        "format"
      ],
      "execution_count": 0,
      "outputs": [
        {
          "output_type": "execute_result",
          "data": {
            "text/plain": [
              "<function format>"
            ]
          },
          "metadata": {
            "tags": []
          },
          "execution_count": 113
        }
      ]
    },
    {
      "cell_type": "code",
      "metadata": {
        "id": "CywHnuB82ERZ",
        "colab_type": "code",
        "outputId": "2003d2a1-f320-41f7-8cf2-6f7535a633b3",
        "colab": {
          "base_uri": "https://localhost:8080/",
          "height": 54
        }
      },
      "source": [
        "'''\n",
        "#Plot EEG\n",
        "#plot of a single channel of EEG\n",
        "%matplotlib inline\n",
        "Time = np.linspace(0, 6.25, 1000)\n",
        "for i in range (channel):\n",
        "    plt.plot(Time, format_1[i][0])\n",
        "    plt.figure()\n",
        "\n",
        "plt.plot(Time, format_1[52][1])\n",
        "\n",
        "'''"
      ],
      "execution_count": 0,
      "outputs": [
        {
          "output_type": "execute_result",
          "data": {
            "text/plain": [
              "'\\n#Plot EEG\\n#plot of a single channel of EEG\\n%matplotlib inline\\nTime = np.linspace(0, 6.25, 1000)\\nfor i in range (channel):\\n    plt.plot(Time, format_1[i][0])\\n    plt.figure()\\n\\nplt.plot(Time, format_1[52][1])\\n\\n'"
            ]
          },
          "metadata": {
            "tags": []
          },
          "execution_count": 114
        }
      ]
    },
    {
      "cell_type": "code",
      "metadata": {
        "id": "e-RZqJH12ERc",
        "colab_type": "code",
        "outputId": "fdb864e0-032c-4100-ca29-6c1fb3388736",
        "colab": {
          "base_uri": "https://localhost:8080/",
          "height": 156
        }
      },
      "source": [
        "# parametres\n",
        "\n",
        "eltmp = input ('''Enter the electrode number:''')\n",
        "electi = list(map(int, eltmp.split()))    #separation of the different responses and recovery in the form of a list of integers\n",
        "print (type(electi))\n",
        "print(electi)\n",
        "\n",
        "window = input ('''Enter the number of stimuli:''')\n",
        "window = int(window)\n",
        "\n",
        "n_channel = input('''Enter  the chanel number for which you want your predicion''')\n",
        "n_channel = list(map(int, n_channel.split()))\n",
        "\n",
        "\n",
        "relation = input('''Please define what should be predicted (1 for EEG from stimulus or 2 for stimulus from EEG or 3 for EEG forecasting ):''')\n",
        "\n",
        "if relation == '1':\n",
        "    response = input(\"Do you want to embed information of EEG as well ? ( 1 for yes or 2 for no)\")\n",
        "    if response == \"2\":\n",
        "      source_Y = electi[0]    #retrieving the electrode number as a whole number - implies that there is only one electrode chosen in this direction\n",
        "      source_X = [0]          #conversion of the stimuli line in the form of a list - necessary for the for loop: see below - extraction X\n",
        "    else:\n",
        "      source_Y = electi[0]\n",
        "      source_X = [0] + electi[0]\n",
        "\n",
        "elif relation == '2':\n",
        "    format_1 = np.flip(format_1,2)     # data inversion according to the time dimension - problem ????\n",
        "    source_Y = 0\n",
        "    source_X = electi\n",
        "    \n",
        "elif relation == '3':\n",
        "    response = input(\"Do you want to embed information of Stimuli as well ? ( 1 for yes or 2 for no)\") \n",
        "    if response == \"2\":\n",
        "      source_Y = n_channel\n",
        "      source_X = electi\n",
        "    else: \n",
        "      source_Y = n_channel\n",
        "      source_X = electi + [0]       \n"
      ],
      "execution_count": 12,
      "outputs": [
        {
          "output_type": "stream",
          "text": [
            "Enter the electrode number:1 2 3 4 5 6 7 8 9 10 11 12 13 14 15 16 17 18 19 20 21 22 23 24 25 26 27 28 29 30 31 32 33 34 35 36 37 38 39 40 41 42 43 44 45 46 47 48 49 50 51 52 53 54 55 56 57 58 59 60 61 62 63 64 \n",
            "<class 'list'>\n",
            "[1, 2, 3, 4, 5, 6, 7, 8, 9, 10, 11, 12, 13, 14, 15, 16, 17, 18, 19, 20, 21, 22, 23, 24, 25, 26, 27, 28, 29, 30, 31, 32, 33, 34, 35, 36, 37, 38, 39, 40, 41, 42, 43, 44, 45, 46, 47, 48, 49, 50, 51, 52, 53, 54, 55, 56, 57, 58, 59, 60, 61, 62, 63, 64]\n",
            "Enter the number of stimuli:160\n",
            "Enter  the chanel number for which you want your predicion1 2 3 4 5 6 7 8 9 10 11 12 13 14 15 16 17 18 19 20 21 22 23 24 25 26 27 28 29 30 31 32 33 34 35 36 37 38 39 40 41 42 43 44 45 46 47 48 49 50 51 52 53 54 55 56 57 58 59 60 61 62 63 64 \n",
            "Please define what should be predicted (1 for EEG from stimulus or 2 for stimulus from EEG or 3 for EEG forecasting ):3\n",
            "Do you want to embed information of Stimuli as well ? ( 1 for yes or 2 for no)2\n"
          ],
          "name": "stdout"
        }
      ]
    },
    {
      "cell_type": "code",
      "metadata": {
        "id": "ZvTpCrv8maTA",
        "colab_type": "code",
        "outputId": "cdafeaff-2ec9-4abb-c6cf-bd8fd1e1f1fe",
        "colab": {
          "base_uri": "https://localhost:8080/",
          "height": 71
        }
      },
      "source": [
        "elec = int(input(\"Enter the electrode for which you want prediction \"))\n",
        "for i in range(1, 65):\n",
        "  if(i!=elec):\n",
        "    print(i, end = \" \")\n",
        "\n",
        "\n",
        "\n"
      ],
      "execution_count": 0,
      "outputs": [
        {
          "output_type": "stream",
          "text": [
            "Enter the electrode for which you want prediction 30\n",
            "1 2 3 4 5 6 7 8 9 10 11 12 13 14 15 16 17 18 19 20 21 22 23 24 25 26 27 28 29 31 32 33 34 35 36 37 38 39 40 41 42 43 44 45 46 47 48 49 50 51 52 53 54 55 56 57 58 59 60 61 62 63 64 "
          ],
          "name": "stdout"
        }
      ]
    },
    {
      "cell_type": "code",
      "metadata": {
        "id": "sddiUU1l-z07",
        "colab_type": "code",
        "colab": {
          "base_uri": "https://localhost:8080/",
          "height": 34
        },
        "outputId": "5d501f22-cc83-4bc0-fb4b-827b4f0490a2"
      },
      "source": [
        "print(len(source_Y))"
      ],
      "execution_count": 11,
      "outputs": [
        {
          "output_type": "stream",
          "text": [
            "63\n"
          ],
          "name": "stdout"
        }
      ]
    },
    {
      "cell_type": "code",
      "metadata": {
        "id": "yodU9VVJ2ERe",
        "colab_type": "code",
        "colab": {}
      },
      "source": [
        "#### separation of train tests / valid / test\n",
        "\n",
        "train_num = int(np.around(len(trials) * 0.8))\n",
        "valid_num = int(np.around(len(trials) * 0.1))\n",
        "test_num = len(trials) - train_num - valid_num\n",
        "\n",
        "\n",
        "trials_train = trials[0:train_num]\n",
        "trials_valid = trials[train_num:train_num+valid_num]\n",
        "trials_test = trials[train_num+valid_num:]\n"
      ],
      "execution_count": 0,
      "outputs": []
    },
    {
      "cell_type": "markdown",
      "metadata": {
        "id": "zB4pqiPy41TE",
        "colab_type": "text"
      },
      "source": [
        ""
      ]
    },
    {
      "cell_type": "code",
      "metadata": {
        "id": "xI_1H-GsV1pX",
        "colab_type": "code",
        "colab": {}
      },
      "source": [
        "trials_train = np.array([172, 125, 136,  99,  82,  31, 133,  44, 183, 184, 142, 121,  18,\n",
        "        89, 141,  27, 107,  49,  68, 186,  70,  92, 109,   6, 147, 124,\n",
        "       117, 161, 137,  39, 157, 159,   4,  23,  25, 145, 179, 118, 163,\n",
        "       106,  69, 187,  76, 108, 188,  32, 178,  19,  26,  72, 168, 158,\n",
        "        55,   8, 167,  11,  30,  59,  80,  95,  60, 148, 153,  45,  20,\n",
        "       152,  73,  48,  36, 100, 185, 131, 138,   3,  13,  97, 126, 171,\n",
        "       130,  54,   2,  50,  75,  83,  33, 174, 140,  79, 113, 146,  81,\n",
        "        64,  63,  46, 170,  16, 173, 156,  90, 103, 144,  29,  58,  47,\n",
        "       105, 189,  56,  34,  12, 165, 122, 119,  94,  42,  24,  37,  14,\n",
        "        65,  93,  87, 154,  77, 166, 114, 112, 160, 164,  51, 139,  84,\n",
        "       169,  85, 162,  88,  66, 155,  78,  28,   9,   1,  98, 132, 175,\n",
        "       177, 115,  96, 111,  52,  21, 180,  61, 191, 143,  10])\n",
        "\n",
        "trials_valid = np.array([ 67,  15,  38,  22,   0,  74, 182, 151,  91,  43,  53, 123, 127,\n",
        "       128, 149, 190, 134, 102, 181])\n",
        "\n",
        "trials_test = np.array([116,  57, 110,   7,  40, 176, 150,  41, 120, 135, 101,  71,  62,\n",
        "        86, 129,  35, 104,   5,  17])"
      ],
      "execution_count": 0,
      "outputs": []
    },
    {
      "cell_type": "code",
      "metadata": {
        "id": "uD0E_O4nTX4b",
        "colab_type": "code",
        "colab": {
          "base_uri": "https://localhost:8080/",
          "height": 1000
        },
        "outputId": "1ff199c0-5edf-42f1-f522-aad0f1a26369"
      },
      "source": [
        "source_Y"
      ],
      "execution_count": 15,
      "outputs": [
        {
          "output_type": "execute_result",
          "data": {
            "text/plain": [
              "[1,\n",
              " 2,\n",
              " 3,\n",
              " 4,\n",
              " 5,\n",
              " 6,\n",
              " 7,\n",
              " 8,\n",
              " 9,\n",
              " 10,\n",
              " 11,\n",
              " 12,\n",
              " 13,\n",
              " 14,\n",
              " 15,\n",
              " 16,\n",
              " 17,\n",
              " 18,\n",
              " 19,\n",
              " 20,\n",
              " 21,\n",
              " 22,\n",
              " 23,\n",
              " 24,\n",
              " 25,\n",
              " 26,\n",
              " 27,\n",
              " 28,\n",
              " 29,\n",
              " 30,\n",
              " 31,\n",
              " 32,\n",
              " 33,\n",
              " 34,\n",
              " 35,\n",
              " 36,\n",
              " 37,\n",
              " 38,\n",
              " 39,\n",
              " 40,\n",
              " 41,\n",
              " 42,\n",
              " 43,\n",
              " 44,\n",
              " 45,\n",
              " 46,\n",
              " 47,\n",
              " 48,\n",
              " 49,\n",
              " 50,\n",
              " 51,\n",
              " 52,\n",
              " 53,\n",
              " 54,\n",
              " 55,\n",
              " 56,\n",
              " 57,\n",
              " 58,\n",
              " 59,\n",
              " 60,\n",
              " 61,\n",
              " 62,\n",
              " 63,\n",
              " 64]"
            ]
          },
          "metadata": {
            "tags": []
          },
          "execution_count": 15
        }
      ]
    },
    {
      "cell_type": "code",
      "metadata": {
        "id": "IbCiQ21d2ERf",
        "colab_type": "code",
        "outputId": "69dda066-5f7b-456e-ca0f-1249f7cc6278",
        "colab": {
          "base_uri": "https://localhost:8080/",
          "height": 68
        }
      },
      "source": [
        "# extract Y for Muti Channel Prediction\n",
        "def extract_Y (batch_trials, batch_num):              #creation of a function to recover y - simplification of reading\n",
        "    y = []\n",
        "    for i in source_Y:\n",
        "        y_tmp=format_1[i, batch_trials, window:]     #recovery of Y in the form of a matrix of 154 * 840\n",
        "        y_tmp=np.reshape(y_tmp, ((time_points-window)*batch_num))    #passage through the list of 129 360 values ​​(test 0, test 1, ... test 153)\n",
        "        y_tmp=np.matrix(y_tmp)                           #1 * 129360 matrix conversion\n",
        "        y_tmp=np.transpose(y_tmp)                        #transposition into a matrix of 129360 * 1, matrix equal to that of Matlab (necessary for the rest)\n",
        "        y.append(y_tmp)\n",
        "    return(np.hstack(y))                                     #returns the content of y_tmp\n",
        "y_train = extract_Y (trials_train, train_num)\n",
        "print (\"y_train.shape = \", y_train.shape)\n",
        "y_valid = extract_Y (trials_valid, valid_num)\n",
        "print (\"y_valid.shape = \", y_valid.shape)\n",
        "y_test = extract_Y (trials_test, test_num)\n",
        "print (\"y_test.shape = \", y_test.shape)\n"
      ],
      "execution_count": 16,
      "outputs": [
        {
          "output_type": "stream",
          "text": [
            "y_train.shape =  (129360, 64)\n",
            "y_valid.shape =  (15960, 64)\n",
            "y_test.shape =  (15960, 64)\n"
          ],
          "name": "stdout"
        }
      ]
    },
    {
      "cell_type": "code",
      "metadata": {
        "id": "yo0SNanmgWDy",
        "colab_type": "code",
        "colab": {}
      },
      "source": [
        "def rolling_window(a, window):\n",
        "    shape = a.shape[:-1] + (a.shape[-1] - window + 1, window)\n",
        "    strides = a.strides + (a.strides[-1],)\n",
        "    return np.lib.stride_tricks.as_strided(a, shape=shape, strides=strides)\n",
        "    "
      ],
      "execution_count": 0,
      "outputs": []
    },
    {
      "cell_type": "code",
      "metadata": {
        "id": "EgTbg5K7t9ji",
        "colab_type": "code",
        "colab": {
          "base_uri": "https://localhost:8080/",
          "height": 68
        },
        "outputId": "c12fdd2d-434e-4f36-ca1a-0bd85c5d4109"
      },
      "source": [
        "\n",
        "def extract_X (batch_trials, batch_num):                     #creation of a function to recover x - simplification of reading\n",
        "  \n",
        "    x = np.zeros((len(source_X),  batch_num * (time_points - window), window))                                       \n",
        "    for idx, i in enumerate(source_X):                                      #reading the source list -> reading each electrode number if flip\n",
        "      x_tmp = []\n",
        "      for j in batch_trials:\n",
        "        tmp = rolling_window(format_1[i, j, :-1], window)\n",
        "        x_tmp.append(tmp)\n",
        "      x[idx] = np.vstack(x_tmp)\n",
        "\n",
        "    x = np.hstack(x)\n",
        "    '''\n",
        "    x = np.array(np.split(x, len(source_X), axis = -1))\n",
        "    x = np.moveaxis(x, 0, -1)\n",
        "    '''\n",
        "    return x\n",
        "\n",
        "\n",
        "        \n",
        "x_train = extract_X (trials_train, train_num)\n",
        "print (\"x_train.shape = \", x_train.shape)\n",
        "x_valid = extract_X (trials_valid, valid_num)\n",
        "print (\"x_valid.shape = \", x_valid.shape)\n",
        "x_test = extract_X (trials_test, test_num)\n",
        "print (\"x_test.shape = \", x_test.shape)"
      ],
      "execution_count": 18,
      "outputs": [
        {
          "output_type": "stream",
          "text": [
            "x_train.shape =  (129360, 10240)\n",
            "x_valid.shape =  (15960, 10240)\n",
            "x_test.shape =  (15960, 10240)\n"
          ],
          "name": "stdout"
        }
      ]
    },
    {
      "cell_type": "code",
      "metadata": {
        "id": "YADYrkgq2ERk",
        "colab_type": "code",
        "colab": {
          "base_uri": "https://localhost:8080/",
          "height": 51
        },
        "outputId": "fd53845b-5160-4c09-b8aa-5c0dcc547c15"
      },
      "source": [
        "#tensorflow - Linear regression cf github\n",
        "\n",
        "\n",
        "train_X = x_train\n",
        "print(train_X.shape)\n",
        "train_Y = y_train\n",
        "print(train_Y.shape)\n",
        "n_samples_train = train_X.shape[0]\n",
        "\n",
        "valid_X = x_valid\n",
        "valid_Y = y_valid\n",
        "n_samples_valid = valid_X.shape[0]\n",
        "\n",
        "test_X = x_test\n",
        "test_Y = y_test\n",
        "n_samples_test = test_X.shape[0]"
      ],
      "execution_count": 19,
      "outputs": [
        {
          "output_type": "stream",
          "text": [
            "(129360, 10240)\n",
            "(129360, 64)\n"
          ],
          "name": "stdout"
        }
      ]
    },
    {
      "cell_type": "code",
      "metadata": {
        "id": "y_F2z8BvLVvh",
        "colab_type": "code",
        "outputId": "d6b239bc-0f82-4de6-a4d9-b6e8d0067199",
        "colab": {
          "base_uri": "https://localhost:8080/",
          "height": 34
        }
      },
      "source": [
        "type(train_X.shape)"
      ],
      "execution_count": 20,
      "outputs": [
        {
          "output_type": "execute_result",
          "data": {
            "text/plain": [
              "tuple"
            ]
          },
          "metadata": {
            "tags": []
          },
          "execution_count": 20
        }
      ]
    },
    {
      "cell_type": "code",
      "metadata": {
        "id": "FefOyH9eLMi3",
        "colab_type": "code",
        "outputId": "7e44d508-de9a-4d86-e53e-54827d9f296c",
        "colab": {
          "base_uri": "https://localhost:8080/",
          "height": 68
        }
      },
      "source": [
        "\n",
        "#Sanity Check dimension of Input\n",
        "print(\"Shape of Train_X  = \", train_X.shape)\n",
        "print(\"Shape of Valid_X  = \", valid_X.shape)\n",
        "print(\"Shape of Test_X   = \",test_X.shape )\n",
        "\n",
        "\n",
        "\n"
      ],
      "execution_count": 21,
      "outputs": [
        {
          "output_type": "stream",
          "text": [
            "Shape of Train_X  =  (129360, 10240)\n",
            "Shape of Valid_X  =  (15960, 10240)\n",
            "Shape of Test_X   =  (15960, 10240)\n"
          ],
          "name": "stdout"
        }
      ]
    },
    {
      "cell_type": "code",
      "metadata": {
        "id": "t3-uB5j6WWwn",
        "colab_type": "code",
        "colab": {
          "base_uri": "https://localhost:8080/",
          "height": 54
        },
        "outputId": "88253067-3b1c-4a60-82f6-fb606e271a14"
      },
      "source": [
        "\n",
        "'''from keras import backend as K\n",
        "\n",
        "curr_session = tf.get_default_session()\n",
        "# close current session\n",
        "if curr_session is not None:\n",
        "    curr_session.close()\n",
        "# reset graph\n",
        "K.clear_session()\n",
        "# create new session\n",
        "s = tf.InteractiveSession()\n",
        "K.set_session(s)\n",
        "'''"
      ],
      "execution_count": 22,
      "outputs": [
        {
          "output_type": "execute_result",
          "data": {
            "text/plain": [
              "'from keras import backend as K\\n\\ncurr_session = tf.get_default_session()\\n# close current session\\nif curr_session is not None:\\n    curr_session.close()\\n# reset graph\\nK.clear_session()\\n# create new session\\ns = tf.InteractiveSession()\\nK.set_session(s)\\n'"
            ]
          },
          "metadata": {
            "tags": []
          },
          "execution_count": 22
        }
      ]
    },
    {
      "cell_type": "code",
      "metadata": {
        "id": "SYDFs4vYDbi_",
        "colab_type": "code",
        "colab": {}
      },
      "source": [
        "from keras import backend as K\n"
      ],
      "execution_count": 0,
      "outputs": []
    },
    {
      "cell_type": "code",
      "metadata": {
        "id": "oK01nWgDc1Ok",
        "colab_type": "code",
        "outputId": "e43cb4cc-f08c-4371-ac0a-137d914a5780",
        "colab": {
          "base_uri": "https://localhost:8080/",
          "height": 105
        }
      },
      "source": [
        "K.clear_session()"
      ],
      "execution_count": 38,
      "outputs": [
        {
          "output_type": "stream",
          "text": [
            "WARNING:tensorflow:From /usr/local/lib/python3.6/dist-packages/keras/backend/tensorflow_backend.py:107: The name tf.reset_default_graph is deprecated. Please use tf.compat.v1.reset_default_graph instead.\n",
            "\n",
            "WARNING:tensorflow:From /usr/local/lib/python3.6/dist-packages/keras/backend/tensorflow_backend.py:111: The name tf.placeholder_with_default is deprecated. Please use tf.compat.v1.placeholder_with_default instead.\n",
            "\n"
          ],
          "name": "stdout"
        }
      ]
    },
    {
      "cell_type": "code",
      "metadata": {
        "id": "QhZSYgCDH2UT",
        "colab_type": "code",
        "colab": {}
      },
      "source": [
        "import gc\n",
        "del model\n",
        "gc.collect()\n",
        "#K.clear_session()\n",
        "tf.compat.v1.reset_default_graph() # TF graph isn't same as Keras graph"
      ],
      "execution_count": 0,
      "outputs": []
    },
    {
      "cell_type": "code",
      "metadata": {
        "id": "BHLNwUpIc0en",
        "colab_type": "code",
        "colab": {}
      },
      "source": [
        ""
      ],
      "execution_count": 0,
      "outputs": []
    },
    {
      "cell_type": "code",
      "metadata": {
        "id": "Uqo14WsW40hC",
        "colab_type": "code",
        "colab": {}
      },
      "source": [
        "#Parameters of model\n",
        "model_name = \"LR\"\n",
        "optimizer_name = \"sgd\"\n",
        "training_epochs = 500\n",
        "batch_size = 1024\n",
        "\n",
        "layers = 2\n",
        "learning_rate = 0.1\n",
        "normalized_data = True\n",
        "features = train_X.shape[-1]"
      ],
      "execution_count": 0,
      "outputs": []
    },
    {
      "cell_type": "code",
      "metadata": {
        "id": "axRABHB6Ragh",
        "colab_type": "code",
        "colab": {}
      },
      "source": [
        "def linear_regression(X_shape, hidden_layers):\n",
        "    X = Input((X_shape,))\n",
        "    inp = X\n",
        "    for i in range(len(hidden_layers)):\n",
        "        if (i==(len(hidden_layers)-1)):\n",
        "            out = Dense(hidden_layers[i], activation = \"linear\", kernel_initializer = \"normal\" )(X)\n",
        "        else: \n",
        "            X = Dense(hidden_layers[i], activation = \"relu\", kernel_initializer = \"normal\" )(X)\n",
        "    \n",
        "    \n",
        "    model = Model(inputs = inp , output = out)\n",
        "    sgd = optimizers.SGD(learning_rate)\n",
        "    adam = optimizers.Adam(lr = learning_rate)\n",
        "    rmsprop = optimizers.RMSprop(lr = learning_rate)\n",
        "\n",
        "        \n",
        "    \n",
        "    #Compile the model\n",
        "    model.compile(loss = 'mse', optimizer = sgd, metrics=['mse'])\n",
        "  \n",
        "    return model"
      ],
      "execution_count": 0,
      "outputs": []
    },
    {
      "cell_type": "code",
      "metadata": {
        "id": "Cdxd1hdQReAH",
        "colab_type": "code",
        "colab": {
          "base_uri": "https://localhost:8080/",
          "height": 71
        },
        "outputId": "38577b70-3212-4cc3-8904-0b68183012aa"
      },
      "source": [
        "model = linear_regression(train_X.shape[1], [64])"
      ],
      "execution_count": 59,
      "outputs": [
        {
          "output_type": "stream",
          "text": [
            "/usr/local/lib/python3.6/dist-packages/ipykernel_launcher.py:11: UserWarning: Update your `Model` call to the Keras 2 API: `Model(inputs=Tensor(\"in..., outputs=Tensor(\"de...)`\n",
            "  # This is added back by InteractiveShellApp.init_path()\n"
          ],
          "name": "stderr"
        }
      ]
    },
    {
      "cell_type": "code",
      "metadata": {
        "id": "BzBb31SLT_ik",
        "colab_type": "code",
        "colab": {
          "base_uri": "https://localhost:8080/",
          "height": 221
        },
        "outputId": "f468863f-d5be-4916-8c41-e525c89e514a"
      },
      "source": [
        "model.summary()"
      ],
      "execution_count": 60,
      "outputs": [
        {
          "output_type": "stream",
          "text": [
            "Model: \"model_2\"\n",
            "_________________________________________________________________\n",
            "Layer (type)                 Output Shape              Param #   \n",
            "=================================================================\n",
            "input_2 (InputLayer)         (None, 10240)             0         \n",
            "_________________________________________________________________\n",
            "dense_2 (Dense)              (None, 64)                655424    \n",
            "=================================================================\n",
            "Total params: 655,424\n",
            "Trainable params: 655,424\n",
            "Non-trainable params: 0\n",
            "_________________________________________________________________\n"
          ],
          "name": "stdout"
        }
      ]
    },
    {
      "cell_type": "code",
      "metadata": {
        "id": "9CHQDrpk3UhS",
        "colab_type": "code",
        "outputId": "e5ab224d-7199-4b9a-88c5-61ecbdc345c0",
        "colab": {
          "base_uri": "https://localhost:8080/",
          "height": 272
        }
      },
      "source": [
        "pip install keras-tuner"
      ],
      "execution_count": 0,
      "outputs": [
        {
          "output_type": "stream",
          "text": [
            "Requirement already satisfied: keras-tuner in /usr/local/lib/python3.6/dist-packages (1.0.1)\n",
            "Requirement already satisfied: tabulate in /usr/local/lib/python3.6/dist-packages (from keras-tuner) (0.8.6)\n",
            "Requirement already satisfied: tqdm in /usr/local/lib/python3.6/dist-packages (from keras-tuner) (4.28.1)\n",
            "Requirement already satisfied: numpy in /usr/local/lib/python3.6/dist-packages (from keras-tuner) (1.18.1)\n",
            "Requirement already satisfied: scikit-learn in /usr/local/lib/python3.6/dist-packages (from keras-tuner) (0.22.2.post1)\n",
            "Requirement already satisfied: scipy in /usr/local/lib/python3.6/dist-packages (from keras-tuner) (1.4.1)\n",
            "Requirement already satisfied: requests in /usr/local/lib/python3.6/dist-packages (from keras-tuner) (2.21.0)\n",
            "Requirement already satisfied: colorama in /usr/local/lib/python3.6/dist-packages (from keras-tuner) (0.4.3)\n",
            "Requirement already satisfied: terminaltables in /usr/local/lib/python3.6/dist-packages (from keras-tuner) (3.1.0)\n",
            "Requirement already satisfied: future in /usr/local/lib/python3.6/dist-packages (from keras-tuner) (0.16.0)\n",
            "Requirement already satisfied: joblib>=0.11 in /usr/local/lib/python3.6/dist-packages (from scikit-learn->keras-tuner) (0.14.1)\n",
            "Requirement already satisfied: urllib3<1.25,>=1.21.1 in /usr/local/lib/python3.6/dist-packages (from requests->keras-tuner) (1.24.3)\n",
            "Requirement already satisfied: chardet<3.1.0,>=3.0.2 in /usr/local/lib/python3.6/dist-packages (from requests->keras-tuner) (3.0.4)\n",
            "Requirement already satisfied: idna<2.9,>=2.5 in /usr/local/lib/python3.6/dist-packages (from requests->keras-tuner) (2.8)\n",
            "Requirement already satisfied: certifi>=2017.4.17 in /usr/local/lib/python3.6/dist-packages (from requests->keras-tuner) (2019.11.28)\n"
          ],
          "name": "stdout"
        }
      ]
    },
    {
      "cell_type": "code",
      "metadata": {
        "id": "0UqaYY_f3aL1",
        "colab_type": "code",
        "colab": {}
      },
      "source": [
        "from kerastuner import RandomSearch\n",
        "from kerastuner.engine.hyperparameters import HyperParameters"
      ],
      "execution_count": 0,
      "outputs": []
    },
    {
      "cell_type": "code",
      "metadata": {
        "id": "_pgZZDC3ti-H",
        "colab_type": "code",
        "outputId": "b704084d-0387-41cd-f98c-ff9a57214d26",
        "colab": {
          "base_uri": "https://localhost:8080/",
          "height": 139
        }
      },
      "source": [
        "tuner_search=RandomSearch(conv_1D,\n",
        "                          objective='val_loss',\n",
        "                          max_trials=2,project_name=\"dsfhh\",\n",
        "                          executions_per_trial=1,\n",
        ")"
      ],
      "execution_count": 0,
      "outputs": [
        {
          "output_type": "stream",
          "text": [
            "WARNING:tensorflow:From /usr/local/lib/python3.6/dist-packages/tensorflow_core/python/keras/initializers.py:143: calling RandomNormal.__init__ (from tensorflow.python.ops.init_ops) with dtype is deprecated and will be removed in a future version.\n",
            "Instructions for updating:\n",
            "Call initializer instance with the dtype argument instead of passing it to the constructor\n",
            "WARNING:tensorflow:From /usr/local/lib/python3.6/dist-packages/tensorflow_core/python/ops/resource_variable_ops.py:1630: calling BaseResourceVariable.__init__ (from tensorflow.python.ops.resource_variable_ops) with constraint is deprecated and will be removed in a future version.\n",
            "Instructions for updating:\n",
            "If using Keras pass *_constraint arguments to layers.\n"
          ],
          "name": "stdout"
        }
      ]
    },
    {
      "cell_type": "code",
      "metadata": {
        "id": "bOVGoFHW4Hcr",
        "colab_type": "code",
        "colab": {}
      },
      "source": [
        "training_epochs = 3"
      ],
      "execution_count": 0,
      "outputs": []
    },
    {
      "cell_type": "code",
      "metadata": {
        "id": "iQ4Y4LgF4AIe",
        "colab_type": "code",
        "outputId": "78a3fc3d-076c-43d9-d2b1-19a709a8fc8f",
        "colab": {
          "base_uri": "https://localhost:8080/",
          "height": 863
        }
      },
      "source": [
        "tuner_search.search(train_X, \n",
        "    train_Y, \n",
        "    batch_size = batch_size,\n",
        "    epochs = training_epochs, \n",
        "\n",
        "    validation_data = (valid_X, valid_Y))"
      ],
      "execution_count": 0,
      "outputs": [
        {
          "output_type": "stream",
          "text": [
            "Train on 129360 samples, validate on 15960 samples\n",
            "Epoch 1/3\n",
            "129360/129360 [==============================] - 20s 157us/sample - loss: nan - mean_squared_error: nan - val_loss: nan - val_mean_squared_error: nan\n",
            "Epoch 2/3\n",
            "129360/129360 [==============================] - 15s 120us/sample - loss: nan - mean_squared_error: nan - val_loss: nan - val_mean_squared_error: nan\n",
            "Epoch 3/3\n",
            "129360/129360 [==============================] - 16s 121us/sample - loss: nan - mean_squared_error: nan - val_loss: nan - val_mean_squared_error: nan\n"
          ],
          "name": "stdout"
        },
        {
          "output_type": "stream",
          "text": [
            "/usr/local/lib/python3.6/dist-packages/kerastuner/engine/metrics_tracking.py:92: RuntimeWarning: All-NaN axis encountered\n",
            "  return np.nanmin(values)\n"
          ],
          "name": "stderr"
        },
        {
          "output_type": "display_data",
          "data": {
            "text/html": [
              "<span style=\"color:#4527A0\"><h1 style=\"font-size:18px\">Trial complete</h1></span>"
            ],
            "text/plain": [
              "<IPython.core.display.HTML object>"
            ]
          },
          "metadata": {
            "tags": []
          }
        },
        {
          "output_type": "display_data",
          "data": {
            "text/html": [
              "<span style=\"color:#4527A0\"><h1 style=\"font-size:18px\">Trial summary</h1></span>"
            ],
            "text/plain": [
              "<IPython.core.display.HTML object>"
            ]
          },
          "metadata": {
            "tags": []
          }
        },
        {
          "output_type": "display_data",
          "data": {
            "text/html": [
              "<span style=\"color:cyan\"> |-Trial ID: 2d3ad2d91c3697c43621eb1510a67522</span>"
            ],
            "text/plain": [
              "<IPython.core.display.HTML object>"
            ]
          },
          "metadata": {
            "tags": []
          }
        },
        {
          "output_type": "display_data",
          "data": {
            "text/html": [
              "<span style=\"color:cyan\"> |-Score: nan</span>"
            ],
            "text/plain": [
              "<IPython.core.display.HTML object>"
            ]
          },
          "metadata": {
            "tags": []
          }
        },
        {
          "output_type": "display_data",
          "data": {
            "text/html": [
              "<span style=\"color:cyan\"> |-Best step: None</span>"
            ],
            "text/plain": [
              "<IPython.core.display.HTML object>"
            ]
          },
          "metadata": {
            "tags": []
          }
        },
        {
          "output_type": "display_data",
          "data": {
            "text/html": [
              "<span style=\"color:#7E57C2\"><h2 style=\"font-size:16px\">Hyperparameters:</h2></span>"
            ],
            "text/plain": [
              "<IPython.core.display.HTML object>"
            ]
          },
          "metadata": {
            "tags": []
          }
        },
        {
          "output_type": "display_data",
          "data": {
            "text/html": [
              "<span style=\"color:cyan\"> |-conv_1_filter: 16</span>"
            ],
            "text/plain": [
              "<IPython.core.display.HTML object>"
            ]
          },
          "metadata": {
            "tags": []
          }
        },
        {
          "output_type": "display_data",
          "data": {
            "text/html": [
              "<span style=\"color:blue\"> |-conv_1_kernel: 3</span>"
            ],
            "text/plain": [
              "<IPython.core.display.HTML object>"
            ]
          },
          "metadata": {
            "tags": []
          }
        },
        {
          "output_type": "display_data",
          "data": {
            "text/html": [
              "<span style=\"color:cyan\"> |-conv_2_filter: 40</span>"
            ],
            "text/plain": [
              "<IPython.core.display.HTML object>"
            ]
          },
          "metadata": {
            "tags": []
          }
        },
        {
          "output_type": "display_data",
          "data": {
            "text/html": [
              "<span style=\"color:blue\"> |-conv_2_kernel: 3</span>"
            ],
            "text/plain": [
              "<IPython.core.display.HTML object>"
            ]
          },
          "metadata": {
            "tags": []
          }
        },
        {
          "output_type": "display_data",
          "data": {
            "text/html": [
              "<span style=\"color:cyan\"> |-conv_3_filter: 40</span>"
            ],
            "text/plain": [
              "<IPython.core.display.HTML object>"
            ]
          },
          "metadata": {
            "tags": []
          }
        },
        {
          "output_type": "display_data",
          "data": {
            "text/html": [
              "<span style=\"color:blue\"> |-conv_3_kernel: 5</span>"
            ],
            "text/plain": [
              "<IPython.core.display.HTML object>"
            ]
          },
          "metadata": {
            "tags": []
          }
        },
        {
          "output_type": "stream",
          "text": [
            "Train on 129360 samples, validate on 15960 samples\n",
            "Epoch 1/3\n",
            "129360/129360 [==============================] - 20s 152us/sample - loss: nan - mean_squared_error: nan - val_loss: nan - val_mean_squared_error: nan\n",
            "Epoch 2/3\n",
            "129360/129360 [==============================] - 17s 134us/sample - loss: nan - mean_squared_error: nan - val_loss: nan - val_mean_squared_error: nan\n",
            "Epoch 3/3\n",
            "129360/129360 [==============================] - 17s 133us/sample - loss: nan - mean_squared_error: nan - val_loss: nan - val_mean_squared_error: nan\n"
          ],
          "name": "stdout"
        },
        {
          "output_type": "stream",
          "text": [
            "/usr/local/lib/python3.6/dist-packages/kerastuner/engine/metrics_tracking.py:92: RuntimeWarning: All-NaN axis encountered\n",
            "  return np.nanmin(values)\n"
          ],
          "name": "stderr"
        },
        {
          "output_type": "display_data",
          "data": {
            "text/html": [
              "<span style=\"color:#4527A0\"><h1 style=\"font-size:18px\">Trial complete</h1></span>"
            ],
            "text/plain": [
              "<IPython.core.display.HTML object>"
            ]
          },
          "metadata": {
            "tags": []
          }
        },
        {
          "output_type": "display_data",
          "data": {
            "text/html": [
              "<span style=\"color:#4527A0\"><h1 style=\"font-size:18px\">Trial summary</h1></span>"
            ],
            "text/plain": [
              "<IPython.core.display.HTML object>"
            ]
          },
          "metadata": {
            "tags": []
          }
        },
        {
          "output_type": "display_data",
          "data": {
            "text/html": [
              "<span style=\"color:cyan\"> |-Trial ID: 6cb34410792491672f1c78be15af3f00</span>"
            ],
            "text/plain": [
              "<IPython.core.display.HTML object>"
            ]
          },
          "metadata": {
            "tags": []
          }
        },
        {
          "output_type": "display_data",
          "data": {
            "text/html": [
              "<span style=\"color:cyan\"> |-Score: nan</span>"
            ],
            "text/plain": [
              "<IPython.core.display.HTML object>"
            ]
          },
          "metadata": {
            "tags": []
          }
        },
        {
          "output_type": "display_data",
          "data": {
            "text/html": [
              "<span style=\"color:cyan\"> |-Best step: None</span>"
            ],
            "text/plain": [
              "<IPython.core.display.HTML object>"
            ]
          },
          "metadata": {
            "tags": []
          }
        },
        {
          "output_type": "display_data",
          "data": {
            "text/html": [
              "<span style=\"color:#7E57C2\"><h2 style=\"font-size:16px\">Hyperparameters:</h2></span>"
            ],
            "text/plain": [
              "<IPython.core.display.HTML object>"
            ]
          },
          "metadata": {
            "tags": []
          }
        },
        {
          "output_type": "display_data",
          "data": {
            "text/html": [
              "<span style=\"color:cyan\"> |-conv_1_filter: 64</span>"
            ],
            "text/plain": [
              "<IPython.core.display.HTML object>"
            ]
          },
          "metadata": {
            "tags": []
          }
        },
        {
          "output_type": "display_data",
          "data": {
            "text/html": [
              "<span style=\"color:blue\"> |-conv_1_kernel: 3</span>"
            ],
            "text/plain": [
              "<IPython.core.display.HTML object>"
            ]
          },
          "metadata": {
            "tags": []
          }
        },
        {
          "output_type": "display_data",
          "data": {
            "text/html": [
              "<span style=\"color:cyan\"> |-conv_2_filter: 48</span>"
            ],
            "text/plain": [
              "<IPython.core.display.HTML object>"
            ]
          },
          "metadata": {
            "tags": []
          }
        },
        {
          "output_type": "display_data",
          "data": {
            "text/html": [
              "<span style=\"color:blue\"> |-conv_2_kernel: 5</span>"
            ],
            "text/plain": [
              "<IPython.core.display.HTML object>"
            ]
          },
          "metadata": {
            "tags": []
          }
        },
        {
          "output_type": "display_data",
          "data": {
            "text/html": [
              "<span style=\"color:cyan\"> |-conv_3_filter: 48</span>"
            ],
            "text/plain": [
              "<IPython.core.display.HTML object>"
            ]
          },
          "metadata": {
            "tags": []
          }
        },
        {
          "output_type": "display_data",
          "data": {
            "text/html": [
              "<span style=\"color:blue\"> |-conv_3_kernel: 3</span>"
            ],
            "text/plain": [
              "<IPython.core.display.HTML object>"
            ]
          },
          "metadata": {
            "tags": []
          }
        },
        {
          "output_type": "stream",
          "text": [
            "INFO:tensorflow:Oracle triggered exit\n"
          ],
          "name": "stdout"
        }
      ]
    },
    {
      "cell_type": "code",
      "metadata": {
        "id": "TUgeCgtH5NYm",
        "colab_type": "code",
        "outputId": "94f2ee2c-8001-479b-a1a7-336d7f04d274",
        "colab": {
          "base_uri": "https://localhost:8080/",
          "height": 327
        }
      },
      "source": [
        "model=tuner_search.get_best_models(num_models=1)[0]"
      ],
      "execution_count": 0,
      "outputs": [
        {
          "output_type": "error",
          "ename": "InvalidArgumentError",
          "evalue": "ignored",
          "traceback": [
            "\u001b[0;31m---------------------------------------------------------------------------\u001b[0m",
            "\u001b[0;31mInvalidArgumentError\u001b[0m                      Traceback (most recent call last)",
            "\u001b[0;32m<ipython-input-28-fb296ec7c5f9>\u001b[0m in \u001b[0;36m<module>\u001b[0;34m()\u001b[0m\n\u001b[0;32m----> 1\u001b[0;31m \u001b[0mmodel\u001b[0m\u001b[0;34m=\u001b[0m\u001b[0mtuner_search\u001b[0m\u001b[0;34m.\u001b[0m\u001b[0mget_best_models\u001b[0m\u001b[0;34m(\u001b[0m\u001b[0mnum_models\u001b[0m\u001b[0;34m=\u001b[0m\u001b[0;36m1\u001b[0m\u001b[0;34m)\u001b[0m\u001b[0;34m[\u001b[0m\u001b[0;36m0\u001b[0m\u001b[0;34m]\u001b[0m\u001b[0;34m\u001b[0m\u001b[0;34m\u001b[0m\u001b[0m\n\u001b[0m",
            "\u001b[0;32m/usr/local/lib/python3.6/dist-packages/kerastuner/engine/tuner.py\u001b[0m in \u001b[0;36mget_best_models\u001b[0;34m(self, num_models)\u001b[0m\n\u001b[1;32m    229\u001b[0m         \"\"\"\n\u001b[1;32m    230\u001b[0m         \u001b[0;31m# Method only exists in this class for the docstring override.\u001b[0m\u001b[0;34m\u001b[0m\u001b[0;34m\u001b[0m\u001b[0;34m\u001b[0m\u001b[0m\n\u001b[0;32m--> 231\u001b[0;31m         \u001b[0;32mreturn\u001b[0m \u001b[0msuper\u001b[0m\u001b[0;34m(\u001b[0m\u001b[0mTuner\u001b[0m\u001b[0;34m,\u001b[0m \u001b[0mself\u001b[0m\u001b[0;34m)\u001b[0m\u001b[0;34m.\u001b[0m\u001b[0mget_best_models\u001b[0m\u001b[0;34m(\u001b[0m\u001b[0mnum_models\u001b[0m\u001b[0;34m)\u001b[0m\u001b[0;34m\u001b[0m\u001b[0;34m\u001b[0m\u001b[0m\n\u001b[0m\u001b[1;32m    232\u001b[0m \u001b[0;34m\u001b[0m\u001b[0m\n\u001b[1;32m    233\u001b[0m     \u001b[0;32mdef\u001b[0m \u001b[0m_deepcopy_callbacks\u001b[0m\u001b[0;34m(\u001b[0m\u001b[0mself\u001b[0m\u001b[0;34m,\u001b[0m \u001b[0mcallbacks\u001b[0m\u001b[0;34m)\u001b[0m\u001b[0;34m:\u001b[0m\u001b[0;34m\u001b[0m\u001b[0;34m\u001b[0m\u001b[0m\n",
            "\u001b[0;32m/usr/local/lib/python3.6/dist-packages/kerastuner/engine/base_tuner.py\u001b[0m in \u001b[0;36mget_best_models\u001b[0;34m(self, num_models)\u001b[0m\n\u001b[1;32m    236\u001b[0m         \"\"\"\n\u001b[1;32m    237\u001b[0m         \u001b[0mbest_trials\u001b[0m \u001b[0;34m=\u001b[0m \u001b[0mself\u001b[0m\u001b[0;34m.\u001b[0m\u001b[0moracle\u001b[0m\u001b[0;34m.\u001b[0m\u001b[0mget_best_trials\u001b[0m\u001b[0;34m(\u001b[0m\u001b[0mnum_models\u001b[0m\u001b[0;34m)\u001b[0m\u001b[0;34m\u001b[0m\u001b[0;34m\u001b[0m\u001b[0m\n\u001b[0;32m--> 238\u001b[0;31m         \u001b[0mmodels\u001b[0m \u001b[0;34m=\u001b[0m \u001b[0;34m[\u001b[0m\u001b[0mself\u001b[0m\u001b[0;34m.\u001b[0m\u001b[0mload_model\u001b[0m\u001b[0;34m(\u001b[0m\u001b[0mtrial\u001b[0m\u001b[0;34m)\u001b[0m \u001b[0;32mfor\u001b[0m \u001b[0mtrial\u001b[0m \u001b[0;32min\u001b[0m \u001b[0mbest_trials\u001b[0m\u001b[0;34m]\u001b[0m\u001b[0;34m\u001b[0m\u001b[0;34m\u001b[0m\u001b[0m\n\u001b[0m\u001b[1;32m    239\u001b[0m         \u001b[0;32mreturn\u001b[0m \u001b[0mmodels\u001b[0m\u001b[0;34m\u001b[0m\u001b[0;34m\u001b[0m\u001b[0m\n\u001b[1;32m    240\u001b[0m \u001b[0;34m\u001b[0m\u001b[0m\n",
            "\u001b[0;32m/usr/local/lib/python3.6/dist-packages/kerastuner/engine/base_tuner.py\u001b[0m in \u001b[0;36m<listcomp>\u001b[0;34m(.0)\u001b[0m\n\u001b[1;32m    236\u001b[0m         \"\"\"\n\u001b[1;32m    237\u001b[0m         \u001b[0mbest_trials\u001b[0m \u001b[0;34m=\u001b[0m \u001b[0mself\u001b[0m\u001b[0;34m.\u001b[0m\u001b[0moracle\u001b[0m\u001b[0;34m.\u001b[0m\u001b[0mget_best_trials\u001b[0m\u001b[0;34m(\u001b[0m\u001b[0mnum_models\u001b[0m\u001b[0;34m)\u001b[0m\u001b[0;34m\u001b[0m\u001b[0;34m\u001b[0m\u001b[0m\n\u001b[0;32m--> 238\u001b[0;31m         \u001b[0mmodels\u001b[0m \u001b[0;34m=\u001b[0m \u001b[0;34m[\u001b[0m\u001b[0mself\u001b[0m\u001b[0;34m.\u001b[0m\u001b[0mload_model\u001b[0m\u001b[0;34m(\u001b[0m\u001b[0mtrial\u001b[0m\u001b[0;34m)\u001b[0m \u001b[0;32mfor\u001b[0m \u001b[0mtrial\u001b[0m \u001b[0;32min\u001b[0m \u001b[0mbest_trials\u001b[0m\u001b[0;34m]\u001b[0m\u001b[0;34m\u001b[0m\u001b[0;34m\u001b[0m\u001b[0m\n\u001b[0m\u001b[1;32m    239\u001b[0m         \u001b[0;32mreturn\u001b[0m \u001b[0mmodels\u001b[0m\u001b[0;34m\u001b[0m\u001b[0;34m\u001b[0m\u001b[0m\n\u001b[1;32m    240\u001b[0m \u001b[0;34m\u001b[0m\u001b[0m\n",
            "\u001b[0;32m/usr/local/lib/python3.6/dist-packages/kerastuner/engine/tuner.py\u001b[0m in \u001b[0;36mload_model\u001b[0;34m(self, trial)\u001b[0m\n\u001b[1;32m    155\u001b[0m         \u001b[0;32mwith\u001b[0m \u001b[0mhm_module\u001b[0m\u001b[0;34m.\u001b[0m\u001b[0mmaybe_distribute\u001b[0m\u001b[0;34m(\u001b[0m\u001b[0mself\u001b[0m\u001b[0;34m.\u001b[0m\u001b[0mdistribution_strategy\u001b[0m\u001b[0;34m)\u001b[0m\u001b[0;34m:\u001b[0m\u001b[0;34m\u001b[0m\u001b[0;34m\u001b[0m\u001b[0m\n\u001b[1;32m    156\u001b[0m             model.load_weights(self._get_checkpoint_fname(\n\u001b[0;32m--> 157\u001b[0;31m                 trial.trial_id, best_epoch))\n\u001b[0m\u001b[1;32m    158\u001b[0m         \u001b[0;32mreturn\u001b[0m \u001b[0mmodel\u001b[0m\u001b[0;34m\u001b[0m\u001b[0;34m\u001b[0m\u001b[0m\n\u001b[1;32m    159\u001b[0m \u001b[0;34m\u001b[0m\u001b[0m\n",
            "\u001b[0;32m/usr/local/lib/python3.6/dist-packages/tensorflow_core/python/keras/engine/training.py\u001b[0m in \u001b[0;36mload_weights\u001b[0;34m(self, filepath, by_name)\u001b[0m\n\u001b[1;32m    180\u001b[0m         raise ValueError('Load weights is not yet supported with TPUStrategy '\n\u001b[1;32m    181\u001b[0m                          'with steps_per_run greater than 1.')\n\u001b[0;32m--> 182\u001b[0;31m     \u001b[0;32mreturn\u001b[0m \u001b[0msuper\u001b[0m\u001b[0;34m(\u001b[0m\u001b[0mModel\u001b[0m\u001b[0;34m,\u001b[0m \u001b[0mself\u001b[0m\u001b[0;34m)\u001b[0m\u001b[0;34m.\u001b[0m\u001b[0mload_weights\u001b[0m\u001b[0;34m(\u001b[0m\u001b[0mfilepath\u001b[0m\u001b[0;34m,\u001b[0m \u001b[0mby_name\u001b[0m\u001b[0;34m)\u001b[0m\u001b[0;34m\u001b[0m\u001b[0;34m\u001b[0m\u001b[0m\n\u001b[0m\u001b[1;32m    183\u001b[0m \u001b[0;34m\u001b[0m\u001b[0m\n\u001b[1;32m    184\u001b[0m   \u001b[0;34m@\u001b[0m\u001b[0mtrackable\u001b[0m\u001b[0;34m.\u001b[0m\u001b[0mno_automatic_dependency_tracking\u001b[0m\u001b[0;34m\u001b[0m\u001b[0;34m\u001b[0m\u001b[0m\n",
            "\u001b[0;32m/usr/local/lib/python3.6/dist-packages/tensorflow_core/python/keras/engine/network.py\u001b[0m in \u001b[0;36mload_weights\u001b[0;34m(self, filepath, by_name)\u001b[0m\n\u001b[1;32m   1337\u001b[0m     \u001b[0;32melse\u001b[0m\u001b[0;34m:\u001b[0m\u001b[0;34m\u001b[0m\u001b[0;34m\u001b[0m\u001b[0m\n\u001b[1;32m   1338\u001b[0m       \u001b[0;32mtry\u001b[0m\u001b[0;34m:\u001b[0m\u001b[0;34m\u001b[0m\u001b[0;34m\u001b[0m\u001b[0m\n\u001b[0;32m-> 1339\u001b[0;31m         \u001b[0mpywrap_tensorflow\u001b[0m\u001b[0;34m.\u001b[0m\u001b[0mNewCheckpointReader\u001b[0m\u001b[0;34m(\u001b[0m\u001b[0mfilepath\u001b[0m\u001b[0;34m)\u001b[0m\u001b[0;34m\u001b[0m\u001b[0;34m\u001b[0m\u001b[0m\n\u001b[0m\u001b[1;32m   1340\u001b[0m         \u001b[0msave_format\u001b[0m \u001b[0;34m=\u001b[0m \u001b[0;34m'tf'\u001b[0m\u001b[0;34m\u001b[0m\u001b[0;34m\u001b[0m\u001b[0m\n\u001b[1;32m   1341\u001b[0m       \u001b[0;32mexcept\u001b[0m \u001b[0merrors_impl\u001b[0m\u001b[0;34m.\u001b[0m\u001b[0mDataLossError\u001b[0m\u001b[0;34m:\u001b[0m\u001b[0;34m\u001b[0m\u001b[0;34m\u001b[0m\u001b[0m\n",
            "\u001b[0;32m/usr/local/lib/python3.6/dist-packages/tensorflow_core/python/pywrap_tensorflow_internal.py\u001b[0m in \u001b[0;36mNewCheckpointReader\u001b[0;34m(filepattern)\u001b[0m\n\u001b[1;32m    871\u001b[0m \u001b[0;32mdef\u001b[0m \u001b[0mNewCheckpointReader\u001b[0m\u001b[0;34m(\u001b[0m\u001b[0mfilepattern\u001b[0m\u001b[0;34m)\u001b[0m\u001b[0;34m:\u001b[0m\u001b[0;34m\u001b[0m\u001b[0;34m\u001b[0m\u001b[0m\n\u001b[1;32m    872\u001b[0m   \u001b[0;32mfrom\u001b[0m \u001b[0mtensorflow\u001b[0m\u001b[0;34m.\u001b[0m\u001b[0mpython\u001b[0m\u001b[0;34m.\u001b[0m\u001b[0mutil\u001b[0m \u001b[0;32mimport\u001b[0m \u001b[0mcompat\u001b[0m\u001b[0;34m\u001b[0m\u001b[0;34m\u001b[0m\u001b[0m\n\u001b[0;32m--> 873\u001b[0;31m   \u001b[0;32mreturn\u001b[0m \u001b[0mCheckpointReader\u001b[0m\u001b[0;34m(\u001b[0m\u001b[0mcompat\u001b[0m\u001b[0;34m.\u001b[0m\u001b[0mas_bytes\u001b[0m\u001b[0;34m(\u001b[0m\u001b[0mfilepattern\u001b[0m\u001b[0;34m)\u001b[0m\u001b[0;34m)\u001b[0m\u001b[0;34m\u001b[0m\u001b[0;34m\u001b[0m\u001b[0m\n\u001b[0m\u001b[1;32m    874\u001b[0m \u001b[0;34m\u001b[0m\u001b[0m\n\u001b[1;32m    875\u001b[0m \u001b[0mNewCheckpointReader\u001b[0m\u001b[0;34m.\u001b[0m\u001b[0m_tf_api_names_v1\u001b[0m \u001b[0;34m=\u001b[0m \u001b[0;34m[\u001b[0m\u001b[0;34m'train.NewCheckpointReader'\u001b[0m\u001b[0;34m]\u001b[0m\u001b[0;34m\u001b[0m\u001b[0;34m\u001b[0m\u001b[0m\n",
            "\u001b[0;32m/usr/local/lib/python3.6/dist-packages/tensorflow_core/python/pywrap_tensorflow_internal.py\u001b[0m in \u001b[0;36m__init__\u001b[0;34m(self, filename)\u001b[0m\n\u001b[1;32m    883\u001b[0m \u001b[0;34m\u001b[0m\u001b[0m\n\u001b[1;32m    884\u001b[0m     \u001b[0;32mdef\u001b[0m \u001b[0m__init__\u001b[0m\u001b[0;34m(\u001b[0m\u001b[0mself\u001b[0m\u001b[0;34m,\u001b[0m \u001b[0mfilename\u001b[0m\u001b[0;34m)\u001b[0m\u001b[0;34m:\u001b[0m\u001b[0;34m\u001b[0m\u001b[0;34m\u001b[0m\u001b[0m\n\u001b[0;32m--> 885\u001b[0;31m         \u001b[0mthis\u001b[0m \u001b[0;34m=\u001b[0m \u001b[0m_pywrap_tensorflow_internal\u001b[0m\u001b[0;34m.\u001b[0m\u001b[0mnew_CheckpointReader\u001b[0m\u001b[0;34m(\u001b[0m\u001b[0mfilename\u001b[0m\u001b[0;34m)\u001b[0m\u001b[0;34m\u001b[0m\u001b[0;34m\u001b[0m\u001b[0m\n\u001b[0m\u001b[1;32m    886\u001b[0m         \u001b[0;32mtry\u001b[0m\u001b[0;34m:\u001b[0m\u001b[0;34m\u001b[0m\u001b[0;34m\u001b[0m\u001b[0m\n\u001b[1;32m    887\u001b[0m             \u001b[0mself\u001b[0m\u001b[0;34m.\u001b[0m\u001b[0mthis\u001b[0m\u001b[0;34m.\u001b[0m\u001b[0mappend\u001b[0m\u001b[0;34m(\u001b[0m\u001b[0mthis\u001b[0m\u001b[0;34m)\u001b[0m\u001b[0;34m\u001b[0m\u001b[0;34m\u001b[0m\u001b[0m\n",
            "\u001b[0;31mInvalidArgumentError\u001b[0m: Unsuccessful TensorSliceReader constructor: Failed to get matching files on ./dsfhh/trial_2d3ad2d91c3697c43621eb1510a67522/checkpoints/epoch_None/checkpoint: Not found: ./dsfhh/trial_2d3ad2d91c3697c43621eb1510a67522/checkpoints/epoch_None; No such file or directory"
          ]
        }
      ]
    },
    {
      "cell_type": "code",
      "metadata": {
        "id": "ceiAHeSghETR",
        "colab_type": "code",
        "outputId": "c837eda7-c533-4f45-e81b-ee4d268155f4",
        "colab": {
          "base_uri": "https://localhost:8080/",
          "height": 34
        }
      },
      "source": [
        "print(model)"
      ],
      "execution_count": 0,
      "outputs": [
        {
          "output_type": "stream",
          "text": [
            "<tensorflow.python.keras.engine.sequential.Sequential object at 0x7ef969110400>\n"
          ],
          "name": "stdout"
        }
      ]
    },
    {
      "cell_type": "code",
      "metadata": {
        "id": "5D6JWWeG3gT7",
        "colab_type": "code",
        "outputId": "1bd99f05-eb11-471a-d084-bc1ae1e94003",
        "colab": {
          "base_uri": "https://localhost:8080/",
          "height": 561
        }
      },
      "source": [
        "tuner_search.results_summary()\n"
      ],
      "execution_count": 0,
      "outputs": [
        {
          "output_type": "display_data",
          "data": {
            "text/html": [
              "<span style=\"color:#4527A0\"><h1 style=\"font-size:18px\">Results summary</h1></span>"
            ],
            "text/plain": [
              "<IPython.core.display.HTML object>"
            ]
          },
          "metadata": {
            "tags": []
          }
        },
        {
          "output_type": "display_data",
          "data": {
            "text/html": [
              "<span style=\"color:cyan\"> |-Results in ./dghhh</span>"
            ],
            "text/plain": [
              "<IPython.core.display.HTML object>"
            ]
          },
          "metadata": {
            "tags": []
          }
        },
        {
          "output_type": "display_data",
          "data": {
            "text/html": [
              "<span style=\"color:cyan\"> |-Showing 10 best trials</span>"
            ],
            "text/plain": [
              "<IPython.core.display.HTML object>"
            ]
          },
          "metadata": {
            "tags": []
          }
        },
        {
          "output_type": "display_data",
          "data": {
            "text/html": [
              "<span style=\"color:cyan\"> |-Objective(name='val_loss', direction='min')</span>"
            ],
            "text/plain": [
              "<IPython.core.display.HTML object>"
            ]
          },
          "metadata": {
            "tags": []
          }
        },
        {
          "output_type": "display_data",
          "data": {
            "text/html": [
              "<span style=\"color:#4527A0\"><h1 style=\"font-size:18px\">Trial summary</h1></span>"
            ],
            "text/plain": [
              "<IPython.core.display.HTML object>"
            ]
          },
          "metadata": {
            "tags": []
          }
        },
        {
          "output_type": "display_data",
          "data": {
            "text/html": [
              "<span style=\"color:cyan\"> |-Trial ID: 9edd7425ccd469b023469d893d46ac5f</span>"
            ],
            "text/plain": [
              "<IPython.core.display.HTML object>"
            ]
          },
          "metadata": {
            "tags": []
          }
        },
        {
          "output_type": "display_data",
          "data": {
            "text/html": [
              "<span style=\"color:cyan\"> |-Score: 0.7204674748549784</span>"
            ],
            "text/plain": [
              "<IPython.core.display.HTML object>"
            ]
          },
          "metadata": {
            "tags": []
          }
        },
        {
          "output_type": "display_data",
          "data": {
            "text/html": [
              "<span style=\"color:cyan\"> |-Best step: 0</span>"
            ],
            "text/plain": [
              "<IPython.core.display.HTML object>"
            ]
          },
          "metadata": {
            "tags": []
          }
        },
        {
          "output_type": "display_data",
          "data": {
            "text/html": [
              "<span style=\"color:#7E57C2\"><h2 style=\"font-size:16px\">Hyperparameters:</h2></span>"
            ],
            "text/plain": [
              "<IPython.core.display.HTML object>"
            ]
          },
          "metadata": {
            "tags": []
          }
        },
        {
          "output_type": "display_data",
          "data": {
            "text/html": [
              "<span style=\"color:cyan\"> |-conv_1_filter: 48</span>"
            ],
            "text/plain": [
              "<IPython.core.display.HTML object>"
            ]
          },
          "metadata": {
            "tags": []
          }
        },
        {
          "output_type": "display_data",
          "data": {
            "text/html": [
              "<span style=\"color:blue\"> |-conv_1_kernel: 5</span>"
            ],
            "text/plain": [
              "<IPython.core.display.HTML object>"
            ]
          },
          "metadata": {
            "tags": []
          }
        },
        {
          "output_type": "display_data",
          "data": {
            "text/html": [
              "<span style=\"color:cyan\"> |-conv_2_filter: 8</span>"
            ],
            "text/plain": [
              "<IPython.core.display.HTML object>"
            ]
          },
          "metadata": {
            "tags": []
          }
        },
        {
          "output_type": "display_data",
          "data": {
            "text/html": [
              "<span style=\"color:blue\"> |-conv_2_kernel: 5</span>"
            ],
            "text/plain": [
              "<IPython.core.display.HTML object>"
            ]
          },
          "metadata": {
            "tags": []
          }
        },
        {
          "output_type": "display_data",
          "data": {
            "text/html": [
              "<span style=\"color:cyan\"> |-conv_3_filter: 40</span>"
            ],
            "text/plain": [
              "<IPython.core.display.HTML object>"
            ]
          },
          "metadata": {
            "tags": []
          }
        },
        {
          "output_type": "display_data",
          "data": {
            "text/html": [
              "<span style=\"color:blue\"> |-conv_3_kernel: 3</span>"
            ],
            "text/plain": [
              "<IPython.core.display.HTML object>"
            ]
          },
          "metadata": {
            "tags": []
          }
        },
        {
          "output_type": "display_data",
          "data": {
            "text/html": [
              "<span style=\"color:#4527A0\"><h1 style=\"font-size:18px\">Trial summary</h1></span>"
            ],
            "text/plain": [
              "<IPython.core.display.HTML object>"
            ]
          },
          "metadata": {
            "tags": []
          }
        },
        {
          "output_type": "display_data",
          "data": {
            "text/html": [
              "<span style=\"color:cyan\"> |-Trial ID: 494a7fb80c90cf291732c5a8c55f4811</span>"
            ],
            "text/plain": [
              "<IPython.core.display.HTML object>"
            ]
          },
          "metadata": {
            "tags": []
          }
        },
        {
          "output_type": "display_data",
          "data": {
            "text/html": [
              "<span style=\"color:cyan\"> |-Score: 0.7407689370308305</span>"
            ],
            "text/plain": [
              "<IPython.core.display.HTML object>"
            ]
          },
          "metadata": {
            "tags": []
          }
        },
        {
          "output_type": "display_data",
          "data": {
            "text/html": [
              "<span style=\"color:cyan\"> |-Best step: 0</span>"
            ],
            "text/plain": [
              "<IPython.core.display.HTML object>"
            ]
          },
          "metadata": {
            "tags": []
          }
        },
        {
          "output_type": "display_data",
          "data": {
            "text/html": [
              "<span style=\"color:#7E57C2\"><h2 style=\"font-size:16px\">Hyperparameters:</h2></span>"
            ],
            "text/plain": [
              "<IPython.core.display.HTML object>"
            ]
          },
          "metadata": {
            "tags": []
          }
        },
        {
          "output_type": "display_data",
          "data": {
            "text/html": [
              "<span style=\"color:cyan\"> |-conv_1_filter: 8</span>"
            ],
            "text/plain": [
              "<IPython.core.display.HTML object>"
            ]
          },
          "metadata": {
            "tags": []
          }
        },
        {
          "output_type": "display_data",
          "data": {
            "text/html": [
              "<span style=\"color:blue\"> |-conv_1_kernel: 5</span>"
            ],
            "text/plain": [
              "<IPython.core.display.HTML object>"
            ]
          },
          "metadata": {
            "tags": []
          }
        },
        {
          "output_type": "display_data",
          "data": {
            "text/html": [
              "<span style=\"color:cyan\"> |-conv_2_filter: 48</span>"
            ],
            "text/plain": [
              "<IPython.core.display.HTML object>"
            ]
          },
          "metadata": {
            "tags": []
          }
        },
        {
          "output_type": "display_data",
          "data": {
            "text/html": [
              "<span style=\"color:blue\"> |-conv_2_kernel: 5</span>"
            ],
            "text/plain": [
              "<IPython.core.display.HTML object>"
            ]
          },
          "metadata": {
            "tags": []
          }
        },
        {
          "output_type": "display_data",
          "data": {
            "text/html": [
              "<span style=\"color:cyan\"> |-conv_3_filter: 56</span>"
            ],
            "text/plain": [
              "<IPython.core.display.HTML object>"
            ]
          },
          "metadata": {
            "tags": []
          }
        },
        {
          "output_type": "display_data",
          "data": {
            "text/html": [
              "<span style=\"color:blue\"> |-conv_3_kernel: 5</span>"
            ],
            "text/plain": [
              "<IPython.core.display.HTML object>"
            ]
          },
          "metadata": {
            "tags": []
          }
        }
      ]
    },
    {
      "cell_type": "code",
      "metadata": {
        "id": "yP6xZ58dsJlk",
        "colab_type": "code",
        "colab": {}
      },
      "source": [
        "\n",
        "\n",
        "class TrainValTensorBoard(TensorBoard):\n",
        "    def __init__(self, log_dir='./logs', **kwargs):\n",
        "        # Make the original `TensorBoard` log to a subdirectory 'training'\n",
        "        training_log_dir = os.path.join(log_dir, 'training')\n",
        "        super(TrainValTensorBoard, self).__init__(training_log_dir, **kwargs)\n",
        "\n",
        "        # Log the validation metrics to a separate subdirectory\n",
        "        self.val_log_dir = os.path.join(log_dir, 'validation')\n",
        "\n",
        "    def set_model(self, model):\n",
        "        # Setup writer for validation metrics\n",
        "        self.val_writer = tf.summary.FileWriter(self.val_log_dir)\n",
        "        super(TrainValTensorBoard, self).set_model(model)\n",
        "\n",
        "    def on_epoch_end(self, epoch, logs=None):\n",
        "        # Pop the validation logs and handle them separately with\n",
        "        # `self.val_writer`. Also rename the keys so that they can\n",
        "        # be plotted on the same figure with the training metrics\n",
        "        logs = logs or {}\n",
        "        val_logs = {k.replace('val_', ''): v for k, v in logs.items() if k.startswith('val_')}\n",
        "        for name, value in val_logs.items():\n",
        "            summary = tf.Summary()\n",
        "            summary_value = summary.value.add()\n",
        "            summary_value.simple_value = value.item()\n",
        "            summary_value.tag = name\n",
        "            self.val_writer.add_summary(summary, epoch)\n",
        "        self.val_writer.flush()\n",
        "\n",
        "        # Pass the remaining logs to `TensorBoard.on_epoch_end`\n",
        "        logs = {k: v for k, v in logs.items() if not k.startswith('val_')}\n",
        "        super(TrainValTensorBoard, self).on_epoch_end(epoch, logs)\n",
        "\n",
        "    def on_train_end(self, logs=None):\n",
        "        super(TrainValTensorBoard, self).on_train_end(logs)\n",
        "        self.val_writer.close()"
      ],
      "execution_count": 0,
      "outputs": []
    },
    {
      "cell_type": "code",
      "metadata": {
        "id": "e6awBoWU2ERw",
        "colab_type": "code",
        "outputId": "688ccbac-7195-41e2-a8c3-668aa120943d",
        "colab": {
          "base_uri": "https://localhost:8080/",
          "height": 34
        }
      },
      "source": [
        "\n",
        "\n",
        "#Set Up Tensorboard for visualisation for training\n",
        "Name = \"{} + optimizer_{} + batch_size_{} + epochs_{} + Layer_{} + learning_rate_{} + + Normalized_{} + relation_{}  + date_\".format(model_name, optimizer_name, batch_size, training_epochs, layers, learning_rate,  normalized_data, relation)\n",
        "logdir =\"logs/scalars/\"+ Name + datetime.now().strftime(\"%Y%m%d-%H%M%S\")\n",
        "tensorboard_callback = TrainValTensorBoard(log_dir=logdir, write_images = True, histogram_freq = 2 ,write_grads= True)\n",
        "#Sanity Check for LogDir\n",
        "print(logdir)"
      ],
      "execution_count": 0,
      "outputs": [
        {
          "output_type": "stream",
          "text": [
            "logs/scalars/Conv-1D + optimizer_sgd + batch_size_1024 + epochs_30 + Layer_2 + learning_rate_0.01 + + Normalized_True + relation_3  + date_20200320-145815\n"
          ],
          "name": "stdout"
        }
      ]
    },
    {
      "cell_type": "code",
      "metadata": {
        "id": "eql7y5FCdO-_",
        "colab_type": "code",
        "outputId": "769ad1f6-0cb9-4744-caff-a605df7227b7",
        "colab": {
          "base_uri": "https://localhost:8080/",
          "height": 34
        }
      },
      "source": [
        "\n",
        "LOG_DIR = 'logs/'\n",
        "get_ipython().system_raw(\n",
        "    'tensorboard --logdir {} --host 0.0.0.0 --port 6006 &'\n",
        "    .format(LOG_DIR)\n",
        ")\n",
        "#Get url of TensorBoard to Visualise\n",
        "get_ipython().system_raw('./ngrok http 6006 &')\n",
        "! curl -s http://localhost:4040/api/tunnels | python3 -c \\\n",
        "    \"import sys, json; print(json.load(sys.stdin)['tunnels'][0]['public_url'])\""
      ],
      "execution_count": 0,
      "outputs": [
        {
          "output_type": "stream",
          "text": [
            "https://8788ccb1.ngrok.io\n"
          ],
          "name": "stdout"
        }
      ]
    },
    {
      "cell_type": "code",
      "metadata": {
        "id": "cP2WUNJ7VEa8",
        "colab_type": "code",
        "colab": {}
      },
      "source": [
        "K.clear_session()"
      ],
      "execution_count": 0,
      "outputs": []
    },
    {
      "cell_type": "code",
      "metadata": {
        "id": "850rdwgB2ER-",
        "colab_type": "code",
        "outputId": "2341a058-26a5-4fc4-8bd2-537e9f2938a5",
        "colab": {
          "base_uri": "https://localhost:8080/",
          "height": 1000
        }
      },
      "source": [
        "\n",
        "\n",
        "#Fit the model with the Data\n",
        "history = model.fit(\n",
        "    train_X, \n",
        "    train_Y, \n",
        "    batch_size = batch_size,\n",
        "    epochs = training_epochs, \n",
        "    validation_data = (valid_X, valid_Y), \n",
        "    verbose = 1\n",
        "    )\n",
        "\n",
        "''' , checkpoint_callback '''"
      ],
      "execution_count": 61,
      "outputs": [
        {
          "output_type": "stream",
          "text": [
            "Train on 129360 samples, validate on 15960 samples\n",
            "Epoch 1/500\n",
            "129360/129360 [==============================] - 8s 61us/step - loss: 6.5516 - mean_squared_error: 6.5516 - val_loss: 4.0479 - val_mean_squared_error: 4.0479\n",
            "Epoch 2/500\n",
            "129360/129360 [==============================] - 8s 59us/step - loss: 3.1383 - mean_squared_error: 3.1383 - val_loss: 2.7744 - val_mean_squared_error: 2.7744\n",
            "Epoch 3/500\n",
            "129360/129360 [==============================] - 8s 60us/step - loss: 2.2904 - mean_squared_error: 2.2904 - val_loss: 2.1738 - val_mean_squared_error: 2.1738\n",
            "Epoch 4/500\n",
            "129360/129360 [==============================] - 8s 59us/step - loss: 1.8383 - mean_squared_error: 1.8383 - val_loss: 1.8128 - val_mean_squared_error: 1.8128\n",
            "Epoch 5/500\n",
            "129360/129360 [==============================] - 8s 59us/step - loss: 1.5496 - mean_squared_error: 1.5496 - val_loss: 1.5660 - val_mean_squared_error: 1.5660\n",
            "Epoch 6/500\n",
            "129360/129360 [==============================] - 8s 59us/step - loss: 1.3475 - mean_squared_error: 1.3475 - val_loss: 1.3870 - val_mean_squared_error: 1.3870\n",
            "Epoch 7/500\n",
            "129360/129360 [==============================] - 8s 59us/step - loss: 1.1978 - mean_squared_error: 1.1978 - val_loss: 1.2477 - val_mean_squared_error: 1.2477\n",
            "Epoch 8/500\n",
            "129360/129360 [==============================] - 8s 59us/step - loss: 1.0819 - mean_squared_error: 1.0819 - val_loss: 1.1400 - val_mean_squared_error: 1.1400\n",
            "Epoch 9/500\n",
            "129360/129360 [==============================] - 8s 59us/step - loss: 0.9896 - mean_squared_error: 0.9896 - val_loss: 1.0530 - val_mean_squared_error: 1.0530\n",
            "Epoch 10/500\n",
            "129360/129360 [==============================] - 8s 59us/step - loss: 0.9146 - mean_squared_error: 0.9146 - val_loss: 0.9809 - val_mean_squared_error: 0.9809\n",
            "Epoch 11/500\n",
            "129360/129360 [==============================] - 8s 60us/step - loss: 0.8524 - mean_squared_error: 0.8524 - val_loss: 0.9198 - val_mean_squared_error: 0.9198\n",
            "Epoch 12/500\n",
            "129360/129360 [==============================] - 8s 60us/step - loss: 0.8000 - mean_squared_error: 0.8000 - val_loss: 0.8673 - val_mean_squared_error: 0.8673\n",
            "Epoch 13/500\n",
            "129360/129360 [==============================] - 8s 59us/step - loss: 0.7552 - mean_squared_error: 0.7552 - val_loss: 0.8228 - val_mean_squared_error: 0.8228\n",
            "Epoch 14/500\n",
            "129360/129360 [==============================] - 8s 58us/step - loss: 0.7165 - mean_squared_error: 0.7165 - val_loss: 0.7863 - val_mean_squared_error: 0.7863\n",
            "Epoch 15/500\n",
            "129360/129360 [==============================] - 8s 59us/step - loss: 0.6829 - mean_squared_error: 0.6829 - val_loss: 0.7514 - val_mean_squared_error: 0.7514\n",
            "Epoch 16/500\n",
            "129360/129360 [==============================] - 8s 58us/step - loss: 0.6534 - mean_squared_error: 0.6534 - val_loss: 0.7223 - val_mean_squared_error: 0.7223\n",
            "Epoch 17/500\n",
            "129360/129360 [==============================] - 8s 58us/step - loss: 0.6273 - mean_squared_error: 0.6273 - val_loss: 0.6967 - val_mean_squared_error: 0.6967\n",
            "Epoch 18/500\n",
            "129360/129360 [==============================] - 8s 58us/step - loss: 0.6041 - mean_squared_error: 0.6041 - val_loss: 0.6705 - val_mean_squared_error: 0.6705\n",
            "Epoch 19/500\n",
            "129360/129360 [==============================] - 8s 58us/step - loss: 0.5832 - mean_squared_error: 0.5832 - val_loss: 0.6495 - val_mean_squared_error: 0.6495\n",
            "Epoch 20/500\n",
            "129360/129360 [==============================] - 7s 57us/step - loss: 0.5645 - mean_squared_error: 0.5645 - val_loss: 0.6307 - val_mean_squared_error: 0.6307\n",
            "Epoch 21/500\n",
            "129360/129360 [==============================] - 7s 58us/step - loss: 0.5474 - mean_squared_error: 0.5474 - val_loss: 0.6129 - val_mean_squared_error: 0.6129\n",
            "Epoch 22/500\n",
            "129360/129360 [==============================] - 7s 58us/step - loss: 0.5320 - mean_squared_error: 0.5320 - val_loss: 0.5970 - val_mean_squared_error: 0.5970\n",
            "Epoch 23/500\n",
            "129360/129360 [==============================] - 7s 58us/step - loss: 0.5181 - mean_squared_error: 0.5181 - val_loss: 0.5830 - val_mean_squared_error: 0.5830\n",
            "Epoch 24/500\n",
            "129360/129360 [==============================] - 7s 58us/step - loss: 0.5051 - mean_squared_error: 0.5051 - val_loss: 0.5691 - val_mean_squared_error: 0.5691\n",
            "Epoch 25/500\n",
            "129360/129360 [==============================] - 7s 58us/step - loss: 0.4934 - mean_squared_error: 0.4934 - val_loss: 0.5560 - val_mean_squared_error: 0.5560\n",
            "Epoch 26/500\n",
            "129360/129360 [==============================] - 7s 58us/step - loss: 0.4824 - mean_squared_error: 0.4824 - val_loss: 0.5448 - val_mean_squared_error: 0.5448\n",
            "Epoch 27/500\n",
            "129360/129360 [==============================] - 7s 58us/step - loss: 0.4724 - mean_squared_error: 0.4724 - val_loss: 0.5338 - val_mean_squared_error: 0.5338\n",
            "Epoch 28/500\n",
            "129360/129360 [==============================] - 7s 58us/step - loss: 0.4630 - mean_squared_error: 0.4630 - val_loss: 0.5246 - val_mean_squared_error: 0.5246\n",
            "Epoch 29/500\n",
            "129360/129360 [==============================] - 7s 57us/step - loss: 0.4543 - mean_squared_error: 0.4543 - val_loss: 0.5151 - val_mean_squared_error: 0.5151\n",
            "Epoch 30/500\n",
            "129360/129360 [==============================] - 7s 57us/step - loss: 0.4461 - mean_squared_error: 0.4461 - val_loss: 0.5073 - val_mean_squared_error: 0.5073\n",
            "Epoch 31/500\n",
            "129360/129360 [==============================] - 7s 57us/step - loss: 0.4386 - mean_squared_error: 0.4386 - val_loss: 0.4990 - val_mean_squared_error: 0.4990\n",
            "Epoch 32/500\n",
            "129360/129360 [==============================] - 7s 57us/step - loss: 0.4315 - mean_squared_error: 0.4315 - val_loss: 0.4906 - val_mean_squared_error: 0.4906\n",
            "Epoch 33/500\n",
            "129360/129360 [==============================] - 7s 58us/step - loss: 0.4249 - mean_squared_error: 0.4249 - val_loss: 0.4847 - val_mean_squared_error: 0.4847\n",
            "Epoch 34/500\n",
            "129360/129360 [==============================] - 7s 57us/step - loss: 0.4187 - mean_squared_error: 0.4187 - val_loss: 0.4783 - val_mean_squared_error: 0.4783\n",
            "Epoch 35/500\n",
            "129360/129360 [==============================] - 7s 57us/step - loss: 0.4128 - mean_squared_error: 0.4128 - val_loss: 0.4708 - val_mean_squared_error: 0.4708\n",
            "Epoch 36/500\n",
            "129360/129360 [==============================] - 7s 57us/step - loss: 0.4072 - mean_squared_error: 0.4072 - val_loss: 0.4649 - val_mean_squared_error: 0.4649\n",
            "Epoch 37/500\n",
            "129360/129360 [==============================] - 7s 57us/step - loss: 0.4019 - mean_squared_error: 0.4019 - val_loss: 0.4599 - val_mean_squared_error: 0.4599\n",
            "Epoch 38/500\n",
            "129360/129360 [==============================] - 7s 57us/step - loss: 0.3969 - mean_squared_error: 0.3969 - val_loss: 0.4546 - val_mean_squared_error: 0.4546\n",
            "Epoch 39/500\n",
            "129360/129360 [==============================] - 7s 57us/step - loss: 0.3923 - mean_squared_error: 0.3923 - val_loss: 0.4488 - val_mean_squared_error: 0.4488\n",
            "Epoch 40/500\n",
            "129360/129360 [==============================] - 7s 57us/step - loss: 0.3878 - mean_squared_error: 0.3878 - val_loss: 0.4447 - val_mean_squared_error: 0.4447\n",
            "Epoch 41/500\n",
            "129360/129360 [==============================] - 7s 57us/step - loss: 0.3836 - mean_squared_error: 0.3836 - val_loss: 0.4396 - val_mean_squared_error: 0.4396\n",
            "Epoch 42/500\n",
            "129360/129360 [==============================] - 7s 57us/step - loss: 0.3796 - mean_squared_error: 0.3796 - val_loss: 0.4358 - val_mean_squared_error: 0.4358\n",
            "Epoch 43/500\n",
            "129360/129360 [==============================] - 7s 58us/step - loss: 0.3757 - mean_squared_error: 0.3757 - val_loss: 0.4314 - val_mean_squared_error: 0.4314\n",
            "Epoch 44/500\n",
            "129360/129360 [==============================] - 7s 57us/step - loss: 0.3721 - mean_squared_error: 0.3721 - val_loss: 0.4277 - val_mean_squared_error: 0.4277\n",
            "Epoch 45/500\n",
            "129360/129360 [==============================] - 7s 57us/step - loss: 0.3686 - mean_squared_error: 0.3686 - val_loss: 0.4234 - val_mean_squared_error: 0.4234\n",
            "Epoch 46/500\n",
            "129360/129360 [==============================] - 7s 57us/step - loss: 0.3652 - mean_squared_error: 0.3652 - val_loss: 0.4200 - val_mean_squared_error: 0.4200\n",
            "Epoch 47/500\n",
            "129360/129360 [==============================] - 7s 57us/step - loss: 0.3621 - mean_squared_error: 0.3621 - val_loss: 0.4162 - val_mean_squared_error: 0.4162\n",
            "Epoch 48/500\n",
            "129360/129360 [==============================] - 7s 57us/step - loss: 0.3591 - mean_squared_error: 0.3591 - val_loss: 0.4135 - val_mean_squared_error: 0.4135\n",
            "Epoch 49/500\n",
            "129360/129360 [==============================] - 7s 57us/step - loss: 0.3562 - mean_squared_error: 0.3562 - val_loss: 0.4102 - val_mean_squared_error: 0.4102\n",
            "Epoch 50/500\n",
            "129360/129360 [==============================] - 7s 57us/step - loss: 0.3534 - mean_squared_error: 0.3534 - val_loss: 0.4078 - val_mean_squared_error: 0.4078\n",
            "Epoch 51/500\n",
            "129360/129360 [==============================] - 7s 57us/step - loss: 0.3507 - mean_squared_error: 0.3507 - val_loss: 0.4043 - val_mean_squared_error: 0.4043\n",
            "Epoch 52/500\n",
            "129360/129360 [==============================] - 7s 58us/step - loss: 0.3481 - mean_squared_error: 0.3481 - val_loss: 0.4015 - val_mean_squared_error: 0.4015\n",
            "Epoch 53/500\n",
            "129360/129360 [==============================] - 7s 57us/step - loss: 0.3456 - mean_squared_error: 0.3456 - val_loss: 0.3983 - val_mean_squared_error: 0.3983\n",
            "Epoch 54/500\n",
            "129360/129360 [==============================] - 7s 58us/step - loss: 0.3432 - mean_squared_error: 0.3432 - val_loss: 0.3958 - val_mean_squared_error: 0.3958\n",
            "Epoch 55/500\n",
            "129360/129360 [==============================] - 7s 58us/step - loss: 0.3409 - mean_squared_error: 0.3409 - val_loss: 0.3938 - val_mean_squared_error: 0.3938\n",
            "Epoch 56/500\n",
            "129360/129360 [==============================] - 7s 57us/step - loss: 0.3388 - mean_squared_error: 0.3388 - val_loss: 0.3915 - val_mean_squared_error: 0.3915\n",
            "Epoch 57/500\n",
            "129360/129360 [==============================] - 7s 57us/step - loss: 0.3366 - mean_squared_error: 0.3366 - val_loss: 0.3889 - val_mean_squared_error: 0.3889\n",
            "Epoch 58/500\n",
            "129360/129360 [==============================] - 7s 57us/step - loss: 0.3346 - mean_squared_error: 0.3346 - val_loss: 0.3876 - val_mean_squared_error: 0.3876\n",
            "Epoch 59/500\n",
            "129360/129360 [==============================] - 7s 57us/step - loss: 0.3326 - mean_squared_error: 0.3326 - val_loss: 0.3854 - val_mean_squared_error: 0.3854\n",
            "Epoch 60/500\n",
            "129360/129360 [==============================] - 7s 57us/step - loss: 0.3308 - mean_squared_error: 0.3308 - val_loss: 0.3831 - val_mean_squared_error: 0.3831\n",
            "Epoch 61/500\n",
            "129360/129360 [==============================] - 7s 57us/step - loss: 0.3289 - mean_squared_error: 0.3289 - val_loss: 0.3806 - val_mean_squared_error: 0.3806\n",
            "Epoch 62/500\n",
            "129360/129360 [==============================] - 7s 57us/step - loss: 0.3271 - mean_squared_error: 0.3271 - val_loss: 0.3791 - val_mean_squared_error: 0.3791\n",
            "Epoch 63/500\n",
            "129360/129360 [==============================] - 7s 57us/step - loss: 0.3254 - mean_squared_error: 0.3254 - val_loss: 0.3778 - val_mean_squared_error: 0.3778\n",
            "Epoch 64/500\n",
            "129360/129360 [==============================] - 7s 56us/step - loss: 0.3237 - mean_squared_error: 0.3237 - val_loss: 0.3754 - val_mean_squared_error: 0.3754\n",
            "Epoch 65/500\n",
            "129360/129360 [==============================] - 7s 55us/step - loss: 0.3222 - mean_squared_error: 0.3222 - val_loss: 0.3733 - val_mean_squared_error: 0.3733\n",
            "Epoch 66/500\n",
            "129360/129360 [==============================] - 7s 54us/step - loss: 0.3207 - mean_squared_error: 0.3207 - val_loss: 0.3715 - val_mean_squared_error: 0.3715\n",
            "Epoch 67/500\n",
            "129360/129360 [==============================] - 7s 53us/step - loss: 0.3191 - mean_squared_error: 0.3191 - val_loss: 0.3707 - val_mean_squared_error: 0.3707\n",
            "Epoch 68/500\n",
            "129360/129360 [==============================] - 7s 52us/step - loss: 0.3176 - mean_squared_error: 0.3176 - val_loss: 0.3689 - val_mean_squared_error: 0.3689\n",
            "Epoch 69/500\n",
            "129360/129360 [==============================] - 7s 52us/step - loss: 0.3163 - mean_squared_error: 0.3163 - val_loss: 0.3673 - val_mean_squared_error: 0.3673\n",
            "Epoch 70/500\n",
            "129360/129360 [==============================] - 7s 52us/step - loss: 0.3149 - mean_squared_error: 0.3149 - val_loss: 0.3656 - val_mean_squared_error: 0.3656\n",
            "Epoch 71/500\n",
            "129360/129360 [==============================] - 7s 52us/step - loss: 0.3135 - mean_squared_error: 0.3135 - val_loss: 0.3638 - val_mean_squared_error: 0.3638\n",
            "Epoch 72/500\n",
            "129360/129360 [==============================] - 7s 52us/step - loss: 0.3123 - mean_squared_error: 0.3123 - val_loss: 0.3639 - val_mean_squared_error: 0.3639\n",
            "Epoch 73/500\n",
            "129360/129360 [==============================] - 7s 52us/step - loss: 0.3110 - mean_squared_error: 0.3110 - val_loss: 0.3611 - val_mean_squared_error: 0.3611\n",
            "Epoch 74/500\n",
            "129360/129360 [==============================] - 7s 52us/step - loss: 0.3099 - mean_squared_error: 0.3099 - val_loss: 0.3603 - val_mean_squared_error: 0.3603\n",
            "Epoch 75/500\n",
            "129360/129360 [==============================] - 7s 52us/step - loss: 0.3086 - mean_squared_error: 0.3086 - val_loss: 0.3595 - val_mean_squared_error: 0.3595\n",
            "Epoch 76/500\n",
            "129360/129360 [==============================] - 7s 52us/step - loss: 0.3075 - mean_squared_error: 0.3075 - val_loss: 0.3583 - val_mean_squared_error: 0.3583\n",
            "Epoch 77/500\n",
            "129360/129360 [==============================] - 7s 52us/step - loss: 0.3064 - mean_squared_error: 0.3064 - val_loss: 0.3566 - val_mean_squared_error: 0.3566\n",
            "Epoch 78/500\n",
            "129360/129360 [==============================] - 7s 52us/step - loss: 0.3053 - mean_squared_error: 0.3053 - val_loss: 0.3549 - val_mean_squared_error: 0.3549\n",
            "Epoch 79/500\n",
            "129360/129360 [==============================] - 7s 52us/step - loss: 0.3043 - mean_squared_error: 0.3043 - val_loss: 0.3542 - val_mean_squared_error: 0.3542\n",
            "Epoch 80/500\n",
            "129360/129360 [==============================] - 7s 52us/step - loss: 0.3032 - mean_squared_error: 0.3032 - val_loss: 0.3534 - val_mean_squared_error: 0.3534\n",
            "Epoch 81/500\n",
            "129360/129360 [==============================] - 7s 52us/step - loss: 0.3022 - mean_squared_error: 0.3022 - val_loss: 0.3520 - val_mean_squared_error: 0.3520\n",
            "Epoch 82/500\n",
            "129360/129360 [==============================] - 7s 52us/step - loss: 0.3013 - mean_squared_error: 0.3013 - val_loss: 0.3510 - val_mean_squared_error: 0.3510\n",
            "Epoch 83/500\n",
            "129360/129360 [==============================] - 7s 52us/step - loss: 0.3004 - mean_squared_error: 0.3004 - val_loss: 0.3500 - val_mean_squared_error: 0.3500\n",
            "Epoch 84/500\n",
            "129360/129360 [==============================] - 7s 52us/step - loss: 0.2994 - mean_squared_error: 0.2994 - val_loss: 0.3492 - val_mean_squared_error: 0.3492\n",
            "Epoch 85/500\n",
            "129360/129360 [==============================] - 7s 52us/step - loss: 0.2986 - mean_squared_error: 0.2986 - val_loss: 0.3482 - val_mean_squared_error: 0.3482\n",
            "Epoch 86/500\n",
            "129360/129360 [==============================] - 7s 52us/step - loss: 0.2977 - mean_squared_error: 0.2977 - val_loss: 0.3478 - val_mean_squared_error: 0.3478\n",
            "Epoch 87/500\n",
            "129360/129360 [==============================] - 7s 52us/step - loss: 0.2968 - mean_squared_error: 0.2968 - val_loss: 0.3466 - val_mean_squared_error: 0.3466\n",
            "Epoch 88/500\n",
            "129360/129360 [==============================] - 7s 52us/step - loss: 0.2960 - mean_squared_error: 0.2960 - val_loss: 0.3451 - val_mean_squared_error: 0.3451\n",
            "Epoch 89/500\n",
            "129360/129360 [==============================] - 7s 52us/step - loss: 0.2951 - mean_squared_error: 0.2951 - val_loss: 0.3441 - val_mean_squared_error: 0.3441\n",
            "Epoch 90/500\n",
            "129360/129360 [==============================] - 7s 53us/step - loss: 0.2944 - mean_squared_error: 0.2944 - val_loss: 0.3436 - val_mean_squared_error: 0.3436\n",
            "Epoch 91/500\n",
            "129360/129360 [==============================] - 7s 52us/step - loss: 0.2936 - mean_squared_error: 0.2936 - val_loss: 0.3428 - val_mean_squared_error: 0.3428\n",
            "Epoch 92/500\n",
            "129360/129360 [==============================] - 7s 52us/step - loss: 0.2929 - mean_squared_error: 0.2929 - val_loss: 0.3420 - val_mean_squared_error: 0.3420\n",
            "Epoch 93/500\n",
            "129360/129360 [==============================] - 7s 52us/step - loss: 0.2921 - mean_squared_error: 0.2921 - val_loss: 0.3416 - val_mean_squared_error: 0.3416\n",
            "Epoch 94/500\n",
            "129360/129360 [==============================] - 7s 52us/step - loss: 0.2915 - mean_squared_error: 0.2915 - val_loss: 0.3411 - val_mean_squared_error: 0.3411\n",
            "Epoch 95/500\n",
            "129360/129360 [==============================] - 7s 52us/step - loss: 0.2907 - mean_squared_error: 0.2907 - val_loss: 0.3393 - val_mean_squared_error: 0.3393\n",
            "Epoch 96/500\n",
            "129360/129360 [==============================] - 7s 53us/step - loss: 0.2900 - mean_squared_error: 0.2900 - val_loss: 0.3394 - val_mean_squared_error: 0.3394\n",
            "Epoch 97/500\n",
            "129360/129360 [==============================] - 7s 52us/step - loss: 0.2894 - mean_squared_error: 0.2894 - val_loss: 0.3386 - val_mean_squared_error: 0.3386\n",
            "Epoch 98/500\n",
            "129360/129360 [==============================] - 7s 53us/step - loss: 0.2887 - mean_squared_error: 0.2887 - val_loss: 0.3372 - val_mean_squared_error: 0.3372\n",
            "Epoch 99/500\n",
            "129360/129360 [==============================] - 7s 53us/step - loss: 0.2880 - mean_squared_error: 0.2880 - val_loss: 0.3369 - val_mean_squared_error: 0.3369\n",
            "Epoch 100/500\n",
            "129360/129360 [==============================] - 7s 53us/step - loss: 0.2874 - mean_squared_error: 0.2874 - val_loss: 0.3369 - val_mean_squared_error: 0.3369\n",
            "Epoch 101/500\n",
            "129360/129360 [==============================] - 7s 53us/step - loss: 0.2869 - mean_squared_error: 0.2869 - val_loss: 0.3354 - val_mean_squared_error: 0.3354\n",
            "Epoch 102/500\n",
            "129360/129360 [==============================] - 7s 53us/step - loss: 0.2863 - mean_squared_error: 0.2863 - val_loss: 0.3348 - val_mean_squared_error: 0.3348\n",
            "Epoch 103/500\n",
            "129360/129360 [==============================] - 7s 53us/step - loss: 0.2857 - mean_squared_error: 0.2857 - val_loss: 0.3358 - val_mean_squared_error: 0.3358\n",
            "Epoch 104/500\n",
            "129360/129360 [==============================] - 7s 52us/step - loss: 0.2851 - mean_squared_error: 0.2851 - val_loss: 0.3339 - val_mean_squared_error: 0.3339\n",
            "Epoch 105/500\n",
            "129360/129360 [==============================] - 7s 52us/step - loss: 0.2845 - mean_squared_error: 0.2845 - val_loss: 0.3331 - val_mean_squared_error: 0.3331\n",
            "Epoch 106/500\n",
            "129360/129360 [==============================] - 7s 52us/step - loss: 0.2840 - mean_squared_error: 0.2840 - val_loss: 0.3328 - val_mean_squared_error: 0.3328\n",
            "Epoch 107/500\n",
            "129360/129360 [==============================] - 7s 52us/step - loss: 0.2835 - mean_squared_error: 0.2835 - val_loss: 0.3323 - val_mean_squared_error: 0.3323\n",
            "Epoch 108/500\n",
            "129360/129360 [==============================] - 7s 52us/step - loss: 0.2829 - mean_squared_error: 0.2829 - val_loss: 0.3307 - val_mean_squared_error: 0.3307\n",
            "Epoch 109/500\n",
            "129360/129360 [==============================] - 7s 52us/step - loss: 0.2825 - mean_squared_error: 0.2825 - val_loss: 0.3308 - val_mean_squared_error: 0.3308\n",
            "Epoch 110/500\n",
            "129360/129360 [==============================] - 7s 53us/step - loss: 0.2820 - mean_squared_error: 0.2820 - val_loss: 0.3300 - val_mean_squared_error: 0.3300\n",
            "Epoch 111/500\n",
            "129360/129360 [==============================] - 7s 52us/step - loss: 0.2815 - mean_squared_error: 0.2815 - val_loss: 0.3302 - val_mean_squared_error: 0.3302\n",
            "Epoch 112/500\n",
            "129360/129360 [==============================] - 7s 53us/step - loss: 0.2810 - mean_squared_error: 0.2810 - val_loss: 0.3292 - val_mean_squared_error: 0.3292\n",
            "Epoch 113/500\n",
            "129360/129360 [==============================] - 7s 53us/step - loss: 0.2806 - mean_squared_error: 0.2806 - val_loss: 0.3291 - val_mean_squared_error: 0.3291\n",
            "Epoch 114/500\n",
            "129360/129360 [==============================] - 7s 52us/step - loss: 0.2801 - mean_squared_error: 0.2801 - val_loss: 0.3287 - val_mean_squared_error: 0.3287\n",
            "Epoch 115/500\n",
            "129360/129360 [==============================] - 7s 52us/step - loss: 0.2797 - mean_squared_error: 0.2797 - val_loss: 0.3277 - val_mean_squared_error: 0.3277\n",
            "Epoch 116/500\n",
            "129360/129360 [==============================] - 7s 53us/step - loss: 0.2792 - mean_squared_error: 0.2792 - val_loss: 0.3272 - val_mean_squared_error: 0.3272\n",
            "Epoch 117/500\n",
            "129360/129360 [==============================] - 7s 52us/step - loss: 0.2788 - mean_squared_error: 0.2788 - val_loss: 0.3266 - val_mean_squared_error: 0.3266\n",
            "Epoch 118/500\n",
            "129360/129360 [==============================] - 7s 53us/step - loss: 0.2783 - mean_squared_error: 0.2783 - val_loss: 0.3262 - val_mean_squared_error: 0.3262\n",
            "Epoch 119/500\n",
            "129360/129360 [==============================] - 7s 52us/step - loss: 0.2779 - mean_squared_error: 0.2779 - val_loss: 0.3261 - val_mean_squared_error: 0.3261\n",
            "Epoch 120/500\n",
            "129360/129360 [==============================] - 7s 53us/step - loss: 0.2775 - mean_squared_error: 0.2775 - val_loss: 0.3259 - val_mean_squared_error: 0.3259\n",
            "Epoch 121/500\n",
            "129360/129360 [==============================] - 7s 52us/step - loss: 0.2771 - mean_squared_error: 0.2771 - val_loss: 0.3250 - val_mean_squared_error: 0.3250\n",
            "Epoch 122/500\n",
            "129360/129360 [==============================] - 7s 52us/step - loss: 0.2766 - mean_squared_error: 0.2766 - val_loss: 0.3248 - val_mean_squared_error: 0.3248\n",
            "Epoch 123/500\n",
            "129360/129360 [==============================] - 7s 52us/step - loss: 0.2762 - mean_squared_error: 0.2762 - val_loss: 0.3240 - val_mean_squared_error: 0.3240\n",
            "Epoch 124/500\n",
            "129360/129360 [==============================] - 7s 53us/step - loss: 0.2759 - mean_squared_error: 0.2759 - val_loss: 0.3240 - val_mean_squared_error: 0.3240\n",
            "Epoch 125/500\n",
            "129360/129360 [==============================] - 7s 53us/step - loss: 0.2756 - mean_squared_error: 0.2756 - val_loss: 0.3234 - val_mean_squared_error: 0.3234\n",
            "Epoch 126/500\n",
            "129360/129360 [==============================] - 7s 53us/step - loss: 0.2752 - mean_squared_error: 0.2752 - val_loss: 0.3228 - val_mean_squared_error: 0.3228\n",
            "Epoch 127/500\n",
            "129360/129360 [==============================] - 7s 53us/step - loss: 0.2748 - mean_squared_error: 0.2748 - val_loss: 0.3231 - val_mean_squared_error: 0.3231\n",
            "Epoch 128/500\n",
            "129360/129360 [==============================] - 7s 52us/step - loss: 0.2744 - mean_squared_error: 0.2744 - val_loss: 0.3224 - val_mean_squared_error: 0.3224\n",
            "Epoch 129/500\n",
            "129360/129360 [==============================] - 7s 52us/step - loss: 0.2741 - mean_squared_error: 0.2741 - val_loss: 0.3227 - val_mean_squared_error: 0.3227\n",
            "Epoch 130/500\n",
            "129360/129360 [==============================] - 7s 52us/step - loss: 0.2738 - mean_squared_error: 0.2738 - val_loss: 0.3216 - val_mean_squared_error: 0.3216\n",
            "Epoch 131/500\n",
            "129360/129360 [==============================] - 7s 52us/step - loss: 0.2734 - mean_squared_error: 0.2734 - val_loss: 0.3218 - val_mean_squared_error: 0.3218\n",
            "Epoch 132/500\n",
            "129360/129360 [==============================] - 7s 52us/step - loss: 0.2731 - mean_squared_error: 0.2731 - val_loss: 0.3212 - val_mean_squared_error: 0.3212\n",
            "Epoch 133/500\n",
            "129360/129360 [==============================] - 7s 52us/step - loss: 0.2728 - mean_squared_error: 0.2728 - val_loss: 0.3204 - val_mean_squared_error: 0.3204\n",
            "Epoch 134/500\n",
            "129360/129360 [==============================] - 7s 52us/step - loss: 0.2725 - mean_squared_error: 0.2725 - val_loss: 0.3203 - val_mean_squared_error: 0.3203\n",
            "Epoch 135/500\n",
            "129360/129360 [==============================] - 7s 52us/step - loss: 0.2722 - mean_squared_error: 0.2722 - val_loss: 0.3202 - val_mean_squared_error: 0.3202\n",
            "Epoch 136/500\n",
            "129360/129360 [==============================] - 7s 53us/step - loss: 0.2719 - mean_squared_error: 0.2719 - val_loss: 0.3195 - val_mean_squared_error: 0.3195\n",
            "Epoch 137/500\n",
            "129360/129360 [==============================] - 7s 52us/step - loss: 0.2716 - mean_squared_error: 0.2716 - val_loss: 0.3189 - val_mean_squared_error: 0.3189\n",
            "Epoch 138/500\n",
            "129360/129360 [==============================] - 7s 52us/step - loss: 0.2713 - mean_squared_error: 0.2713 - val_loss: 0.3193 - val_mean_squared_error: 0.3193\n",
            "Epoch 139/500\n",
            "129360/129360 [==============================] - 7s 52us/step - loss: 0.2710 - mean_squared_error: 0.2710 - val_loss: 0.3195 - val_mean_squared_error: 0.3195\n",
            "Epoch 140/500\n",
            "129360/129360 [==============================] - 7s 52us/step - loss: 0.2707 - mean_squared_error: 0.2707 - val_loss: 0.3180 - val_mean_squared_error: 0.3180\n",
            "Epoch 141/500\n",
            "129360/129360 [==============================] - 7s 53us/step - loss: 0.2704 - mean_squared_error: 0.2704 - val_loss: 0.3181 - val_mean_squared_error: 0.3181\n",
            "Epoch 142/500\n",
            "129360/129360 [==============================] - 7s 52us/step - loss: 0.2702 - mean_squared_error: 0.2702 - val_loss: 0.3178 - val_mean_squared_error: 0.3178\n",
            "Epoch 143/500\n",
            "129360/129360 [==============================] - 7s 52us/step - loss: 0.2699 - mean_squared_error: 0.2699 - val_loss: 0.3181 - val_mean_squared_error: 0.3181\n",
            "Epoch 144/500\n",
            "129360/129360 [==============================] - 7s 53us/step - loss: 0.2696 - mean_squared_error: 0.2696 - val_loss: 0.3172 - val_mean_squared_error: 0.3172\n",
            "Epoch 145/500\n",
            "129360/129360 [==============================] - 7s 53us/step - loss: 0.2694 - mean_squared_error: 0.2694 - val_loss: 0.3174 - val_mean_squared_error: 0.3174\n",
            "Epoch 146/500\n",
            "129360/129360 [==============================] - 7s 52us/step - loss: 0.2692 - mean_squared_error: 0.2692 - val_loss: 0.3180 - val_mean_squared_error: 0.3180\n",
            "Epoch 147/500\n",
            "129360/129360 [==============================] - 7s 52us/step - loss: 0.2689 - mean_squared_error: 0.2689 - val_loss: 0.3167 - val_mean_squared_error: 0.3167\n",
            "Epoch 148/500\n",
            "129360/129360 [==============================] - 7s 52us/step - loss: 0.2686 - mean_squared_error: 0.2686 - val_loss: 0.3159 - val_mean_squared_error: 0.3159\n",
            "Epoch 149/500\n",
            "129360/129360 [==============================] - 7s 51us/step - loss: 0.2683 - mean_squared_error: 0.2683 - val_loss: 0.3166 - val_mean_squared_error: 0.3166\n",
            "Epoch 150/500\n",
            "129360/129360 [==============================] - 7s 51us/step - loss: 0.2681 - mean_squared_error: 0.2681 - val_loss: 0.3153 - val_mean_squared_error: 0.3153\n",
            "Epoch 151/500\n",
            "129360/129360 [==============================] - 7s 51us/step - loss: 0.2679 - mean_squared_error: 0.2679 - val_loss: 0.3155 - val_mean_squared_error: 0.3155\n",
            "Epoch 152/500\n",
            "129360/129360 [==============================] - 7s 51us/step - loss: 0.2677 - mean_squared_error: 0.2677 - val_loss: 0.3152 - val_mean_squared_error: 0.3152\n",
            "Epoch 153/500\n",
            "129360/129360 [==============================] - 7s 51us/step - loss: 0.2674 - mean_squared_error: 0.2674 - val_loss: 0.3153 - val_mean_squared_error: 0.3153\n",
            "Epoch 154/500\n",
            "129360/129360 [==============================] - 7s 51us/step - loss: 0.2672 - mean_squared_error: 0.2672 - val_loss: 0.3150 - val_mean_squared_error: 0.3150\n",
            "Epoch 155/500\n",
            "129360/129360 [==============================] - 7s 51us/step - loss: 0.2670 - mean_squared_error: 0.2670 - val_loss: 0.3141 - val_mean_squared_error: 0.3141\n",
            "Epoch 156/500\n",
            "129360/129360 [==============================] - 7s 51us/step - loss: 0.2668 - mean_squared_error: 0.2668 - val_loss: 0.3144 - val_mean_squared_error: 0.3144\n",
            "Epoch 157/500\n",
            "129360/129360 [==============================] - 7s 51us/step - loss: 0.2665 - mean_squared_error: 0.2665 - val_loss: 0.3152 - val_mean_squared_error: 0.3152\n",
            "Epoch 158/500\n",
            "129360/129360 [==============================] - 7s 51us/step - loss: 0.2664 - mean_squared_error: 0.2664 - val_loss: 0.3146 - val_mean_squared_error: 0.3146\n",
            "Epoch 159/500\n",
            "129360/129360 [==============================] - 7s 51us/step - loss: 0.2661 - mean_squared_error: 0.2661 - val_loss: 0.3136 - val_mean_squared_error: 0.3136\n",
            "Epoch 160/500\n",
            "129360/129360 [==============================] - 7s 51us/step - loss: 0.2660 - mean_squared_error: 0.2660 - val_loss: 0.3135 - val_mean_squared_error: 0.3135\n",
            "Epoch 161/500\n",
            "129360/129360 [==============================] - 7s 51us/step - loss: 0.2657 - mean_squared_error: 0.2657 - val_loss: 0.3135 - val_mean_squared_error: 0.3135\n",
            "Epoch 162/500\n",
            "129360/129360 [==============================] - 7s 51us/step - loss: 0.2655 - mean_squared_error: 0.2655 - val_loss: 0.3127 - val_mean_squared_error: 0.3127\n",
            "Epoch 163/500\n",
            "129360/129360 [==============================] - 7s 51us/step - loss: 0.2654 - mean_squared_error: 0.2654 - val_loss: 0.3126 - val_mean_squared_error: 0.3126\n",
            "Epoch 164/500\n",
            "129360/129360 [==============================] - 7s 51us/step - loss: 0.2651 - mean_squared_error: 0.2651 - val_loss: 0.3128 - val_mean_squared_error: 0.3128\n",
            "Epoch 165/500\n",
            "129360/129360 [==============================] - 7s 51us/step - loss: 0.2649 - mean_squared_error: 0.2649 - val_loss: 0.3132 - val_mean_squared_error: 0.3132\n",
            "Epoch 166/500\n",
            "129360/129360 [==============================] - 7s 51us/step - loss: 0.2647 - mean_squared_error: 0.2647 - val_loss: 0.3123 - val_mean_squared_error: 0.3123\n",
            "Epoch 167/500\n",
            "129360/129360 [==============================] - 7s 51us/step - loss: 0.2646 - mean_squared_error: 0.2646 - val_loss: 0.3125 - val_mean_squared_error: 0.3125\n",
            "Epoch 168/500\n",
            "129360/129360 [==============================] - 7s 51us/step - loss: 0.2644 - mean_squared_error: 0.2644 - val_loss: 0.3117 - val_mean_squared_error: 0.3117\n",
            "Epoch 169/500\n",
            "129360/129360 [==============================] - 7s 51us/step - loss: 0.2643 - mean_squared_error: 0.2643 - val_loss: 0.3120 - val_mean_squared_error: 0.3120\n",
            "Epoch 170/500\n",
            "129360/129360 [==============================] - 7s 51us/step - loss: 0.2640 - mean_squared_error: 0.2640 - val_loss: 0.3122 - val_mean_squared_error: 0.3122\n",
            "Epoch 171/500\n",
            "129360/129360 [==============================] - 7s 51us/step - loss: 0.2639 - mean_squared_error: 0.2639 - val_loss: 0.3118 - val_mean_squared_error: 0.3118\n",
            "Epoch 172/500\n",
            "129360/129360 [==============================] - 7s 51us/step - loss: 0.2637 - mean_squared_error: 0.2637 - val_loss: 0.3113 - val_mean_squared_error: 0.3113\n",
            "Epoch 173/500\n",
            "129360/129360 [==============================] - 7s 51us/step - loss: 0.2635 - mean_squared_error: 0.2635 - val_loss: 0.3112 - val_mean_squared_error: 0.3112\n",
            "Epoch 174/500\n",
            "129360/129360 [==============================] - 7s 51us/step - loss: 0.2634 - mean_squared_error: 0.2634 - val_loss: 0.3110 - val_mean_squared_error: 0.3110\n",
            "Epoch 175/500\n",
            "129360/129360 [==============================] - 7s 51us/step - loss: 0.2632 - mean_squared_error: 0.2632 - val_loss: 0.3112 - val_mean_squared_error: 0.3112\n",
            "Epoch 176/500\n",
            "129360/129360 [==============================] - 7s 51us/step - loss: 0.2630 - mean_squared_error: 0.2630 - val_loss: 0.3108 - val_mean_squared_error: 0.3108\n",
            "Epoch 177/500\n",
            "129360/129360 [==============================] - 7s 51us/step - loss: 0.2629 - mean_squared_error: 0.2629 - val_loss: 0.3108 - val_mean_squared_error: 0.3108\n",
            "Epoch 178/500\n",
            "129360/129360 [==============================] - 7s 51us/step - loss: 0.2627 - mean_squared_error: 0.2627 - val_loss: 0.3108 - val_mean_squared_error: 0.3108\n",
            "Epoch 179/500\n",
            "129360/129360 [==============================] - 7s 51us/step - loss: 0.2626 - mean_squared_error: 0.2626 - val_loss: 0.3103 - val_mean_squared_error: 0.3103\n",
            "Epoch 180/500\n",
            "129360/129360 [==============================] - 7s 51us/step - loss: 0.2624 - mean_squared_error: 0.2624 - val_loss: 0.3103 - val_mean_squared_error: 0.3103\n",
            "Epoch 181/500\n",
            "129360/129360 [==============================] - 7s 51us/step - loss: 0.2623 - mean_squared_error: 0.2623 - val_loss: 0.3096 - val_mean_squared_error: 0.3096\n",
            "Epoch 182/500\n",
            "129360/129360 [==============================] - 7s 51us/step - loss: 0.2621 - mean_squared_error: 0.2621 - val_loss: 0.3103 - val_mean_squared_error: 0.3103\n",
            "Epoch 183/500\n",
            "129360/129360 [==============================] - 7s 51us/step - loss: 0.2620 - mean_squared_error: 0.2620 - val_loss: 0.3097 - val_mean_squared_error: 0.3097\n",
            "Epoch 184/500\n",
            "129360/129360 [==============================] - 7s 51us/step - loss: 0.2619 - mean_squared_error: 0.2619 - val_loss: 0.3091 - val_mean_squared_error: 0.3091\n",
            "Epoch 185/500\n",
            "129360/129360 [==============================] - 7s 51us/step - loss: 0.2617 - mean_squared_error: 0.2617 - val_loss: 0.3095 - val_mean_squared_error: 0.3095\n",
            "Epoch 186/500\n",
            "129360/129360 [==============================] - 7s 51us/step - loss: 0.2615 - mean_squared_error: 0.2615 - val_loss: 0.3095 - val_mean_squared_error: 0.3095\n",
            "Epoch 187/500\n",
            "129360/129360 [==============================] - 7s 51us/step - loss: 0.2614 - mean_squared_error: 0.2614 - val_loss: 0.3088 - val_mean_squared_error: 0.3088\n",
            "Epoch 188/500\n",
            "129360/129360 [==============================] - 7s 51us/step - loss: 0.2613 - mean_squared_error: 0.2613 - val_loss: 0.3089 - val_mean_squared_error: 0.3089\n",
            "Epoch 189/500\n",
            "129360/129360 [==============================] - 7s 51us/step - loss: 0.2611 - mean_squared_error: 0.2611 - val_loss: 0.3091 - val_mean_squared_error: 0.3091\n",
            "Epoch 190/500\n",
            "129360/129360 [==============================] - 7s 51us/step - loss: 0.2610 - mean_squared_error: 0.2610 - val_loss: 0.3085 - val_mean_squared_error: 0.3085\n",
            "Epoch 191/500\n",
            "129360/129360 [==============================] - 7s 52us/step - loss: 0.2609 - mean_squared_error: 0.2609 - val_loss: 0.3085 - val_mean_squared_error: 0.3085\n",
            "Epoch 192/500\n",
            "129360/129360 [==============================] - 7s 52us/step - loss: 0.2607 - mean_squared_error: 0.2607 - val_loss: 0.3082 - val_mean_squared_error: 0.3082\n",
            "Epoch 193/500\n",
            "129360/129360 [==============================] - 7s 51us/step - loss: 0.2606 - mean_squared_error: 0.2606 - val_loss: 0.3084 - val_mean_squared_error: 0.3084\n",
            "Epoch 194/500\n",
            "129360/129360 [==============================] - 7s 51us/step - loss: 0.2605 - mean_squared_error: 0.2605 - val_loss: 0.3077 - val_mean_squared_error: 0.3077\n",
            "Epoch 195/500\n",
            "129360/129360 [==============================] - 7s 51us/step - loss: 0.2604 - mean_squared_error: 0.2604 - val_loss: 0.3080 - val_mean_squared_error: 0.3080\n",
            "Epoch 196/500\n",
            "129360/129360 [==============================] - 7s 51us/step - loss: 0.2602 - mean_squared_error: 0.2602 - val_loss: 0.3075 - val_mean_squared_error: 0.3075\n",
            "Epoch 197/500\n",
            "129360/129360 [==============================] - 7s 52us/step - loss: 0.2601 - mean_squared_error: 0.2601 - val_loss: 0.3077 - val_mean_squared_error: 0.3077\n",
            "Epoch 198/500\n",
            "129360/129360 [==============================] - 7s 51us/step - loss: 0.2600 - mean_squared_error: 0.2600 - val_loss: 0.3074 - val_mean_squared_error: 0.3074\n",
            "Epoch 199/500\n",
            "129360/129360 [==============================] - 7s 51us/step - loss: 0.2599 - mean_squared_error: 0.2599 - val_loss: 0.3077 - val_mean_squared_error: 0.3077\n",
            "Epoch 200/500\n",
            "129360/129360 [==============================] - 7s 51us/step - loss: 0.2597 - mean_squared_error: 0.2597 - val_loss: 0.3075 - val_mean_squared_error: 0.3075\n",
            "Epoch 201/500\n",
            "129360/129360 [==============================] - 7s 51us/step - loss: 0.2597 - mean_squared_error: 0.2597 - val_loss: 0.3073 - val_mean_squared_error: 0.3073\n",
            "Epoch 202/500\n",
            "129360/129360 [==============================] - 7s 51us/step - loss: 0.2595 - mean_squared_error: 0.2595 - val_loss: 0.3067 - val_mean_squared_error: 0.3067\n",
            "Epoch 203/500\n",
            "129360/129360 [==============================] - 7s 51us/step - loss: 0.2594 - mean_squared_error: 0.2594 - val_loss: 0.3067 - val_mean_squared_error: 0.3067\n",
            "Epoch 204/500\n",
            "129360/129360 [==============================] - 7s 51us/step - loss: 0.2593 - mean_squared_error: 0.2593 - val_loss: 0.3079 - val_mean_squared_error: 0.3079\n",
            "Epoch 205/500\n",
            "129360/129360 [==============================] - 7s 51us/step - loss: 0.2592 - mean_squared_error: 0.2592 - val_loss: 0.3069 - val_mean_squared_error: 0.3069\n",
            "Epoch 206/500\n",
            "129360/129360 [==============================] - 7s 51us/step - loss: 0.2591 - mean_squared_error: 0.2591 - val_loss: 0.3064 - val_mean_squared_error: 0.3064\n",
            "Epoch 207/500\n",
            "129360/129360 [==============================] - 7s 51us/step - loss: 0.2590 - mean_squared_error: 0.2590 - val_loss: 0.3067 - val_mean_squared_error: 0.3067\n",
            "Epoch 208/500\n",
            "129360/129360 [==============================] - 7s 51us/step - loss: 0.2589 - mean_squared_error: 0.2589 - val_loss: 0.3070 - val_mean_squared_error: 0.3070\n",
            "Epoch 209/500\n",
            "129360/129360 [==============================] - 7s 51us/step - loss: 0.2588 - mean_squared_error: 0.2588 - val_loss: 0.3065 - val_mean_squared_error: 0.3065\n",
            "Epoch 210/500\n",
            "129360/129360 [==============================] - 7s 52us/step - loss: 0.2587 - mean_squared_error: 0.2587 - val_loss: 0.3060 - val_mean_squared_error: 0.3060\n",
            "Epoch 211/500\n",
            "129360/129360 [==============================] - 7s 51us/step - loss: 0.2585 - mean_squared_error: 0.2585 - val_loss: 0.3064 - val_mean_squared_error: 0.3064\n",
            "Epoch 212/500\n",
            "129360/129360 [==============================] - 7s 51us/step - loss: 0.2585 - mean_squared_error: 0.2585 - val_loss: 0.3060 - val_mean_squared_error: 0.3060\n",
            "Epoch 213/500\n",
            "129360/129360 [==============================] - 7s 51us/step - loss: 0.2584 - mean_squared_error: 0.2584 - val_loss: 0.3060 - val_mean_squared_error: 0.3060\n",
            "Epoch 214/500\n",
            "129360/129360 [==============================] - 7s 51us/step - loss: 0.2582 - mean_squared_error: 0.2582 - val_loss: 0.3061 - val_mean_squared_error: 0.3061\n",
            "Epoch 215/500\n",
            "129360/129360 [==============================] - 7s 51us/step - loss: 0.2581 - mean_squared_error: 0.2581 - val_loss: 0.3059 - val_mean_squared_error: 0.3059\n",
            "Epoch 216/500\n",
            "129360/129360 [==============================] - 7s 51us/step - loss: 0.2581 - mean_squared_error: 0.2581 - val_loss: 0.3052 - val_mean_squared_error: 0.3052\n",
            "Epoch 217/500\n",
            "129360/129360 [==============================] - 7s 51us/step - loss: 0.2580 - mean_squared_error: 0.2580 - val_loss: 0.3052 - val_mean_squared_error: 0.3052\n",
            "Epoch 218/500\n",
            "129360/129360 [==============================] - 7s 51us/step - loss: 0.2578 - mean_squared_error: 0.2578 - val_loss: 0.3058 - val_mean_squared_error: 0.3058\n",
            "Epoch 219/500\n",
            "129360/129360 [==============================] - 7s 51us/step - loss: 0.2578 - mean_squared_error: 0.2578 - val_loss: 0.3061 - val_mean_squared_error: 0.3061\n",
            "Epoch 220/500\n",
            "129360/129360 [==============================] - 7s 51us/step - loss: 0.2577 - mean_squared_error: 0.2577 - val_loss: 0.3049 - val_mean_squared_error: 0.3049\n",
            "Epoch 221/500\n",
            "129360/129360 [==============================] - 7s 51us/step - loss: 0.2576 - mean_squared_error: 0.2576 - val_loss: 0.3057 - val_mean_squared_error: 0.3057\n",
            "Epoch 222/500\n",
            "129360/129360 [==============================] - 7s 51us/step - loss: 0.2575 - mean_squared_error: 0.2575 - val_loss: 0.3056 - val_mean_squared_error: 0.3056\n",
            "Epoch 223/500\n",
            "129360/129360 [==============================] - 7s 51us/step - loss: 0.2574 - mean_squared_error: 0.2574 - val_loss: 0.3053 - val_mean_squared_error: 0.3053\n",
            "Epoch 224/500\n",
            "129360/129360 [==============================] - 7s 51us/step - loss: 0.2573 - mean_squared_error: 0.2573 - val_loss: 0.3053 - val_mean_squared_error: 0.3053\n",
            "Epoch 225/500\n",
            "129360/129360 [==============================] - 7s 51us/step - loss: 0.2572 - mean_squared_error: 0.2572 - val_loss: 0.3049 - val_mean_squared_error: 0.3049\n",
            "Epoch 226/500\n",
            "129360/129360 [==============================] - 7s 51us/step - loss: 0.2571 - mean_squared_error: 0.2571 - val_loss: 0.3055 - val_mean_squared_error: 0.3055\n",
            "Epoch 227/500\n",
            "129360/129360 [==============================] - 7s 51us/step - loss: 0.2571 - mean_squared_error: 0.2571 - val_loss: 0.3048 - val_mean_squared_error: 0.3048\n",
            "Epoch 228/500\n",
            "129360/129360 [==============================] - 7s 51us/step - loss: 0.2570 - mean_squared_error: 0.2570 - val_loss: 0.3048 - val_mean_squared_error: 0.3048\n",
            "Epoch 229/500\n",
            "129360/129360 [==============================] - 7s 51us/step - loss: 0.2569 - mean_squared_error: 0.2569 - val_loss: 0.3051 - val_mean_squared_error: 0.3051\n",
            "Epoch 230/500\n",
            "129360/129360 [==============================] - 7s 51us/step - loss: 0.2568 - mean_squared_error: 0.2568 - val_loss: 0.3045 - val_mean_squared_error: 0.3045\n",
            "Epoch 231/500\n",
            "129360/129360 [==============================] - 7s 51us/step - loss: 0.2568 - mean_squared_error: 0.2568 - val_loss: 0.3042 - val_mean_squared_error: 0.3042\n",
            "Epoch 232/500\n",
            "129360/129360 [==============================] - 7s 51us/step - loss: 0.2567 - mean_squared_error: 0.2567 - val_loss: 0.3043 - val_mean_squared_error: 0.3043\n",
            "Epoch 233/500\n",
            "129360/129360 [==============================] - 7s 52us/step - loss: 0.2566 - mean_squared_error: 0.2566 - val_loss: 0.3044 - val_mean_squared_error: 0.3044\n",
            "Epoch 234/500\n",
            "129360/129360 [==============================] - 7s 52us/step - loss: 0.2565 - mean_squared_error: 0.2565 - val_loss: 0.3045 - val_mean_squared_error: 0.3045\n",
            "Epoch 235/500\n",
            "129360/129360 [==============================] - 7s 51us/step - loss: 0.2565 - mean_squared_error: 0.2565 - val_loss: 0.3046 - val_mean_squared_error: 0.3046\n",
            "Epoch 236/500\n",
            "129360/129360 [==============================] - 7s 51us/step - loss: 0.2564 - mean_squared_error: 0.2564 - val_loss: 0.3042 - val_mean_squared_error: 0.3042\n",
            "Epoch 237/500\n",
            "129360/129360 [==============================] - 7s 51us/step - loss: 0.2563 - mean_squared_error: 0.2563 - val_loss: 0.3039 - val_mean_squared_error: 0.3039\n",
            "Epoch 238/500\n",
            "129360/129360 [==============================] - 7s 52us/step - loss: 0.2563 - mean_squared_error: 0.2563 - val_loss: 0.3039 - val_mean_squared_error: 0.3039\n",
            "Epoch 239/500\n",
            "129360/129360 [==============================] - 7s 52us/step - loss: 0.2562 - mean_squared_error: 0.2562 - val_loss: 0.3040 - val_mean_squared_error: 0.3040\n",
            "Epoch 240/500\n",
            "129360/129360 [==============================] - 7s 51us/step - loss: 0.2561 - mean_squared_error: 0.2561 - val_loss: 0.3044 - val_mean_squared_error: 0.3044\n",
            "Epoch 241/500\n",
            "129360/129360 [==============================] - 7s 51us/step - loss: 0.2560 - mean_squared_error: 0.2560 - val_loss: 0.3035 - val_mean_squared_error: 0.3035\n",
            "Epoch 242/500\n",
            "129360/129360 [==============================] - 7s 51us/step - loss: 0.2559 - mean_squared_error: 0.2559 - val_loss: 0.3037 - val_mean_squared_error: 0.3037\n",
            "Epoch 243/500\n",
            "129360/129360 [==============================] - 7s 51us/step - loss: 0.2559 - mean_squared_error: 0.2559 - val_loss: 0.3037 - val_mean_squared_error: 0.3037\n",
            "Epoch 244/500\n",
            "129360/129360 [==============================] - 7s 51us/step - loss: 0.2558 - mean_squared_error: 0.2558 - val_loss: 0.3039 - val_mean_squared_error: 0.3039\n",
            "Epoch 245/500\n",
            "129360/129360 [==============================] - 7s 51us/step - loss: 0.2557 - mean_squared_error: 0.2557 - val_loss: 0.3040 - val_mean_squared_error: 0.3040\n",
            "Epoch 246/500\n",
            "129360/129360 [==============================] - 7s 51us/step - loss: 0.2557 - mean_squared_error: 0.2557 - val_loss: 0.3036 - val_mean_squared_error: 0.3036\n",
            "Epoch 247/500\n",
            "129360/129360 [==============================] - 7s 51us/step - loss: 0.2556 - mean_squared_error: 0.2556 - val_loss: 0.3031 - val_mean_squared_error: 0.3031\n",
            "Epoch 248/500\n",
            "129360/129360 [==============================] - 7s 51us/step - loss: 0.2555 - mean_squared_error: 0.2555 - val_loss: 0.3032 - val_mean_squared_error: 0.3032\n",
            "Epoch 249/500\n",
            "129360/129360 [==============================] - 7s 50us/step - loss: 0.2555 - mean_squared_error: 0.2555 - val_loss: 0.3032 - val_mean_squared_error: 0.3032\n",
            "Epoch 250/500\n",
            "129360/129360 [==============================] - 7s 51us/step - loss: 0.2554 - mean_squared_error: 0.2554 - val_loss: 0.3046 - val_mean_squared_error: 0.3046\n",
            "Epoch 251/500\n",
            "129360/129360 [==============================] - 7s 51us/step - loss: 0.2554 - mean_squared_error: 0.2554 - val_loss: 0.3038 - val_mean_squared_error: 0.3038\n",
            "Epoch 252/500\n",
            "129360/129360 [==============================] - 7s 50us/step - loss: 0.2553 - mean_squared_error: 0.2553 - val_loss: 0.3033 - val_mean_squared_error: 0.3033\n",
            "Epoch 253/500\n",
            "129360/129360 [==============================] - 7s 51us/step - loss: 0.2553 - mean_squared_error: 0.2553 - val_loss: 0.3042 - val_mean_squared_error: 0.3042\n",
            "Epoch 254/500\n",
            "129360/129360 [==============================] - 7s 50us/step - loss: 0.2552 - mean_squared_error: 0.2552 - val_loss: 0.3030 - val_mean_squared_error: 0.3030\n",
            "Epoch 255/500\n",
            "129360/129360 [==============================] - 7s 50us/step - loss: 0.2551 - mean_squared_error: 0.2551 - val_loss: 0.3031 - val_mean_squared_error: 0.3031\n",
            "Epoch 256/500\n",
            "129360/129360 [==============================] - 7s 51us/step - loss: 0.2551 - mean_squared_error: 0.2551 - val_loss: 0.3032 - val_mean_squared_error: 0.3032\n",
            "Epoch 257/500\n",
            "129360/129360 [==============================] - 7s 51us/step - loss: 0.2549 - mean_squared_error: 0.2549 - val_loss: 0.3028 - val_mean_squared_error: 0.3028\n",
            "Epoch 258/500\n",
            "129360/129360 [==============================] - 7s 51us/step - loss: 0.2549 - mean_squared_error: 0.2549 - val_loss: 0.3031 - val_mean_squared_error: 0.3031\n",
            "Epoch 259/500\n",
            "129360/129360 [==============================] - 7s 51us/step - loss: 0.2549 - mean_squared_error: 0.2549 - val_loss: 0.3026 - val_mean_squared_error: 0.3026\n",
            "Epoch 260/500\n",
            "129360/129360 [==============================] - 7s 51us/step - loss: 0.2548 - mean_squared_error: 0.2548 - val_loss: 0.3026 - val_mean_squared_error: 0.3026\n",
            "Epoch 261/500\n",
            "129360/129360 [==============================] - 6s 50us/step - loss: 0.2548 - mean_squared_error: 0.2548 - val_loss: 0.3029 - val_mean_squared_error: 0.3029\n",
            "Epoch 262/500\n",
            "129360/129360 [==============================] - 6s 50us/step - loss: 0.2547 - mean_squared_error: 0.2547 - val_loss: 0.3030 - val_mean_squared_error: 0.3030\n",
            "Epoch 263/500\n",
            "129360/129360 [==============================] - 6s 49us/step - loss: 0.2547 - mean_squared_error: 0.2547 - val_loss: 0.3024 - val_mean_squared_error: 0.3024\n",
            "Epoch 264/500\n",
            "129360/129360 [==============================] - 6s 49us/step - loss: 0.2546 - mean_squared_error: 0.2546 - val_loss: 0.3027 - val_mean_squared_error: 0.3027\n",
            "Epoch 265/500\n",
            "129360/129360 [==============================] - 6s 49us/step - loss: 0.2545 - mean_squared_error: 0.2545 - val_loss: 0.3022 - val_mean_squared_error: 0.3022\n",
            "Epoch 266/500\n",
            "129360/129360 [==============================] - 6s 48us/step - loss: 0.2545 - mean_squared_error: 0.2545 - val_loss: 0.3022 - val_mean_squared_error: 0.3022\n",
            "Epoch 267/500\n",
            "129360/129360 [==============================] - 6s 48us/step - loss: 0.2544 - mean_squared_error: 0.2544 - val_loss: 0.3023 - val_mean_squared_error: 0.3023\n",
            "Epoch 268/500\n",
            "129360/129360 [==============================] - 6s 48us/step - loss: 0.2544 - mean_squared_error: 0.2544 - val_loss: 0.3025 - val_mean_squared_error: 0.3025\n",
            "Epoch 269/500\n",
            "129360/129360 [==============================] - 6s 48us/step - loss: 0.2543 - mean_squared_error: 0.2543 - val_loss: 0.3029 - val_mean_squared_error: 0.3029\n",
            "Epoch 270/500\n",
            "129360/129360 [==============================] - 6s 48us/step - loss: 0.2542 - mean_squared_error: 0.2542 - val_loss: 0.3022 - val_mean_squared_error: 0.3022\n",
            "Epoch 271/500\n",
            "129360/129360 [==============================] - 6s 48us/step - loss: 0.2543 - mean_squared_error: 0.2543 - val_loss: 0.3021 - val_mean_squared_error: 0.3021\n",
            "Epoch 272/500\n",
            "129360/129360 [==============================] - 6s 48us/step - loss: 0.2541 - mean_squared_error: 0.2541 - val_loss: 0.3027 - val_mean_squared_error: 0.3027\n",
            "Epoch 273/500\n",
            "129360/129360 [==============================] - 6s 48us/step - loss: 0.2541 - mean_squared_error: 0.2541 - val_loss: 0.3019 - val_mean_squared_error: 0.3019\n",
            "Epoch 274/500\n",
            "129360/129360 [==============================] - 6s 48us/step - loss: 0.2540 - mean_squared_error: 0.2540 - val_loss: 0.3023 - val_mean_squared_error: 0.3023\n",
            "Epoch 275/500\n",
            "129360/129360 [==============================] - 6s 48us/step - loss: 0.2540 - mean_squared_error: 0.2540 - val_loss: 0.3025 - val_mean_squared_error: 0.3025\n",
            "Epoch 276/500\n",
            "129360/129360 [==============================] - 6s 48us/step - loss: 0.2540 - mean_squared_error: 0.2540 - val_loss: 0.3022 - val_mean_squared_error: 0.3022\n",
            "Epoch 277/500\n",
            "129360/129360 [==============================] - 6s 48us/step - loss: 0.2539 - mean_squared_error: 0.2539 - val_loss: 0.3025 - val_mean_squared_error: 0.3025\n",
            "Epoch 278/500\n",
            "129360/129360 [==============================] - 6s 48us/step - loss: 0.2539 - mean_squared_error: 0.2539 - val_loss: 0.3031 - val_mean_squared_error: 0.3031\n",
            "Epoch 279/500\n",
            "129360/129360 [==============================] - 6s 48us/step - loss: 0.2538 - mean_squared_error: 0.2538 - val_loss: 0.3022 - val_mean_squared_error: 0.3022\n",
            "Epoch 280/500\n",
            "129360/129360 [==============================] - 6s 48us/step - loss: 0.2537 - mean_squared_error: 0.2537 - val_loss: 0.3026 - val_mean_squared_error: 0.3026\n",
            "Epoch 281/500\n",
            "129360/129360 [==============================] - 6s 48us/step - loss: 0.2537 - mean_squared_error: 0.2537 - val_loss: 0.3018 - val_mean_squared_error: 0.3018\n",
            "Epoch 282/500\n",
            "129360/129360 [==============================] - 6s 48us/step - loss: 0.2536 - mean_squared_error: 0.2536 - val_loss: 0.3023 - val_mean_squared_error: 0.3023\n",
            "Epoch 283/500\n",
            "129360/129360 [==============================] - 6s 48us/step - loss: 0.2537 - mean_squared_error: 0.2537 - val_loss: 0.3015 - val_mean_squared_error: 0.3015\n",
            "Epoch 284/500\n",
            "129360/129360 [==============================] - 6s 48us/step - loss: 0.2536 - mean_squared_error: 0.2536 - val_loss: 0.3022 - val_mean_squared_error: 0.3022\n",
            "Epoch 285/500\n",
            "129360/129360 [==============================] - 6s 48us/step - loss: 0.2535 - mean_squared_error: 0.2535 - val_loss: 0.3016 - val_mean_squared_error: 0.3016\n",
            "Epoch 286/500\n",
            "129360/129360 [==============================] - 6s 48us/step - loss: 0.2535 - mean_squared_error: 0.2535 - val_loss: 0.3021 - val_mean_squared_error: 0.3021\n",
            "Epoch 287/500\n",
            "129360/129360 [==============================] - 6s 48us/step - loss: 0.2535 - mean_squared_error: 0.2535 - val_loss: 0.3023 - val_mean_squared_error: 0.3023\n",
            "Epoch 288/500\n",
            "129360/129360 [==============================] - 6s 48us/step - loss: 0.2534 - mean_squared_error: 0.2534 - val_loss: 0.3015 - val_mean_squared_error: 0.3015\n",
            "Epoch 289/500\n",
            "129360/129360 [==============================] - 6s 48us/step - loss: 0.2534 - mean_squared_error: 0.2534 - val_loss: 0.3013 - val_mean_squared_error: 0.3013\n",
            "Epoch 290/500\n",
            "129360/129360 [==============================] - 6s 48us/step - loss: 0.2534 - mean_squared_error: 0.2534 - val_loss: 0.3017 - val_mean_squared_error: 0.3017\n",
            "Epoch 291/500\n",
            "129360/129360 [==============================] - 6s 48us/step - loss: 0.2532 - mean_squared_error: 0.2532 - val_loss: 0.3015 - val_mean_squared_error: 0.3015\n",
            "Epoch 292/500\n",
            "129360/129360 [==============================] - 6s 48us/step - loss: 0.2532 - mean_squared_error: 0.2532 - val_loss: 0.3013 - val_mean_squared_error: 0.3013\n",
            "Epoch 293/500\n",
            "129360/129360 [==============================] - 6s 48us/step - loss: 0.2532 - mean_squared_error: 0.2532 - val_loss: 0.3011 - val_mean_squared_error: 0.3011\n",
            "Epoch 294/500\n",
            "129360/129360 [==============================] - 6s 48us/step - loss: 0.2532 - mean_squared_error: 0.2532 - val_loss: 0.3011 - val_mean_squared_error: 0.3011\n",
            "Epoch 295/500\n",
            "129360/129360 [==============================] - 6s 48us/step - loss: 0.2532 - mean_squared_error: 0.2532 - val_loss: 0.3010 - val_mean_squared_error: 0.3010\n",
            "Epoch 296/500\n",
            "129360/129360 [==============================] - 6s 48us/step - loss: 0.2531 - mean_squared_error: 0.2531 - val_loss: 0.3014 - val_mean_squared_error: 0.3014\n",
            "Epoch 297/500\n",
            "129360/129360 [==============================] - 6s 48us/step - loss: 0.2530 - mean_squared_error: 0.2530 - val_loss: 0.3018 - val_mean_squared_error: 0.3018\n",
            "Epoch 298/500\n",
            "129360/129360 [==============================] - 6s 48us/step - loss: 0.2530 - mean_squared_error: 0.2530 - val_loss: 0.3015 - val_mean_squared_error: 0.3015\n",
            "Epoch 299/500\n",
            "129360/129360 [==============================] - 6s 48us/step - loss: 0.2530 - mean_squared_error: 0.2530 - val_loss: 0.3009 - val_mean_squared_error: 0.3009\n",
            "Epoch 300/500\n",
            "129360/129360 [==============================] - 6s 48us/step - loss: 0.2529 - mean_squared_error: 0.2529 - val_loss: 0.3008 - val_mean_squared_error: 0.3008\n",
            "Epoch 301/500\n",
            "129360/129360 [==============================] - 6s 48us/step - loss: 0.2529 - mean_squared_error: 0.2529 - val_loss: 0.3010 - val_mean_squared_error: 0.3010\n",
            "Epoch 302/500\n",
            "129360/129360 [==============================] - 6s 48us/step - loss: 0.2529 - mean_squared_error: 0.2529 - val_loss: 0.3008 - val_mean_squared_error: 0.3008\n",
            "Epoch 303/500\n",
            "129360/129360 [==============================] - 6s 48us/step - loss: 0.2528 - mean_squared_error: 0.2528 - val_loss: 0.3012 - val_mean_squared_error: 0.3012\n",
            "Epoch 304/500\n",
            "129360/129360 [==============================] - 6s 48us/step - loss: 0.2528 - mean_squared_error: 0.2528 - val_loss: 0.3007 - val_mean_squared_error: 0.3007\n",
            "Epoch 305/500\n",
            "129360/129360 [==============================] - 6s 48us/step - loss: 0.2527 - mean_squared_error: 0.2527 - val_loss: 0.3011 - val_mean_squared_error: 0.3011\n",
            "Epoch 306/500\n",
            "129360/129360 [==============================] - 6s 48us/step - loss: 0.2527 - mean_squared_error: 0.2527 - val_loss: 0.3004 - val_mean_squared_error: 0.3004\n",
            "Epoch 307/500\n",
            "129360/129360 [==============================] - 6s 48us/step - loss: 0.2527 - mean_squared_error: 0.2527 - val_loss: 0.3010 - val_mean_squared_error: 0.3010\n",
            "Epoch 308/500\n",
            "129360/129360 [==============================] - 6s 48us/step - loss: 0.2526 - mean_squared_error: 0.2526 - val_loss: 0.3006 - val_mean_squared_error: 0.3006\n",
            "Epoch 309/500\n",
            "129360/129360 [==============================] - 6s 48us/step - loss: 0.2526 - mean_squared_error: 0.2526 - val_loss: 0.3008 - val_mean_squared_error: 0.3008\n",
            "Epoch 310/500\n",
            "129360/129360 [==============================] - 6s 48us/step - loss: 0.2525 - mean_squared_error: 0.2525 - val_loss: 0.3013 - val_mean_squared_error: 0.3013\n",
            "Epoch 311/500\n",
            "129360/129360 [==============================] - 6s 48us/step - loss: 0.2525 - mean_squared_error: 0.2525 - val_loss: 0.3007 - val_mean_squared_error: 0.3007\n",
            "Epoch 312/500\n",
            "129360/129360 [==============================] - 6s 48us/step - loss: 0.2525 - mean_squared_error: 0.2525 - val_loss: 0.3002 - val_mean_squared_error: 0.3002\n",
            "Epoch 313/500\n",
            "129360/129360 [==============================] - 6s 48us/step - loss: 0.2524 - mean_squared_error: 0.2524 - val_loss: 0.3009 - val_mean_squared_error: 0.3009\n",
            "Epoch 314/500\n",
            "129360/129360 [==============================] - 6s 47us/step - loss: 0.2524 - mean_squared_error: 0.2524 - val_loss: 0.3006 - val_mean_squared_error: 0.3006\n",
            "Epoch 315/500\n",
            "129360/129360 [==============================] - 6s 48us/step - loss: 0.2524 - mean_squared_error: 0.2524 - val_loss: 0.3007 - val_mean_squared_error: 0.3007\n",
            "Epoch 316/500\n",
            "129360/129360 [==============================] - 6s 48us/step - loss: 0.2524 - mean_squared_error: 0.2524 - val_loss: 0.3010 - val_mean_squared_error: 0.3010\n",
            "Epoch 317/500\n",
            "129360/129360 [==============================] - 6s 48us/step - loss: 0.2523 - mean_squared_error: 0.2523 - val_loss: 0.3009 - val_mean_squared_error: 0.3009\n",
            "Epoch 318/500\n",
            "129360/129360 [==============================] - 6s 48us/step - loss: 0.2523 - mean_squared_error: 0.2523 - val_loss: 0.3005 - val_mean_squared_error: 0.3005\n",
            "Epoch 319/500\n",
            "129360/129360 [==============================] - 6s 48us/step - loss: 0.2522 - mean_squared_error: 0.2522 - val_loss: 0.3015 - val_mean_squared_error: 0.3015\n",
            "Epoch 320/500\n",
            "129360/129360 [==============================] - 6s 48us/step - loss: 0.2522 - mean_squared_error: 0.2522 - val_loss: 0.3011 - val_mean_squared_error: 0.3011\n",
            "Epoch 321/500\n",
            "129360/129360 [==============================] - 6s 48us/step - loss: 0.2522 - mean_squared_error: 0.2522 - val_loss: 0.3004 - val_mean_squared_error: 0.3004\n",
            "Epoch 322/500\n",
            "129360/129360 [==============================] - 6s 48us/step - loss: 0.2522 - mean_squared_error: 0.2522 - val_loss: 0.3003 - val_mean_squared_error: 0.3003\n",
            "Epoch 323/500\n",
            "129360/129360 [==============================] - 6s 48us/step - loss: 0.2522 - mean_squared_error: 0.2522 - val_loss: 0.3000 - val_mean_squared_error: 0.3000\n",
            "Epoch 324/500\n",
            "129360/129360 [==============================] - 6s 48us/step - loss: 0.2521 - mean_squared_error: 0.2521 - val_loss: 0.3004 - val_mean_squared_error: 0.3004\n",
            "Epoch 325/500\n",
            "129360/129360 [==============================] - 6s 47us/step - loss: 0.2521 - mean_squared_error: 0.2521 - val_loss: 0.3010 - val_mean_squared_error: 0.3010\n",
            "Epoch 326/500\n",
            "129360/129360 [==============================] - 6s 48us/step - loss: 0.2521 - mean_squared_error: 0.2521 - val_loss: 0.3000 - val_mean_squared_error: 0.3000\n",
            "Epoch 327/500\n",
            "129360/129360 [==============================] - 6s 47us/step - loss: 0.2520 - mean_squared_error: 0.2520 - val_loss: 0.3007 - val_mean_squared_error: 0.3007\n",
            "Epoch 328/500\n",
            "129360/129360 [==============================] - 6s 48us/step - loss: 0.2520 - mean_squared_error: 0.2520 - val_loss: 0.3006 - val_mean_squared_error: 0.3006\n",
            "Epoch 329/500\n",
            "129360/129360 [==============================] - 6s 48us/step - loss: 0.2519 - mean_squared_error: 0.2519 - val_loss: 0.3005 - val_mean_squared_error: 0.3005\n",
            "Epoch 330/500\n",
            "129360/129360 [==============================] - 6s 48us/step - loss: 0.2519 - mean_squared_error: 0.2519 - val_loss: 0.3002 - val_mean_squared_error: 0.3002\n",
            "Epoch 331/500\n",
            "129360/129360 [==============================] - 6s 48us/step - loss: 0.2519 - mean_squared_error: 0.2519 - val_loss: 0.3004 - val_mean_squared_error: 0.3004\n",
            "Epoch 332/500\n",
            "129360/129360 [==============================] - 6s 48us/step - loss: 0.2519 - mean_squared_error: 0.2519 - val_loss: 0.3009 - val_mean_squared_error: 0.3009\n",
            "Epoch 333/500\n",
            "129360/129360 [==============================] - 6s 48us/step - loss: 0.2518 - mean_squared_error: 0.2518 - val_loss: 0.3002 - val_mean_squared_error: 0.3002\n",
            "Epoch 334/500\n",
            "129360/129360 [==============================] - 6s 48us/step - loss: 0.2518 - mean_squared_error: 0.2518 - val_loss: 0.3002 - val_mean_squared_error: 0.3002\n",
            "Epoch 335/500\n",
            "129360/129360 [==============================] - 6s 48us/step - loss: 0.2518 - mean_squared_error: 0.2518 - val_loss: 0.2998 - val_mean_squared_error: 0.2998\n",
            "Epoch 336/500\n",
            "129360/129360 [==============================] - 6s 48us/step - loss: 0.2518 - mean_squared_error: 0.2518 - val_loss: 0.2999 - val_mean_squared_error: 0.2999\n",
            "Epoch 337/500\n",
            "129360/129360 [==============================] - 6s 48us/step - loss: 0.2517 - mean_squared_error: 0.2517 - val_loss: 0.3007 - val_mean_squared_error: 0.3007\n",
            "Epoch 338/500\n",
            "129360/129360 [==============================] - 6s 48us/step - loss: 0.2517 - mean_squared_error: 0.2517 - val_loss: 0.3001 - val_mean_squared_error: 0.3001\n",
            "Epoch 339/500\n",
            "129360/129360 [==============================] - 6s 48us/step - loss: 0.2517 - mean_squared_error: 0.2517 - val_loss: 0.2998 - val_mean_squared_error: 0.2998\n",
            "Epoch 340/500\n",
            "129360/129360 [==============================] - 6s 48us/step - loss: 0.2516 - mean_squared_error: 0.2516 - val_loss: 0.2997 - val_mean_squared_error: 0.2997\n",
            "Epoch 341/500\n",
            "129360/129360 [==============================] - 6s 48us/step - loss: 0.2516 - mean_squared_error: 0.2516 - val_loss: 0.3006 - val_mean_squared_error: 0.3006\n",
            "Epoch 342/500\n",
            "129360/129360 [==============================] - 6s 48us/step - loss: 0.2516 - mean_squared_error: 0.2516 - val_loss: 0.3000 - val_mean_squared_error: 0.3000\n",
            "Epoch 343/500\n",
            "129360/129360 [==============================] - 6s 48us/step - loss: 0.2516 - mean_squared_error: 0.2516 - val_loss: 0.3003 - val_mean_squared_error: 0.3003\n",
            "Epoch 344/500\n",
            "129360/129360 [==============================] - 6s 48us/step - loss: 0.2515 - mean_squared_error: 0.2515 - val_loss: 0.3002 - val_mean_squared_error: 0.3002\n",
            "Epoch 345/500\n",
            "129360/129360 [==============================] - 6s 48us/step - loss: 0.2515 - mean_squared_error: 0.2515 - val_loss: 0.2996 - val_mean_squared_error: 0.2996\n",
            "Epoch 346/500\n",
            "129360/129360 [==============================] - 6s 48us/step - loss: 0.2515 - mean_squared_error: 0.2515 - val_loss: 0.3006 - val_mean_squared_error: 0.3006\n",
            "Epoch 347/500\n",
            "129360/129360 [==============================] - 6s 48us/step - loss: 0.2515 - mean_squared_error: 0.2515 - val_loss: 0.2997 - val_mean_squared_error: 0.2997\n",
            "Epoch 348/500\n",
            "129360/129360 [==============================] - 6s 48us/step - loss: 0.2514 - mean_squared_error: 0.2514 - val_loss: 0.3003 - val_mean_squared_error: 0.3003\n",
            "Epoch 349/500\n",
            "129360/129360 [==============================] - 6s 48us/step - loss: 0.2514 - mean_squared_error: 0.2514 - val_loss: 0.3000 - val_mean_squared_error: 0.3000\n",
            "Epoch 350/500\n",
            "129360/129360 [==============================] - 6s 48us/step - loss: 0.2514 - mean_squared_error: 0.2514 - val_loss: 0.3002 - val_mean_squared_error: 0.3002\n",
            "Epoch 351/500\n",
            "129360/129360 [==============================] - 6s 48us/step - loss: 0.2514 - mean_squared_error: 0.2514 - val_loss: 0.3000 - val_mean_squared_error: 0.3000\n",
            "Epoch 352/500\n",
            "129360/129360 [==============================] - 6s 48us/step - loss: 0.2514 - mean_squared_error: 0.2514 - val_loss: 0.3001 - val_mean_squared_error: 0.3001\n",
            "Epoch 353/500\n",
            "129360/129360 [==============================] - 6s 48us/step - loss: 0.2513 - mean_squared_error: 0.2513 - val_loss: 0.2998 - val_mean_squared_error: 0.2998\n",
            "Epoch 354/500\n",
            "129360/129360 [==============================] - 6s 48us/step - loss: 0.2513 - mean_squared_error: 0.2513 - val_loss: 0.3004 - val_mean_squared_error: 0.3004\n",
            "Epoch 355/500\n",
            "129360/129360 [==============================] - 6s 48us/step - loss: 0.2513 - mean_squared_error: 0.2513 - val_loss: 0.3000 - val_mean_squared_error: 0.3000\n",
            "Epoch 356/500\n",
            "129360/129360 [==============================] - 6s 48us/step - loss: 0.2513 - mean_squared_error: 0.2513 - val_loss: 0.2996 - val_mean_squared_error: 0.2996\n",
            "Epoch 357/500\n",
            "129360/129360 [==============================] - 6s 48us/step - loss: 0.2512 - mean_squared_error: 0.2512 - val_loss: 0.2995 - val_mean_squared_error: 0.2995\n",
            "Epoch 358/500\n",
            "129360/129360 [==============================] - 6s 48us/step - loss: 0.2512 - mean_squared_error: 0.2512 - val_loss: 0.2996 - val_mean_squared_error: 0.2996\n",
            "Epoch 359/500\n",
            "129360/129360 [==============================] - 6s 48us/step - loss: 0.2511 - mean_squared_error: 0.2511 - val_loss: 0.3002 - val_mean_squared_error: 0.3002\n",
            "Epoch 360/500\n",
            "129360/129360 [==============================] - 6s 48us/step - loss: 0.2512 - mean_squared_error: 0.2512 - val_loss: 0.2996 - val_mean_squared_error: 0.2996\n",
            "Epoch 361/500\n",
            "129360/129360 [==============================] - 6s 48us/step - loss: 0.2511 - mean_squared_error: 0.2511 - val_loss: 0.3001 - val_mean_squared_error: 0.3001\n",
            "Epoch 362/500\n",
            "129360/129360 [==============================] - 6s 48us/step - loss: 0.2512 - mean_squared_error: 0.2512 - val_loss: 0.2996 - val_mean_squared_error: 0.2996\n",
            "Epoch 363/500\n",
            "129360/129360 [==============================] - 6s 48us/step - loss: 0.2511 - mean_squared_error: 0.2511 - val_loss: 0.3003 - val_mean_squared_error: 0.3003\n",
            "Epoch 364/500\n",
            "129360/129360 [==============================] - 6s 48us/step - loss: 0.2511 - mean_squared_error: 0.2511 - val_loss: 0.2994 - val_mean_squared_error: 0.2994\n",
            "Epoch 365/500\n",
            "129360/129360 [==============================] - 6s 48us/step - loss: 0.2510 - mean_squared_error: 0.2510 - val_loss: 0.2998 - val_mean_squared_error: 0.2998\n",
            "Epoch 366/500\n",
            "129360/129360 [==============================] - 6s 48us/step - loss: 0.2510 - mean_squared_error: 0.2510 - val_loss: 0.2991 - val_mean_squared_error: 0.2991\n",
            "Epoch 367/500\n",
            "129360/129360 [==============================] - 6s 48us/step - loss: 0.2510 - mean_squared_error: 0.2510 - val_loss: 0.2997 - val_mean_squared_error: 0.2997\n",
            "Epoch 368/500\n",
            "129360/129360 [==============================] - 6s 48us/step - loss: 0.2509 - mean_squared_error: 0.2509 - val_loss: 0.2998 - val_mean_squared_error: 0.2998\n",
            "Epoch 369/500\n",
            "129360/129360 [==============================] - 6s 48us/step - loss: 0.2510 - mean_squared_error: 0.2510 - val_loss: 0.3001 - val_mean_squared_error: 0.3001\n",
            "Epoch 370/500\n",
            "129360/129360 [==============================] - 6s 48us/step - loss: 0.2510 - mean_squared_error: 0.2510 - val_loss: 0.2994 - val_mean_squared_error: 0.2994\n",
            "Epoch 371/500\n",
            "129360/129360 [==============================] - 6s 48us/step - loss: 0.2509 - mean_squared_error: 0.2509 - val_loss: 0.3002 - val_mean_squared_error: 0.3002\n",
            "Epoch 372/500\n",
            "129360/129360 [==============================] - 6s 48us/step - loss: 0.2509 - mean_squared_error: 0.2509 - val_loss: 0.3007 - val_mean_squared_error: 0.3007\n",
            "Epoch 373/500\n",
            "129360/129360 [==============================] - 6s 48us/step - loss: 0.2509 - mean_squared_error: 0.2509 - val_loss: 0.2997 - val_mean_squared_error: 0.2997\n",
            "Epoch 374/500\n",
            "129360/129360 [==============================] - 6s 48us/step - loss: 0.2509 - mean_squared_error: 0.2509 - val_loss: 0.2996 - val_mean_squared_error: 0.2996\n",
            "Epoch 375/500\n",
            "129360/129360 [==============================] - 6s 48us/step - loss: 0.2509 - mean_squared_error: 0.2509 - val_loss: 0.2996 - val_mean_squared_error: 0.2996\n",
            "Epoch 376/500\n",
            "129360/129360 [==============================] - 6s 48us/step - loss: 0.2508 - mean_squared_error: 0.2508 - val_loss: 0.2995 - val_mean_squared_error: 0.2995\n",
            "Epoch 377/500\n",
            "129360/129360 [==============================] - 6s 48us/step - loss: 0.2508 - mean_squared_error: 0.2508 - val_loss: 0.2986 - val_mean_squared_error: 0.2986\n",
            "Epoch 378/500\n",
            "129360/129360 [==============================] - 6s 48us/step - loss: 0.2507 - mean_squared_error: 0.2507 - val_loss: 0.2992 - val_mean_squared_error: 0.2992\n",
            "Epoch 379/500\n",
            "129360/129360 [==============================] - 6s 48us/step - loss: 0.2508 - mean_squared_error: 0.2508 - val_loss: 0.2994 - val_mean_squared_error: 0.2994\n",
            "Epoch 380/500\n",
            "129360/129360 [==============================] - 6s 48us/step - loss: 0.2507 - mean_squared_error: 0.2507 - val_loss: 0.3000 - val_mean_squared_error: 0.3000\n",
            "Epoch 381/500\n",
            "129360/129360 [==============================] - 6s 48us/step - loss: 0.2508 - mean_squared_error: 0.2508 - val_loss: 0.2992 - val_mean_squared_error: 0.2992\n",
            "Epoch 382/500\n",
            "129360/129360 [==============================] - 6s 48us/step - loss: 0.2507 - mean_squared_error: 0.2507 - val_loss: 0.2997 - val_mean_squared_error: 0.2997\n",
            "Epoch 383/500\n",
            "129360/129360 [==============================] - 6s 48us/step - loss: 0.2507 - mean_squared_error: 0.2507 - val_loss: 0.2991 - val_mean_squared_error: 0.2991\n",
            "Epoch 384/500\n",
            "129360/129360 [==============================] - 6s 48us/step - loss: 0.2507 - mean_squared_error: 0.2507 - val_loss: 0.2995 - val_mean_squared_error: 0.2995\n",
            "Epoch 385/500\n",
            "129360/129360 [==============================] - 6s 47us/step - loss: 0.2507 - mean_squared_error: 0.2507 - val_loss: 0.2999 - val_mean_squared_error: 0.2999\n",
            "Epoch 386/500\n",
            "129360/129360 [==============================] - 6s 48us/step - loss: 0.2506 - mean_squared_error: 0.2506 - val_loss: 0.2991 - val_mean_squared_error: 0.2991\n",
            "Epoch 387/500\n",
            "129360/129360 [==============================] - 6s 48us/step - loss: 0.2506 - mean_squared_error: 0.2506 - val_loss: 0.2993 - val_mean_squared_error: 0.2993\n",
            "Epoch 388/500\n",
            "129360/129360 [==============================] - 6s 48us/step - loss: 0.2506 - mean_squared_error: 0.2506 - val_loss: 0.3001 - val_mean_squared_error: 0.3001\n",
            "Epoch 389/500\n",
            "129360/129360 [==============================] - 6s 48us/step - loss: 0.2506 - mean_squared_error: 0.2506 - val_loss: 0.2994 - val_mean_squared_error: 0.2994\n",
            "Epoch 390/500\n",
            "129360/129360 [==============================] - 6s 48us/step - loss: 0.2506 - mean_squared_error: 0.2506 - val_loss: 0.2985 - val_mean_squared_error: 0.2985\n",
            "Epoch 391/500\n",
            "129360/129360 [==============================] - 6s 48us/step - loss: 0.2505 - mean_squared_error: 0.2505 - val_loss: 0.2996 - val_mean_squared_error: 0.2996\n",
            "Epoch 392/500\n",
            "129360/129360 [==============================] - 6s 48us/step - loss: 0.2505 - mean_squared_error: 0.2505 - val_loss: 0.2988 - val_mean_squared_error: 0.2988\n",
            "Epoch 393/500\n",
            "129360/129360 [==============================] - 6s 48us/step - loss: 0.2506 - mean_squared_error: 0.2506 - val_loss: 0.2993 - val_mean_squared_error: 0.2993\n",
            "Epoch 394/500\n",
            "129360/129360 [==============================] - 6s 48us/step - loss: 0.2505 - mean_squared_error: 0.2505 - val_loss: 0.2994 - val_mean_squared_error: 0.2994\n",
            "Epoch 395/500\n",
            "129360/129360 [==============================] - 6s 48us/step - loss: 0.2505 - mean_squared_error: 0.2505 - val_loss: 0.2992 - val_mean_squared_error: 0.2992\n",
            "Epoch 396/500\n",
            "129360/129360 [==============================] - 6s 48us/step - loss: 0.2505 - mean_squared_error: 0.2505 - val_loss: 0.2988 - val_mean_squared_error: 0.2988\n",
            "Epoch 397/500\n",
            "129360/129360 [==============================] - 6s 48us/step - loss: 0.2505 - mean_squared_error: 0.2505 - val_loss: 0.2991 - val_mean_squared_error: 0.2991\n",
            "Epoch 398/500\n",
            "129360/129360 [==============================] - 6s 48us/step - loss: 0.2504 - mean_squared_error: 0.2504 - val_loss: 0.2994 - val_mean_squared_error: 0.2994\n",
            "Epoch 399/500\n",
            "129360/129360 [==============================] - 6s 48us/step - loss: 0.2504 - mean_squared_error: 0.2504 - val_loss: 0.2989 - val_mean_squared_error: 0.2989\n",
            "Epoch 400/500\n",
            "129360/129360 [==============================] - 6s 48us/step - loss: 0.2504 - mean_squared_error: 0.2504 - val_loss: 0.2984 - val_mean_squared_error: 0.2984\n",
            "Epoch 401/500\n",
            "129360/129360 [==============================] - 6s 48us/step - loss: 0.2504 - mean_squared_error: 0.2504 - val_loss: 0.2990 - val_mean_squared_error: 0.2990\n",
            "Epoch 402/500\n",
            "129360/129360 [==============================] - 6s 48us/step - loss: 0.2504 - mean_squared_error: 0.2504 - val_loss: 0.2991 - val_mean_squared_error: 0.2991\n",
            "Epoch 403/500\n",
            "129360/129360 [==============================] - 6s 48us/step - loss: 0.2503 - mean_squared_error: 0.2503 - val_loss: 0.2984 - val_mean_squared_error: 0.2984\n",
            "Epoch 404/500\n",
            "129360/129360 [==============================] - 6s 48us/step - loss: 0.2503 - mean_squared_error: 0.2503 - val_loss: 0.2987 - val_mean_squared_error: 0.2987\n",
            "Epoch 405/500\n",
            "129360/129360 [==============================] - 6s 47us/step - loss: 0.2503 - mean_squared_error: 0.2503 - val_loss: 0.2985 - val_mean_squared_error: 0.2985\n",
            "Epoch 406/500\n",
            "129360/129360 [==============================] - 6s 48us/step - loss: 0.2503 - mean_squared_error: 0.2503 - val_loss: 0.2987 - val_mean_squared_error: 0.2987\n",
            "Epoch 407/500\n",
            "129360/129360 [==============================] - 6s 48us/step - loss: 0.2503 - mean_squared_error: 0.2503 - val_loss: 0.2989 - val_mean_squared_error: 0.2989\n",
            "Epoch 408/500\n",
            "129360/129360 [==============================] - 6s 48us/step - loss: 0.2502 - mean_squared_error: 0.2502 - val_loss: 0.2993 - val_mean_squared_error: 0.2993\n",
            "Epoch 409/500\n",
            "129360/129360 [==============================] - 6s 48us/step - loss: 0.2503 - mean_squared_error: 0.2503 - val_loss: 0.2994 - val_mean_squared_error: 0.2994\n",
            "Epoch 410/500\n",
            "129360/129360 [==============================] - 6s 48us/step - loss: 0.2503 - mean_squared_error: 0.2503 - val_loss: 0.3001 - val_mean_squared_error: 0.3001\n",
            "Epoch 411/500\n",
            "129360/129360 [==============================] - 6s 48us/step - loss: 0.2503 - mean_squared_error: 0.2503 - val_loss: 0.2986 - val_mean_squared_error: 0.2986\n",
            "Epoch 412/500\n",
            "129360/129360 [==============================] - 6s 48us/step - loss: 0.2502 - mean_squared_error: 0.2502 - val_loss: 0.2994 - val_mean_squared_error: 0.2994\n",
            "Epoch 413/500\n",
            "129360/129360 [==============================] - 6s 48us/step - loss: 0.2502 - mean_squared_error: 0.2502 - val_loss: 0.2985 - val_mean_squared_error: 0.2985\n",
            "Epoch 414/500\n",
            "129360/129360 [==============================] - 6s 48us/step - loss: 0.2502 - mean_squared_error: 0.2502 - val_loss: 0.2990 - val_mean_squared_error: 0.2990\n",
            "Epoch 415/500\n",
            "129360/129360 [==============================] - 6s 48us/step - loss: 0.2502 - mean_squared_error: 0.2502 - val_loss: 0.2996 - val_mean_squared_error: 0.2996\n",
            "Epoch 416/500\n",
            "129360/129360 [==============================] - 6s 48us/step - loss: 0.2502 - mean_squared_error: 0.2502 - val_loss: 0.2997 - val_mean_squared_error: 0.2997\n",
            "Epoch 417/500\n",
            "129360/129360 [==============================] - 6s 48us/step - loss: 0.2502 - mean_squared_error: 0.2502 - val_loss: 0.2985 - val_mean_squared_error: 0.2985\n",
            "Epoch 418/500\n",
            "129360/129360 [==============================] - 6s 48us/step - loss: 0.2501 - mean_squared_error: 0.2501 - val_loss: 0.2990 - val_mean_squared_error: 0.2990\n",
            "Epoch 419/500\n",
            "129360/129360 [==============================] - 6s 48us/step - loss: 0.2501 - mean_squared_error: 0.2501 - val_loss: 0.2992 - val_mean_squared_error: 0.2992\n",
            "Epoch 420/500\n",
            "129360/129360 [==============================] - 6s 48us/step - loss: 0.2501 - mean_squared_error: 0.2501 - val_loss: 0.2990 - val_mean_squared_error: 0.2990\n",
            "Epoch 421/500\n",
            "129360/129360 [==============================] - 6s 47us/step - loss: 0.2501 - mean_squared_error: 0.2501 - val_loss: 0.2988 - val_mean_squared_error: 0.2988\n",
            "Epoch 422/500\n",
            "129360/129360 [==============================] - 6s 47us/step - loss: 0.2501 - mean_squared_error: 0.2501 - val_loss: 0.2985 - val_mean_squared_error: 0.2985\n",
            "Epoch 423/500\n",
            "129360/129360 [==============================] - 6s 47us/step - loss: 0.2501 - mean_squared_error: 0.2501 - val_loss: 0.2984 - val_mean_squared_error: 0.2984\n",
            "Epoch 424/500\n",
            "129360/129360 [==============================] - 6s 47us/step - loss: 0.2501 - mean_squared_error: 0.2501 - val_loss: 0.2984 - val_mean_squared_error: 0.2984\n",
            "Epoch 425/500\n",
            "129360/129360 [==============================] - 6s 48us/step - loss: 0.2500 - mean_squared_error: 0.2500 - val_loss: 0.2987 - val_mean_squared_error: 0.2987\n",
            "Epoch 426/500\n",
            "129360/129360 [==============================] - 6s 48us/step - loss: 0.2500 - mean_squared_error: 0.2500 - val_loss: 0.2988 - val_mean_squared_error: 0.2988\n",
            "Epoch 427/500\n",
            "129360/129360 [==============================] - 6s 48us/step - loss: 0.2500 - mean_squared_error: 0.2500 - val_loss: 0.2987 - val_mean_squared_error: 0.2987\n",
            "Epoch 428/500\n",
            "129360/129360 [==============================] - 6s 48us/step - loss: 0.2500 - mean_squared_error: 0.2500 - val_loss: 0.2988 - val_mean_squared_error: 0.2988\n",
            "Epoch 429/500\n",
            "129360/129360 [==============================] - 6s 48us/step - loss: 0.2500 - mean_squared_error: 0.2500 - val_loss: 0.2985 - val_mean_squared_error: 0.2985\n",
            "Epoch 430/500\n",
            "129360/129360 [==============================] - 6s 48us/step - loss: 0.2499 - mean_squared_error: 0.2499 - val_loss: 0.2986 - val_mean_squared_error: 0.2986\n",
            "Epoch 431/500\n",
            "129360/129360 [==============================] - 6s 48us/step - loss: 0.2500 - mean_squared_error: 0.2500 - val_loss: 0.2992 - val_mean_squared_error: 0.2992\n",
            "Epoch 432/500\n",
            "129360/129360 [==============================] - 6s 48us/step - loss: 0.2499 - mean_squared_error: 0.2499 - val_loss: 0.2986 - val_mean_squared_error: 0.2986\n",
            "Epoch 433/500\n",
            "129360/129360 [==============================] - 6s 48us/step - loss: 0.2499 - mean_squared_error: 0.2499 - val_loss: 0.2987 - val_mean_squared_error: 0.2987\n",
            "Epoch 434/500\n",
            "129360/129360 [==============================] - 6s 47us/step - loss: 0.2499 - mean_squared_error: 0.2499 - val_loss: 0.2992 - val_mean_squared_error: 0.2992\n",
            "Epoch 435/500\n",
            "129360/129360 [==============================] - 6s 48us/step - loss: 0.2499 - mean_squared_error: 0.2499 - val_loss: 0.2983 - val_mean_squared_error: 0.2983\n",
            "Epoch 436/500\n",
            "129360/129360 [==============================] - 6s 48us/step - loss: 0.2499 - mean_squared_error: 0.2499 - val_loss: 0.2985 - val_mean_squared_error: 0.2985\n",
            "Epoch 437/500\n",
            "129360/129360 [==============================] - 6s 48us/step - loss: 0.2498 - mean_squared_error: 0.2498 - val_loss: 0.2986 - val_mean_squared_error: 0.2986\n",
            "Epoch 438/500\n",
            "129360/129360 [==============================] - 6s 48us/step - loss: 0.2499 - mean_squared_error: 0.2499 - val_loss: 0.2985 - val_mean_squared_error: 0.2985\n",
            "Epoch 439/500\n",
            "129360/129360 [==============================] - 6s 48us/step - loss: 0.2499 - mean_squared_error: 0.2499 - val_loss: 0.2988 - val_mean_squared_error: 0.2988\n",
            "Epoch 440/500\n",
            "129360/129360 [==============================] - 6s 48us/step - loss: 0.2498 - mean_squared_error: 0.2498 - val_loss: 0.2987 - val_mean_squared_error: 0.2987\n",
            "Epoch 441/500\n",
            "129360/129360 [==============================] - 6s 48us/step - loss: 0.2498 - mean_squared_error: 0.2498 - val_loss: 0.2984 - val_mean_squared_error: 0.2984\n",
            "Epoch 442/500\n",
            "129360/129360 [==============================] - 6s 48us/step - loss: 0.2498 - mean_squared_error: 0.2498 - val_loss: 0.2992 - val_mean_squared_error: 0.2992\n",
            "Epoch 443/500\n",
            "129360/129360 [==============================] - 6s 47us/step - loss: 0.2498 - mean_squared_error: 0.2498 - val_loss: 0.2990 - val_mean_squared_error: 0.2990\n",
            "Epoch 444/500\n",
            "129360/129360 [==============================] - 6s 48us/step - loss: 0.2498 - mean_squared_error: 0.2498 - val_loss: 0.2988 - val_mean_squared_error: 0.2988\n",
            "Epoch 445/500\n",
            "129360/129360 [==============================] - 6s 47us/step - loss: 0.2498 - mean_squared_error: 0.2498 - val_loss: 0.2987 - val_mean_squared_error: 0.2987\n",
            "Epoch 446/500\n",
            "129360/129360 [==============================] - 6s 48us/step - loss: 0.2498 - mean_squared_error: 0.2498 - val_loss: 0.2988 - val_mean_squared_error: 0.2988\n",
            "Epoch 447/500\n",
            "129360/129360 [==============================] - 6s 48us/step - loss: 0.2498 - mean_squared_error: 0.2498 - val_loss: 0.2986 - val_mean_squared_error: 0.2986\n",
            "Epoch 448/500\n",
            "129360/129360 [==============================] - 6s 48us/step - loss: 0.2497 - mean_squared_error: 0.2497 - val_loss: 0.2987 - val_mean_squared_error: 0.2987\n",
            "Epoch 449/500\n",
            "129360/129360 [==============================] - 6s 48us/step - loss: 0.2497 - mean_squared_error: 0.2497 - val_loss: 0.2990 - val_mean_squared_error: 0.2990\n",
            "Epoch 450/500\n",
            "129360/129360 [==============================] - 6s 48us/step - loss: 0.2497 - mean_squared_error: 0.2497 - val_loss: 0.2991 - val_mean_squared_error: 0.2991\n",
            "Epoch 451/500\n",
            "129360/129360 [==============================] - 6s 48us/step - loss: 0.2497 - mean_squared_error: 0.2497 - val_loss: 0.2985 - val_mean_squared_error: 0.2985\n",
            "Epoch 452/500\n",
            "129360/129360 [==============================] - 6s 48us/step - loss: 0.2497 - mean_squared_error: 0.2497 - val_loss: 0.2987 - val_mean_squared_error: 0.2987\n",
            "Epoch 453/500\n",
            "129360/129360 [==============================] - 6s 48us/step - loss: 0.2497 - mean_squared_error: 0.2497 - val_loss: 0.2984 - val_mean_squared_error: 0.2984\n",
            "Epoch 454/500\n",
            "129360/129360 [==============================] - 6s 48us/step - loss: 0.2497 - mean_squared_error: 0.2497 - val_loss: 0.2986 - val_mean_squared_error: 0.2986\n",
            "Epoch 455/500\n",
            "129360/129360 [==============================] - 6s 47us/step - loss: 0.2496 - mean_squared_error: 0.2496 - val_loss: 0.2981 - val_mean_squared_error: 0.2981\n",
            "Epoch 456/500\n",
            "129360/129360 [==============================] - 6s 48us/step - loss: 0.2497 - mean_squared_error: 0.2497 - val_loss: 0.2982 - val_mean_squared_error: 0.2982\n",
            "Epoch 457/500\n",
            "129360/129360 [==============================] - 6s 48us/step - loss: 0.2496 - mean_squared_error: 0.2496 - val_loss: 0.2983 - val_mean_squared_error: 0.2983\n",
            "Epoch 458/500\n",
            "129360/129360 [==============================] - 6s 47us/step - loss: 0.2497 - mean_squared_error: 0.2497 - val_loss: 0.2983 - val_mean_squared_error: 0.2983\n",
            "Epoch 459/500\n",
            "129360/129360 [==============================] - 6s 48us/step - loss: 0.2496 - mean_squared_error: 0.2496 - val_loss: 0.2981 - val_mean_squared_error: 0.2981\n",
            "Epoch 460/500\n",
            "129360/129360 [==============================] - 6s 47us/step - loss: 0.2496 - mean_squared_error: 0.2496 - val_loss: 0.2983 - val_mean_squared_error: 0.2983\n",
            "Epoch 461/500\n",
            "129360/129360 [==============================] - 6s 48us/step - loss: 0.2496 - mean_squared_error: 0.2496 - val_loss: 0.2984 - val_mean_squared_error: 0.2984\n",
            "Epoch 462/500\n",
            "129360/129360 [==============================] - 6s 47us/step - loss: 0.2496 - mean_squared_error: 0.2496 - val_loss: 0.2985 - val_mean_squared_error: 0.2985\n",
            "Epoch 463/500\n",
            "129360/129360 [==============================] - 6s 47us/step - loss: 0.2496 - mean_squared_error: 0.2496 - val_loss: 0.2982 - val_mean_squared_error: 0.2982\n",
            "Epoch 464/500\n",
            "129360/129360 [==============================] - 6s 48us/step - loss: 0.2495 - mean_squared_error: 0.2495 - val_loss: 0.2984 - val_mean_squared_error: 0.2984\n",
            "Epoch 465/500\n",
            "129360/129360 [==============================] - 6s 47us/step - loss: 0.2495 - mean_squared_error: 0.2495 - val_loss: 0.2981 - val_mean_squared_error: 0.2981\n",
            "Epoch 466/500\n",
            "129360/129360 [==============================] - 6s 47us/step - loss: 0.2496 - mean_squared_error: 0.2496 - val_loss: 0.2988 - val_mean_squared_error: 0.2988\n",
            "Epoch 467/500\n",
            "129360/129360 [==============================] - 6s 47us/step - loss: 0.2496 - mean_squared_error: 0.2496 - val_loss: 0.2989 - val_mean_squared_error: 0.2989\n",
            "Epoch 468/500\n",
            "129360/129360 [==============================] - 6s 47us/step - loss: 0.2495 - mean_squared_error: 0.2495 - val_loss: 0.2985 - val_mean_squared_error: 0.2985\n",
            "Epoch 469/500\n",
            "129360/129360 [==============================] - 6s 47us/step - loss: 0.2495 - mean_squared_error: 0.2495 - val_loss: 0.2984 - val_mean_squared_error: 0.2984\n",
            "Epoch 470/500\n",
            "129360/129360 [==============================] - 6s 47us/step - loss: 0.2495 - mean_squared_error: 0.2495 - val_loss: 0.2987 - val_mean_squared_error: 0.2987\n",
            "Epoch 471/500\n",
            "129360/129360 [==============================] - 6s 47us/step - loss: 0.2495 - mean_squared_error: 0.2495 - val_loss: 0.2989 - val_mean_squared_error: 0.2989\n",
            "Epoch 472/500\n",
            "129360/129360 [==============================] - 6s 47us/step - loss: 0.2495 - mean_squared_error: 0.2495 - val_loss: 0.2982 - val_mean_squared_error: 0.2982\n",
            "Epoch 473/500\n",
            "129360/129360 [==============================] - 6s 47us/step - loss: 0.2495 - mean_squared_error: 0.2495 - val_loss: 0.2985 - val_mean_squared_error: 0.2985\n",
            "Epoch 474/500\n",
            "129360/129360 [==============================] - 6s 47us/step - loss: 0.2494 - mean_squared_error: 0.2494 - val_loss: 0.2987 - val_mean_squared_error: 0.2987\n",
            "Epoch 475/500\n",
            "129360/129360 [==============================] - 6s 47us/step - loss: 0.2495 - mean_squared_error: 0.2495 - val_loss: 0.2983 - val_mean_squared_error: 0.2983\n",
            "Epoch 476/500\n",
            "129360/129360 [==============================] - 6s 47us/step - loss: 0.2494 - mean_squared_error: 0.2494 - val_loss: 0.2994 - val_mean_squared_error: 0.2994\n",
            "Epoch 477/500\n",
            "129360/129360 [==============================] - 6s 47us/step - loss: 0.2495 - mean_squared_error: 0.2495 - val_loss: 0.2980 - val_mean_squared_error: 0.2980\n",
            "Epoch 478/500\n",
            "129360/129360 [==============================] - 6s 47us/step - loss: 0.2494 - mean_squared_error: 0.2494 - val_loss: 0.2993 - val_mean_squared_error: 0.2993\n",
            "Epoch 479/500\n",
            "129360/129360 [==============================] - 6s 48us/step - loss: 0.2495 - mean_squared_error: 0.2495 - val_loss: 0.2985 - val_mean_squared_error: 0.2985\n",
            "Epoch 480/500\n",
            "129360/129360 [==============================] - 6s 47us/step - loss: 0.2494 - mean_squared_error: 0.2494 - val_loss: 0.2980 - val_mean_squared_error: 0.2980\n",
            "Epoch 481/500\n",
            "129360/129360 [==============================] - 6s 47us/step - loss: 0.2494 - mean_squared_error: 0.2494 - val_loss: 0.2987 - val_mean_squared_error: 0.2987\n",
            "Epoch 482/500\n",
            "129360/129360 [==============================] - 6s 47us/step - loss: 0.2494 - mean_squared_error: 0.2494 - val_loss: 0.2985 - val_mean_squared_error: 0.2985\n",
            "Epoch 483/500\n",
            "129360/129360 [==============================] - 6s 47us/step - loss: 0.2494 - mean_squared_error: 0.2494 - val_loss: 0.2983 - val_mean_squared_error: 0.2983\n",
            "Epoch 484/500\n",
            "129360/129360 [==============================] - 6s 47us/step - loss: 0.2494 - mean_squared_error: 0.2494 - val_loss: 0.2982 - val_mean_squared_error: 0.2982\n",
            "Epoch 485/500\n",
            "129360/129360 [==============================] - 6s 47us/step - loss: 0.2493 - mean_squared_error: 0.2493 - val_loss: 0.2990 - val_mean_squared_error: 0.2990\n",
            "Epoch 486/500\n",
            "129360/129360 [==============================] - 6s 47us/step - loss: 0.2494 - mean_squared_error: 0.2494 - val_loss: 0.2987 - val_mean_squared_error: 0.2987\n",
            "Epoch 487/500\n",
            "129360/129360 [==============================] - 6s 47us/step - loss: 0.2494 - mean_squared_error: 0.2494 - val_loss: 0.2989 - val_mean_squared_error: 0.2989\n",
            "Epoch 488/500\n",
            "129360/129360 [==============================] - 6s 48us/step - loss: 0.2493 - mean_squared_error: 0.2493 - val_loss: 0.2987 - val_mean_squared_error: 0.2987\n",
            "Epoch 489/500\n",
            "129360/129360 [==============================] - 6s 48us/step - loss: 0.2493 - mean_squared_error: 0.2493 - val_loss: 0.2984 - val_mean_squared_error: 0.2984\n",
            "Epoch 490/500\n",
            "129360/129360 [==============================] - 6s 47us/step - loss: 0.2494 - mean_squared_error: 0.2494 - val_loss: 0.2979 - val_mean_squared_error: 0.2979\n",
            "Epoch 491/500\n",
            "129360/129360 [==============================] - 6s 47us/step - loss: 0.2493 - mean_squared_error: 0.2493 - val_loss: 0.2986 - val_mean_squared_error: 0.2986\n",
            "Epoch 492/500\n",
            "129360/129360 [==============================] - 6s 47us/step - loss: 0.2494 - mean_squared_error: 0.2494 - val_loss: 0.2988 - val_mean_squared_error: 0.2988\n",
            "Epoch 493/500\n",
            "129360/129360 [==============================] - 6s 47us/step - loss: 0.2493 - mean_squared_error: 0.2493 - val_loss: 0.2983 - val_mean_squared_error: 0.2983\n",
            "Epoch 494/500\n",
            "129360/129360 [==============================] - 6s 47us/step - loss: 0.2493 - mean_squared_error: 0.2493 - val_loss: 0.2986 - val_mean_squared_error: 0.2986\n",
            "Epoch 495/500\n",
            "129360/129360 [==============================] - 6s 47us/step - loss: 0.2493 - mean_squared_error: 0.2493 - val_loss: 0.2989 - val_mean_squared_error: 0.2989\n",
            "Epoch 496/500\n",
            "129360/129360 [==============================] - 6s 47us/step - loss: 0.2493 - mean_squared_error: 0.2493 - val_loss: 0.2976 - val_mean_squared_error: 0.2976\n",
            "Epoch 497/500\n",
            "129360/129360 [==============================] - 6s 47us/step - loss: 0.2493 - mean_squared_error: 0.2493 - val_loss: 0.2987 - val_mean_squared_error: 0.2987\n",
            "Epoch 498/500\n",
            "129360/129360 [==============================] - 6s 47us/step - loss: 0.2493 - mean_squared_error: 0.2493 - val_loss: 0.2989 - val_mean_squared_error: 0.2989\n",
            "Epoch 499/500\n",
            "129360/129360 [==============================] - 6s 47us/step - loss: 0.2493 - mean_squared_error: 0.2493 - val_loss: 0.2980 - val_mean_squared_error: 0.2980\n",
            "Epoch 500/500\n",
            "129360/129360 [==============================] - 6s 47us/step - loss: 0.2493 - mean_squared_error: 0.2493 - val_loss: 0.2991 - val_mean_squared_error: 0.2991\n"
          ],
          "name": "stdout"
        },
        {
          "output_type": "execute_result",
          "data": {
            "text/plain": [
              "' , checkpoint_callback '"
            ]
          },
          "metadata": {
            "tags": []
          },
          "execution_count": 61
        }
      ]
    },
    {
      "cell_type": "code",
      "metadata": {
        "id": "kyXHWhtNToAJ",
        "colab_type": "code",
        "outputId": "db7d8748-d0a2-456f-f9ec-bf817d04fade",
        "colab": {
          "base_uri": "https://localhost:8080/",
          "height": 34
        }
      },
      "source": [
        "!ls -a"
      ],
      "execution_count": 0,
      "outputs": [
        {
          "output_type": "stream",
          "text": [
            ".  ..  1filtered.mat  .config  drive  sample_data\n"
          ],
          "name": "stdout"
        }
      ]
    },
    {
      "cell_type": "code",
      "metadata": {
        "id": "VFEu_ATOistV",
        "colab_type": "code",
        "outputId": "7bd8739d-8582-4669-837a-9a41993ece47",
        "colab": {
          "base_uri": "https://localhost:8080/",
          "height": 34
        }
      },
      "source": [
        "\n",
        "\n",
        "#Evaluate model on Test Data -\n",
        "predictions = model.predict(test_X, verbose = True)\n",
        "\n"
      ],
      "execution_count": 62,
      "outputs": [
        {
          "output_type": "stream",
          "text": [
            "15960/15960 [==============================] - 1s 63us/step\n"
          ],
          "name": "stdout"
        }
      ]
    },
    {
      "cell_type": "code",
      "metadata": {
        "id": "ih97ufFL-5JM",
        "colab_type": "code",
        "outputId": "84bdcd5c-d953-4450-8879-1cf80c5a3544",
        "colab": {
          "base_uri": "https://localhost:8080/",
          "height": 238
        }
      },
      "source": [
        "predictions"
      ],
      "execution_count": 63,
      "outputs": [
        {
          "output_type": "execute_result",
          "data": {
            "text/plain": [
              "array([[-2.209944  , -1.4649423 , -0.8654784 , ...,  0.93365616,\n",
              "         0.70403135,  0.40972492],\n",
              "       [-1.3932039 , -0.54548347, -0.8328786 , ...,  0.3655109 ,\n",
              "         0.6672237 ,  0.01271074],\n",
              "       [-1.2733083 , -0.21069139, -0.06980838, ...,  0.56529117,\n",
              "         0.621942  ,  0.3222021 ],\n",
              "       ...,\n",
              "       [ 0.26892856,  0.16260569, -0.50801325, ...,  0.6624421 ,\n",
              "         0.592831  ,  0.5409178 ],\n",
              "       [ 0.15305403,  0.20448679,  0.35964134, ...,  0.3641561 ,\n",
              "        -0.05693873,  0.08579798],\n",
              "       [ 1.1968786 ,  1.0835125 ,  0.5572194 , ...,  0.00299196,\n",
              "        -0.11562873,  0.11294027]], dtype=float32)"
            ]
          },
          "metadata": {
            "tags": []
          },
          "execution_count": 63
        }
      ]
    },
    {
      "cell_type": "code",
      "metadata": {
        "id": "3VwzNESv-n7y",
        "colab_type": "code",
        "outputId": "9f558379-67a3-4361-ed51-6b213d28a2c3",
        "colab": {
          "base_uri": "https://localhost:8080/",
          "height": 238
        }
      },
      "source": [
        "\n",
        "y_test"
      ],
      "execution_count": 64,
      "outputs": [
        {
          "output_type": "execute_result",
          "data": {
            "text/plain": [
              "matrix([[-1.37352391, -1.00381515, -0.53908587, ...,  0.54353656,\n",
              "          0.74701515,  0.25281102],\n",
              "        [-0.83802018, -0.13943967, -0.44360291, ...,  0.56264081,\n",
              "          0.4679264 , -0.10779399],\n",
              "        [-1.17661046, -1.00354661, -0.20456925, ...,  0.59983515,\n",
              "          0.79661326,  0.10749336],\n",
              "        ...,\n",
              "        [ 0.97503819,  0.00976654, -0.46739198, ...,  0.44672292,\n",
              "          0.33541957,  0.45570985],\n",
              "        [ 1.81699963,  1.81624439,  0.32709376, ...,  0.28310227,\n",
              "          0.01816106,  0.22970987],\n",
              "        [ 0.45641826,  0.17364329,  0.25918084, ...,  0.33475319,\n",
              "         -0.0774835 ,  0.20166222]])"
            ]
          },
          "metadata": {
            "tags": []
          },
          "execution_count": 64
        }
      ]
    },
    {
      "cell_type": "markdown",
      "metadata": {
        "id": "HDxBtYz3o3JN",
        "colab_type": "text"
      },
      "source": [
        ""
      ]
    },
    {
      "cell_type": "code",
      "metadata": {
        "id": "Wq0U8HfOtlwa",
        "colab_type": "code",
        "outputId": "5f9a16e7-53fa-4dfe-c439-8d1a52de4da9",
        "colab": {
          "base_uri": "https://localhost:8080/",
          "height": 34
        }
      },
      "source": [
        "\n",
        "predictions.shape, y_test.shape\n",
        "\n"
      ],
      "execution_count": 65,
      "outputs": [
        {
          "output_type": "execute_result",
          "data": {
            "text/plain": [
              "((15960, 64), (15960, 64))"
            ]
          },
          "metadata": {
            "tags": []
          },
          "execution_count": 65
        }
      ]
    },
    {
      "cell_type": "code",
      "metadata": {
        "id": "ohS6HViTtpK0",
        "colab_type": "code",
        "colab": {}
      },
      "source": [
        "\n",
        "def compute_correlation(true, pred):\n",
        "    true = true.squeeze()\n",
        "    pred = pred.squeeze()\n",
        "    corr_coef = np.corrcoef(true, pred)[0, 1]\n",
        "    \n",
        "    return corr_coef \n",
        "    \n",
        "    \n",
        "    "
      ],
      "execution_count": 0,
      "outputs": []
    },
    {
      "cell_type": "code",
      "metadata": {
        "id": "BBFfHU2u1-t5",
        "colab_type": "code",
        "colab": {}
      },
      "source": [
        "model.save(\"LR_3_2_all_channels.h5\")"
      ],
      "execution_count": 0,
      "outputs": []
    },
    {
      "cell_type": "code",
      "metadata": {
        "id": "vBMZvkH788co",
        "colab_type": "code",
        "outputId": "b4c94eac-8ba3-45dc-a06d-fced2ccefe16",
        "colab": {
          "base_uri": "https://localhost:8080/",
          "height": 34
        }
      },
      "source": [
        "compute_correlation(y_test, predictions)"
      ],
      "execution_count": 0,
      "outputs": [
        {
          "output_type": "execute_result",
          "data": {
            "text/plain": [
              "0.5931331611249704"
            ]
          },
          "metadata": {
            "tags": []
          },
          "execution_count": 104
        }
      ]
    },
    {
      "cell_type": "code",
      "metadata": {
        "id": "eBfmJzB-tsDR",
        "colab_type": "code",
        "colab": {}
      },
      "source": [
        "l = []\n",
        "for i in range(len(electi)):\n",
        "  l.append(compute_correlation(y_test[:, i], predictions[:, i]))\n"
      ],
      "execution_count": 0,
      "outputs": []
    },
    {
      "cell_type": "code",
      "metadata": {
        "id": "JrKj2Dvuk1qx",
        "colab_type": "code",
        "colab": {
          "base_uri": "https://localhost:8080/",
          "height": 1000
        },
        "outputId": "4462a63c-8896-4f97-b890-c37c75afbf23"
      },
      "source": [
        "source_Y"
      ],
      "execution_count": 71,
      "outputs": [
        {
          "output_type": "execute_result",
          "data": {
            "text/plain": [
              "[1,\n",
              " 2,\n",
              " 3,\n",
              " 4,\n",
              " 5,\n",
              " 6,\n",
              " 7,\n",
              " 8,\n",
              " 9,\n",
              " 10,\n",
              " 11,\n",
              " 12,\n",
              " 13,\n",
              " 14,\n",
              " 15,\n",
              " 16,\n",
              " 17,\n",
              " 18,\n",
              " 19,\n",
              " 20,\n",
              " 21,\n",
              " 22,\n",
              " 23,\n",
              " 24,\n",
              " 25,\n",
              " 26,\n",
              " 27,\n",
              " 28,\n",
              " 29,\n",
              " 30,\n",
              " 31,\n",
              " 32,\n",
              " 33,\n",
              " 34,\n",
              " 35,\n",
              " 36,\n",
              " 37,\n",
              " 38,\n",
              " 39,\n",
              " 40,\n",
              " 41,\n",
              " 42,\n",
              " 43,\n",
              " 44,\n",
              " 45,\n",
              " 46,\n",
              " 47,\n",
              " 48,\n",
              " 49,\n",
              " 50,\n",
              " 51,\n",
              " 52,\n",
              " 53,\n",
              " 54,\n",
              " 55,\n",
              " 56,\n",
              " 57,\n",
              " 58,\n",
              " 59,\n",
              " 60,\n",
              " 61,\n",
              " 62,\n",
              " 63,\n",
              " 64]"
            ]
          },
          "metadata": {
            "tags": []
          },
          "execution_count": 71
        }
      ]
    },
    {
      "cell_type": "code",
      "metadata": {
        "id": "Kf6q_3qoj8Sv",
        "colab_type": "code",
        "colab": {
          "base_uri": "https://localhost:8080/",
          "height": 1000
        },
        "outputId": "d5f64a5d-e729-44bf-949c-ee47e661dad9"
      },
      "source": [
        "l"
      ],
      "execution_count": 68,
      "outputs": [
        {
          "output_type": "execute_result",
          "data": {
            "text/plain": [
              "[0.6772621942647694,\n",
              " 0.7436438465075206,\n",
              " 0.705987601939213,\n",
              " 0.8940107908605207,\n",
              " 0.8142947668146967,\n",
              " 0.7533914132617519,\n",
              " 0.8510966640511993,\n",
              " 0.8727217160443714,\n",
              " 0.8685823015311475,\n",
              " 0.6545666043819512,\n",
              " 0.9094019822680842,\n",
              " 0.9124864274020235,\n",
              " 0.902476439821248,\n",
              " 0.8619092374872307,\n",
              " 0.7398731666356742,\n",
              " 0.7843991667191154,\n",
              " 0.891492898757521,\n",
              " 0.9148923197844874,\n",
              " 0.9222828549587286,\n",
              " 0.9356167018895122,\n",
              " 0.5600327952730221,\n",
              " 0.9300232644938127,\n",
              " 0.8814130345241605,\n",
              " 0.8320210445746253,\n",
              " 0.9046724132326251,\n",
              " 0.906327352435722,\n",
              " 0.8911134021049512,\n",
              " 0.5736733584635088,\n",
              " 0.8270880925916071,\n",
              " 0.9402724291110328,\n",
              " 0.9336145438792876,\n",
              " 0.9018799425983274,\n",
              " 0.6897506271095343,\n",
              " 0.6018512683780847,\n",
              " 0.6231172797773635,\n",
              " 0.6359026330538757,\n",
              " 0.8329775576093773,\n",
              " 0.8987638406318955,\n",
              " 0.876354846038458,\n",
              " 0.8294121871952335,\n",
              " 0.6554207984697963,\n",
              " 0.8414426647551958,\n",
              " 0.8243730427347461,\n",
              " 0.8581982701782754,\n",
              " 0.6732431862387525,\n",
              " 0.9009072495222142,\n",
              " 0.9164612586453482,\n",
              " 0.9138872176819297,\n",
              " 0.825819122991347,\n",
              " 0.8342950862244932,\n",
              " 0.8433543037591369,\n",
              " 0.65438453561634,\n",
              " 0.7213662488980818,\n",
              " 0.8801849898208284,\n",
              " 0.9021913486229439,\n",
              " 0.9269796412190322,\n",
              " 0.9119198202528181,\n",
              " 0.4973018708262964,\n",
              " 0.906711280780897,\n",
              " 0.8686702849605635,\n",
              " 0.884452295398691,\n",
              " 0.8540388930507177,\n",
              " 0.9211852469250507,\n",
              " 0.8260182428886066]"
            ]
          },
          "metadata": {
            "tags": []
          },
          "execution_count": 68
        }
      ]
    },
    {
      "cell_type": "code",
      "metadata": {
        "id": "D28kvYbufj_X",
        "colab_type": "code",
        "outputId": "a5976e2c-199f-4164-8f4d-c4589f849505",
        "colab": {
          "base_uri": "https://localhost:8080/",
          "height": 54
        }
      },
      "source": [
        "print(l)"
      ],
      "execution_count": 0,
      "outputs": [
        {
          "output_type": "stream",
          "text": [
            "[-0.01485182725182106, 0.12109604408301108, 0.19867854025539783, 0.18753107262939583, 0.15252050727524802, 0.04160745769272624, 0.06123395551976592, 0.00717620402628215, 0.0626865728641592, 0.09696522294643181, 0.047233302087743595, 0.09689285817523503, 0.025131428543905984, -0.026840376855266596, 0.016122734410669057, -0.046151557814374425, -0.009631067459226263, 0.027516032836373053, 0.08237045084241412, 0.10047112432996462, -0.018123037811708462, 0.07615820678890813, 0.14044487432711325, 0.07247789264090947, 0.04243959103276471, 0.09490775887749253, 0.0068825050253542835, 0.06201552755410547, -0.06608588733907372, 0.14909806288296096, 0.05975865551212472, 0.10328798917187691, 0.12946932453818477, 0.20016716051017358, 0.09583644543565052, -0.02672044587386154, 0.08341514827131147, 0.046779473551693145, 0.06112239930737398, 0.036710665193143296, -0.044929897819868204, 0.05270904229558889, -0.025247123075140637, 0.0707070345268097, -0.008335951525598479, 0.014986760096424516, 0.06115110804889451, -0.012502574929024185, 0.008078977781374173, 0.027856345516691246, 0.06564328034452244, 0.008810476901193704, 0.04394514575298655, -0.033021716641077774, -0.004821974659514236, 0.06914616422525302, 0.1293722060154021, 0.15804205956331466, 0.009841397113894385, 0.06544192643514657, 0.038784788420624314, -0.027286894080308204, -0.022304002454343004, 0.0011697708940568686]\n"
          ],
          "name": "stdout"
        }
      ]
    },
    {
      "cell_type": "code",
      "metadata": {
        "id": "nM54P7DKaaeZ",
        "colab_type": "code",
        "colab": {}
      },
      "source": [
        "import pandas as pd\n",
        "a = pd.DataFrame({'R value':a1,\n",
        "              \n",
        "               }\n",
        "             )"
      ],
      "execution_count": 0,
      "outputs": []
    },
    {
      "cell_type": "code",
      "metadata": {
        "id": "7JCbTO5X80uS",
        "colab_type": "code",
        "outputId": "87ce6e1b-ed61-425e-e947-c41d886c57d6",
        "colab": {
          "base_uri": "https://localhost:8080/",
          "height": 295
        }
      },
      "source": [
        "# summarize history for loss\n",
        "plt.plot(history.history['loss'])\n",
        "plt.plot(history.history['val_loss'])\n",
        "plt.title('model loss')\n",
        "plt.ylabel('loss')\n",
        "plt.xlabel('epoch')\n",
        "plt.legend(['train', 'valid'], loc='upper right')\n",
        "plt.show()"
      ],
      "execution_count": 0,
      "outputs": [
        {
          "output_type": "display_data",
          "data": {
            "image/png": "[encoded data removed]",
            "text/plain": [
              "<Figure size 432x288 with 1 Axes>"
            ]
          },
          "metadata": {
            "tags": []
          }
        }
      ]
    },
    {
      "cell_type": "code",
      "metadata": {
        "id": "10Wjkmn5e2Dw",
        "colab_type": "code",
        "colab": {}
      },
      "source": [
        "x = x_train[:,:,0]\n"
      ],
      "execution_count": 0,
      "outputs": []
    },
    {
      "cell_type": "code",
      "metadata": {
        "id": "NBsIcZvTQ7_z",
        "colab_type": "code",
        "colab": {}
      },
      "source": [
        ""
      ],
      "execution_count": 0,
      "outputs": []
    },
    {
      "cell_type": "code",
      "metadata": {
        "id": "ZNS8skKVMxq-",
        "colab_type": "code",
        "colab": {}
      },
      "source": [
        "data = format_1[1, trials_train]"
      ],
      "execution_count": 0,
      "outputs": []
    },
    {
      "cell_type": "code",
      "metadata": {
        "id": "Rgm6j4H_U9d-",
        "colab_type": "code",
        "outputId": "94d5bc06-e2e8-4cd2-f495-88405ba27285",
        "colab": {
          "base_uri": "https://localhost:8080/",
          "height": 221
        }
      },
      "source": [
        "trials_train"
      ],
      "execution_count": 0,
      "outputs": [
        {
          "output_type": "execute_result",
          "data": {
            "text/plain": [
              "array([172, 125, 136,  99,  82,  31, 133,  44, 183, 184, 142, 121,  18,\n",
              "        89, 141,  27, 107,  49,  68, 186,  70,  92, 109,   6, 147, 124,\n",
              "       117, 161, 137,  39, 157, 159,   4,  23,  25, 145, 179, 118, 163,\n",
              "       106,  69, 187,  76, 108, 188,  32, 178,  19,  26,  72, 168, 158,\n",
              "        55,   8, 167,  11,  30,  59,  80,  95,  60, 148, 153,  45,  20,\n",
              "       152,  73,  48,  36, 100, 185, 131, 138,   3,  13,  97, 126, 171,\n",
              "       130,  54,   2,  50,  75,  83,  33, 174, 140,  79, 113, 146,  81,\n",
              "        64,  63,  46, 170,  16, 173, 156,  90, 103, 144,  29,  58,  47,\n",
              "       105, 189,  56,  34,  12, 165, 122, 119,  94,  42,  24,  37,  14,\n",
              "        65,  93,  87, 154,  77, 166, 114, 112, 160, 164,  51, 139,  84,\n",
              "       169,  85, 162,  88,  66, 155,  78,  28,   9,   1,  98, 132, 175,\n",
              "       177, 115,  96, 111,  52,  21, 180,  61, 191, 143,  10])"
            ]
          },
          "metadata": {
            "tags": []
          },
          "execution_count": 118
        }
      ]
    },
    {
      "cell_type": "code",
      "metadata": {
        "id": "Ut3bpvutNApa",
        "colab_type": "code",
        "outputId": "784aff13-d12b-4187-cb50-1b87cfbf006f",
        "colab": {
          "base_uri": "https://localhost:8080/",
          "height": 561
        }
      },
      "source": [
        "data[1, :160]"
      ],
      "execution_count": 0,
      "outputs": [
        {
          "output_type": "execute_result",
          "data": {
            "text/plain": [
              "array([ 0.33936724,  0.28924169, -0.35187274, -0.71550288, -1.74001374,\n",
              "       -0.47884704, -2.11326398, -1.79243278,  0.17691985, -0.98618014,\n",
              "       -1.50788698,  0.2036973 ,  0.55325263, -0.10670112, -0.7357539 ,\n",
              "       -1.03104191, -1.40876596, -2.48105928, -0.40281364, -0.37575863,\n",
              "       -1.63227208, -2.93212863, -1.31935213,  1.15118129,  0.6833963 ,\n",
              "       -0.27737768, -0.90996889, -0.88475467, -1.97529933, -1.73786584,\n",
              "        0.47622038,  0.30304517,  0.13885149, -0.70514677, -0.0566372 ,\n",
              "       -3.17193872, -1.32915753,  0.83206004, -0.10633784,  0.4534396 ,\n",
              "        0.10842336, -0.5566752 , -1.99304757, -1.37532708,  0.834058  ,\n",
              "        1.21755736,  1.98880432, -0.1664521 ,  0.57825288, -0.17117961,\n",
              "        0.50734906,  1.25088578,  2.14255749,  0.74809792,  0.53079781,\n",
              "       -0.80340555, -0.94213721, -0.06736458, -0.4804556 , -1.28017508,\n",
              "        0.12500746, -0.08439445, -0.15420886,  0.78960544, -0.10439255,\n",
              "        0.041153  , -0.70461412,  0.06802108,  1.47200198,  1.04054731,\n",
              "        1.61060077,  2.10403168,  1.67891174,  0.90086055, -0.32936634,\n",
              "       -0.84951745,  0.94074868,  0.76649305, -0.69369518, -0.94050141,\n",
              "        0.02955189,  0.35780749, -1.01551333, -2.21362693, -1.06515052,\n",
              "       -0.28570728, -0.5031058 , -0.05919264, -1.54538993, -0.13035421,\n",
              "        1.31941283,  1.93895194,  0.05915757, -0.13130997,  0.82039088,\n",
              "        0.08438516, -0.37185503, -0.87868838, -0.38163202, -0.59528538,\n",
              "       -0.76278462, -0.85169067,  0.25004588,  1.00274174,  0.74699159,\n",
              "       -0.03199794,  0.50287827, -0.24696585,  1.34381798,  0.22380456,\n",
              "       -1.20952134, -0.29343934, -0.98074469,  0.30584983,  0.06609608,\n",
              "       -1.34855729,  0.61854231,  0.51730783, -1.39390745, -0.96407327,\n",
              "       -1.26234673,  0.02769174,  0.67607013, -0.74243878, -0.72615732,\n",
              "        1.11910977,  1.03713058,  0.06553927, -0.42147283, -1.18977161,\n",
              "        0.24363704, -0.08886076, -0.81058651,  0.74421849,  0.73808281,\n",
              "        0.52105401,  0.88994   , -0.58953031, -0.88805536, -0.07623696,\n",
              "        0.53783028,  1.18052246,  0.84730751,  1.22012972,  0.65032936,\n",
              "       -0.83557063, -0.033679  ,  1.03163469,  0.31226448,  0.02421213,\n",
              "        1.4934674 ,  1.11377974,  1.04860129,  1.49932221,  0.11478554,\n",
              "       -0.75919063, -0.14662126,  1.28868642,  1.63666446,  2.21513783])"
            ]
          },
          "metadata": {
            "tags": []
          },
          "execution_count": 132
        }
      ]
    },
    {
      "cell_type": "code",
      "metadata": {
        "id": "DCoZSBh7UCIn",
        "colab_type": "code",
        "colab": {}
      },
      "source": [
        "y-"
      ],
      "execution_count": 0,
      "outputs": []
    },
    {
      "cell_type": "code",
      "metadata": {
        "id": "tbSizO0cQHAS",
        "colab_type": "code",
        "colab": {}
      },
      "source": [
        ""
      ],
      "execution_count": 0,
      "outputs": []
    },
    {
      "cell_type": "code",
      "metadata": {
        "id": "pZ5V9g7eMMtu",
        "colab_type": "code",
        "outputId": "ca1ba61a-a8af-41da-a6fc-d208c10e3f4a",
        "colab": {
          "base_uri": "https://localhost:8080/",
          "height": 1000
        }
      },
      "source": [
        "x[839:842]"
      ],
      "execution_count": 0,
      "outputs": [
        {
          "output_type": "execute_result",
          "data": {
            "text/plain": [
              "array([[-1.64999689,  0.17888682,  1.86832763,  0.30250068,  0.27494736,\n",
              "         0.30113592,  0.25763347,  0.65374396, -0.22232565, -1.35386553,\n",
              "         0.6868346 ,  0.38499608,  1.01850967,  1.00328054,  0.07539532,\n",
              "         1.35737712,  0.54020672,  0.58028386, -0.46710333,  1.1468984 ,\n",
              "         2.63206245,  1.93676113,  1.94380249,  1.30795602,  1.43841633,\n",
              "         0.95667292,  1.47398072,  1.82258335,  0.28554689,  1.20773205,\n",
              "         2.26368211,  1.42059799,  1.66602341,  0.88515384,  0.27721575,\n",
              "         1.08235621, -0.06705278, -0.65530997,  0.46676847, -0.76717485,\n",
              "        -2.87877969, -0.64525635, -1.32943653,  0.33660413,  0.57759756,\n",
              "         0.12296704,  0.51956768,  1.18584215,  0.89001647,  1.24568384,\n",
              "         0.37983643, -0.21917104,  0.35802177,  0.32696089, -0.76821825,\n",
              "        -2.22574909, -0.56485059, -0.00444439,  0.01904745, -0.22022178,\n",
              "         0.07149623,  0.70850172,  0.09790316,  0.1702726 ,  0.249543  ,\n",
              "        -0.99748295,  0.39160462,  0.74267484,  0.04661921, -0.06037423,\n",
              "        -0.63464635, -0.51781312, -0.97377345, -1.88394869, -1.51160529,\n",
              "        -0.8935506 , -0.84626095, -0.21701271, -0.74872717, -0.32841362,\n",
              "         0.17667992, -0.00921898, -0.93495617, -1.9521848 , -2.04944079,\n",
              "        -0.84854383, -0.86252578, -1.96144708, -0.31967731,  0.49323887,\n",
              "         0.60647506,  0.5093804 , -0.18351004, -0.19627276,  0.65088336,\n",
              "         0.5260653 ,  1.57247604,  0.63095691,  0.80594346,  0.41486362,\n",
              "        -0.33244056, -0.83547933, -0.94403819,  0.3813579 ,  0.86902868,\n",
              "        -0.76752241, -0.37638491, -0.64387853, -1.61332412,  0.02060441,\n",
              "        -1.65706308, -0.11901425,  1.01430536,  0.77832717, -0.51575426,\n",
              "        -1.8715656 , -0.45149659, -0.75023884,  0.1512993 , -0.70500693,\n",
              "        -2.00139156,  0.3480078 ,  0.17548702,  0.36439078,  0.05359122,\n",
              "         0.09185969,  1.3201867 ,  0.25259968, -1.39343693, -0.43474581,\n",
              "        -1.78167171, -0.48185116,  1.25435207,  0.880061  ,  0.6057238 ,\n",
              "         0.15809946,  0.72923325,  0.47594317, -0.42595063, -0.92100153,\n",
              "         1.23018264,  1.97872787,  1.89097577,  0.66871835,  1.42077267,\n",
              "         0.29659384, -0.32174549, -1.23382127, -0.85470429,  0.71291702,\n",
              "         0.13645138,  0.23119951,  1.69611556,  1.36997106,  1.94028853,\n",
              "         2.42844489,  1.70727112,  0.4931334 ,  2.2940478 ,  0.19932806],\n",
              "       [ 0.33936724,  0.28924169, -0.35187274, -0.71550288, -1.74001374,\n",
              "        -0.47884704, -2.11326398, -1.79243278,  0.17691985, -0.98618014,\n",
              "        -1.50788698,  0.2036973 ,  0.55325263, -0.10670112, -0.7357539 ,\n",
              "        -1.03104191, -1.40876596, -2.48105928, -0.40281364, -0.37575863,\n",
              "        -1.63227208, -2.93212863, -1.31935213,  1.15118129,  0.6833963 ,\n",
              "        -0.27737768, -0.90996889, -0.88475467, -1.97529933, -1.73786584,\n",
              "         0.47622038,  0.30304517,  0.13885149, -0.70514677, -0.0566372 ,\n",
              "        -3.17193872, -1.32915753,  0.83206004, -0.10633784,  0.4534396 ,\n",
              "         0.10842336, -0.5566752 , -1.99304757, -1.37532708,  0.834058  ,\n",
              "         1.21755736,  1.98880432, -0.1664521 ,  0.57825288, -0.17117961,\n",
              "         0.50734906,  1.25088578,  2.14255749,  0.74809792,  0.53079781,\n",
              "        -0.80340555, -0.94213721, -0.06736458, -0.4804556 , -1.28017508,\n",
              "         0.12500746, -0.08439445, -0.15420886,  0.78960544, -0.10439255,\n",
              "         0.041153  , -0.70461412,  0.06802108,  1.47200198,  1.04054731,\n",
              "         1.61060077,  2.10403168,  1.67891174,  0.90086055, -0.32936634,\n",
              "        -0.84951745,  0.94074868,  0.76649305, -0.69369518, -0.94050141,\n",
              "         0.02955189,  0.35780749, -1.01551333, -2.21362693, -1.06515052,\n",
              "        -0.28570728, -0.5031058 , -0.05919264, -1.54538993, -0.13035421,\n",
              "         1.31941283,  1.93895194,  0.05915757, -0.13130997,  0.82039088,\n",
              "         0.08438516, -0.37185503, -0.87868838, -0.38163202, -0.59528538,\n",
              "        -0.76278462, -0.85169067,  0.25004588,  1.00274174,  0.74699159,\n",
              "        -0.03199794,  0.50287827, -0.24696585,  1.34381798,  0.22380456,\n",
              "        -1.20952134, -0.29343934, -0.98074469,  0.30584983,  0.06609608,\n",
              "        -1.34855729,  0.61854231,  0.51730783, -1.39390745, -0.96407327,\n",
              "        -1.26234673,  0.02769174,  0.67607013, -0.74243878, -0.72615732,\n",
              "         1.11910977,  1.03713058,  0.06553927, -0.42147283, -1.18977161,\n",
              "         0.24363704, -0.08886076, -0.81058651,  0.74421849,  0.73808281,\n",
              "         0.52105401,  0.88994   , -0.58953031, -0.88805536, -0.07623696,\n",
              "         0.53783028,  1.18052246,  0.84730751,  1.22012972,  0.65032936,\n",
              "        -0.83557063, -0.033679  ,  1.03163469,  0.31226448,  0.02421213,\n",
              "         1.4934674 ,  1.11377974,  1.04860129,  1.49932221,  0.11478554,\n",
              "        -0.75919063, -0.14662126,  1.28868642,  1.63666446,  2.21513783],\n",
              "       [ 0.28924169, -0.35187274, -0.71550288, -1.74001374, -0.47884704,\n",
              "        -2.11326398, -1.79243278,  0.17691985, -0.98618014, -1.50788698,\n",
              "         0.2036973 ,  0.55325263, -0.10670112, -0.7357539 , -1.03104191,\n",
              "        -1.40876596, -2.48105928, -0.40281364, -0.37575863, -1.63227208,\n",
              "        -2.93212863, -1.31935213,  1.15118129,  0.6833963 , -0.27737768,\n",
              "        -0.90996889, -0.88475467, -1.97529933, -1.73786584,  0.47622038,\n",
              "         0.30304517,  0.13885149, -0.70514677, -0.0566372 , -3.17193872,\n",
              "        -1.32915753,  0.83206004, -0.10633784,  0.4534396 ,  0.10842336,\n",
              "        -0.5566752 , -1.99304757, -1.37532708,  0.834058  ,  1.21755736,\n",
              "         1.98880432, -0.1664521 ,  0.57825288, -0.17117961,  0.50734906,\n",
              "         1.25088578,  2.14255749,  0.74809792,  0.53079781, -0.80340555,\n",
              "        -0.94213721, -0.06736458, -0.4804556 , -1.28017508,  0.12500746,\n",
              "        -0.08439445, -0.15420886,  0.78960544, -0.10439255,  0.041153  ,\n",
              "        -0.70461412,  0.06802108,  1.47200198,  1.04054731,  1.61060077,\n",
              "         2.10403168,  1.67891174,  0.90086055, -0.32936634, -0.84951745,\n",
              "         0.94074868,  0.76649305, -0.69369518, -0.94050141,  0.02955189,\n",
              "         0.35780749, -1.01551333, -2.21362693, -1.06515052, -0.28570728,\n",
              "        -0.5031058 , -0.05919264, -1.54538993, -0.13035421,  1.31941283,\n",
              "         1.93895194,  0.05915757, -0.13130997,  0.82039088,  0.08438516,\n",
              "        -0.37185503, -0.87868838, -0.38163202, -0.59528538, -0.76278462,\n",
              "        -0.85169067,  0.25004588,  1.00274174,  0.74699159, -0.03199794,\n",
              "         0.50287827, -0.24696585,  1.34381798,  0.22380456, -1.20952134,\n",
              "        -0.29343934, -0.98074469,  0.30584983,  0.06609608, -1.34855729,\n",
              "         0.61854231,  0.51730783, -1.39390745, -0.96407327, -1.26234673,\n",
              "         0.02769174,  0.67607013, -0.74243878, -0.72615732,  1.11910977,\n",
              "         1.03713058,  0.06553927, -0.42147283, -1.18977161,  0.24363704,\n",
              "        -0.08886076, -0.81058651,  0.74421849,  0.73808281,  0.52105401,\n",
              "         0.88994   , -0.58953031, -0.88805536, -0.07623696,  0.53783028,\n",
              "         1.18052246,  0.84730751,  1.22012972,  0.65032936, -0.83557063,\n",
              "        -0.033679  ,  1.03163469,  0.31226448,  0.02421213,  1.4934674 ,\n",
              "         1.11377974,  1.04860129,  1.49932221,  0.11478554, -0.75919063,\n",
              "        -0.14662126,  1.28868642,  1.63666446,  2.21513783,  1.79988537]])"
            ]
          },
          "metadata": {
            "tags": []
          },
          "execution_count": 128
        }
      ]
    },
    {
      "cell_type": "code",
      "metadata": {
        "id": "HvWcwXdBL-tn",
        "colab_type": "code",
        "outputId": "89cd46a4-5db1-419c-fdd3-7bc5e8099a35",
        "colab": {
          "base_uri": "https://localhost:8080/",
          "height": 51
        }
      },
      "source": [
        "y_train[:2]"
      ],
      "execution_count": 0,
      "outputs": [
        {
          "output_type": "execute_result",
          "data": {
            "text/plain": [
              "matrix([[0.95539602],\n",
              "        [1.18836268]])"
            ]
          },
          "metadata": {
            "tags": []
          },
          "execution_count": 114
        }
      ]
    },
    {
      "cell_type": "code",
      "metadata": {
        "id": "Wcvu7hobUmW7",
        "colab_type": "code",
        "colab": {}
      },
      "source": [
        "y_"
      ],
      "execution_count": 0,
      "outputs": []
    },
    {
      "cell_type": "code",
      "metadata": {
        "id": "b50n7CJLUQCK",
        "colab_type": "code",
        "outputId": "edbf3cc6-d087-49b9-d555-cafb201c90f3",
        "colab": {
          "base_uri": "https://localhost:8080/",
          "height": 34
        }
      },
      "source": [
        "source_Y"
      ],
      "execution_count": 0,
      "outputs": [
        {
          "output_type": "execute_result",
          "data": {
            "text/plain": [
              "[1]"
            ]
          },
          "metadata": {
            "tags": []
          },
          "execution_count": 99
        }
      ]
    },
    {
      "cell_type": "code",
      "metadata": {
        "id": "OEeUGLvUjxT-",
        "colab_type": "code",
        "colab": {}
      },
      "source": [
        "def plot_predictions(batch_trials, batch_num):\n",
        "    y_true=format_1[source_Y, batch_trials, window:]     #recovery of Y true values from the dataset\n",
        "    Time = np.linspace(1, 6.25, (time_points - window))\n",
        "    \n",
        "\n",
        "    x_true = format_1[source_X, batch_trials, :]\n",
        "    y_pred = np.zeros((batch_num, time_points - window))  \n",
        "    \n",
        "    for i in range(batch_num):\n",
        "        k = 0\n",
        "        while k < time_points - window:\n",
        "            y_pred[i, k] = model.predict(x_true[i, k : window + k].reshape((1, window, 1)))\n",
        "            k = k + 1\n",
        "    print(y_pred.shape)\n",
        "    \n",
        "    for i in range(2):\n",
        "        plt.figure()\n",
        "        plt.plot(Time, y_true[i], label = \"True\")\n",
        "        plt.plot(Time, y_pred[i], label = \"Predicted\")\n",
        "        plt.legend()"
      ],
      "execution_count": 0,
      "outputs": []
    },
    {
      "cell_type": "code",
      "metadata": {
        "id": "TzDK1oRNkFcj",
        "colab_type": "code",
        "outputId": "e35d8609-a034-4377-fb94-c119a3a44502",
        "colab": {
          "base_uri": "https://localhost:8080/",
          "height": 531
        }
      },
      "source": [
        "plot_predictions(trials_valid, valid_num)\n"
      ],
      "execution_count": 0,
      "outputs": [
        {
          "output_type": "stream",
          "text": [
            "(19, 840)\n"
          ],
          "name": "stdout"
        },
        {
          "output_type": "display_data",
          "data": {
            "image/png": "[encoded data removed]",
            "text/plain": [
              "<Figure size 432x288 with 1 Axes>"
            ]
          },
          "metadata": {
            "tags": []
          }
        },
        {
          "output_type": "display_data",
          "data": {
            "image/png": "[encoded data removed]",
            "text/plain": [
              "<Figure size 432x288 with 1 Axes>"
            ]
          },
          "metadata": {
            "tags": []
          }
        }
      ]
    },
    {
      "cell_type": "code",
      "metadata": {
        "id": "luuF_5TY2ESB",
        "colab_type": "code",
        "outputId": "b1831f3f-0176-4cff-963a-1f6517da06fb",
        "colab": {
          "base_uri": "https://localhost:8080/",
          "height": 132
        }
      },
      "source": [
        "#Visualise and set the best learning rate for the model \n",
        "plt.semilogx(history.history[“lr”], history.history[“loss”])\n",
        "plt.axis([1e-8, 1e-4, 0, 30])"
      ],
      "execution_count": 0,
      "outputs": [
        {
          "output_type": "error",
          "ename": "SyntaxError",
          "evalue": "ignored",
          "traceback": [
            "\u001b[0;36m  File \u001b[0;32m\"<ipython-input-946-e6400c891560>\"\u001b[0;36m, line \u001b[0;32m1\u001b[0m\n\u001b[0;31m    plt.semilogx(history.history[“lr”], history.history[“loss”])\u001b[0m\n\u001b[0m                                    ^\u001b[0m\n\u001b[0;31mSyntaxError\u001b[0m\u001b[0;31m:\u001b[0m invalid character in identifier\n"
          ]
        }
      ]
    },
    {
      "cell_type": "code",
      "metadata": {
        "id": "ac8vT-yI2ESD",
        "colab_type": "code",
        "colab": {}
      },
      "source": [
        "score = model.evaluate(test_X, test_Y)\n",
        "print(\"Test Loss:\", score[0])\n"
      ],
      "execution_count": 0,
      "outputs": []
    },
    {
      "cell_type": "code",
      "metadata": {
        "id": "Uesq5EAX2ESF",
        "colab_type": "code",
        "colab": {}
      },
      "source": [
        "#Graphical Display to plot weights\n",
        "def plot_weights(weights, electi):\n",
        " \n",
        "        \n",
        "    T = np.arange(0, 0.00625*window, 0.00625)                       # creation of the time variable (on 1s) for the abscissa\n",
        "    \n",
        "    nbr_elct = len(electi)\n",
        "    (Lo_W, la_W) = weights[0].shape\n",
        "    Lo_W = int(Lo_W)                                              # number of lines: inputs (160 * nbr_electrodes, for example)\n",
        "    la_W = int(la_W)                                              # number of columns: number of neurons in the layer\n",
        "    \n",
        "    z=0\n",
        "    while z < nbr_elct:                                           # for each electrode\n",
        "        z_1=0 \n",
        "        while z_1 < la_W:                                         # for each neuron of the W layer [1]\n",
        "            W_tmp = tf.slice(K.constant(weights[0]), [0, z_1], [Lo_W, 1])           # slice: starting value [line 0, column of the neuron], dimensions of the section [160 * nbr_electrodes lines, 1 column])\n",
        "            W_tmp = tf.slice(W_tmp, [z*window, 0], [window, 1])       # slice: starting value [first value of the new electrode, column 0], dimensions of the section [160 lines, 1 column]\n",
        "            print (W_tmp.shape)\n",
        "            \n",
        "            plt.plot(T, K.eval(W_tmp), label= (\"neurone_\", z_1, \"layer_1, electrode_\", electi[z]))\n",
        "            z_1 = z_1+1\n",
        "            \n",
        "        z = z+1\n",
        "        \n",
        "    plt.legend()    \n",
        "    plt.show()\n",
        "    "
      ],
      "execution_count": 0,
      "outputs": []
    },
    {
      "cell_type": "code",
      "metadata": {
        "id": "Q354AwSR2ESG",
        "colab_type": "code",
        "colab": {}
      },
      "source": [
        "weights = np.array(model.get_weights()) #Convert the weights into np array\n",
        "\n",
        "plot_weights(weights, electi)            #Plot the weights of the model"
      ],
      "execution_count": 0,
      "outputs": []
    },
    {
      "cell_type": "code",
      "metadata": {
        "id": "9PbK-ywf2ESI",
        "colab_type": "code",
        "colab": {}
      },
      "source": [
        "weights.shape"
      ],
      "execution_count": 0,
      "outputs": []
    },
    {
      "cell_type": "code",
      "metadata": {
        "id": "iLD0D_uSfnlL",
        "colab_type": "code",
        "colab": {}
      },
      "source": [
        ""
      ],
      "execution_count": 0,
      "outputs": []
    }
  ]
}