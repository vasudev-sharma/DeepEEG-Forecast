{
 "metadata": {
  "language_info": {
   "codemirror_mode": {
    "name": "ipython",
    "version": 3
   },
   "file_extension": ".py",
   "mimetype": "text/x-python",
   "name": "python",
   "nbconvert_exporter": "python",
   "pygments_lexer": "ipython3",
   "version": "3.7.3-final"
  },
  "orig_nbformat": 2,
  "kernelspec": {
   "name": "python3",
   "display_name": "Python 3",
   "language": "python"
  }
 },
 "nbformat": 4,
 "nbformat_minor": 2,
 "cells": [
  {
   "cell_type": "code",
   "execution_count": 1,
   "metadata": {},
   "outputs": [
    {
     "output_type": "stream",
     "name": "stdout",
     "text": [
      "Collecting colabcode\n",
      "  Using cached https://files.pythonhosted.org/packages/9d/4c/7981fe8975255e14fd653ddcb9670671602a3871d21f615dfe79b733837a/colabcode-0.1.1-py3-none-any.whl\n",
      "Collecting pyngrok>=5.0.0 (from colabcode)\n",
      "  Using cached https://files.pythonhosted.org/packages/e2/19/af0fc6c11cc13f8a31e9dbec21af745337be8a40b5738cd30f08a483eac3/pyngrok-5.0.1.tar.gz\n",
      "Requirement already satisfied: PyYAML in /Users/vasudevsharma/anaconda3/lib/python3.7/site-packages (from pyngrok>=5.0.0->colabcode) (5.1.1)\n",
      "Building wheels for collected packages: pyngrok\n",
      "  Building wheel for pyngrok (setup.py) ... \u001b[?25ldone\n",
      "\u001b[?25h  Stored in directory: /Users/vasudevsharma/Library/Caches/pip/wheels/94/01/05/d39efb8f6b40a411354b4168ca9dda99e6f8d586e458e97551\n",
      "Successfully built pyngrok\n",
      "Installing collected packages: pyngrok, colabcode\n",
      "Successfully installed colabcode-0.1.1 pyngrok-5.0.1\n"
     ]
    }
   ],
   "source": [
    "!pip install colabcode"
   ]
  },
  {
   "cell_type": "code",
   "execution_count": 2,
   "metadata": {},
   "outputs": [],
   "source": [
    "from colabcode import ColabCode"
   ]
  },
  {
   "cell_type": "code",
   "execution_count": null,
   "metadata": {},
   "outputs": [],
   "source": [
    "#Run GoogleColab on VScode\n",
    "ColabCode(port = 1000)"
   ]
  }
 ]
}