{
 "cells": [
  {
   "cell_type": "code",
   "execution_count": 49,
   "metadata": {},
   "outputs": [],
   "source": [
    "import tensorflow as tf\n",
    "import numpy as np\n",
    "import matplotlib as mpl\n",
    "import matplotlib.pyplot as plt\n",
    "import scipy.io as sio\n",
    "rng = np.random\n",
    "from array import array\n",
    "from scipy import stats\n",
    "\n",
    "#Keras import \n",
    "import keras.backend as K\n",
    "from keras.models import Sequential\n",
    "from keras.layers import Dense\n",
    "from keras import optimizers\n",
    "from keras.callbacks import *\n",
    "\n",
    "#import models\n",
    "from Linear_Regression import linear_regression\n",
    "\n",
    "#import datetime for tensorboard\n",
    "from datetime import *\n",
    "\n",
    "#Import for reading the MATLAB files\n",
    "import glob"
   ]
  },
  {
   "cell_type": "markdown",
   "metadata": {},
   "source": [
    "# Load EEG data of all subjects "
   ]
  },
  {
   "cell_type": "code",
   "execution_count": 63,
   "metadata": {},
   "outputs": [],
   "source": [
    "def load_eeg_data():\n",
    "    '''\n",
    "    Function to load EEG data of all subjects \n",
    "    '''\n",
    "    eeg_data = []\n",
    "    for name in glob.glob('*.mat'):\n",
    "        # data import from matlab\n",
    "        subject = sio.loadmat(name)   #Load the matlab file for a single subject \n",
    "        data_subject = subject['data']\n",
    "\n",
    "\n",
    "        # shuffle trials\n",
    "        (channel, trial, time_points)= data_subject.shape\n",
    "\n",
    "        trials = np.arange(trial)\n",
    "        np.random.shuffle(trials)\n",
    "\n",
    "        #Z score\n",
    "        data_subject=stats.zscore(format_1, axis=2)\n",
    "        \n",
    "        eeg_data.append(data_subject)\n",
    "    return np.array(eeg_data)    \n",
    "        "
   ]
  },
  {
   "cell_type": "code",
   "execution_count": 50,
   "metadata": {
    "scrolled": true
   },
   "outputs": [
    {
     "name": "stdout",
     "output_type": "stream",
     "text": [
      "(65, 192, 1000)\n",
      "(65, 192, 1000)\n"
     ]
    }
   ],
   "source": [
    "#Load data for only a single subject as of now for the purpose of prototyping \n",
    "\n",
    "\n",
    "# data import from matlab\n",
    "subject_1 = sio.loadmat('1.mat')      #recovering matlab data in the form of a python dictionar\n",
    "format_1 = subject_1['data']          #in the dictionary, only the data key interests us\n",
    "print (format_1.shape)\n",
    "\n",
    "# shuffle trials\n",
    "(channel, trial, time_points)= format_1.shape\n",
    "\n",
    "trials = np.arange(trial)\n",
    "np.random.shuffle(trials)\n",
    "\n",
    "#Z score\n",
    "format_1=stats.zscore(format_1, axis=2)\n",
    "\n",
    "\n",
    "# data import from matlab\n",
    "subject_1 = sio.loadmat('1.mat')      #recovering matlab data in the form of a python dictionar\n",
    "format_1 = subject_1['data']          #in the dictionary, only the data key interests us\n",
    "print (format_1.shape)\n",
    "\n",
    "# shuffle trials\n",
    "(channel, trial, time_points)= format_1.shape\n",
    "\n",
    "trials = np.arange(trial)\n",
    "np.random.shuffle(trials)\n",
    "\n",
    "#Z score\n",
    "format_1=stats.zscore(format_1, axis=2)"
   ]
  },
  {
   "cell_type": "code",
   "execution_count": 64,
   "metadata": {},
   "outputs": [
    {
     "data": {
      "text/plain": [
       "(5, 65, 192, 1000)"
      ]
     },
     "execution_count": 64,
     "metadata": {},
     "output_type": "execute_result"
    }
   ],
   "source": [
    "load_eeg_data().shape"
   ]
  },
  {
   "cell_type": "code",
   "execution_count": 53,
   "metadata": {},
   "outputs": [
    {
     "name": "stdout",
     "output_type": "stream",
     "text": [
      "<class 'numpy.ndarray'>\n"
     ]
    }
   ],
   "source": [
    "print(type(format_1))"
   ]
  },
  {
   "cell_type": "code",
   "execution_count": 30,
   "metadata": {},
   "outputs": [
    {
     "name": "stdout",
     "output_type": "stream",
     "text": [
      "Enter the electrode number:30\n",
      "<class 'list'>\n",
      "[30]\n",
      "Enter the number of stimuli:160\n",
      "Please define what should be predicted (1 for EEG or 2 for stimulus):1\n",
      "please specify the number of layers and neurons per desired layers: 1\n",
      "[1]\n",
      "<class 'list'>\n",
      "enter the lambda / learning rate: 0.1\n"
     ]
    }
   ],
   "source": [
    "# parametres\n",
    "\n",
    "eltmp = input ('''Enter the electrode number:''')\n",
    "electi = list(map(int, eltmp.split()))    #separation of the different responses and recovery in the form of a list of integers\n",
    "print (type(electi))\n",
    "print(electi)\n",
    "\n",
    "stim = input ('''Enter the number of stimuli:''')\n",
    "stim = int(stim)\n",
    "\n",
    "relation = input('''Please define what should be predicted (1 for EEG or 2 for stimulus):''')\n",
    "\n",
    "if relation == '1':\n",
    "    source_Y = electi[0]    #retrieving the electrode number as a whole number - implies that there is only one electrode chosen in this direction\n",
    "    source_X = [0]          #conversion of the stimuli line in the form of a list - necessary for the for loop: see below - extraction X\n",
    "\n",
    "elif relation == '2':\n",
    "    format_1 = np.flip(format_1,2)     # data inversion according to the time dimension - problem ????\n",
    "    source_Y = 0\n",
    "    source_X = electi\n",
    "\n",
    "hiLaSi_tmp = input('''please specify the number of layers and neurons per desired layers: ''')\n",
    "hidden_layers_size = list(map(int, hiLaSi_tmp.split()))\n",
    "print (hidden_layers_size)\n",
    "print (type(hidden_layers_size))\n",
    "\n",
    "learning_rate = input('''enter the lambda / learning rate: ''')\n",
    "learning_rate = float(learning_rate)      # conversion as a decimal number"
   ]
  },
  {
   "cell_type": "code",
   "execution_count": 31,
   "metadata": {},
   "outputs": [],
   "source": [
    "#### separation of train tests / valid / test\n",
    "def split_data()\n",
    "train_num = int(np.around(len(trials) * 0.8))\n",
    "valid_num = int(np.around(len(trials) * 0.1))\n",
    "test_num = len(trials) - train_num - valid_num\n",
    "\n",
    "trials_train = trials[0:train_num]\n",
    "trials_valid = trials[train_num:train_num+valid_num]\n",
    "trials_test = trials[train_num+valid_num:]"
   ]
  },
  {
   "cell_type": "code",
   "execution_count": 32,
   "metadata": {},
   "outputs": [
    {
     "name": "stdout",
     "output_type": "stream",
     "text": [
      "y_train.shape =  (129360, 1)\n",
      "y_valid.shape =  (15960, 1)\n",
      "y_test.shape =  (15960, 1)\n"
     ]
    }
   ],
   "source": [
    "# extract data from format_1\n",
    "\n",
    "def extract_Y (batch_trials, batch_num):              #creation of a function to recover y - simplification of reading\n",
    "    \n",
    "    y_tmp=format_1[source_Y, batch_trials, stim:]     #recovery of Y in the form of a matrix of 154 * 840\n",
    "    y_tmp=np.reshape(y_tmp, ((time_points-stim)*batch_num))    #passage through the list of 129 360 values ​​(test 0, test 1, ... test 153)\n",
    "    y_tmp=np.matrix(y_tmp)                           #1 * 129360 matrix conversion\n",
    "    y_tmp=np.transpose(y_tmp)                        #transposition into a matrix of 129360 * 1, matrix equal to that of Matlab (necessary for the rest)\n",
    "    return y_tmp                                     #returns the content of y_tmp\n",
    "    \n",
    "y_train = extract_Y (trials_train, train_num)\n",
    "print (\"y_train.shape = \", y_train.shape)\n",
    "y_valid = extract_Y (trials_valid, valid_num)\n",
    "print (\"y_valid.shape = \", y_valid.shape)\n",
    "y_test = extract_Y (trials_test, test_num)\n",
    "print (\"y_test.shape = \", y_test.shape)"
   ]
  },
  {
   "cell_type": "code",
   "execution_count": 33,
   "metadata": {},
   "outputs": [
    {
     "name": "stdout",
     "output_type": "stream",
     "text": [
      "x_train.shape =  (129360, 160)\n",
      "x_valid.shape =  (15960, 160)\n",
      "x_test.shape =  (15960, 160)\n"
     ]
    }
   ],
   "source": [
    "def extract_X (batch_trials, batch_num):                     #creation of a function to recover x - simplification of reading\n",
    "    x_tmp = [[]]*((time_points-stim)*batch_num)                       #creation of an empty list x_tmp of size (129630,)\n",
    "    x_tmp = np.matrix(x_tmp)                                #conversion as a matrix 129630 * 0 (number of lines good)\n",
    "    x_tmp = np.transpose(x_tmp)                             #transposition 1: form 0 * 129630, necessary at n.append\n",
    "                                                            #avoid the transposition line in the for loop (2 transpo instead of 160\n",
    "    for i in source_X:                                      #reading the source list -> reading each electrode number if flip\n",
    "        k = 0\n",
    "        while k < stim:                                     #160 loops - recovery of the 840 values ​​of each test (in the form test 1, test 2, ...), shifted by 1 at each iteration\n",
    "            tmp = format_1[i, batch_trials, k:(time_points-stim+k)]    #see extract_Y\n",
    "            tmp = np.reshape(tmp,((time_points-stim)*batch_num))\n",
    "            tmp = np.matrix(tmp)\n",
    "            \n",
    "            x_tmp = np.append(x_tmp, tmp, axis=0)           #concatenation of the matrix tmp 1 * 129360 at the end of the matrix x_tmp (k + 1) * 129360\n",
    "            k = k+1\n",
    "    x_tmp = np.transpose(x_tmp)                             #transposition 2: form 129360 * (160 * nbr_électrode)\n",
    "    return x_tmp\n",
    "        \n",
    "x_train = extract_X (trials_train, train_num)\n",
    "print (\"x_train.shape = \", x_train.shape)\n",
    "x_valid = extract_X (trials_valid, valid_num)\n",
    "print (\"x_valid.shape = \", x_valid.shape)\n",
    "x_test = extract_X (trials_test, test_num)\n",
    "print (\"x_test.shape = \", x_test.shape)"
   ]
  },
  {
   "cell_type": "code",
   "execution_count": 34,
   "metadata": {},
   "outputs": [
    {
     "name": "stdout",
     "output_type": "stream",
     "text": [
      "(129360, 160)\n",
      "(129360, 1)\n"
     ]
    }
   ],
   "source": [
    "#tensorflow - Linear regression cf github\n",
    "\n",
    "training_epochs = 200\n",
    "display_step = 10\n",
    "\n",
    "train_X = x_train\n",
    "print(train_X.shape)\n",
    "train_Y = y_train\n",
    "print(train_Y.shape)\n",
    "n_samples_train = train_X.shape[0]\n",
    "\n",
    "valid_X = x_valid\n",
    "valid_Y = y_valid\n",
    "n_samples_valid = valid_X.shape[0]\n",
    "\n",
    "test_X = x_test\n",
    "test_Y = y_test\n",
    "n_samples_test = test_X.shape[0]"
   ]
  },
  {
   "cell_type": "code",
   "execution_count": 35,
   "metadata": {},
   "outputs": [],
   "source": [
    "#Define Keras Model \n",
    "model = linear_regression(train_X.shape[1])\n"
   ]
  },
  {
   "cell_type": "code",
   "execution_count": 36,
   "metadata": {},
   "outputs": [
    {
     "name": "stdout",
     "output_type": "stream",
     "text": [
      "Model: \"model_2\"\n",
      "_________________________________________________________________\n",
      "Layer (type)                 Output Shape              Param #   \n",
      "=================================================================\n",
      "input_2 (InputLayer)         (None, 160)               0         \n",
      "_________________________________________________________________\n",
      "dense_2 (Dense)              (None, 1)                 161       \n",
      "=================================================================\n",
      "Total params: 161\n",
      "Trainable params: 161\n",
      "Non-trainable params: 0\n",
      "_________________________________________________________________\n"
     ]
    }
   ],
   "source": [
    "model.summary()"
   ]
  },
  {
   "cell_type": "code",
   "execution_count": 40,
   "metadata": {},
   "outputs": [
    {
     "name": "stdout",
     "output_type": "stream",
     "text": [
      "logs/scalars/20200115-163712\n"
     ]
    }
   ],
   "source": [
    "#Set Up Tensorboard for visualisation for training\n",
    "logdir = \"logs/scalars/\" + datetime.now().strftime(\"%Y%m%d-%H%M%S\")\n",
    "tensorboard_callback = TensorBoard(log_dir=logdir)\n"
   ]
  },
  {
   "cell_type": "code",
   "execution_count": 16,
   "metadata": {},
   "outputs": [],
   "source": [
    "#Define training Loss \n",
    "def mse(y_true, y_pred):\n",
    "    return (K.mean(K.square(y_pred - y_true), axis=-1)) / 2"
   ]
  },
  {
   "cell_type": "code",
   "execution_count": 43,
   "metadata": {},
   "outputs": [],
   "source": [
    "#Set up the Optimizers\n",
    "sgd = optimizers.SGD(lr = learning_rate)\n",
    "adam = optimizers.Adam(lr = learning_rate)\n",
    "rmsprop = optimizers.RMSprop(lr = learning_rate)\n",
    "\n",
    "#Compile the model\n",
    "model.compile(loss = mse, optimizer = sgd , metrics=[mse])"
   ]
  },
  {
   "cell_type": "code",
   "execution_count": 44,
   "metadata": {},
   "outputs": [
    {
     "name": "stdout",
     "output_type": "stream",
     "text": [
      "Train on 129360 samples, validate on 15960 samples\n",
      "Epoch 1/200\n",
      "129360/129360 [==============================] - 7s 52us/step - loss: 0.6410 - mse: 0.6410 - val_loss: 0.6323 - val_mse: 0.6323\n",
      "Epoch 2/200\n",
      "129360/129360 [==============================] - 7s 54us/step - loss: 0.6421 - mse: 0.6421 - val_loss: 0.6922 - val_mse: 0.6922\n",
      "Epoch 3/200\n",
      "129360/129360 [==============================] - 7s 52us/step - loss: 0.6430 - mse: 0.6430 - val_loss: 0.6526 - val_mse: 0.6526\n",
      "Epoch 4/200\n",
      "129360/129360 [==============================] - 7s 53us/step - loss: 0.6441 - mse: 0.6441 - val_loss: 0.6366 - val_mse: 0.6366\n",
      "Epoch 5/200\n",
      "129360/129360 [==============================] - 7s 53us/step - loss: 0.6423 - mse: 0.6423 - val_loss: 0.6429 - val_mse: 0.6429\n",
      "Epoch 6/200\n",
      "129360/129360 [==============================] - 7s 54us/step - loss: 0.6414 - mse: 0.6414 - val_loss: 0.6559 - val_mse: 0.6559\n",
      "Epoch 7/200\n",
      "129360/129360 [==============================] - 7s 53us/step - loss: 0.6419 - mse: 0.6419 - val_loss: 0.6579 - val_mse: 0.6579\n",
      "Epoch 8/200\n",
      "129360/129360 [==============================] - 7s 53us/step - loss: 0.6401 - mse: 0.6401 - val_loss: 0.6743 - val_mse: 0.6743\n",
      "Epoch 9/200\n",
      "129360/129360 [==============================] - 7s 53us/step - loss: 0.6416 - mse: 0.6416 - val_loss: 0.6974 - val_mse: 0.6974\n",
      "Epoch 10/200\n",
      "129360/129360 [==============================] - 7s 52us/step - loss: 0.6415 - mse: 0.6415 - val_loss: 0.6250 - val_mse: 0.6250\n",
      "Epoch 11/200\n",
      "129360/129360 [==============================] - 7s 53us/step - loss: 0.6417 - mse: 0.6417 - val_loss: 0.6480 - val_mse: 0.6480\n",
      "Epoch 12/200\n",
      "129360/129360 [==============================] - 7s 53us/step - loss: 0.6433 - mse: 0.6433 - val_loss: 0.6324 - val_mse: 0.6324\n",
      "Epoch 13/200\n",
      "129360/129360 [==============================] - 7s 53us/step - loss: 0.6434 - mse: 0.6434 - val_loss: 0.6256 - val_mse: 0.6256\n",
      "Epoch 14/200\n",
      "129360/129360 [==============================] - 7s 52us/step - loss: 0.6435 - mse: 0.6435 - val_loss: 0.7104 - val_mse: 0.7104\n",
      "Epoch 15/200\n",
      "129360/129360 [==============================] - 7s 53us/step - loss: 0.6426 - mse: 0.6426 - val_loss: 0.6395 - val_mse: 0.6395\n",
      "Epoch 16/200\n",
      "129360/129360 [==============================] - 7s 53us/step - loss: 0.6412 - mse: 0.6412 - val_loss: 0.6715 - val_mse: 0.6715\n",
      "Epoch 17/200\n",
      "129360/129360 [==============================] - 7s 53us/step - loss: 0.6411 - mse: 0.6411 - val_loss: 0.6955 - val_mse: 0.6955\n",
      "Epoch 18/200\n",
      "129360/129360 [==============================] - 7s 53us/step - loss: 0.6432 - mse: 0.6432 - val_loss: 0.6565 - val_mse: 0.6565\n",
      "Epoch 19/200\n",
      "129360/129360 [==============================] - 7s 53us/step - loss: 0.6407 - mse: 0.6407 - val_loss: 0.6613 - val_mse: 0.6613\n",
      "Epoch 20/200\n",
      "129360/129360 [==============================] - 7s 54us/step - loss: 0.6400 - mse: 0.6400 - val_loss: 0.6686 - val_mse: 0.6686\n",
      "Epoch 21/200\n",
      "129360/129360 [==============================] - 7s 54us/step - loss: 0.6429 - mse: 0.6429 - val_loss: 0.6535 - val_mse: 0.6535\n",
      "Epoch 22/200\n",
      "129360/129360 [==============================] - 7s 54us/step - loss: 0.6425 - mse: 0.6425 - val_loss: 0.6360 - val_mse: 0.6360\n",
      "Epoch 23/200\n",
      "129360/129360 [==============================] - 7s 53us/step - loss: 0.6420 - mse: 0.6420 - val_loss: 0.6696 - val_mse: 0.6696\n",
      "Epoch 24/200\n",
      "129360/129360 [==============================] - 7s 54us/step - loss: 0.6431 - mse: 0.6431 - val_loss: 0.6856 - val_mse: 0.6856\n",
      "Epoch 25/200\n",
      "129360/129360 [==============================] - 7s 54us/step - loss: 0.6432 - mse: 0.6432 - val_loss: 0.7013 - val_mse: 0.7013\n",
      "Epoch 26/200\n",
      "129360/129360 [==============================] - 7s 53us/step - loss: 0.6410 - mse: 0.6410 - val_loss: 0.6791 - val_mse: 0.6791\n",
      "Epoch 27/200\n",
      "129360/129360 [==============================] - 7s 54us/step - loss: 0.6412 - mse: 0.6412 - val_loss: 0.6506 - val_mse: 0.6506\n",
      "Epoch 28/200\n",
      "129360/129360 [==============================] - 7s 54us/step - loss: 0.6411 - mse: 0.6411 - val_loss: 0.6597 - val_mse: 0.6597\n",
      "Epoch 29/200\n",
      "129360/129360 [==============================] - 7s 54us/step - loss: 0.6424 - mse: 0.6424 - val_loss: 0.6742 - val_mse: 0.6742\n",
      "Epoch 30/200\n",
      "129360/129360 [==============================] - 7s 52us/step - loss: 0.6400 - mse: 0.6400 - val_loss: 0.6135 - val_mse: 0.6135\n",
      "Epoch 31/200\n",
      "129360/129360 [==============================] - 7s 52us/step - loss: 0.6427 - mse: 0.6426 - val_loss: 0.6781 - val_mse: 0.6781\n",
      "Epoch 32/200\n",
      "129360/129360 [==============================] - 7s 54us/step - loss: 0.6433 - mse: 0.6433 - val_loss: 0.6329 - val_mse: 0.6329\n",
      "Epoch 33/200\n",
      "129360/129360 [==============================] - 7s 53us/step - loss: 0.6413 - mse: 0.6413 - val_loss: 0.6011 - val_mse: 0.6011\n",
      "Epoch 34/200\n",
      "129360/129360 [==============================] - 7s 53us/step - loss: 0.6412 - mse: 0.6412 - val_loss: 0.6500 - val_mse: 0.6500\n",
      "Epoch 35/200\n",
      "129360/129360 [==============================] - 7s 52us/step - loss: 0.6408 - mse: 0.6408 - val_loss: 0.6978 - val_mse: 0.6978\n",
      "Epoch 36/200\n",
      "129360/129360 [==============================] - 7s 53us/step - loss: 0.6423 - mse: 0.6423 - val_loss: 0.6468 - val_mse: 0.6468\n",
      "Epoch 37/200\n",
      "129360/129360 [==============================] - 7s 53us/step - loss: 0.6437 - mse: 0.6437 - val_loss: 0.6759 - val_mse: 0.6759\n",
      "Epoch 38/200\n",
      "129360/129360 [==============================] - 7s 53us/step - loss: 0.6425 - mse: 0.6425 - val_loss: 0.6169 - val_mse: 0.6169\n",
      "Epoch 39/200\n",
      "129360/129360 [==============================] - 7s 53us/step - loss: 0.6425 - mse: 0.6425 - val_loss: 0.6318 - val_mse: 0.6318\n",
      "Epoch 40/200\n",
      "129360/129360 [==============================] - 7s 52us/step - loss: 0.6426 - mse: 0.6426 - val_loss: 0.6446 - val_mse: 0.6446\n",
      "Epoch 41/200\n",
      "129360/129360 [==============================] - 7s 53us/step - loss: 0.6431 - mse: 0.6431 - val_loss: 0.6790 - val_mse: 0.6790\n",
      "Epoch 42/200\n",
      "129360/129360 [==============================] - 7s 53us/step - loss: 0.6436 - mse: 0.6436 - val_loss: 0.6328 - val_mse: 0.6328\n",
      "Epoch 43/200\n",
      "129360/129360 [==============================] - 7s 54us/step - loss: 0.6445 - mse: 0.6445 - val_loss: 0.6339 - val_mse: 0.6339\n",
      "Epoch 44/200\n",
      "129360/129360 [==============================] - 7s 52us/step - loss: 0.6426 - mse: 0.6426 - val_loss: 0.6860 - val_mse: 0.6860\n",
      "Epoch 45/200\n",
      "129360/129360 [==============================] - 7s 54us/step - loss: 0.6431 - mse: 0.6431 - val_loss: 0.6414 - val_mse: 0.6414\n",
      "Epoch 46/200\n",
      "129360/129360 [==============================] - 7s 54us/step - loss: 0.6428 - mse: 0.6428 - val_loss: 0.6702 - val_mse: 0.6702\n",
      "Epoch 47/200\n",
      "129360/129360 [==============================] - 7s 54us/step - loss: 0.6425 - mse: 0.6425 - val_loss: 0.6356 - val_mse: 0.6356\n",
      "Epoch 48/200\n",
      "129360/129360 [==============================] - 7s 54us/step - loss: 0.6401 - mse: 0.6401 - val_loss: 0.6593 - val_mse: 0.6593\n",
      "Epoch 49/200\n",
      "129360/129360 [==============================] - 7s 52us/step - loss: 0.6435 - mse: 0.6435 - val_loss: 0.6658 - val_mse: 0.6658\n",
      "Epoch 50/200\n",
      "129360/129360 [==============================] - 7s 54us/step - loss: 0.6427 - mse: 0.6427 - val_loss: 0.6227 - val_mse: 0.6227\n",
      "Epoch 51/200\n",
      "129360/129360 [==============================] - 7s 53us/step - loss: 0.6426 - mse: 0.6426 - val_loss: 0.6293 - val_mse: 0.6293\n",
      "Epoch 52/200\n",
      "129360/129360 [==============================] - 7s 53us/step - loss: 0.6429 - mse: 0.6429 - val_loss: 0.5983 - val_mse: 0.5983\n",
      "Epoch 53/200\n",
      "129360/129360 [==============================] - 7s 53us/step - loss: 0.6428 - mse: 0.6428 - val_loss: 0.6516 - val_mse: 0.6516\n",
      "Epoch 54/200\n",
      "129360/129360 [==============================] - 7s 53us/step - loss: 0.6430 - mse: 0.6430 - val_loss: 0.6682 - val_mse: 0.6682\n",
      "Epoch 55/200\n",
      "129360/129360 [==============================] - 7s 53us/step - loss: 0.6417 - mse: 0.6417 - val_loss: 0.6436 - val_mse: 0.6436\n",
      "Epoch 56/200\n",
      "129360/129360 [==============================] - 7s 53us/step - loss: 0.6429 - mse: 0.6429 - val_loss: 0.6286 - val_mse: 0.6286\n",
      "Epoch 57/200\n",
      "129360/129360 [==============================] - 7s 54us/step - loss: 0.6413 - mse: 0.6413 - val_loss: 0.6517 - val_mse: 0.6517\n",
      "Epoch 58/200\n",
      "129360/129360 [==============================] - 7s 53us/step - loss: 0.6434 - mse: 0.6434 - val_loss: 0.6644 - val_mse: 0.6644\n"
     ]
    },
    {
     "name": "stdout",
     "output_type": "stream",
     "text": [
      "Epoch 59/200\n",
      "129360/129360 [==============================] - 7s 52us/step - loss: 0.6433 - mse: 0.6433 - val_loss: 0.6175 - val_mse: 0.6175\n",
      "Epoch 60/200\n",
      "129360/129360 [==============================] - 7s 53us/step - loss: 0.6433 - mse: 0.6433 - val_loss: 0.6779 - val_mse: 0.6779\n",
      "Epoch 61/200\n",
      "129360/129360 [==============================] - 7s 53us/step - loss: 0.6448 - mse: 0.6448 - val_loss: 0.6624 - val_mse: 0.6624\n",
      "Epoch 62/200\n",
      "129360/129360 [==============================] - 7s 53us/step - loss: 0.6434 - mse: 0.6434 - val_loss: 0.7177 - val_mse: 0.7177\n",
      "Epoch 63/200\n",
      "129360/129360 [==============================] - 7s 52us/step - loss: 0.6412 - mse: 0.6412 - val_loss: 0.6852 - val_mse: 0.6852\n",
      "Epoch 64/200\n",
      "129360/129360 [==============================] - 7s 53us/step - loss: 0.6407 - mse: 0.6407 - val_loss: 0.6920 - val_mse: 0.6920\n",
      "Epoch 65/200\n",
      "129360/129360 [==============================] - 7s 54us/step - loss: 0.6421 - mse: 0.6421 - val_loss: 0.6417 - val_mse: 0.6417\n",
      "Epoch 66/200\n",
      "129360/129360 [==============================] - 7s 55us/step - loss: 0.6431 - mse: 0.6431 - val_loss: 0.6349 - val_mse: 0.6349\n",
      "Epoch 67/200\n",
      "129360/129360 [==============================] - 7s 55us/step - loss: 0.6415 - mse: 0.6415 - val_loss: 0.6139 - val_mse: 0.6139\n",
      "Epoch 68/200\n",
      "129360/129360 [==============================] - 7s 55us/step - loss: 0.6393 - mse: 0.6393 - val_loss: 0.6519 - val_mse: 0.6519\n",
      "Epoch 69/200\n",
      "129360/129360 [==============================] - 7s 54us/step - loss: 0.6424 - mse: 0.6424 - val_loss: 0.6436 - val_mse: 0.6436\n",
      "Epoch 70/200\n",
      "129360/129360 [==============================] - 7s 55us/step - loss: 0.6425 - mse: 0.6425 - val_loss: 0.6963 - val_mse: 0.6963\n",
      "Epoch 71/200\n",
      "129360/129360 [==============================] - 7s 55us/step - loss: 0.6436 - mse: 0.6436 - val_loss: 0.6989 - val_mse: 0.6989\n",
      "Epoch 72/200\n",
      "129360/129360 [==============================] - 7s 54us/step - loss: 0.6440 - mse: 0.6440 - val_loss: 0.6272 - val_mse: 0.6272\n",
      "Epoch 73/200\n",
      "129360/129360 [==============================] - 7s 56us/step - loss: 0.6434 - mse: 0.6434 - val_loss: 0.6222 - val_mse: 0.6222\n",
      "Epoch 74/200\n",
      "129360/129360 [==============================] - 7s 55us/step - loss: 0.6424 - mse: 0.6424 - val_loss: 0.6097 - val_mse: 0.6097\n",
      "Epoch 75/200\n",
      "129360/129360 [==============================] - 7s 55us/step - loss: 0.6404 - mse: 0.6404 - val_loss: 0.6222 - val_mse: 0.6222\n",
      "Epoch 76/200\n",
      "129360/129360 [==============================] - 7s 55us/step - loss: 0.6424 - mse: 0.6424 - val_loss: 0.6346 - val_mse: 0.6346\n",
      "Epoch 77/200\n",
      "129360/129360 [==============================] - 7s 54us/step - loss: 0.6429 - mse: 0.6429 - val_loss: 0.7235 - val_mse: 0.7235\n",
      "Epoch 78/200\n",
      "129360/129360 [==============================] - 7s 55us/step - loss: 0.6445 - mse: 0.6445 - val_loss: 0.6291 - val_mse: 0.6291\n",
      "Epoch 79/200\n",
      "129360/129360 [==============================] - 7s 54us/step - loss: 0.6391 - mse: 0.6391 - val_loss: 0.6282 - val_mse: 0.6282\n",
      "Epoch 80/200\n",
      "129360/129360 [==============================] - 7s 54us/step - loss: 0.6419 - mse: 0.6419 - val_loss: 0.6734 - val_mse: 0.6734\n",
      "Epoch 81/200\n",
      "129360/129360 [==============================] - 7s 52us/step - loss: 0.6411 - mse: 0.6411 - val_loss: 0.6362 - val_mse: 0.6362\n",
      "Epoch 82/200\n",
      "129360/129360 [==============================] - 7s 53us/step - loss: 0.6435 - mse: 0.6435 - val_loss: 0.6532 - val_mse: 0.6532\n",
      "Epoch 83/200\n",
      "129360/129360 [==============================] - 7s 51us/step - loss: 0.6409 - mse: 0.6409 - val_loss: 0.6571 - val_mse: 0.6571\n",
      "Epoch 84/200\n",
      "129360/129360 [==============================] - 7s 52us/step - loss: 0.6414 - mse: 0.6414 - val_loss: 0.6154 - val_mse: 0.6154\n",
      "Epoch 85/200\n",
      "129360/129360 [==============================] - 7s 50us/step - loss: 0.6433 - mse: 0.6433 - val_loss: 0.6346 - val_mse: 0.6346\n",
      "Epoch 86/200\n",
      "129360/129360 [==============================] - 6s 47us/step - loss: 0.6422 - mse: 0.6422 - val_loss: 0.6535 - val_mse: 0.6535\n",
      "Epoch 87/200\n",
      "129360/129360 [==============================] - 7s 52us/step - loss: 0.6427 - mse: 0.6427 - val_loss: 0.6850 - val_mse: 0.6850\n",
      "Epoch 88/200\n",
      "129360/129360 [==============================] - 6s 49us/step - loss: 0.6416 - mse: 0.6416 - val_loss: 0.7066 - val_mse: 0.7066\n",
      "Epoch 89/200\n",
      "129360/129360 [==============================] - 7s 52us/step - loss: 0.6421 - mse: 0.6421 - val_loss: 0.6402 - val_mse: 0.6402\n",
      "Epoch 90/200\n",
      "129360/129360 [==============================] - 7s 51us/step - loss: 0.6430 - mse: 0.6430 - val_loss: 0.6408 - val_mse: 0.6408\n",
      "Epoch 91/200\n",
      "129360/129360 [==============================] - 7s 52us/step - loss: 0.6436 - mse: 0.6436 - val_loss: 0.6274 - val_mse: 0.6274\n",
      "Epoch 92/200\n",
      "129360/129360 [==============================] - 7s 53us/step - loss: 0.6413 - mse: 0.6413 - val_loss: 0.6199 - val_mse: 0.6199\n",
      "Epoch 93/200\n",
      "129360/129360 [==============================] - 7s 52us/step - loss: 0.6410 - mse: 0.6410 - val_loss: 0.6816 - val_mse: 0.6816\n",
      "Epoch 94/200\n",
      "129360/129360 [==============================] - 7s 52us/step - loss: 0.6431 - mse: 0.6431 - val_loss: 0.6494 - val_mse: 0.6494\n",
      "Epoch 95/200\n",
      "129360/129360 [==============================] - 6s 48us/step - loss: 0.6414 - mse: 0.6414 - val_loss: 0.6266 - val_mse: 0.6266\n",
      "Epoch 96/200\n",
      "129360/129360 [==============================] - 6s 49us/step - loss: 0.6412 - mse: 0.6412 - val_loss: 0.6204 - val_mse: 0.6204\n",
      "Epoch 97/200\n",
      "129360/129360 [==============================] - 6s 49us/step - loss: 0.6431 - mse: 0.6431 - val_loss: 0.6807 - val_mse: 0.6807\n",
      "Epoch 98/200\n",
      "129360/129360 [==============================] - 6s 50us/step - loss: 0.6424 - mse: 0.6424 - val_loss: 0.6785 - val_mse: 0.6785\n",
      "Epoch 99/200\n",
      "129360/129360 [==============================] - 7s 52us/step - loss: 0.6408 - mse: 0.6408 - val_loss: 0.6448 - val_mse: 0.6448\n",
      "Epoch 100/200\n",
      "129360/129360 [==============================] - 7s 54us/step - loss: 0.6422 - mse: 0.6422 - val_loss: 0.6271 - val_mse: 0.6271\n",
      "Epoch 101/200\n",
      "129360/129360 [==============================] - 7s 52us/step - loss: 0.6411 - mse: 0.6411 - val_loss: 0.6483 - val_mse: 0.6483\n",
      "Epoch 102/200\n",
      "129360/129360 [==============================] - 7s 52us/step - loss: 0.6419 - mse: 0.6419 - val_loss: 0.6493 - val_mse: 0.6493\n",
      "Epoch 103/200\n",
      "129360/129360 [==============================] - 7s 52us/step - loss: 0.6414 - mse: 0.6414 - val_loss: 0.6384 - val_mse: 0.6384\n",
      "Epoch 104/200\n",
      "129360/129360 [==============================] - 7s 53us/step - loss: 0.6423 - mse: 0.6423 - val_loss: 0.6729 - val_mse: 0.6729\n",
      "Epoch 105/200\n",
      "129360/129360 [==============================] - 7s 53us/step - loss: 0.6449 - mse: 0.6449 - val_loss: 0.6553 - val_mse: 0.6553\n",
      "Epoch 106/200\n",
      "129360/129360 [==============================] - 7s 52us/step - loss: 0.6419 - mse: 0.6419 - val_loss: 0.6499 - val_mse: 0.6499\n",
      "Epoch 107/200\n",
      "129360/129360 [==============================] - 7s 54us/step - loss: 0.6434 - mse: 0.6434 - val_loss: 0.6405 - val_mse: 0.6405\n",
      "Epoch 108/200\n",
      "129360/129360 [==============================] - 7s 53us/step - loss: 0.6431 - mse: 0.6431 - val_loss: 0.6501 - val_mse: 0.6501\n",
      "Epoch 109/200\n",
      "129360/129360 [==============================] - 7s 53us/step - loss: 0.6410 - mse: 0.6410 - val_loss: 0.6175 - val_mse: 0.6175\n",
      "Epoch 110/200\n",
      "129360/129360 [==============================] - 7s 52us/step - loss: 0.6423 - mse: 0.6423 - val_loss: 0.6447 - val_mse: 0.6447\n",
      "Epoch 111/200\n",
      "129360/129360 [==============================] - 7s 52us/step - loss: 0.6426 - mse: 0.6426 - val_loss: 0.6331 - val_mse: 0.6331\n",
      "Epoch 112/200\n",
      "129360/129360 [==============================] - 7s 52us/step - loss: 0.6419 - mse: 0.6419 - val_loss: 0.6809 - val_mse: 0.6809\n",
      "Epoch 113/200\n",
      "129360/129360 [==============================] - 7s 51us/step - loss: 0.6427 - mse: 0.6427 - val_loss: 0.6385 - val_mse: 0.6385\n",
      "Epoch 114/200\n",
      "129360/129360 [==============================] - 7s 53us/step - loss: 0.6411 - mse: 0.6411 - val_loss: 0.6629 - val_mse: 0.6629\n",
      "Epoch 115/200\n",
      "129360/129360 [==============================] - 7s 53us/step - loss: 0.6418 - mse: 0.6418 - val_loss: 0.6172 - val_mse: 0.6172\n",
      "Epoch 116/200\n",
      "129360/129360 [==============================] - 7s 52us/step - loss: 0.6434 - mse: 0.6434 - val_loss: 0.6706 - val_mse: 0.6706\n"
     ]
    },
    {
     "name": "stdout",
     "output_type": "stream",
     "text": [
      "Epoch 117/200\n",
      "129360/129360 [==============================] - 7s 55us/step - loss: 0.6437 - mse: 0.6437 - val_loss: 0.6318 - val_mse: 0.6318\n",
      "Epoch 118/200\n",
      "129360/129360 [==============================] - 7s 55us/step - loss: 0.6426 - mse: 0.6426 - val_loss: 0.6523 - val_mse: 0.6523\n",
      "Epoch 119/200\n",
      "129360/129360 [==============================] - 7s 56us/step - loss: 0.6425 - mse: 0.6425 - val_loss: 0.6757 - val_mse: 0.6757\n",
      "Epoch 120/200\n",
      "129360/129360 [==============================] - 7s 54us/step - loss: 0.6420 - mse: 0.6420 - val_loss: 0.6240 - val_mse: 0.6240\n",
      "Epoch 121/200\n",
      "129360/129360 [==============================] - 7s 55us/step - loss: 0.6434 - mse: 0.6434 - val_loss: 0.6517 - val_mse: 0.6517\n",
      "Epoch 122/200\n",
      "129360/129360 [==============================] - 7s 54us/step - loss: 0.6421 - mse: 0.6421 - val_loss: 0.6169 - val_mse: 0.6169\n",
      "Epoch 123/200\n",
      "129360/129360 [==============================] - 7s 54us/step - loss: 0.6422 - mse: 0.6422 - val_loss: 0.6700 - val_mse: 0.6700\n",
      "Epoch 124/200\n",
      "129360/129360 [==============================] - 7s 54us/step - loss: 0.6415 - mse: 0.6415 - val_loss: 0.6243 - val_mse: 0.6243\n",
      "Epoch 125/200\n",
      "129360/129360 [==============================] - 7s 54us/step - loss: 0.6411 - mse: 0.6411 - val_loss: 0.6466 - val_mse: 0.6466\n",
      "Epoch 126/200\n",
      "129360/129360 [==============================] - 7s 54us/step - loss: 0.6427 - mse: 0.6427 - val_loss: 0.6630 - val_mse: 0.6630\n",
      "Epoch 127/200\n",
      "129360/129360 [==============================] - 7s 53us/step - loss: 0.6410 - mse: 0.6410 - val_loss: 0.6316 - val_mse: 0.6316\n",
      "Epoch 128/200\n",
      "129360/129360 [==============================] - 7s 53us/step - loss: 0.6430 - mse: 0.6430 - val_loss: 0.6706 - val_mse: 0.6706\n",
      "Epoch 129/200\n",
      "129360/129360 [==============================] - 7s 54us/step - loss: 0.6430 - mse: 0.6430 - val_loss: 0.6432 - val_mse: 0.6432\n",
      "Epoch 130/200\n",
      "129360/129360 [==============================] - 7s 52us/step - loss: 0.6408 - mse: 0.6408 - val_loss: 0.6548 - val_mse: 0.6548\n",
      "Epoch 131/200\n",
      "129360/129360 [==============================] - 7s 54us/step - loss: 0.6449 - mse: 0.6449 - val_loss: 0.6569 - val_mse: 0.6569\n",
      "Epoch 132/200\n",
      "129360/129360 [==============================] - 7s 53us/step - loss: 0.6416 - mse: 0.6416 - val_loss: 0.6158 - val_mse: 0.6158\n",
      "Epoch 133/200\n",
      "129360/129360 [==============================] - 7s 54us/step - loss: 0.6435 - mse: 0.6435 - val_loss: 0.6208 - val_mse: 0.6208\n",
      "Epoch 134/200\n",
      "129360/129360 [==============================] - 7s 53us/step - loss: 0.6423 - mse: 0.6423 - val_loss: 0.7039 - val_mse: 0.7039\n",
      "Epoch 135/200\n",
      "129360/129360 [==============================] - 7s 55us/step - loss: 0.6413 - mse: 0.6413 - val_loss: 0.6058 - val_mse: 0.6058\n",
      "Epoch 136/200\n",
      "129360/129360 [==============================] - 7s 55us/step - loss: 0.6441 - mse: 0.6441 - val_loss: 0.6722 - val_mse: 0.6722\n",
      "Epoch 137/200\n",
      "129360/129360 [==============================] - 7s 55us/step - loss: 0.6422 - mse: 0.6422 - val_loss: 0.6563 - val_mse: 0.6563\n",
      "Epoch 138/200\n",
      "129360/129360 [==============================] - 7s 51us/step - loss: 0.6428 - mse: 0.6428 - val_loss: 0.6252 - val_mse: 0.6252\n",
      "Epoch 139/200\n",
      "129360/129360 [==============================] - 7s 54us/step - loss: 0.6414 - mse: 0.6414 - val_loss: 0.6309 - val_mse: 0.6309\n",
      "Epoch 140/200\n",
      "129360/129360 [==============================] - 7s 54us/step - loss: 0.6411 - mse: 0.6411 - val_loss: 0.6283 - val_mse: 0.6283\n",
      "Epoch 141/200\n",
      "129360/129360 [==============================] - 7s 53us/step - loss: 0.6412 - mse: 0.6412 - val_loss: 0.6579 - val_mse: 0.6579\n",
      "Epoch 142/200\n",
      "129360/129360 [==============================] - 7s 53us/step - loss: 0.6417 - mse: 0.6417 - val_loss: 0.6190 - val_mse: 0.6190\n",
      "Epoch 143/200\n",
      "129360/129360 [==============================] - 7s 54us/step - loss: 0.6418 - mse: 0.6418 - val_loss: 0.6230 - val_mse: 0.6230\n",
      "Epoch 144/200\n",
      "129360/129360 [==============================] - 7s 55us/step - loss: 0.6435 - mse: 0.6435 - val_loss: 0.6315 - val_mse: 0.6315\n",
      "Epoch 145/200\n",
      "129360/129360 [==============================] - 7s 54us/step - loss: 0.6410 - mse: 0.6410 - val_loss: 0.6519 - val_mse: 0.6519\n",
      "Epoch 146/200\n",
      "129360/129360 [==============================] - 7s 55us/step - loss: 0.6417 - mse: 0.6417 - val_loss: 0.6735 - val_mse: 0.6735\n",
      "Epoch 147/200\n",
      "129360/129360 [==============================] - 7s 55us/step - loss: 0.6417 - mse: 0.6417 - val_loss: 0.6016 - val_mse: 0.6016\n",
      "Epoch 148/200\n",
      "129360/129360 [==============================] - 7s 54us/step - loss: 0.6420 - mse: 0.6420 - val_loss: 0.6482 - val_mse: 0.6482\n",
      "Epoch 149/200\n",
      "129360/129360 [==============================] - 7s 54us/step - loss: 0.6422 - mse: 0.6422 - val_loss: 0.6201 - val_mse: 0.6201\n",
      "Epoch 150/200\n",
      "129360/129360 [==============================] - 7s 54us/step - loss: 0.6415 - mse: 0.6415 - val_loss: 0.6381 - val_mse: 0.6381\n",
      "Epoch 151/200\n",
      "129360/129360 [==============================] - 7s 54us/step - loss: 0.6420 - mse: 0.6420 - val_loss: 0.6708 - val_mse: 0.6708\n",
      "Epoch 152/200\n",
      "129360/129360 [==============================] - 7s 52us/step - loss: 0.6440 - mse: 0.6440 - val_loss: 0.6206 - val_mse: 0.6206\n",
      "Epoch 153/200\n",
      "129360/129360 [==============================] - 7s 52us/step - loss: 0.6401 - mse: 0.6401 - val_loss: 0.6511 - val_mse: 0.6511\n",
      "Epoch 154/200\n",
      "129360/129360 [==============================] - 7s 53us/step - loss: 0.6424 - mse: 0.6424 - val_loss: 0.6313 - val_mse: 0.6313\n",
      "Epoch 155/200\n",
      "129360/129360 [==============================] - 7s 54us/step - loss: 0.6403 - mse: 0.6403 - val_loss: 0.6654 - val_mse: 0.6654\n",
      "Epoch 156/200\n",
      "129360/129360 [==============================] - 7s 54us/step - loss: 0.6418 - mse: 0.6418 - val_loss: 0.6121 - val_mse: 0.6121\n",
      "Epoch 157/200\n",
      "129360/129360 [==============================] - 7s 53us/step - loss: 0.6412 - mse: 0.6412 - val_loss: 0.6116 - val_mse: 0.6116\n",
      "Epoch 158/200\n",
      "129360/129360 [==============================] - 7s 52us/step - loss: 0.6415 - mse: 0.6415 - val_loss: 0.6280 - val_mse: 0.6280\n",
      "Epoch 159/200\n",
      "129360/129360 [==============================] - 7s 52us/step - loss: 0.6419 - mse: 0.6419 - val_loss: 0.6445 - val_mse: 0.6445\n",
      "Epoch 160/200\n",
      "129360/129360 [==============================] - 7s 52us/step - loss: 0.6422 - mse: 0.6422 - val_loss: 0.7341 - val_mse: 0.7341\n",
      "Epoch 161/200\n",
      "129360/129360 [==============================] - 7s 52us/step - loss: 0.6439 - mse: 0.6439 - val_loss: 0.6846 - val_mse: 0.6846\n",
      "Epoch 162/200\n",
      "129360/129360 [==============================] - 7s 54us/step - loss: 0.6422 - mse: 0.6422 - val_loss: 0.6230 - val_mse: 0.6230\n",
      "Epoch 163/200\n",
      "129360/129360 [==============================] - 7s 54us/step - loss: 0.6421 - mse: 0.6421 - val_loss: 0.6376 - val_mse: 0.6376\n",
      "Epoch 164/200\n",
      "129360/129360 [==============================] - 7s 51us/step - loss: 0.6396 - mse: 0.6396 - val_loss: 0.6379 - val_mse: 0.6379\n",
      "Epoch 165/200\n",
      "129360/129360 [==============================] - 6s 48us/step - loss: 0.6428 - mse: 0.6428 - val_loss: 0.6613 - val_mse: 0.6613\n",
      "Epoch 166/200\n",
      "129360/129360 [==============================] - 6s 49us/step - loss: 0.6407 - mse: 0.6407 - val_loss: 0.6420 - val_mse: 0.6420\n",
      "Epoch 167/200\n",
      "129360/129360 [==============================] - 6s 49us/step - loss: 0.6428 - mse: 0.6428 - val_loss: 0.6757 - val_mse: 0.6757\n",
      "Epoch 168/200\n",
      "129360/129360 [==============================] - 6s 50us/step - loss: 0.6421 - mse: 0.6421 - val_loss: 0.6410 - val_mse: 0.6410\n",
      "Epoch 169/200\n",
      "129360/129360 [==============================] - 7s 51us/step - loss: 0.6419 - mse: 0.6419 - val_loss: 0.6368 - val_mse: 0.6368\n",
      "Epoch 170/200\n",
      "129360/129360 [==============================] - 7s 52us/step - loss: 0.6423 - mse: 0.6423 - val_loss: 0.6510 - val_mse: 0.6510\n",
      "Epoch 171/200\n",
      "129360/129360 [==============================] - 7s 54us/step - loss: 0.6425 - mse: 0.6425 - val_loss: 0.6526 - val_mse: 0.6526\n",
      "Epoch 172/200\n",
      "129360/129360 [==============================] - 7s 54us/step - loss: 0.6413 - mse: 0.6413 - val_loss: 0.6513 - val_mse: 0.6513\n",
      "Epoch 173/200\n",
      "129360/129360 [==============================] - 7s 54us/step - loss: 0.6436 - mse: 0.6436 - val_loss: 0.6327 - val_mse: 0.6327\n",
      "Epoch 174/200\n"
     ]
    },
    {
     "name": "stdout",
     "output_type": "stream",
     "text": [
      "129360/129360 [==============================] - 7s 53us/step - loss: 0.6419 - mse: 0.6419 - val_loss: 0.7056 - val_mse: 0.7056\n",
      "Epoch 175/200\n",
      "129360/129360 [==============================] - 7s 54us/step - loss: 0.6434 - mse: 0.6434 - val_loss: 0.6895 - val_mse: 0.6895\n",
      "Epoch 176/200\n",
      "129360/129360 [==============================] - 7s 55us/step - loss: 0.6396 - mse: 0.6396 - val_loss: 0.6631 - val_mse: 0.6631\n",
      "Epoch 177/200\n",
      "129360/129360 [==============================] - 7s 55us/step - loss: 0.6419 - mse: 0.6419 - val_loss: 0.7048 - val_mse: 0.7048\n",
      "Epoch 178/200\n",
      "129360/129360 [==============================] - 7s 55us/step - loss: 0.6420 - mse: 0.6420 - val_loss: 0.6140 - val_mse: 0.6140\n",
      "Epoch 179/200\n",
      "129360/129360 [==============================] - 7s 54us/step - loss: 0.6399 - mse: 0.6399 - val_loss: 0.6529 - val_mse: 0.6529\n",
      "Epoch 180/200\n",
      "129360/129360 [==============================] - 7s 54us/step - loss: 0.6420 - mse: 0.6420 - val_loss: 0.6354 - val_mse: 0.6354\n",
      "Epoch 181/200\n",
      "129360/129360 [==============================] - 7s 55us/step - loss: 0.6418 - mse: 0.6418 - val_loss: 0.6592 - val_mse: 0.6592\n",
      "Epoch 182/200\n",
      "129360/129360 [==============================] - 7s 55us/step - loss: 0.6422 - mse: 0.6422 - val_loss: 0.6542 - val_mse: 0.6542\n",
      "Epoch 183/200\n",
      "129360/129360 [==============================] - 7s 53us/step - loss: 0.6425 - mse: 0.6425 - val_loss: 0.6490 - val_mse: 0.6490\n",
      "Epoch 184/200\n",
      "129360/129360 [==============================] - 7s 51us/step - loss: 0.6406 - mse: 0.6406 - val_loss: 0.6985 - val_mse: 0.6985\n",
      "Epoch 185/200\n",
      "129360/129360 [==============================] - 7s 53us/step - loss: 0.6424 - mse: 0.6424 - val_loss: 0.6978 - val_mse: 0.6978\n",
      "Epoch 186/200\n",
      "129360/129360 [==============================] - 7s 53us/step - loss: 0.6414 - mse: 0.6414 - val_loss: 0.6409 - val_mse: 0.6409\n",
      "Epoch 187/200\n",
      "129360/129360 [==============================] - 7s 53us/step - loss: 0.6425 - mse: 0.6425 - val_loss: 0.5818 - val_mse: 0.5818\n",
      "Epoch 188/200\n",
      "129360/129360 [==============================] - 7s 53us/step - loss: 0.6429 - mse: 0.6429 - val_loss: 0.6260 - val_mse: 0.6260\n",
      "Epoch 189/200\n",
      "129360/129360 [==============================] - 7s 53us/step - loss: 0.6409 - mse: 0.6409 - val_loss: 0.6308 - val_mse: 0.6308\n",
      "Epoch 190/200\n",
      "129360/129360 [==============================] - 7s 53us/step - loss: 0.6421 - mse: 0.6421 - val_loss: 0.6635 - val_mse: 0.6635\n",
      "Epoch 191/200\n",
      "129360/129360 [==============================] - 7s 54us/step - loss: 0.6418 - mse: 0.6418 - val_loss: 0.6647 - val_mse: 0.6647\n",
      "Epoch 192/200\n",
      "129360/129360 [==============================] - 7s 51us/step - loss: 0.6405 - mse: 0.6405 - val_loss: 0.6632 - val_mse: 0.6632\n",
      "Epoch 193/200\n",
      "129360/129360 [==============================] - 7s 53us/step - loss: 0.6409 - mse: 0.6409 - val_loss: 0.6981 - val_mse: 0.6981\n",
      "Epoch 194/200\n",
      "129360/129360 [==============================] - 6s 47us/step - loss: 0.6429 - mse: 0.6429 - val_loss: 0.6914 - val_mse: 0.6914\n",
      "Epoch 195/200\n",
      "129360/129360 [==============================] - 6s 48us/step - loss: 0.6423 - mse: 0.6423 - val_loss: 0.6378 - val_mse: 0.6378\n",
      "Epoch 196/200\n",
      "129360/129360 [==============================] - 6s 49us/step - loss: 0.6431 - mse: 0.6431 - val_loss: 0.7093 - val_mse: 0.7093\n",
      "Epoch 197/200\n",
      "129360/129360 [==============================] - 6s 50us/step - loss: 0.6412 - mse: 0.6412 - val_loss: 0.6796 - val_mse: 0.6796\n",
      "Epoch 198/200\n",
      "129360/129360 [==============================] - 6s 50us/step - loss: 0.6421 - mse: 0.6421 - val_loss: 0.6803 - val_mse: 0.6803\n",
      "Epoch 199/200\n",
      "129360/129360 [==============================] - 7s 54us/step - loss: 0.6425 - mse: 0.6425 - val_loss: 0.7010 - val_mse: 0.7010\n",
      "Epoch 200/200\n",
      "129360/129360 [==============================] - 7s 54us/step - loss: 0.6438 - mse: 0.6438 - val_loss: 0.6614 - val_mse: 0.6614\n"
     ]
    },
    {
     "data": {
      "text/plain": [
       "<keras.callbacks.callbacks.History at 0x7f60a96796d8>"
      ]
     },
     "execution_count": 44,
     "metadata": {},
     "output_type": "execute_result"
    }
   ],
   "source": [
    "#Fit the model with the Data\n",
    "model.fit(\n",
    "    train_X, \n",
    "    train_Y, \n",
    "    epochs = training_epochs, \n",
    "    validation_data = (valid_X, valid_Y), \n",
    "    verbose = 1,\n",
    "    callbacks = [tensorboard_callback])"
   ]
  },
  {
   "cell_type": "code",
   "execution_count": 45,
   "metadata": {},
   "outputs": [
    {
     "name": "stdout",
     "output_type": "stream",
     "text": [
      "15960/15960 [==============================] - 0s 24us/step\n",
      "Test Loss: 0.6691175418240684\n"
     ]
    }
   ],
   "source": [
    "score = model.evaluate(test_X, test_Y)\n",
    "print(\"Test Loss:\", score[0])\n"
   ]
  },
  {
   "cell_type": "code",
   "execution_count": null,
   "metadata": {},
   "outputs": [],
   "source": []
  },
  {
   "cell_type": "code",
   "execution_count": 46,
   "metadata": {},
   "outputs": [
    {
     "data": {
      "text/plain": [
       "[<matplotlib.lines.Line2D at 0x7f60a8b6c2b0>]"
      ]
     },
     "execution_count": 46,
     "metadata": {},
     "output_type": "execute_result"
    },
    {
     "data": {
      "image/png": "[encoded data removed]",
      "text/plain": [
       "<Figure size 432x288 with 1 Axes>"
      ]
     },
     "metadata": {
      "needs_background": "light"
     },
     "output_type": "display_data"
    }
   ],
   "source": [
    "weights = model.get_weights() #Extract the weight of the model\n",
    "T = np.arange(0, 0.00625*stim, 0.00625) #Time interval of 1 sec containing stimuli points \n",
    "plt.plot(T, weights[0])"
   ]
  },
  {
   "cell_type": "code",
   "execution_count": null,
   "metadata": {},
   "outputs": [],
   "source": [
    "    # tf Graph Input\n",
    "(size_L, size_C) = train_X.shape\n",
    "X = tf.placeholder(\"float\", [None,size_C])\n",
    "Y = tf.placeholder(\"float\",[None,1])\n",
    "\n",
    "W={}   #creation of a dictionary W, each key of the dictionary will contain the weights of a layer\n",
    "bb={}    #same for baby\n",
    "\n",
    "    # Set model weights\n",
    "hidden_layers_size = [size_C]+hidden_layers_size    #we add the number of columns of the base matrix (ex: 160) to the list of layers\n",
    "print(hidden_layers_size)                           # ex : 160 2 3 1\n",
    "\n",
    "for i,j in enumerate(hidden_layers_size[:-1]):\n",
    "        W_tmp = tf.Variable(tf.fill([j,hidden_layers_size[i+1]],rng.randn()))  # For each index i having the value j excluding the last layer (ex: 0: 160, 1: 2, 2: 3)\n",
    "        W[i+1] = W_tmp   #we create a tensorflow variable W having for size (layer * next_layer) #ex: 3 layers W: 160 * 2, 2 * 3, 3 * 1\n",
    "    \n",
    "        bb_tmp = tf.Variable(tf.fill([hidden_layers_size[i+1]],rng.randn()))   #we create a tensorflow variable W having for size (next_layer)\n",
    "        bb[i+1] = bb_tmp    #we add a new key to the dictionary, containing the new layer (key index: 1 2 3 ... to change according to preference)"
   ]
  },
  {
   "cell_type": "code",
   "execution_count": null,
   "metadata": {},
   "outputs": [],
   "source": [
    "print (X.shape)\n",
    "print (W)\n",
    "print (bb)"
   ]
  },
  {
   "cell_type": "code",
   "execution_count": null,
   "metadata": {},
   "outputs": [],
   "source": [
    " # Construct a linear model\n",
    "#hiddenX = tf.nn.xw_plus_b(X,W1,bb1)\n",
    "#pred = tf.nn.xw_plus_b(hiddenX,W2,bb2)\n",
    "\n",
    "hidden_X_tmp = X  #corresponds to the data that we enter (extract_X)\n",
    "hidden_X = {}      #similar to W: creation of a dictionary storing the hidden_X of the different layers\n",
    "i = 1\n",
    "\n",
    "while i <= len(W):\n",
    "    hidden_X_tmp = tf.nn.xw_plus_b(hidden_X_tmp,W[i],bb[i])   #2 times the same values ​​for two neurons of the same layer ... the problem may come from here\n",
    "    hidden_X[i] = hidden_X_tmp\n",
    "    i=i+1\n",
    "\n",
    "print (hidden_X)\n",
    "pred = hidden_X[len(W)]     #pred corresponds to the hidden_X of the last layer - review the indexing?\n",
    "print (pred)"
   ]
  },
  {
   "cell_type": "code",
   "execution_count": null,
   "metadata": {},
   "outputs": [],
   "source": [
    "    # Mean squared error\n",
    "cost_train = tf.reduce_sum(tf.pow(pred-Y, 2))/(2*n_samples_train)\n",
    "cost_valid = tf.reduce_sum(tf.pow(pred-Y, 2))/(2*n_samples_valid)\n",
    "cost_test = tf.reduce_sum(tf.pow(pred-Y, 2))/(2*n_samples_test)\n",
    "    # Gradient descent\n",
    "optimizer = tf.train.GradientDescentOptimizer(learning_rate).minimize(cost_train)"
   ]
  },
  {
   "cell_type": "code",
   "execution_count": null,
   "metadata": {},
   "outputs": [],
   "source": [
    "# Initializing the variables\n",
    "init = tf.global_variables_initializer()\n",
    "\n",
    "# Launch the graph\n",
    "with tf.Session() as sess:\n",
    "    sess.run(init)\n",
    "    \n",
    "   # Fit all training data\n",
    "    for epoch in range(training_epochs):\n",
    "        sess.run(optimizer, feed_dict={X: train_X, Y: train_Y})\n",
    "\n",
    "        #Display logs per epoch step\n",
    "        if (epoch+1) % display_step == 0:\n",
    "            cost = sess.run(cost_train, feed_dict={X: train_X, Y:train_Y})\n",
    "            print (\"Epoch:\", '%04d' % (epoch+1), \"cost=\", \"{:.9f}\".format(cost))\n",
    "            costV = sess.run(cost_valid, feed_dict={X: valid_X, Y: valid_Y})\n",
    "            print (\"Epoch:\", '%04d' % (epoch+1), \"valid_cost=\", \"{:.9f}\".format(costV))\n",
    "\n",
    "    print (\"Optimization Finished!\")\n",
    "    training_cost = sess.run(cost_train, feed_dict={X: train_X, Y: train_Y})\n",
    "    print (\"training_cost = \", training_cost) \n",
    "    test_cost = sess.run(cost_test, feed_dict={X: test_X, Y: test_Y})\n",
    "    print (\"test_cost = \", test_cost)\n",
    "    \n",
    "       #Graphic display\n",
    "        \n",
    "    T = np.arange(0, 0.00625*stim, 0.00625)                       # creation of the time variable (on 1s) for the abscissa\n",
    "    \n",
    "    nbr_elct = len(electi)\n",
    "    (Lo_W, la_W) = W[1].shape\n",
    "    Lo_W = int(Lo_W)                                              # number of lines: inputs (160 * nbr_electrodes, for example)\n",
    "    la_W = int(la_W)                                              # number of columns: number of neurons in the layer\n",
    "    \n",
    "    z=0\n",
    "    while z < nbr_elct:                                           # for each electrode\n",
    "        z_1=0 \n",
    "        while z_1 < la_W:                                         # for each neuron of the W layer [1]\n",
    "            W_tmp = tf.slice(W[1], [0, z_1], [Lo_W, 1])           # slice: starting value [line 0, column of the neuron], dimensions of the section [160 * nbr_electrodes lines, 1 column])\n",
    "            W_tmp = tf.slice(W_tmp, [z*stim, 0], [stim, 1])       # slice: starting value [first value of the new electrode, column 0], dimensions of the section [160 lines, 1 column]\n",
    "            print (W_tmp.shape)\n",
    "            \n",
    "            plt.plot(T, sess.run(W_tmp), label= (\"neurone_\", z_1, \"layer_1, electrode_\", electi[z]))\n",
    "            z_1 = z_1+1\n",
    "            \n",
    "        z = z+1\n",
    "        \n",
    "    plt.legend()    \n",
    "    plt.show()\n",
    "    #plt.close()   "
   ]
  },
  {
   "cell_type": "code",
   "execution_count": null,
   "metadata": {},
   "outputs": [],
   "source": [
    "print(len(T))"
   ]
  },
  {
   "cell_type": "code",
   "execution_count": null,
   "metadata": {},
   "outputs": [],
   "source": []
  }
 ],
 "metadata": {
  "kernelspec": {
   "display_name": "Python 3",
   "language": "python",
   "name": "python3"
  },
  "language_info": {
   "codemirror_mode": {
    "name": "ipython",
    "version": 3
   },
   "file_extension": ".py",
   "mimetype": "text/x-python",
   "name": "python",
   "nbconvert_exporter": "python",
   "pygments_lexer": "ipython3",
   "version": "3.6.8"
  }
 },
 "nbformat": 4,
 "nbformat_minor": 2
}
