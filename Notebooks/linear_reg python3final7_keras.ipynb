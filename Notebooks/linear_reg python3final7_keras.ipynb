{
 "cells": [
  {
   "cell_type": "code",
   "execution_count": 1,
   "metadata": {},
   "outputs": [
    {
     "name": "stderr",
     "output_type": "stream",
     "text": [
      "/home/vasu/PycharmProjects/EEG/test/lib/python3.6/site-packages/tensorflow/python/framework/dtypes.py:526: FutureWarning: Passing (type, 1) or '1type' as a synonym of type is deprecated; in a future version of numpy, it will be understood as (type, (1,)) / '(1,)type'.\n",
      "  _np_qint8 = np.dtype([(\"qint8\", np.int8, 1)])\n",
      "/home/vasu/PycharmProjects/EEG/test/lib/python3.6/site-packages/tensorflow/python/framework/dtypes.py:527: FutureWarning: Passing (type, 1) or '1type' as a synonym of type is deprecated; in a future version of numpy, it will be understood as (type, (1,)) / '(1,)type'.\n",
      "  _np_quint8 = np.dtype([(\"quint8\", np.uint8, 1)])\n",
      "/home/vasu/PycharmProjects/EEG/test/lib/python3.6/site-packages/tensorflow/python/framework/dtypes.py:528: FutureWarning: Passing (type, 1) or '1type' as a synonym of type is deprecated; in a future version of numpy, it will be understood as (type, (1,)) / '(1,)type'.\n",
      "  _np_qint16 = np.dtype([(\"qint16\", np.int16, 1)])\n",
      "/home/vasu/PycharmProjects/EEG/test/lib/python3.6/site-packages/tensorflow/python/framework/dtypes.py:529: FutureWarning: Passing (type, 1) or '1type' as a synonym of type is deprecated; in a future version of numpy, it will be understood as (type, (1,)) / '(1,)type'.\n",
      "  _np_quint16 = np.dtype([(\"quint16\", np.uint16, 1)])\n",
      "/home/vasu/PycharmProjects/EEG/test/lib/python3.6/site-packages/tensorflow/python/framework/dtypes.py:530: FutureWarning: Passing (type, 1) or '1type' as a synonym of type is deprecated; in a future version of numpy, it will be understood as (type, (1,)) / '(1,)type'.\n",
      "  _np_qint32 = np.dtype([(\"qint32\", np.int32, 1)])\n",
      "/home/vasu/PycharmProjects/EEG/test/lib/python3.6/site-packages/tensorflow/python/framework/dtypes.py:535: FutureWarning: Passing (type, 1) or '1type' as a synonym of type is deprecated; in a future version of numpy, it will be understood as (type, (1,)) / '(1,)type'.\n",
      "  np_resource = np.dtype([(\"resource\", np.ubyte, 1)])\n",
      "Using TensorFlow backend.\n"
     ]
    }
   ],
   "source": [
    "import tensorflow as tf\n",
    "import numpy as np\n",
    "import matplotlib as mpl\n",
    "import matplotlib.pyplot as plt\n",
    "import scipy.io as sio\n",
    "rng = np.random\n",
    "from array import array\n",
    "from scipy import stats\n",
    "\n",
    "#Keras import \n",
    "import keras.backend as K\n",
    "from keras.models import Sequential\n",
    "from keras.layers import Dense\n",
    "from keras import optimizers\n",
    "from keras.callbacks import *\n",
    "\n",
    "#import models\n",
    "from Linear_Regression import linear_regression\n",
    "\n",
    "#import datetime for tensorboard\n",
    "from datetime import *\n",
    "\n",
    "#Import for reading the MATLAB files\n",
    "import glob"
   ]
  },
  {
   "cell_type": "code",
   "execution_count": 2,
   "metadata": {},
   "outputs": [],
   "source": [
    "import os\n",
    "os.environ[\"CUDA_VISIBLE_DEVICES\"]=\"1\""
   ]
  },
  {
   "cell_type": "markdown",
   "metadata": {},
   "source": [
    "# Load EEG data of all subjects "
   ]
  },
  {
   "cell_type": "code",
   "execution_count": 3,
   "metadata": {},
   "outputs": [],
   "source": [
    "def load_eeg_data():\n",
    "    '''\n",
    "    Function to load EEG data of all subjects \n",
    "    '''\n",
    "    eeg_data = []\n",
    "    for name in glob.glob('*.mat'):\n",
    "        # data import from matlab\n",
    "        subject = sio.loadmat(name)   #Load the matlab file for a single subject \n",
    "        data_subject = subject['data']\n",
    "\n",
    "\n",
    "        # shuffle trials\n",
    "        (channel, trial, time_points)= data_subject.shape\n",
    "\n",
    "        trials = np.arange(trial)\n",
    "        np.random.shuffle(trials)\n",
    "\n",
    "        #Z score\n",
    "        data_subject=stats.zscore(format_1, axis=2)\n",
    "        \n",
    "        eeg_data.append(data_subject)\n",
    "    return np.array(eeg_data)    \n",
    "        "
   ]
  },
  {
   "cell_type": "code",
   "execution_count": 4,
   "metadata": {
    "scrolled": true
   },
   "outputs": [
    {
     "name": "stdout",
     "output_type": "stream",
     "text": [
      "(65, 192, 1000)\n",
      "(65, 192, 1000)\n"
     ]
    }
   ],
   "source": [
    "#Load data for only a single subject as of now for the purpose of prototyping \n",
    "\n",
    "\n",
    "# data import from matlab\n",
    "subject_1 = sio.loadmat('1.mat')      #recovering matlab data in the form of a python dictionar\n",
    "format_1 = subject_1['data']          #in the dictionary, only the data key interests us\n",
    "print (format_1.shape)\n",
    "\n",
    "# shuffle trials\n",
    "(channel, trial, time_points)= format_1.shape\n",
    "\n",
    "trials = np.arange(trial)\n",
    "np.random.shuffle(trials)\n",
    "\n",
    "#Z score\n",
    "format_1=stats.zscore(format_1, axis=2)\n",
    "\n",
    "\n",
    "# data import from matlab\n",
    "subject_1 = sio.loadmat('1.mat')      #recovering matlab data in the form of a python dictionar\n",
    "format_1 = subject_1['data']          #in the dictionary, only the data key interests us\n",
    "print (format_1.shape)\n",
    "\n",
    "# shuffle trials\n",
    "(channel, trial, time_points)= format_1.shape\n",
    "\n",
    "trials = np.arange(trial)\n",
    "np.random.shuffle(trials)\n",
    "\n",
    "#Z score\n",
    "format_1=stats.zscore(format_1, axis=2)"
   ]
  },
  {
   "cell_type": "code",
   "execution_count": 5,
   "metadata": {},
   "outputs": [],
   "source": [
    "eeg_data = load_eeg_data()"
   ]
  },
  {
   "cell_type": "code",
   "execution_count": 6,
   "metadata": {},
   "outputs": [
    {
     "name": "stdout",
     "output_type": "stream",
     "text": [
      "<class 'numpy.ndarray'>\n"
     ]
    }
   ],
   "source": [
    "print(type(format_1))"
   ]
  },
  {
   "cell_type": "code",
   "execution_count": 8,
   "metadata": {},
   "outputs": [
    {
     "name": "stdout",
     "output_type": "stream",
     "text": [
      "Enter the electrode number:30\n",
      "<class 'list'>\n",
      "[30]\n",
      "Enter the number of stimuli:160\n",
      "Please define what should be predicted (1 for EEG or 2 for stimulus):1\n",
      "please specify the number of layers and neurons per desired layers: 1\n",
      "[1]\n",
      "<class 'list'>\n",
      "enter the lambda / learning rate: 0.1\n"
     ]
    }
   ],
   "source": [
    "# parametres\n",
    "\n",
    "eltmp = input ('''Enter the electrode number:''')\n",
    "electi = list(map(int, eltmp.split()))    #separation of the different responses and recovery in the form of a list of integers\n",
    "print (type(electi))\n",
    "print(electi)\n",
    "\n",
    "stim = input ('''Enter the number of stimuli:''')\n",
    "stim = int(stim)\n",
    "\n",
    "relation = input('''Please define what should be predicted (1 for EEG or 2 for stimulus):''')\n",
    "\n",
    "if relation == '1':\n",
    "    source_Y = electi[0]    #retrieving the electrode number as a whole number - implies that there is only one electrode chosen in this direction\n",
    "    source_X = [0]          #conversion of the stimuli line in the form of a list - necessary for the for loop: see below - extraction X\n",
    "\n",
    "elif relation == '2':\n",
    "    format_1 = np.flip(format_1,2)     # data inversion according to the time dimension - problem ????\n",
    "    source_Y = 0\n",
    "    source_X = electi\n",
    "\n",
    "hiLaSi_tmp = input('''please specify the number of layers and neurons per desired layers: ''')\n",
    "hidden_layers_size = list(map(int, hiLaSi_tmp.split()))\n",
    "print (hidden_layers_size)\n",
    "print (type(hidden_layers_size))\n",
    "\n",
    "learning_rate = input('''enter the lambda / learning rate: ''')\n",
    "learning_rate = float(learning_rate)      # conversion as a decimal number"
   ]
  },
  {
   "cell_type": "code",
   "execution_count": 9,
   "metadata": {},
   "outputs": [],
   "source": [
    "def split_data(data):\n",
    "    (subject, channel, trial, time_points) = data.shape\n",
    "    \n",
    "    #Sepration of train train / valid / test sets into 80 %, 10 % and 10 % of the data respectively.\n",
    "    \n",
    "    train_num = int(np.around(len(trials) * 0.8))\n",
    "    valid_num = int(np.around(len(trials) * 0.1))\n",
    "    test_num = len(trials) - train_num - valid_num\n",
    "    \n",
    "    "
   ]
  },
  {
   "cell_type": "code",
   "execution_count": 10,
   "metadata": {},
   "outputs": [],
   "source": [
    "#### separation of train tests / valid / test\n",
    "\n",
    "train_num = int(np.around(len(trials) * 0.8))\n",
    "valid_num = int(np.around(len(trials) * 0.1))\n",
    "test_num = len(trials) - train_num - valid_num\n",
    "\n",
    "trials_train = trials[0:train_num]\n",
    "trials_valid = trials[train_num:train_num+valid_num]\n",
    "trials_test = trials[train_num+valid_num:]"
   ]
  },
  {
   "cell_type": "code",
   "execution_count": 11,
   "metadata": {},
   "outputs": [
    {
     "name": "stdout",
     "output_type": "stream",
     "text": [
      "y_train.shape =  (129360, 1)\n",
      "y_valid.shape =  (15960, 1)\n",
      "y_test.shape =  (15960, 1)\n"
     ]
    }
   ],
   "source": [
    "# extract data from format_1\n",
    "\n",
    "def extract_Y (batch_trials, batch_num):              #creation of a function to recover y - simplification of reading\n",
    "    \n",
    "    y_tmp=format_1[source_Y, batch_trials, stim:]     #recovery of Y in the form of a matrix of 154 * 840\n",
    "    y_tmp=np.reshape(y_tmp, ((time_points-stim)*batch_num))    #passage through the list of 129 360 values ​​(test 0, test 1, ... test 153)\n",
    "    y_tmp=np.matrix(y_tmp)                           #1 * 129360 matrix conversion\n",
    "    y_tmp=np.transpose(y_tmp)                        #transposition into a matrix of 129360 * 1, matrix equal to that of Matlab (necessary for the rest)\n",
    "    return y_tmp                                     #returns the content of y_tmp\n",
    "    \n",
    "y_train = extract_Y (trials_train, train_num)\n",
    "print (\"y_train.shape = \", y_train.shape)\n",
    "y_valid = extract_Y (trials_valid, valid_num)\n",
    "print (\"y_valid.shape = \", y_valid.shape)\n",
    "y_test = extract_Y (trials_test, test_num)\n",
    "print (\"y_test.shape = \", y_test.shape)"
   ]
  },
  {
   "cell_type": "code",
   "execution_count": 12,
   "metadata": {},
   "outputs": [
    {
     "name": "stdout",
     "output_type": "stream",
     "text": [
      "x_train.shape =  (129360, 160)\n",
      "x_valid.shape =  (15960, 160)\n",
      "x_test.shape =  (15960, 160)\n"
     ]
    }
   ],
   "source": [
    "def extract_X (batch_trials, batch_num):                     #creation of a function to recover x - simplification of reading\n",
    "    x_tmp = [[]]*((time_points-stim)*batch_num)                       #creation of an empty list x_tmp of size (129630,)\n",
    "    x_tmp = np.matrix(x_tmp)                                #conversion as a matrix 129630 * 0 (number of lines good)\n",
    "    x_tmp = np.transpose(x_tmp)                             #transposition 1: form 0 * 129630, necessary at n.append\n",
    "                                                            #avoid the transposition line in the for loop (2 transpo instead of 160\n",
    "    for i in source_X:                                      #reading the source list -> reading each electrode number if flip\n",
    "        k = 0\n",
    "        while k < stim:                                     #160 loops - recovery of the 840 values ​​of each test (in the form test 1, test 2, ...), shifted by 1 at each iteration\n",
    "            tmp = format_1[i, batch_trials, k:(time_points-stim+k)]    #see extract_Y\n",
    "            tmp = np.reshape(tmp,((time_points-stim)*batch_num))\n",
    "            tmp = np.matrix(tmp)\n",
    "            \n",
    "            x_tmp = np.append(x_tmp, tmp, axis=0)           #concatenation of the matrix tmp 1 * 129360 at the end of the matrix x_tmp (k + 1) * 129360\n",
    "            k = k+1\n",
    "    x_tmp = np.transpose(x_tmp)                             #transposition 2: form 129360 * (160 * nbr_électrode)\n",
    "    return x_tmp\n",
    "        \n",
    "x_train = extract_X (trials_train, train_num)\n",
    "print (\"x_train.shape = \", x_train.shape)\n",
    "x_valid = extract_X (trials_valid, valid_num)\n",
    "print (\"x_valid.shape = \", x_valid.shape)\n",
    "x_test = extract_X (trials_test, test_num)\n",
    "print (\"x_test.shape = \", x_test.shape)"
   ]
  },
  {
   "cell_type": "code",
   "execution_count": 13,
   "metadata": {},
   "outputs": [
    {
     "name": "stdout",
     "output_type": "stream",
     "text": [
      "(129360, 160)\n",
      "(129360, 1)\n"
     ]
    }
   ],
   "source": [
    "#tensorflow - Linear regression cf github\n",
    "\n",
    "training_epochs = 100\n",
    "display_step = 10\n",
    "\n",
    "train_X = x_train\n",
    "print(train_X.shape)\n",
    "train_Y = y_train\n",
    "print(train_Y.shape)\n",
    "n_samples_train = train_X.shape[0]\n",
    "\n",
    "valid_X = x_valid\n",
    "valid_Y = y_valid\n",
    "n_samples_valid = valid_X.shape[0]\n",
    "\n",
    "test_X = x_test\n",
    "test_Y = y_test\n",
    "n_samples_test = test_X.shape[0]"
   ]
  },
  {
   "cell_type": "code",
   "execution_count": 14,
   "metadata": {},
   "outputs": [
    {
     "name": "stdout",
     "output_type": "stream",
     "text": [
      "WARNING:tensorflow:From /home/vasu/PycharmProjects/EEG/test/lib/python3.6/site-packages/tensorflow/python/ops/resource_variable_ops.py:435: colocate_with (from tensorflow.python.framework.ops) is deprecated and will be removed in a future version.\n",
      "Instructions for updating:\n",
      "Colocations handled automatically by placer.\n"
     ]
    },
    {
     "name": "stderr",
     "output_type": "stream",
     "text": [
      "/home/vasu/PycharmProjects/EEG/Notebooks/Linear_Regression.py:18: UserWarning: Update your `Model` call to the Keras 2 API: `Model(inputs=Tensor(\"in..., outputs=Tensor(\"de...)`\n",
      "  model = Model(inputs = X , output = out)\n"
     ]
    }
   ],
   "source": [
    "#Define Keras Model \n",
    "model = linear_regression(train_X.shape[1])\n"
   ]
  },
  {
   "cell_type": "code",
   "execution_count": 15,
   "metadata": {},
   "outputs": [
    {
     "name": "stdout",
     "output_type": "stream",
     "text": [
      "Model: \"model_1\"\n",
      "_________________________________________________________________\n",
      "Layer (type)                 Output Shape              Param #   \n",
      "=================================================================\n",
      "input_1 (InputLayer)         (None, 160)               0         \n",
      "_________________________________________________________________\n",
      "dense_1 (Dense)              (None, 1)                 161       \n",
      "=================================================================\n",
      "Total params: 161\n",
      "Trainable params: 161\n",
      "Non-trainable params: 0\n",
      "_________________________________________________________________\n"
     ]
    }
   ],
   "source": [
    "model.summary()"
   ]
  },
  {
   "cell_type": "code",
   "execution_count": 16,
   "metadata": {},
   "outputs": [],
   "source": [
    "#Set Up Tensorboard for visualisation for training\n",
    "logdir = \"logs/scalars/\" + datetime.now().strftime(\"%Y%m%d-%H%M%S\")\n",
    "tensorboard_callback = TensorBoard(log_dir=logdir)\n"
   ]
  },
  {
   "cell_type": "code",
   "execution_count": 17,
   "metadata": {},
   "outputs": [],
   "source": [
    "#Define training Loss \n",
    "def mse(y_true, y_pred):\n",
    "    return (K.mean(K.square(y_pred - y_true), axis = -1)) / 2"
   ]
  },
  {
   "cell_type": "code",
   "execution_count": 20,
   "metadata": {},
   "outputs": [],
   "source": [
    "#Set up the Optimizers\n",
    "sgd = optimizers.SGD(learning_rate)\n",
    "adam = optimizers.Adam(lr = learning_rate)\n",
    "rmsprop = optimizers.RMSprop(lr = learning_rate)\n",
    "\n",
    "#Compile the model\n",
    "model.compile(loss = \"mse\", optimizer = sgd , metrics=[\"mse\"])"
   ]
  },
  {
   "cell_type": "code",
   "execution_count": null,
   "metadata": {},
   "outputs": [
    {
     "name": "stdout",
     "output_type": "stream",
     "text": [
      "WARNING:tensorflow:From /home/vasu/PycharmProjects/EEG/test/lib/python3.6/site-packages/tensorflow/python/ops/math_ops.py:3066: to_int32 (from tensorflow.python.ops.math_ops) is deprecated and will be removed in a future version.\n",
      "Instructions for updating:\n",
      "Use tf.cast instead.\n",
      "Train on 129360 samples, validate on 15960 samples\n",
      "Epoch 1/100\n",
      "129360/129360 [==============================] - 7s 55us/step - loss: 2.1081 - mse: 2.1081 - val_loss: 2.6415 - val_mse: 2.6415\n",
      "Epoch 2/100\n",
      "129360/129360 [==============================] - 7s 53us/step - loss: 2.1195 - mse: 2.1195 - val_loss: 2.3997 - val_mse: 2.3997\n",
      "Epoch 3/100\n",
      "129360/129360 [==============================] - 7s 54us/step - loss: 2.1283 - mse: 2.1283 - val_loss: 2.6073 - val_mse: 2.6073\n",
      "Epoch 4/100\n",
      "129360/129360 [==============================] - 7s 54us/step - loss: 2.1207 - mse: 2.1206 - val_loss: 2.8408 - val_mse: 2.8408\n",
      "Epoch 5/100\n",
      "129360/129360 [==============================] - 7s 54us/step - loss: 2.1234 - mse: 2.1234 - val_loss: 2.4467 - val_mse: 2.4467\n",
      "Epoch 6/100\n",
      "129360/129360 [==============================] - 7s 53us/step - loss: 2.1286 - mse: 2.1286 - val_loss: 2.5251 - val_mse: 2.5251\n",
      "Epoch 7/100\n",
      "129360/129360 [==============================] - 7s 53us/step - loss: 2.1180 - mse: 2.1180 - val_loss: 2.4206 - val_mse: 2.4206\n",
      "Epoch 8/100\n",
      "129360/129360 [==============================] - 7s 53us/step - loss: 2.1225 - mse: 2.1225 - val_loss: 2.4175 - val_mse: 2.4175\n",
      "Epoch 9/100\n",
      "129360/129360 [==============================] - 7s 53us/step - loss: 2.1343 - mse: 2.1343 - val_loss: 2.4992 - val_mse: 2.4992\n",
      "Epoch 10/100\n",
      "129360/129360 [==============================] - 7s 53us/step - loss: 2.1338 - mse: 2.1338 - val_loss: 2.8775 - val_mse: 2.8775\n",
      "Epoch 11/100\n",
      "129360/129360 [==============================] - 7s 54us/step - loss: 2.1152 - mse: 2.1152 - val_loss: 2.8782 - val_mse: 2.8782\n",
      "Epoch 12/100\n",
      "129360/129360 [==============================] - 7s 53us/step - loss: 2.1266 - mse: 2.1266 - val_loss: 2.6580 - val_mse: 2.6580\n",
      "Epoch 13/100\n",
      "129360/129360 [==============================] - 7s 53us/step - loss: 2.1387 - mse: 2.1387 - val_loss: 3.1646 - val_mse: 3.1646\n",
      "Epoch 14/100\n",
      "129360/129360 [==============================] - 7s 53us/step - loss: 2.1089 - mse: 2.1089 - val_loss: 2.8003 - val_mse: 2.8003\n",
      "Epoch 15/100\n",
      "129360/129360 [==============================] - 7s 54us/step - loss: 2.1210 - mse: 2.1210 - val_loss: 2.8149 - val_mse: 2.8149\n",
      "Epoch 16/100\n",
      "129360/129360 [==============================] - 7s 53us/step - loss: 2.1238 - mse: 2.1238 - val_loss: 2.8491 - val_mse: 2.8491\n",
      "Epoch 17/100\n",
      "129360/129360 [==============================] - 7s 54us/step - loss: 2.1226 - mse: 2.1226 - val_loss: 2.5071 - val_mse: 2.5071\n",
      "Epoch 18/100\n",
      "129360/129360 [==============================] - 7s 53us/step - loss: 2.1401 - mse: 2.1401 - val_loss: 2.8288 - val_mse: 2.8288\n",
      "Epoch 19/100\n",
      "129360/129360 [==============================] - 7s 53us/step - loss: 2.1295 - mse: 2.1295 - val_loss: 2.2573 - val_mse: 2.2573\n",
      "Epoch 20/100\n",
      "129360/129360 [==============================] - 7s 53us/step - loss: 2.1329 - mse: 2.1329 - val_loss: 2.7648 - val_mse: 2.7648\n",
      "Epoch 21/100\n",
      "129360/129360 [==============================] - 7s 53us/step - loss: 2.1259 - mse: 2.1259 - val_loss: 3.3549 - val_mse: 3.3549\n",
      "Epoch 22/100\n",
      "129360/129360 [==============================] - 7s 52us/step - loss: 2.1347 - mse: 2.1347 - val_loss: 2.5371 - val_mse: 2.5371\n",
      "Epoch 23/100\n",
      "129360/129360 [==============================] - 7s 54us/step - loss: 2.1140 - mse: 2.1140 - val_loss: 2.4851 - val_mse: 2.4851\n",
      "Epoch 24/100\n",
      "129360/129360 [==============================] - 7s 53us/step - loss: 2.1277 - mse: 2.1277 - val_loss: 2.4311 - val_mse: 2.4311\n",
      "Epoch 25/100\n",
      "129360/129360 [==============================] - 7s 53us/step - loss: 2.1294 - mse: 2.1294 - val_loss: 2.4217 - val_mse: 2.4217\n",
      "Epoch 26/100\n",
      "129360/129360 [==============================] - 7s 53us/step - loss: 2.1157 - mse: 2.1157 - val_loss: 2.9226 - val_mse: 2.9226\n",
      "Epoch 27/100\n",
      "129360/129360 [==============================] - 7s 53us/step - loss: 2.1086 - mse: 2.1086 - val_loss: 2.3430 - val_mse: 2.3430\n",
      "Epoch 28/100\n",
      "129360/129360 [==============================] - 7s 54us/step - loss: 2.1279 - mse: 2.1279 - val_loss: 2.5675 - val_mse: 2.5675\n",
      "Epoch 29/100\n",
      "129360/129360 [==============================] - 7s 52us/step - loss: 2.1113 - mse: 2.1113 - val_loss: 2.4487 - val_mse: 2.4487\n",
      "Epoch 30/100\n",
      "129360/129360 [==============================] - 7s 54us/step - loss: 2.1127 - mse: 2.1127 - val_loss: 2.6557 - val_mse: 2.6557\n",
      "Epoch 31/100\n",
      "129360/129360 [==============================] - 7s 53us/step - loss: 2.1249 - mse: 2.1250 - val_loss: 2.8566 - val_mse: 2.8566\n",
      "Epoch 32/100\n",
      "129360/129360 [==============================] - 7s 54us/step - loss: 2.1184 - mse: 2.1184 - val_loss: 2.6095 - val_mse: 2.6095\n",
      "Epoch 33/100\n",
      "129360/129360 [==============================] - 7s 54us/step - loss: 2.1066 - mse: 2.1066 - val_loss: 2.7182 - val_mse: 2.7182\n",
      "Epoch 34/100\n",
      "129360/129360 [==============================] - 7s 53us/step - loss: 2.1177 - mse: 2.1177 - val_loss: 2.8199 - val_mse: 2.8199\n",
      "Epoch 35/100\n",
      "129360/129360 [==============================] - 7s 53us/step - loss: 2.1477 - mse: 2.1477 - val_loss: 2.5463 - val_mse: 2.5463\n",
      "Epoch 36/100\n",
      "129360/129360 [==============================] - 7s 53us/step - loss: 2.1095 - mse: 2.1095 - val_loss: 2.2325 - val_mse: 2.2325\n",
      "Epoch 37/100\n",
      "129360/129360 [==============================] - 7s 53us/step - loss: 2.1273 - mse: 2.1273 - val_loss: 2.2228 - val_mse: 2.2228\n",
      "Epoch 38/100\n",
      "129360/129360 [==============================] - 7s 53us/step - loss: 2.1249 - mse: 2.1249 - val_loss: 2.5627 - val_mse: 2.5627\n",
      "Epoch 39/100\n",
      "129360/129360 [==============================] - 7s 53us/step - loss: 2.1381 - mse: 2.1381 - val_loss: 3.0051 - val_mse: 3.0051\n",
      "Epoch 40/100\n",
      "129360/129360 [==============================] - 7s 53us/step - loss: 2.1170 - mse: 2.1170 - val_loss: 2.7113 - val_mse: 2.7113\n",
      "Epoch 41/100\n",
      "129360/129360 [==============================] - 7s 53us/step - loss: 2.1367 - mse: 2.1367 - val_loss: 2.1438 - val_mse: 2.1438\n",
      "Epoch 42/100\n",
      "129360/129360 [==============================] - 7s 52us/step - loss: 2.1247 - mse: 2.1247 - val_loss: 2.5521 - val_mse: 2.5521\n",
      "Epoch 43/100\n",
      "129360/129360 [==============================] - 7s 52us/step - loss: 2.1212 - mse: 2.1212 - val_loss: 2.7101 - val_mse: 2.7101\n",
      "Epoch 44/100\n",
      "129360/129360 [==============================] - 7s 53us/step - loss: 2.1126 - mse: 2.1126 - val_loss: 2.8084 - val_mse: 2.8084\n",
      "Epoch 45/100\n",
      "129360/129360 [==============================] - 7s 52us/step - loss: 2.1288 - mse: 2.1288 - val_loss: 2.5327 - val_mse: 2.5327\n",
      "Epoch 46/100\n",
      "129360/129360 [==============================] - 7s 54us/step - loss: 2.1179 - mse: 2.1179 - val_loss: 2.1195 - val_mse: 2.1195\n",
      "Epoch 47/100\n",
      "129360/129360 [==============================] - 7s 54us/step - loss: 2.1257 - mse: 2.1257 - val_loss: 2.7466 - val_mse: 2.7466\n",
      "Epoch 48/100\n",
      "129360/129360 [==============================] - 7s 55us/step - loss: 2.1194 - mse: 2.1194 - val_loss: 2.1788 - val_mse: 2.1788\n",
      "Epoch 49/100\n",
      "129360/129360 [==============================] - 7s 53us/step - loss: 2.1230 - mse: 2.1230 - val_loss: 2.9397 - val_mse: 2.9397\n",
      "Epoch 50/100\n",
      "129360/129360 [==============================] - 7s 54us/step - loss: 2.1223 - mse: 2.1223 - val_loss: 2.4280 - val_mse: 2.4280\n",
      "Epoch 51/100\n",
      "129360/129360 [==============================] - 7s 53us/step - loss: 2.1380 - mse: 2.1380 - val_loss: 2.6048 - val_mse: 2.6048\n",
      "Epoch 52/100\n",
      "129360/129360 [==============================] - 7s 53us/step - loss: 2.1265 - mse: 2.1266 - val_loss: 2.8091 - val_mse: 2.8091\n",
      "Epoch 53/100\n",
      "129360/129360 [==============================] - 7s 52us/step - loss: 2.1343 - mse: 2.1343 - val_loss: 2.4163 - val_mse: 2.4163\n",
      "Epoch 54/100\n",
      "129360/129360 [==============================] - 7s 52us/step - loss: 2.1267 - mse: 2.1267 - val_loss: 2.6789 - val_mse: 2.6789\n",
      "Epoch 55/100\n",
      "129360/129360 [==============================] - 7s 51us/step - loss: 2.1244 - mse: 2.1244 - val_loss: 2.5619 - val_mse: 2.5619\n",
      "Epoch 56/100\n",
      "129360/129360 [==============================] - 7s 52us/step - loss: 2.1209 - mse: 2.1209 - val_loss: 2.5121 - val_mse: 2.5121\n"
     ]
    },
    {
     "name": "stdout",
     "output_type": "stream",
     "text": [
      "Epoch 57/100\n",
      "129360/129360 [==============================] - 7s 53us/step - loss: 2.1175 - mse: 2.1175 - val_loss: 2.2652 - val_mse: 2.2652\n",
      "Epoch 58/100\n",
      "129360/129360 [==============================] - 7s 53us/step - loss: 2.1161 - mse: 2.1161 - val_loss: 2.6936 - val_mse: 2.6936\n",
      "Epoch 59/100\n",
      "129360/129360 [==============================] - 7s 53us/step - loss: 2.1023 - mse: 2.1023 - val_loss: 2.5479 - val_mse: 2.5479\n",
      "Epoch 60/100\n",
      "129360/129360 [==============================] - 7s 51us/step - loss: 2.1194 - mse: 2.1194 - val_loss: 2.6097 - val_mse: 2.6097\n",
      "Epoch 61/100\n",
      "129360/129360 [==============================] - 7s 51us/step - loss: 2.1152 - mse: 2.1152 - val_loss: 2.3563 - val_mse: 2.3563\n",
      "Epoch 62/100\n",
      "129360/129360 [==============================] - 7s 53us/step - loss: 2.1220 - mse: 2.1220 - val_loss: 2.4290 - val_mse: 2.4290\n",
      "Epoch 63/100\n",
      "129360/129360 [==============================] - 7s 53us/step - loss: 2.1289 - mse: 2.1289 - val_loss: 3.1407 - val_mse: 3.1407\n",
      "Epoch 64/100\n",
      "129360/129360 [==============================] - 7s 53us/step - loss: 2.1205 - mse: 2.1205 - val_loss: 2.9053 - val_mse: 2.9053\n",
      "Epoch 65/100\n",
      "129360/129360 [==============================] - 7s 53us/step - loss: 2.1144 - mse: 2.1144 - val_loss: 2.7579 - val_mse: 2.7579\n",
      "Epoch 66/100\n",
      "129360/129360 [==============================] - 7s 53us/step - loss: 2.1111 - mse: 2.1111 - val_loss: 3.2231 - val_mse: 3.2231\n",
      "Epoch 67/100\n",
      "129360/129360 [==============================] - 7s 53us/step - loss: 2.1251 - mse: 2.1251 - val_loss: 3.1557 - val_mse: 3.1557\n",
      "Epoch 68/100\n",
      "129360/129360 [==============================] - 7s 53us/step - loss: 2.1164 - mse: 2.1164 - val_loss: 2.6117 - val_mse: 2.6117\n",
      "Epoch 69/100\n",
      "129360/129360 [==============================] - 7s 53us/step - loss: 2.1197 - mse: 2.1197 - val_loss: 2.6273 - val_mse: 2.6273\n",
      "Epoch 70/100\n",
      "129360/129360 [==============================] - 7s 53us/step - loss: 2.1197 - mse: 2.1197 - val_loss: 2.4190 - val_mse: 2.4190\n",
      "Epoch 71/100\n",
      "129360/129360 [==============================] - 7s 51us/step - loss: 2.1217 - mse: 2.1217 - val_loss: 2.1839 - val_mse: 2.1839\n",
      "Epoch 72/100\n",
      "129360/129360 [==============================] - 7s 53us/step - loss: 2.1270 - mse: 2.1270 - val_loss: 2.4690 - val_mse: 2.4690\n",
      "Epoch 73/100\n",
      "129360/129360 [==============================] - 7s 52us/step - loss: 2.1257 - mse: 2.1257 - val_loss: 2.7592 - val_mse: 2.7592\n",
      "Epoch 74/100\n",
      "129360/129360 [==============================] - 7s 51us/step - loss: 2.1274 - mse: 2.1274 - val_loss: 2.8169 - val_mse: 2.8169\n",
      "Epoch 75/100\n",
      "129360/129360 [==============================] - 7s 51us/step - loss: 2.1121 - mse: 2.1121 - val_loss: 2.9125 - val_mse: 2.9125\n",
      "Epoch 76/100\n",
      "129360/129360 [==============================] - 7s 52us/step - loss: 2.1196 - mse: 2.1196 - val_loss: 2.5926 - val_mse: 2.5926\n",
      "Epoch 77/100\n",
      "129360/129360 [==============================] - 7s 51us/step - loss: 2.1304 - mse: 2.1304 - val_loss: 2.6472 - val_mse: 2.6472\n",
      "Epoch 78/100\n",
      "129360/129360 [==============================] - 7s 53us/step - loss: 2.1133 - mse: 2.1133 - val_loss: 2.3405 - val_mse: 2.3405\n",
      "Epoch 79/100\n",
      "129360/129360 [==============================] - 7s 52us/step - loss: 2.1350 - mse: 2.1350 - val_loss: 2.5248 - val_mse: 2.5247\n",
      "Epoch 80/100\n",
      "129360/129360 [==============================] - 7s 53us/step - loss: 2.1155 - mse: 2.1155 - val_loss: 2.6986 - val_mse: 2.6986\n",
      "Epoch 81/100\n",
      "129360/129360 [==============================] - 7s 51us/step - loss: 2.1378 - mse: 2.1378 - val_loss: 2.6952 - val_mse: 2.6952\n",
      "Epoch 82/100\n",
      "129360/129360 [==============================] - 7s 51us/step - loss: 2.1080 - mse: 2.1080 - val_loss: 2.5861 - val_mse: 2.5861\n",
      "Epoch 83/100\n",
      "129360/129360 [==============================] - 6s 50us/step - loss: 2.1205 - mse: 2.1205 - val_loss: 2.8793 - val_mse: 2.8793\n",
      "Epoch 84/100\n",
      "129360/129360 [==============================] - 7s 51us/step - loss: 2.1141 - mse: 2.1141 - val_loss: 2.5596 - val_mse: 2.5596\n",
      "Epoch 85/100\n",
      "129360/129360 [==============================] - 7s 52us/step - loss: 2.1227 - mse: 2.1227 - val_loss: 2.4090 - val_mse: 2.4090\n",
      "Epoch 86/100\n",
      "129360/129360 [==============================] - 6s 50us/step - loss: 2.1232 - mse: 2.1232 - val_loss: 2.6287 - val_mse: 2.6287\n",
      "Epoch 87/100\n",
      "129360/129360 [==============================] - 7s 51us/step - loss: 2.1197 - mse: 2.1197 - val_loss: 2.5885 - val_mse: 2.5885\n",
      "Epoch 88/100\n",
      "129360/129360 [==============================] - 7s 52us/step - loss: 2.0979 - mse: 2.0979 - val_loss: 2.6423 - val_mse: 2.6423\n",
      "Epoch 89/100\n",
      "129360/129360 [==============================] - 7s 51us/step - loss: 2.1095 - mse: 2.1095 - val_loss: 2.5240 - val_mse: 2.5240\n",
      "Epoch 90/100\n",
      "129360/129360 [==============================] - 7s 52us/step - loss: 2.1157 - mse: 2.1157 - val_loss: 2.5462 - val_mse: 2.5462\n",
      "Epoch 91/100\n",
      "129360/129360 [==============================] - 6s 50us/step - loss: 2.1286 - mse: 2.1286 - val_loss: 2.5046 - val_mse: 2.5046\n",
      "Epoch 92/100\n",
      "129360/129360 [==============================] - 7s 52us/step - loss: 2.1190 - mse: 2.1190 - val_loss: 2.4796 - val_mse: 2.4796\n",
      "Epoch 93/100\n",
      "129360/129360 [==============================] - 7s 53us/step - loss: 2.1257 - mse: 2.1257 - val_loss: 2.9412 - val_mse: 2.9412\n",
      "Epoch 94/100\n",
      "129360/129360 [==============================] - 7s 53us/step - loss: 2.1198 - mse: 2.1198 - val_loss: 2.4366 - val_mse: 2.4366\n",
      "Epoch 95/100\n",
      "129360/129360 [==============================] - 7s 52us/step - loss: 2.1261 - mse: 2.1261 - val_loss: 2.6558 - val_mse: 2.6558\n",
      "Epoch 96/100\n",
      "129360/129360 [==============================] - 7s 52us/step - loss: 2.1136 - mse: 2.1136 - val_loss: 2.4068 - val_mse: 2.4068\n",
      "Epoch 97/100\n",
      "129360/129360 [==============================] - 7s 53us/step - loss: 2.1144 - mse: 2.1144 - val_loss: 2.2737 - val_mse: 2.2737\n",
      "Epoch 98/100\n",
      "129360/129360 [==============================] - 7s 52us/step - loss: 2.1012 - mse: 2.1012 - val_loss: 2.3667 - val_mse: 2.3667\n",
      "Epoch 99/100\n",
      "128992/129360 [============================>.] - ETA: 0s - loss: 2.1209 - mse: 2.1209"
     ]
    }
   ],
   "source": [
    "#Fit the model with the Data\n",
    "model.fit(\n",
    "    train_X, \n",
    "    train_Y, \n",
    "    epochs = training_epochs, \n",
    "    validation_data = (valid_X, valid_Y), \n",
    "    verbose = 1,\n",
    "    callbacks = [tensorboard_callback])"
   ]
  },
  {
   "cell_type": "code",
   "execution_count": 57,
   "metadata": {},
   "outputs": [
    {
     "name": "stdout",
     "output_type": "stream",
     "text": [
      "15960/15960 [==============================] - 0s 26us/step\n",
      "Test Loss: 0.9876116983125682\n"
     ]
    }
   ],
   "source": [
    "score = model.evaluate(test_X, test_Y)\n",
    "print(\"Test Loss:\", score[0])\n"
   ]
  },
  {
   "cell_type": "code",
   "execution_count": 58,
   "metadata": {},
   "outputs": [
    {
     "data": {
      "text/plain": [
       "[<matplotlib.lines.Line2D at 0x7f485e8e3828>]"
      ]
     },
     "execution_count": 58,
     "metadata": {},
     "output_type": "execute_result"
    },
    {
     "data": {
      "image/png": "[encoded data removed]",
      "text/plain": [
       "<Figure size 432x288 with 1 Axes>"
      ]
     },
     "metadata": {
      "needs_background": "light"
     },
     "output_type": "display_data"
    }
   ],
   "source": [
    "weights = model.get_weights() #Extract the weight of the model\n",
    "T = np.arange(0, 0.00625*stim, 0.00625) #Time interval of 1 sec containing stimuli points \n",
    "plt.plot(T, weights[0])"
   ]
  },
  {
   "cell_type": "code",
   "execution_count": 29,
   "metadata": {},
   "outputs": [
    {
     "name": "stdout",
     "output_type": "stream",
     "text": [
      "[160, 1]\n"
     ]
    }
   ],
   "source": [
    "    # tf Graph Input\n",
    "(size_L, size_C) = train_X.shape\n",
    "X = tf.placeholder(\"float\", [None,size_C])\n",
    "Y = tf.placeholder(\"float\",[None,1])\n",
    "\n",
    "W={}   #creation of a dictionary W, each key of the dictionary will contain the weights of a layer\n",
    "bb={}    #same for baby\n",
    "\n",
    "    # Set model weights\n",
    "hidden_layers_size = [size_C]+hidden_layers_size    #we add the number of columns of the base matrix (ex: 160) to the list of layers\n",
    "print(hidden_layers_size)                           # ex : 160 2 3 1\n",
    "\n",
    "for i,j in enumerate(hidden_layers_size[:-1]):\n",
    "        W_tmp = tf.Variable(tf.fill([j,hidden_layers_size[i+1]],rng.randn()))  # For each index i having the value j excluding the last layer (ex: 0: 160, 1: 2, 2: 3)\n",
    "        W[i+1] = W_tmp   #we create a tensorflow variable W having for size (layer * next_layer) #ex: 3 layers W: 160 * 2, 2 * 3, 3 * 1\n",
    "    \n",
    "        bb_tmp = tf.Variable(tf.fill([hidden_layers_size[i+1]],rng.randn()))   #we create a tensorflow variable W having for size (next_layer)\n",
    "        bb[i+1] = bb_tmp    #we add a new key to the dictionary, containing the new layer (key index: 1 2 3 ... to change according to preference)"
   ]
  },
  {
   "cell_type": "code",
   "execution_count": 30,
   "metadata": {},
   "outputs": [
    {
     "name": "stdout",
     "output_type": "stream",
     "text": [
      "(?, 160)\n",
      "{1: <tf.Variable 'Variable:0' shape=(160, 1) dtype=float32_ref>}\n",
      "{1: <tf.Variable 'Variable_1:0' shape=(1,) dtype=float32_ref>}\n"
     ]
    }
   ],
   "source": [
    "print (X.shape)\n",
    "print (W)\n",
    "print (bb)"
   ]
  },
  {
   "cell_type": "code",
   "execution_count": 31,
   "metadata": {},
   "outputs": [
    {
     "name": "stdout",
     "output_type": "stream",
     "text": [
      "{1: <tf.Tensor 'xw_plus_b:0' shape=(?, 1) dtype=float32>}\n",
      "Tensor(\"xw_plus_b:0\", shape=(?, 1), dtype=float32)\n"
     ]
    }
   ],
   "source": [
    " # Construct a linear model\n",
    "#hiddenX = tf.nn.xw_plus_b(X,W1,bb1)\n",
    "#pred = tf.nn.xw_plus_b(hiddenX,W2,bb2)\n",
    "\n",
    "hidden_X_tmp = X  #corresponds to the data that we enter (extract_X)\n",
    "hidden_X = {}      #similar to W: creation of a dictionary storing the hidden_X of the different layers\n",
    "i = 1\n",
    "\n",
    "while i <= len(W):\n",
    "    hidden_X_tmp = tf.nn.xw_plus_b(hidden_X_tmp,W[i],bb[i])   #2 times the same values ​​for two neurons of the same layer ... the problem may come from here\n",
    "    hidden_X[i] = hidden_X_tmp\n",
    "    i=i+1\n",
    "\n",
    "print (hidden_X)\n",
    "pred = hidden_X[len(W)]     #pred corresponds to the hidden_X of the last layer - review the indexing?\n",
    "print (pred)"
   ]
  },
  {
   "cell_type": "code",
   "execution_count": 32,
   "metadata": {},
   "outputs": [],
   "source": [
    "    # Mean squared error\n",
    "cost_train = tf.reduce_sum(tf.pow(pred-Y, 2))/(2*n_samples_train)\n",
    "cost_valid = tf.reduce_sum(tf.pow(pred-Y, 2))/(2*n_samples_valid)\n",
    "cost_test = tf.reduce_sum(tf.pow(pred-Y, 2))/(2*n_samples_test)\n",
    "    # Gradient descent\n",
    "optimizer = tf.train.GradientDescentOptimizer(learning_rate).minimize(cost_train)"
   ]
  },
  {
   "cell_type": "code",
   "execution_count": 33,
   "metadata": {},
   "outputs": [
    {
     "name": "stdout",
     "output_type": "stream",
     "text": [
      "Epoch: 0010 cost= 8.245075226\n",
      "Epoch: 0010 valid_cost= 7.714372635\n",
      "Epoch: 0020 cost= 1.813994765\n",
      "Epoch: 0020 valid_cost= 1.765608311\n",
      "Epoch: 0030 cost= 0.699782431\n",
      "Epoch: 0030 valid_cost= 0.721176922\n",
      "Epoch: 0040 cost= 0.506490231\n",
      "Epoch: 0040 valid_cost= 0.535088360\n",
      "Epoch: 0050 cost= 0.472927660\n",
      "Epoch: 0050 valid_cost= 0.500860453\n",
      "Epoch: 0060 cost= 0.467096239\n",
      "Epoch: 0060 valid_cost= 0.494134247\n",
      "Epoch: 0070 cost= 0.466082603\n",
      "Epoch: 0070 valid_cost= 0.492643327\n",
      "Epoch: 0080 cost= 0.465906382\n",
      "Epoch: 0080 valid_cost= 0.492250443\n",
      "Epoch: 0090 cost= 0.465875685\n",
      "Epoch: 0090 valid_cost= 0.492126495\n",
      "Epoch: 0100 cost= 0.465870380\n",
      "Epoch: 0100 valid_cost= 0.492081732\n",
      "Optimization Finished!\n",
      "training_cost =  0.46587038\n",
      "test_cost =  0.4693905\n",
      "(160, 1)\n"
     ]
    },
    {
     "data": {
      "image/png": "[encoded data removed]",
      "text/plain": [
       "<Figure size 432x288 with 1 Axes>"
      ]
     },
     "metadata": {
      "needs_background": "light"
     },
     "output_type": "display_data"
    }
   ],
   "source": [
    "# Initializing the variables\n",
    "init = tf.global_variables_initializer()\n",
    "\n",
    "# Launch the graph\n",
    "with tf.Session() as sess:\n",
    "    sess.run(init)\n",
    "    \n",
    "   # Fit all training data\n",
    "    for epoch in range(training_epochs):\n",
    "        sess.run(optimizer, feed_dict={X: train_X, Y: train_Y})\n",
    "\n",
    "        #Display logs per epoch step\n",
    "        if (epoch+1) % display_step == 0:\n",
    "            cost = sess.run(cost_train, feed_dict={X: train_X, Y:train_Y})\n",
    "            print (\"Epoch:\", '%04d' % (epoch+1), \"cost=\", \"{:.9f}\".format(cost))\n",
    "            costV = sess.run(cost_valid, feed_dict={X: valid_X, Y: valid_Y})\n",
    "            print (\"Epoch:\", '%04d' % (epoch+1), \"valid_cost=\", \"{:.9f}\".format(costV))\n",
    "\n",
    "    print (\"Optimization Finished!\")\n",
    "    training_cost = sess.run(cost_train, feed_dict={X: train_X, Y: train_Y})\n",
    "    print (\"training_cost = \", training_cost) \n",
    "    test_cost = sess.run(cost_test, feed_dict={X: test_X, Y: test_Y})\n",
    "    print (\"test_cost = \", test_cost)\n",
    "    \n",
    "       #Graphic display\n",
    "        \n",
    "    T = np.arange(0, 0.00625*stim, 0.00625)                       # creation of the time variable (on 1s) for the abscissa\n",
    "    \n",
    "    nbr_elct = len(electi)\n",
    "    (Lo_W, la_W) = W[1].shape\n",
    "    Lo_W = int(Lo_W)                                              # number of lines: inputs (160 * nbr_electrodes, for example)\n",
    "    la_W = int(la_W)                                              # number of columns: number of neurons in the layer\n",
    "    \n",
    "    z=0\n",
    "    while z < nbr_elct:                                           # for each electrode\n",
    "        z_1=0 \n",
    "        while z_1 < la_W:                                         # for each neuron of the W layer [1]\n",
    "            W_tmp = tf.slice(W[1], [0, z_1], [Lo_W, 1])           # slice: starting value [line 0, column of the neuron], dimensions of the section [160 * nbr_electrodes lines, 1 column])\n",
    "            W_tmp = tf.slice(W_tmp, [z*stim, 0], [stim, 1])       # slice: starting value [first value of the new electrode, column 0], dimensions of the section [160 lines, 1 column]\n",
    "            print (W_tmp.shape)\n",
    "            \n",
    "            plt.plot(T, sess.run(W_tmp), label= (\"neurone_\", z_1, \"layer_1, electrode_\", electi[z]))\n",
    "            z_1 = z_1+1\n",
    "            \n",
    "        z = z+1\n",
    "        \n",
    "    plt.legend()    \n",
    "    plt.show()\n",
    "    #plt.close()   "
   ]
  },
  {
   "cell_type": "code",
   "execution_count": 34,
   "metadata": {},
   "outputs": [
    {
     "name": "stdout",
     "output_type": "stream",
     "text": [
      "160\n"
     ]
    }
   ],
   "source": [
    "print(len(T))"
   ]
  },
  {
   "cell_type": "code",
   "execution_count": null,
   "metadata": {},
   "outputs": [],
   "source": []
  }
 ],
 "metadata": {
  "kernelspec": {
   "display_name": "Python 3",
   "language": "python",
   "name": "python3"
  },
  "language_info": {
   "codemirror_mode": {
    "name": "ipython",
    "version": 3
   },
   "file_extension": ".py",
   "mimetype": "text/x-python",
   "name": "python",
   "nbconvert_exporter": "python",
   "pygments_lexer": "ipython3",
   "version": "3.6.8"
  }
 },
 "nbformat": 4,
 "nbformat_minor": 2
}
